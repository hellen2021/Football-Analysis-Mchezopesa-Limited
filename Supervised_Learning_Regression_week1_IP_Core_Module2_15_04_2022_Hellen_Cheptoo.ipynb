{
  "nbformat": 4,
  "nbformat_minor": 0,
  "metadata": {
    "colab": {
      "name": "Supervised_Learning_Regression_week1_IP_Core_Module2_15_04_2022_Hellen_Cheptoo.ipynb",
      "provenance": [],
      "collapsed_sections": [],
      "authorship_tag": "ABX9TyOXkJPDMV6dcocW2Uwb/HYh",
      "include_colab_link": true
    },
    "kernelspec": {
      "name": "python3",
      "display_name": "Python 3"
    },
    "language_info": {
      "name": "python"
    }
  },
  "cells": [
    {
      "cell_type": "markdown",
      "metadata": {
        "id": "view-in-github",
        "colab_type": "text"
      },
      "source": [
        "<a href=\"https://colab.research.google.com/github/hellen2021/Football-Analysis-Mchezopesa-Limited/blob/main/Supervised_Learning_Regression_week1_IP_Core_Module2_15_04_2022_Hellen_Cheptoo.ipynb\" target=\"_parent\"><img src=\"https://colab.research.google.com/assets/colab-badge.svg\" alt=\"Open In Colab\"/></a>"
      ]
    },
    {
      "cell_type": "markdown",
      "source": [
        "# Supervised Learning with Exploratory Data Analysis"
      ],
      "metadata": {
        "id": "WfpV6OSAt_sO"
      }
    },
    {
      "cell_type": "markdown",
      "source": [
        "### Football Analysis for Mchezopesa Limited Company"
      ],
      "metadata": {
        "id": "7f8JlLcEuPpg"
      }
    },
    {
      "cell_type": "markdown",
      "source": [
        "## 1.Defining the Research Questions\n",
        "\n",
        "You have been recruited as a football analyst in a company - Mchezopesa Ltd and tasked to accomplish the task below.\n",
        "\n",
        "A prediction result of a game between team 1 and team 2, based on who's home and who's away, and on whether or not the game is friendly (include rank in your training).\n",
        "\n",
        "## 2.Defining the metric of success\n",
        "This project will be a success if:\n",
        "\n",
        "a) We are able to accurately predict the winning team based on the two conditions:\n",
        "*   Home team or away team\n",
        "*   Type of tournament\n",
        "\n",
        "b) Achieve an accuracy of atleast 80%\n",
        "\n",
        "c) have the lowest RMSE as possible\n",
        "\n",
        "## 3.Understanding the context\n",
        "\n",
        "## 4.Experimental Design\n",
        "The following are the design steps:\n",
        "*   Loading the datsets\n",
        "*   Exploring and cleaning the datasets\n",
        "*   Merge the two datasets\n",
        "*   Perform EDA\n",
        "*   Feature Engineering\n",
        "*   Check for multicollinearity\n",
        "*   Polynomial Regression\n",
        "*   Logistic Regression\n",
        "*   Compute the Root Mean Squared Error\n",
        "*   Create residual plots for the models, and assess their heteroscedasticity using Bartlett’s test\n",
        "\n",
        "## 4.Data Relevance\n",
        "The relevance of the data will be verified by the performance of the model\n",
        "\n"
      ],
      "metadata": {
        "id": "PMU4vhzsumXN"
      }
    },
    {
      "cell_type": "markdown",
      "source": [
        "## Importing necessary libraries"
      ],
      "metadata": {
        "id": "0nvV0XH6vDMO"
      }
    },
    {
      "cell_type": "code",
      "source": [
        "import pandas as pd\n",
        "import numpy as np\n",
        "import seaborn as sns\n",
        "import matplotlib.pyplot as plt\n",
        "from sklearn.model_selection import train_test_split,GridSearchCV,RandomizedSearchCV,KFold,cross_val_score\n",
        "from sklearn.linear_model import LinearRegression,LogisticRegression\n",
        "from sklearn import metrics\n",
        "from sklearn.metrics import mean_squared_error, f1_score, accuracy_score, confusion_matrix, mean_squared_error\n",
        "from sklearn.preprocessing import PolynomialFeatures,StandardScaler,LabelEncoder\n",
        "from sklearn.feature_extraction import DictVectorizer\n",
        "import scipy as sp\n",
        "\n",
        "from matplotlib.figure import Figure\n",
        "import os\n",
        "import warnings\n",
        "import datetime"
      ],
      "metadata": {
        "id": "3AKHJyKlqdff"
      },
      "execution_count": 90,
      "outputs": []
    },
    {
      "cell_type": "markdown",
      "source": [
        "## Load the data"
      ],
      "metadata": {
        "id": "JJ0gKjRZu_Tl"
      }
    },
    {
      "cell_type": "code",
      "execution_count": 91,
      "metadata": {
        "id": "m5RbPGhymPyF",
        "colab": {
          "base_uri": "https://localhost:8080/"
        },
        "outputId": "a44072b0-c768-4f0e-bd5a-363a50a6fae9"
      },
      "outputs": [
        {
          "output_type": "stream",
          "name": "stdout",
          "text": [
            "Drive already mounted at /content/drive; to attempt to forcibly remount, call drive.mount(\"/content/drive\", force_remount=True).\n"
          ]
        }
      ],
      "source": [
        "# Mounting Google Colab\n",
        "from google.colab import drive\n",
        "drive.mount('/content/drive')"
      ]
    },
    {
      "cell_type": "code",
      "source": [
        "# Accessing the working directory\n",
        "os.chdir('/content/drive/MyDrive/Moringa Data Science/CORE MODULE 2/week1IP')"
      ],
      "metadata": {
        "id": "WUsvXsl4qYbE"
      },
      "execution_count": 92,
      "outputs": []
    },
    {
      "cell_type": "code",
      "source": [
        "# Loading dataset\n",
        "results = pd.read_csv('results.csv')\n",
        "fifa_ranking = pd.read_csv('fifa_ranking.csv')"
      ],
      "metadata": {
        "id": "doRNAbX6sxfC"
      },
      "execution_count": 93,
      "outputs": []
    },
    {
      "cell_type": "markdown",
      "source": [
        "## Datasets Preview"
      ],
      "metadata": {
        "id": "YVnX6JxivKFb"
      }
    },
    {
      "cell_type": "code",
      "source": [
        "# results dataset\n",
        "results.head()"
      ],
      "metadata": {
        "colab": {
          "base_uri": "https://localhost:8080/",
          "height": 206
        },
        "id": "n8Pe-KOOu7PJ",
        "outputId": "e578aa51-69c4-48c1-c041-b08341847eee"
      },
      "execution_count": 94,
      "outputs": [
        {
          "output_type": "execute_result",
          "data": {
            "text/plain": [
              "         date home_team away_team  home_score  away_score tournament     city  \\\n",
              "0  1872-11-30  Scotland   England           0           0   Friendly  Glasgow   \n",
              "1  1873-03-08   England  Scotland           4           2   Friendly   London   \n",
              "2  1874-03-07  Scotland   England           2           1   Friendly  Glasgow   \n",
              "3  1875-03-06   England  Scotland           2           2   Friendly   London   \n",
              "4  1876-03-04  Scotland   England           3           0   Friendly  Glasgow   \n",
              "\n",
              "    country  neutral  \n",
              "0  Scotland    False  \n",
              "1   England    False  \n",
              "2  Scotland    False  \n",
              "3   England    False  \n",
              "4  Scotland    False  "
            ],
            "text/html": [
              "\n",
              "  <div id=\"df-26b3a16a-ccb9-466e-b792-10c2977d7dd2\">\n",
              "    <div class=\"colab-df-container\">\n",
              "      <div>\n",
              "<style scoped>\n",
              "    .dataframe tbody tr th:only-of-type {\n",
              "        vertical-align: middle;\n",
              "    }\n",
              "\n",
              "    .dataframe tbody tr th {\n",
              "        vertical-align: top;\n",
              "    }\n",
              "\n",
              "    .dataframe thead th {\n",
              "        text-align: right;\n",
              "    }\n",
              "</style>\n",
              "<table border=\"1\" class=\"dataframe\">\n",
              "  <thead>\n",
              "    <tr style=\"text-align: right;\">\n",
              "      <th></th>\n",
              "      <th>date</th>\n",
              "      <th>home_team</th>\n",
              "      <th>away_team</th>\n",
              "      <th>home_score</th>\n",
              "      <th>away_score</th>\n",
              "      <th>tournament</th>\n",
              "      <th>city</th>\n",
              "      <th>country</th>\n",
              "      <th>neutral</th>\n",
              "    </tr>\n",
              "  </thead>\n",
              "  <tbody>\n",
              "    <tr>\n",
              "      <th>0</th>\n",
              "      <td>1872-11-30</td>\n",
              "      <td>Scotland</td>\n",
              "      <td>England</td>\n",
              "      <td>0</td>\n",
              "      <td>0</td>\n",
              "      <td>Friendly</td>\n",
              "      <td>Glasgow</td>\n",
              "      <td>Scotland</td>\n",
              "      <td>False</td>\n",
              "    </tr>\n",
              "    <tr>\n",
              "      <th>1</th>\n",
              "      <td>1873-03-08</td>\n",
              "      <td>England</td>\n",
              "      <td>Scotland</td>\n",
              "      <td>4</td>\n",
              "      <td>2</td>\n",
              "      <td>Friendly</td>\n",
              "      <td>London</td>\n",
              "      <td>England</td>\n",
              "      <td>False</td>\n",
              "    </tr>\n",
              "    <tr>\n",
              "      <th>2</th>\n",
              "      <td>1874-03-07</td>\n",
              "      <td>Scotland</td>\n",
              "      <td>England</td>\n",
              "      <td>2</td>\n",
              "      <td>1</td>\n",
              "      <td>Friendly</td>\n",
              "      <td>Glasgow</td>\n",
              "      <td>Scotland</td>\n",
              "      <td>False</td>\n",
              "    </tr>\n",
              "    <tr>\n",
              "      <th>3</th>\n",
              "      <td>1875-03-06</td>\n",
              "      <td>England</td>\n",
              "      <td>Scotland</td>\n",
              "      <td>2</td>\n",
              "      <td>2</td>\n",
              "      <td>Friendly</td>\n",
              "      <td>London</td>\n",
              "      <td>England</td>\n",
              "      <td>False</td>\n",
              "    </tr>\n",
              "    <tr>\n",
              "      <th>4</th>\n",
              "      <td>1876-03-04</td>\n",
              "      <td>Scotland</td>\n",
              "      <td>England</td>\n",
              "      <td>3</td>\n",
              "      <td>0</td>\n",
              "      <td>Friendly</td>\n",
              "      <td>Glasgow</td>\n",
              "      <td>Scotland</td>\n",
              "      <td>False</td>\n",
              "    </tr>\n",
              "  </tbody>\n",
              "</table>\n",
              "</div>\n",
              "      <button class=\"colab-df-convert\" onclick=\"convertToInteractive('df-26b3a16a-ccb9-466e-b792-10c2977d7dd2')\"\n",
              "              title=\"Convert this dataframe to an interactive table.\"\n",
              "              style=\"display:none;\">\n",
              "        \n",
              "  <svg xmlns=\"http://www.w3.org/2000/svg\" height=\"24px\"viewBox=\"0 0 24 24\"\n",
              "       width=\"24px\">\n",
              "    <path d=\"M0 0h24v24H0V0z\" fill=\"none\"/>\n",
              "    <path d=\"M18.56 5.44l.94 2.06.94-2.06 2.06-.94-2.06-.94-.94-2.06-.94 2.06-2.06.94zm-11 1L8.5 8.5l.94-2.06 2.06-.94-2.06-.94L8.5 2.5l-.94 2.06-2.06.94zm10 10l.94 2.06.94-2.06 2.06-.94-2.06-.94-.94-2.06-.94 2.06-2.06.94z\"/><path d=\"M17.41 7.96l-1.37-1.37c-.4-.4-.92-.59-1.43-.59-.52 0-1.04.2-1.43.59L10.3 9.45l-7.72 7.72c-.78.78-.78 2.05 0 2.83L4 21.41c.39.39.9.59 1.41.59.51 0 1.02-.2 1.41-.59l7.78-7.78 2.81-2.81c.8-.78.8-2.07 0-2.86zM5.41 20L4 18.59l7.72-7.72 1.47 1.35L5.41 20z\"/>\n",
              "  </svg>\n",
              "      </button>\n",
              "      \n",
              "  <style>\n",
              "    .colab-df-container {\n",
              "      display:flex;\n",
              "      flex-wrap:wrap;\n",
              "      gap: 12px;\n",
              "    }\n",
              "\n",
              "    .colab-df-convert {\n",
              "      background-color: #E8F0FE;\n",
              "      border: none;\n",
              "      border-radius: 50%;\n",
              "      cursor: pointer;\n",
              "      display: none;\n",
              "      fill: #1967D2;\n",
              "      height: 32px;\n",
              "      padding: 0 0 0 0;\n",
              "      width: 32px;\n",
              "    }\n",
              "\n",
              "    .colab-df-convert:hover {\n",
              "      background-color: #E2EBFA;\n",
              "      box-shadow: 0px 1px 2px rgba(60, 64, 67, 0.3), 0px 1px 3px 1px rgba(60, 64, 67, 0.15);\n",
              "      fill: #174EA6;\n",
              "    }\n",
              "\n",
              "    [theme=dark] .colab-df-convert {\n",
              "      background-color: #3B4455;\n",
              "      fill: #D2E3FC;\n",
              "    }\n",
              "\n",
              "    [theme=dark] .colab-df-convert:hover {\n",
              "      background-color: #434B5C;\n",
              "      box-shadow: 0px 1px 3px 1px rgba(0, 0, 0, 0.15);\n",
              "      filter: drop-shadow(0px 1px 2px rgba(0, 0, 0, 0.3));\n",
              "      fill: #FFFFFF;\n",
              "    }\n",
              "  </style>\n",
              "\n",
              "      <script>\n",
              "        const buttonEl =\n",
              "          document.querySelector('#df-26b3a16a-ccb9-466e-b792-10c2977d7dd2 button.colab-df-convert');\n",
              "        buttonEl.style.display =\n",
              "          google.colab.kernel.accessAllowed ? 'block' : 'none';\n",
              "\n",
              "        async function convertToInteractive(key) {\n",
              "          const element = document.querySelector('#df-26b3a16a-ccb9-466e-b792-10c2977d7dd2');\n",
              "          const dataTable =\n",
              "            await google.colab.kernel.invokeFunction('convertToInteractive',\n",
              "                                                     [key], {});\n",
              "          if (!dataTable) return;\n",
              "\n",
              "          const docLinkHtml = 'Like what you see? Visit the ' +\n",
              "            '<a target=\"_blank\" href=https://colab.research.google.com/notebooks/data_table.ipynb>data table notebook</a>'\n",
              "            + ' to learn more about interactive tables.';\n",
              "          element.innerHTML = '';\n",
              "          dataTable['output_type'] = 'display_data';\n",
              "          await google.colab.output.renderOutput(dataTable, element);\n",
              "          const docLink = document.createElement('div');\n",
              "          docLink.innerHTML = docLinkHtml;\n",
              "          element.appendChild(docLink);\n",
              "        }\n",
              "      </script>\n",
              "    </div>\n",
              "  </div>\n",
              "  "
            ]
          },
          "metadata": {},
          "execution_count": 94
        }
      ]
    },
    {
      "cell_type": "code",
      "source": [
        "# fifa ranking dataset\n",
        "fifa_ranking.head()"
      ],
      "metadata": {
        "colab": {
          "base_uri": "https://localhost:8080/",
          "height": 270
        },
        "id": "D3Bebm2nvTDT",
        "outputId": "79e2e1c5-918c-4af5-f902-c63ca2b53bce"
      },
      "execution_count": 95,
      "outputs": [
        {
          "output_type": "execute_result",
          "data": {
            "text/plain": [
              "   rank country_full country_abrv  total_points  previous_points  rank_change  \\\n",
              "0     1      Germany          GER           0.0               57            0   \n",
              "1     2        Italy          ITA           0.0               57            0   \n",
              "2     3  Switzerland          SUI           0.0               50            9   \n",
              "3     4       Sweden          SWE           0.0               55            0   \n",
              "4     5    Argentina          ARG           0.0               51            5   \n",
              "\n",
              "   cur_year_avg  cur_year_avg_weighted  last_year_avg  last_year_avg_weighted  \\\n",
              "0           0.0                    0.0            0.0                     0.0   \n",
              "1           0.0                    0.0            0.0                     0.0   \n",
              "2           0.0                    0.0            0.0                     0.0   \n",
              "3           0.0                    0.0            0.0                     0.0   \n",
              "4           0.0                    0.0            0.0                     0.0   \n",
              "\n",
              "   two_year_ago_avg  two_year_ago_weighted  three_year_ago_avg  \\\n",
              "0               0.0                    0.0                 0.0   \n",
              "1               0.0                    0.0                 0.0   \n",
              "2               0.0                    0.0                 0.0   \n",
              "3               0.0                    0.0                 0.0   \n",
              "4               0.0                    0.0                 0.0   \n",
              "\n",
              "   three_year_ago_weighted confederation   rank_date  \n",
              "0                      0.0          UEFA  1993-08-08  \n",
              "1                      0.0          UEFA  1993-08-08  \n",
              "2                      0.0          UEFA  1993-08-08  \n",
              "3                      0.0          UEFA  1993-08-08  \n",
              "4                      0.0      CONMEBOL  1993-08-08  "
            ],
            "text/html": [
              "\n",
              "  <div id=\"df-d8810313-43b0-400d-93a1-9e1135adbcd4\">\n",
              "    <div class=\"colab-df-container\">\n",
              "      <div>\n",
              "<style scoped>\n",
              "    .dataframe tbody tr th:only-of-type {\n",
              "        vertical-align: middle;\n",
              "    }\n",
              "\n",
              "    .dataframe tbody tr th {\n",
              "        vertical-align: top;\n",
              "    }\n",
              "\n",
              "    .dataframe thead th {\n",
              "        text-align: right;\n",
              "    }\n",
              "</style>\n",
              "<table border=\"1\" class=\"dataframe\">\n",
              "  <thead>\n",
              "    <tr style=\"text-align: right;\">\n",
              "      <th></th>\n",
              "      <th>rank</th>\n",
              "      <th>country_full</th>\n",
              "      <th>country_abrv</th>\n",
              "      <th>total_points</th>\n",
              "      <th>previous_points</th>\n",
              "      <th>rank_change</th>\n",
              "      <th>cur_year_avg</th>\n",
              "      <th>cur_year_avg_weighted</th>\n",
              "      <th>last_year_avg</th>\n",
              "      <th>last_year_avg_weighted</th>\n",
              "      <th>two_year_ago_avg</th>\n",
              "      <th>two_year_ago_weighted</th>\n",
              "      <th>three_year_ago_avg</th>\n",
              "      <th>three_year_ago_weighted</th>\n",
              "      <th>confederation</th>\n",
              "      <th>rank_date</th>\n",
              "    </tr>\n",
              "  </thead>\n",
              "  <tbody>\n",
              "    <tr>\n",
              "      <th>0</th>\n",
              "      <td>1</td>\n",
              "      <td>Germany</td>\n",
              "      <td>GER</td>\n",
              "      <td>0.0</td>\n",
              "      <td>57</td>\n",
              "      <td>0</td>\n",
              "      <td>0.0</td>\n",
              "      <td>0.0</td>\n",
              "      <td>0.0</td>\n",
              "      <td>0.0</td>\n",
              "      <td>0.0</td>\n",
              "      <td>0.0</td>\n",
              "      <td>0.0</td>\n",
              "      <td>0.0</td>\n",
              "      <td>UEFA</td>\n",
              "      <td>1993-08-08</td>\n",
              "    </tr>\n",
              "    <tr>\n",
              "      <th>1</th>\n",
              "      <td>2</td>\n",
              "      <td>Italy</td>\n",
              "      <td>ITA</td>\n",
              "      <td>0.0</td>\n",
              "      <td>57</td>\n",
              "      <td>0</td>\n",
              "      <td>0.0</td>\n",
              "      <td>0.0</td>\n",
              "      <td>0.0</td>\n",
              "      <td>0.0</td>\n",
              "      <td>0.0</td>\n",
              "      <td>0.0</td>\n",
              "      <td>0.0</td>\n",
              "      <td>0.0</td>\n",
              "      <td>UEFA</td>\n",
              "      <td>1993-08-08</td>\n",
              "    </tr>\n",
              "    <tr>\n",
              "      <th>2</th>\n",
              "      <td>3</td>\n",
              "      <td>Switzerland</td>\n",
              "      <td>SUI</td>\n",
              "      <td>0.0</td>\n",
              "      <td>50</td>\n",
              "      <td>9</td>\n",
              "      <td>0.0</td>\n",
              "      <td>0.0</td>\n",
              "      <td>0.0</td>\n",
              "      <td>0.0</td>\n",
              "      <td>0.0</td>\n",
              "      <td>0.0</td>\n",
              "      <td>0.0</td>\n",
              "      <td>0.0</td>\n",
              "      <td>UEFA</td>\n",
              "      <td>1993-08-08</td>\n",
              "    </tr>\n",
              "    <tr>\n",
              "      <th>3</th>\n",
              "      <td>4</td>\n",
              "      <td>Sweden</td>\n",
              "      <td>SWE</td>\n",
              "      <td>0.0</td>\n",
              "      <td>55</td>\n",
              "      <td>0</td>\n",
              "      <td>0.0</td>\n",
              "      <td>0.0</td>\n",
              "      <td>0.0</td>\n",
              "      <td>0.0</td>\n",
              "      <td>0.0</td>\n",
              "      <td>0.0</td>\n",
              "      <td>0.0</td>\n",
              "      <td>0.0</td>\n",
              "      <td>UEFA</td>\n",
              "      <td>1993-08-08</td>\n",
              "    </tr>\n",
              "    <tr>\n",
              "      <th>4</th>\n",
              "      <td>5</td>\n",
              "      <td>Argentina</td>\n",
              "      <td>ARG</td>\n",
              "      <td>0.0</td>\n",
              "      <td>51</td>\n",
              "      <td>5</td>\n",
              "      <td>0.0</td>\n",
              "      <td>0.0</td>\n",
              "      <td>0.0</td>\n",
              "      <td>0.0</td>\n",
              "      <td>0.0</td>\n",
              "      <td>0.0</td>\n",
              "      <td>0.0</td>\n",
              "      <td>0.0</td>\n",
              "      <td>CONMEBOL</td>\n",
              "      <td>1993-08-08</td>\n",
              "    </tr>\n",
              "  </tbody>\n",
              "</table>\n",
              "</div>\n",
              "      <button class=\"colab-df-convert\" onclick=\"convertToInteractive('df-d8810313-43b0-400d-93a1-9e1135adbcd4')\"\n",
              "              title=\"Convert this dataframe to an interactive table.\"\n",
              "              style=\"display:none;\">\n",
              "        \n",
              "  <svg xmlns=\"http://www.w3.org/2000/svg\" height=\"24px\"viewBox=\"0 0 24 24\"\n",
              "       width=\"24px\">\n",
              "    <path d=\"M0 0h24v24H0V0z\" fill=\"none\"/>\n",
              "    <path d=\"M18.56 5.44l.94 2.06.94-2.06 2.06-.94-2.06-.94-.94-2.06-.94 2.06-2.06.94zm-11 1L8.5 8.5l.94-2.06 2.06-.94-2.06-.94L8.5 2.5l-.94 2.06-2.06.94zm10 10l.94 2.06.94-2.06 2.06-.94-2.06-.94-.94-2.06-.94 2.06-2.06.94z\"/><path d=\"M17.41 7.96l-1.37-1.37c-.4-.4-.92-.59-1.43-.59-.52 0-1.04.2-1.43.59L10.3 9.45l-7.72 7.72c-.78.78-.78 2.05 0 2.83L4 21.41c.39.39.9.59 1.41.59.51 0 1.02-.2 1.41-.59l7.78-7.78 2.81-2.81c.8-.78.8-2.07 0-2.86zM5.41 20L4 18.59l7.72-7.72 1.47 1.35L5.41 20z\"/>\n",
              "  </svg>\n",
              "      </button>\n",
              "      \n",
              "  <style>\n",
              "    .colab-df-container {\n",
              "      display:flex;\n",
              "      flex-wrap:wrap;\n",
              "      gap: 12px;\n",
              "    }\n",
              "\n",
              "    .colab-df-convert {\n",
              "      background-color: #E8F0FE;\n",
              "      border: none;\n",
              "      border-radius: 50%;\n",
              "      cursor: pointer;\n",
              "      display: none;\n",
              "      fill: #1967D2;\n",
              "      height: 32px;\n",
              "      padding: 0 0 0 0;\n",
              "      width: 32px;\n",
              "    }\n",
              "\n",
              "    .colab-df-convert:hover {\n",
              "      background-color: #E2EBFA;\n",
              "      box-shadow: 0px 1px 2px rgba(60, 64, 67, 0.3), 0px 1px 3px 1px rgba(60, 64, 67, 0.15);\n",
              "      fill: #174EA6;\n",
              "    }\n",
              "\n",
              "    [theme=dark] .colab-df-convert {\n",
              "      background-color: #3B4455;\n",
              "      fill: #D2E3FC;\n",
              "    }\n",
              "\n",
              "    [theme=dark] .colab-df-convert:hover {\n",
              "      background-color: #434B5C;\n",
              "      box-shadow: 0px 1px 3px 1px rgba(0, 0, 0, 0.15);\n",
              "      filter: drop-shadow(0px 1px 2px rgba(0, 0, 0, 0.3));\n",
              "      fill: #FFFFFF;\n",
              "    }\n",
              "  </style>\n",
              "\n",
              "      <script>\n",
              "        const buttonEl =\n",
              "          document.querySelector('#df-d8810313-43b0-400d-93a1-9e1135adbcd4 button.colab-df-convert');\n",
              "        buttonEl.style.display =\n",
              "          google.colab.kernel.accessAllowed ? 'block' : 'none';\n",
              "\n",
              "        async function convertToInteractive(key) {\n",
              "          const element = document.querySelector('#df-d8810313-43b0-400d-93a1-9e1135adbcd4');\n",
              "          const dataTable =\n",
              "            await google.colab.kernel.invokeFunction('convertToInteractive',\n",
              "                                                     [key], {});\n",
              "          if (!dataTable) return;\n",
              "\n",
              "          const docLinkHtml = 'Like what you see? Visit the ' +\n",
              "            '<a target=\"_blank\" href=https://colab.research.google.com/notebooks/data_table.ipynb>data table notebook</a>'\n",
              "            + ' to learn more about interactive tables.';\n",
              "          element.innerHTML = '';\n",
              "          dataTable['output_type'] = 'display_data';\n",
              "          await google.colab.output.renderOutput(dataTable, element);\n",
              "          const docLink = document.createElement('div');\n",
              "          docLink.innerHTML = docLinkHtml;\n",
              "          element.appendChild(docLink);\n",
              "        }\n",
              "      </script>\n",
              "    </div>\n",
              "  </div>\n",
              "  "
            ]
          },
          "metadata": {},
          "execution_count": 95
        }
      ]
    },
    {
      "cell_type": "markdown",
      "source": [
        "## Explore and clean the datasets"
      ],
      "metadata": {
        "id": "uaBaSbIgvg4S"
      }
    },
    {
      "cell_type": "code",
      "source": [
        "print('results dataset has',results.shape[0], 'rows and', results.shape[1], 'columns')\n",
        "print('fifa ranking dataset has',fifa_ranking.shape[0], 'rows and', fifa_ranking.shape[1], 'columns')"
      ],
      "metadata": {
        "colab": {
          "base_uri": "https://localhost:8080/"
        },
        "id": "tb1llRiRvW_t",
        "outputId": "1b4e1718-f7d4-426e-e2b3-8bd520e1d6b2"
      },
      "execution_count": 96,
      "outputs": [
        {
          "output_type": "stream",
          "name": "stdout",
          "text": [
            "results dataset has 40839 rows and 9 columns\n",
            "fifa ranking dataset has 57793 rows and 16 columns\n"
          ]
        }
      ]
    },
    {
      "cell_type": "code",
      "source": [
        "# shaping the column names\n",
        "results.columns = results.columns.str.lower().str.strip().str.replace(' ', '_')\n",
        "fifa_ranking.columns = fifa_ranking.columns.str.lower().str.strip().str.replace(' ', '_')"
      ],
      "metadata": {
        "id": "8ikUeqZe_j3Q"
      },
      "execution_count": 97,
      "outputs": []
    },
    {
      "cell_type": "code",
      "source": [
        "#renaming columns\n",
        "fifa_ranking.rename(columns = {'country_full':'country'}, inplace = True)"
      ],
      "metadata": {
        "id": "R-kYVwA_IH1M"
      },
      "execution_count": 98,
      "outputs": []
    },
    {
      "cell_type": "code",
      "source": [
        "# drop unnecessary columns\n",
        "fifa_ranking.drop(columns = ['country_abrv', 'cur_year_avg', 'cur_year_avg_weighted', 'last_year_avg', 'last_year_avg_weighted',\n",
        "                  'two_year_ago_avg', 'two_year_ago_weighted', 'three_year_ago_avg', 'three_year_ago_weighted','confederation', 'rank_change'], axis = 1, inplace = True)\n",
        "results.drop(columns = ['city', 'neutral'], axis = 1, inplace = True)"
      ],
      "metadata": {
        "id": "9AqIxmlqG8ld"
      },
      "execution_count": 99,
      "outputs": []
    },
    {
      "cell_type": "code",
      "source": [
        "fifa_ranking.columns"
      ],
      "metadata": {
        "id": "PJ-SMPDoN3fz",
        "outputId": "62803b57-657a-43a6-8f24-4f0d25953a84",
        "colab": {
          "base_uri": "https://localhost:8080/"
        }
      },
      "execution_count": 100,
      "outputs": [
        {
          "output_type": "execute_result",
          "data": {
            "text/plain": [
              "Index(['rank', 'country', 'total_points', 'previous_points', 'rank_date'], dtype='object')"
            ]
          },
          "metadata": {},
          "execution_count": 100
        }
      ]
    },
    {
      "cell_type": "code",
      "source": [
        "# statistical analysis\n",
        "results.describe()"
      ],
      "metadata": {
        "colab": {
          "base_uri": "https://localhost:8080/",
          "height": 300
        },
        "id": "nCJuwgyC6b_1",
        "outputId": "8d410a55-f159-4f35-f5a3-cc3df2884b4c"
      },
      "execution_count": 101,
      "outputs": [
        {
          "output_type": "execute_result",
          "data": {
            "text/plain": [
              "         home_score    away_score\n",
              "count  40839.000000  40839.000000\n",
              "mean       1.745709      1.188105\n",
              "std        1.749145      1.405120\n",
              "min        0.000000      0.000000\n",
              "25%        1.000000      0.000000\n",
              "50%        1.000000      1.000000\n",
              "75%        2.000000      2.000000\n",
              "max       31.000000     21.000000"
            ],
            "text/html": [
              "\n",
              "  <div id=\"df-f2a50bbe-1b8e-47e9-b0ab-6bfcfff9e507\">\n",
              "    <div class=\"colab-df-container\">\n",
              "      <div>\n",
              "<style scoped>\n",
              "    .dataframe tbody tr th:only-of-type {\n",
              "        vertical-align: middle;\n",
              "    }\n",
              "\n",
              "    .dataframe tbody tr th {\n",
              "        vertical-align: top;\n",
              "    }\n",
              "\n",
              "    .dataframe thead th {\n",
              "        text-align: right;\n",
              "    }\n",
              "</style>\n",
              "<table border=\"1\" class=\"dataframe\">\n",
              "  <thead>\n",
              "    <tr style=\"text-align: right;\">\n",
              "      <th></th>\n",
              "      <th>home_score</th>\n",
              "      <th>away_score</th>\n",
              "    </tr>\n",
              "  </thead>\n",
              "  <tbody>\n",
              "    <tr>\n",
              "      <th>count</th>\n",
              "      <td>40839.000000</td>\n",
              "      <td>40839.000000</td>\n",
              "    </tr>\n",
              "    <tr>\n",
              "      <th>mean</th>\n",
              "      <td>1.745709</td>\n",
              "      <td>1.188105</td>\n",
              "    </tr>\n",
              "    <tr>\n",
              "      <th>std</th>\n",
              "      <td>1.749145</td>\n",
              "      <td>1.405120</td>\n",
              "    </tr>\n",
              "    <tr>\n",
              "      <th>min</th>\n",
              "      <td>0.000000</td>\n",
              "      <td>0.000000</td>\n",
              "    </tr>\n",
              "    <tr>\n",
              "      <th>25%</th>\n",
              "      <td>1.000000</td>\n",
              "      <td>0.000000</td>\n",
              "    </tr>\n",
              "    <tr>\n",
              "      <th>50%</th>\n",
              "      <td>1.000000</td>\n",
              "      <td>1.000000</td>\n",
              "    </tr>\n",
              "    <tr>\n",
              "      <th>75%</th>\n",
              "      <td>2.000000</td>\n",
              "      <td>2.000000</td>\n",
              "    </tr>\n",
              "    <tr>\n",
              "      <th>max</th>\n",
              "      <td>31.000000</td>\n",
              "      <td>21.000000</td>\n",
              "    </tr>\n",
              "  </tbody>\n",
              "</table>\n",
              "</div>\n",
              "      <button class=\"colab-df-convert\" onclick=\"convertToInteractive('df-f2a50bbe-1b8e-47e9-b0ab-6bfcfff9e507')\"\n",
              "              title=\"Convert this dataframe to an interactive table.\"\n",
              "              style=\"display:none;\">\n",
              "        \n",
              "  <svg xmlns=\"http://www.w3.org/2000/svg\" height=\"24px\"viewBox=\"0 0 24 24\"\n",
              "       width=\"24px\">\n",
              "    <path d=\"M0 0h24v24H0V0z\" fill=\"none\"/>\n",
              "    <path d=\"M18.56 5.44l.94 2.06.94-2.06 2.06-.94-2.06-.94-.94-2.06-.94 2.06-2.06.94zm-11 1L8.5 8.5l.94-2.06 2.06-.94-2.06-.94L8.5 2.5l-.94 2.06-2.06.94zm10 10l.94 2.06.94-2.06 2.06-.94-2.06-.94-.94-2.06-.94 2.06-2.06.94z\"/><path d=\"M17.41 7.96l-1.37-1.37c-.4-.4-.92-.59-1.43-.59-.52 0-1.04.2-1.43.59L10.3 9.45l-7.72 7.72c-.78.78-.78 2.05 0 2.83L4 21.41c.39.39.9.59 1.41.59.51 0 1.02-.2 1.41-.59l7.78-7.78 2.81-2.81c.8-.78.8-2.07 0-2.86zM5.41 20L4 18.59l7.72-7.72 1.47 1.35L5.41 20z\"/>\n",
              "  </svg>\n",
              "      </button>\n",
              "      \n",
              "  <style>\n",
              "    .colab-df-container {\n",
              "      display:flex;\n",
              "      flex-wrap:wrap;\n",
              "      gap: 12px;\n",
              "    }\n",
              "\n",
              "    .colab-df-convert {\n",
              "      background-color: #E8F0FE;\n",
              "      border: none;\n",
              "      border-radius: 50%;\n",
              "      cursor: pointer;\n",
              "      display: none;\n",
              "      fill: #1967D2;\n",
              "      height: 32px;\n",
              "      padding: 0 0 0 0;\n",
              "      width: 32px;\n",
              "    }\n",
              "\n",
              "    .colab-df-convert:hover {\n",
              "      background-color: #E2EBFA;\n",
              "      box-shadow: 0px 1px 2px rgba(60, 64, 67, 0.3), 0px 1px 3px 1px rgba(60, 64, 67, 0.15);\n",
              "      fill: #174EA6;\n",
              "    }\n",
              "\n",
              "    [theme=dark] .colab-df-convert {\n",
              "      background-color: #3B4455;\n",
              "      fill: #D2E3FC;\n",
              "    }\n",
              "\n",
              "    [theme=dark] .colab-df-convert:hover {\n",
              "      background-color: #434B5C;\n",
              "      box-shadow: 0px 1px 3px 1px rgba(0, 0, 0, 0.15);\n",
              "      filter: drop-shadow(0px 1px 2px rgba(0, 0, 0, 0.3));\n",
              "      fill: #FFFFFF;\n",
              "    }\n",
              "  </style>\n",
              "\n",
              "      <script>\n",
              "        const buttonEl =\n",
              "          document.querySelector('#df-f2a50bbe-1b8e-47e9-b0ab-6bfcfff9e507 button.colab-df-convert');\n",
              "        buttonEl.style.display =\n",
              "          google.colab.kernel.accessAllowed ? 'block' : 'none';\n",
              "\n",
              "        async function convertToInteractive(key) {\n",
              "          const element = document.querySelector('#df-f2a50bbe-1b8e-47e9-b0ab-6bfcfff9e507');\n",
              "          const dataTable =\n",
              "            await google.colab.kernel.invokeFunction('convertToInteractive',\n",
              "                                                     [key], {});\n",
              "          if (!dataTable) return;\n",
              "\n",
              "          const docLinkHtml = 'Like what you see? Visit the ' +\n",
              "            '<a target=\"_blank\" href=https://colab.research.google.com/notebooks/data_table.ipynb>data table notebook</a>'\n",
              "            + ' to learn more about interactive tables.';\n",
              "          element.innerHTML = '';\n",
              "          dataTable['output_type'] = 'display_data';\n",
              "          await google.colab.output.renderOutput(dataTable, element);\n",
              "          const docLink = document.createElement('div');\n",
              "          docLink.innerHTML = docLinkHtml;\n",
              "          element.appendChild(docLink);\n",
              "        }\n",
              "      </script>\n",
              "    </div>\n",
              "  </div>\n",
              "  "
            ]
          },
          "metadata": {},
          "execution_count": 101
        }
      ]
    },
    {
      "cell_type": "code",
      "source": [
        "# statistical analysis\n",
        "fifa_ranking.describe()"
      ],
      "metadata": {
        "colab": {
          "base_uri": "https://localhost:8080/",
          "height": 300
        },
        "id": "K7LwAk8Q7p8I",
        "outputId": "af66a788-a516-4e37-f063-82fae274aad1"
      },
      "execution_count": 102,
      "outputs": [
        {
          "output_type": "execute_result",
          "data": {
            "text/plain": [
              "               rank  total_points  previous_points\n",
              "count  57793.000000  57793.000000     57793.000000\n",
              "mean     101.628086    122.068637       332.302926\n",
              "std       58.618424    260.426863       302.872948\n",
              "min        1.000000      0.000000         0.000000\n",
              "25%       51.000000      0.000000        56.000000\n",
              "50%      101.000000      0.000000       272.000000\n",
              "75%      152.000000     92.790000       525.000000\n",
              "max      209.000000   1775.030000      1920.000000"
            ],
            "text/html": [
              "\n",
              "  <div id=\"df-170760e6-8472-4a5d-965a-d99dda76a601\">\n",
              "    <div class=\"colab-df-container\">\n",
              "      <div>\n",
              "<style scoped>\n",
              "    .dataframe tbody tr th:only-of-type {\n",
              "        vertical-align: middle;\n",
              "    }\n",
              "\n",
              "    .dataframe tbody tr th {\n",
              "        vertical-align: top;\n",
              "    }\n",
              "\n",
              "    .dataframe thead th {\n",
              "        text-align: right;\n",
              "    }\n",
              "</style>\n",
              "<table border=\"1\" class=\"dataframe\">\n",
              "  <thead>\n",
              "    <tr style=\"text-align: right;\">\n",
              "      <th></th>\n",
              "      <th>rank</th>\n",
              "      <th>total_points</th>\n",
              "      <th>previous_points</th>\n",
              "    </tr>\n",
              "  </thead>\n",
              "  <tbody>\n",
              "    <tr>\n",
              "      <th>count</th>\n",
              "      <td>57793.000000</td>\n",
              "      <td>57793.000000</td>\n",
              "      <td>57793.000000</td>\n",
              "    </tr>\n",
              "    <tr>\n",
              "      <th>mean</th>\n",
              "      <td>101.628086</td>\n",
              "      <td>122.068637</td>\n",
              "      <td>332.302926</td>\n",
              "    </tr>\n",
              "    <tr>\n",
              "      <th>std</th>\n",
              "      <td>58.618424</td>\n",
              "      <td>260.426863</td>\n",
              "      <td>302.872948</td>\n",
              "    </tr>\n",
              "    <tr>\n",
              "      <th>min</th>\n",
              "      <td>1.000000</td>\n",
              "      <td>0.000000</td>\n",
              "      <td>0.000000</td>\n",
              "    </tr>\n",
              "    <tr>\n",
              "      <th>25%</th>\n",
              "      <td>51.000000</td>\n",
              "      <td>0.000000</td>\n",
              "      <td>56.000000</td>\n",
              "    </tr>\n",
              "    <tr>\n",
              "      <th>50%</th>\n",
              "      <td>101.000000</td>\n",
              "      <td>0.000000</td>\n",
              "      <td>272.000000</td>\n",
              "    </tr>\n",
              "    <tr>\n",
              "      <th>75%</th>\n",
              "      <td>152.000000</td>\n",
              "      <td>92.790000</td>\n",
              "      <td>525.000000</td>\n",
              "    </tr>\n",
              "    <tr>\n",
              "      <th>max</th>\n",
              "      <td>209.000000</td>\n",
              "      <td>1775.030000</td>\n",
              "      <td>1920.000000</td>\n",
              "    </tr>\n",
              "  </tbody>\n",
              "</table>\n",
              "</div>\n",
              "      <button class=\"colab-df-convert\" onclick=\"convertToInteractive('df-170760e6-8472-4a5d-965a-d99dda76a601')\"\n",
              "              title=\"Convert this dataframe to an interactive table.\"\n",
              "              style=\"display:none;\">\n",
              "        \n",
              "  <svg xmlns=\"http://www.w3.org/2000/svg\" height=\"24px\"viewBox=\"0 0 24 24\"\n",
              "       width=\"24px\">\n",
              "    <path d=\"M0 0h24v24H0V0z\" fill=\"none\"/>\n",
              "    <path d=\"M18.56 5.44l.94 2.06.94-2.06 2.06-.94-2.06-.94-.94-2.06-.94 2.06-2.06.94zm-11 1L8.5 8.5l.94-2.06 2.06-.94-2.06-.94L8.5 2.5l-.94 2.06-2.06.94zm10 10l.94 2.06.94-2.06 2.06-.94-2.06-.94-.94-2.06-.94 2.06-2.06.94z\"/><path d=\"M17.41 7.96l-1.37-1.37c-.4-.4-.92-.59-1.43-.59-.52 0-1.04.2-1.43.59L10.3 9.45l-7.72 7.72c-.78.78-.78 2.05 0 2.83L4 21.41c.39.39.9.59 1.41.59.51 0 1.02-.2 1.41-.59l7.78-7.78 2.81-2.81c.8-.78.8-2.07 0-2.86zM5.41 20L4 18.59l7.72-7.72 1.47 1.35L5.41 20z\"/>\n",
              "  </svg>\n",
              "      </button>\n",
              "      \n",
              "  <style>\n",
              "    .colab-df-container {\n",
              "      display:flex;\n",
              "      flex-wrap:wrap;\n",
              "      gap: 12px;\n",
              "    }\n",
              "\n",
              "    .colab-df-convert {\n",
              "      background-color: #E8F0FE;\n",
              "      border: none;\n",
              "      border-radius: 50%;\n",
              "      cursor: pointer;\n",
              "      display: none;\n",
              "      fill: #1967D2;\n",
              "      height: 32px;\n",
              "      padding: 0 0 0 0;\n",
              "      width: 32px;\n",
              "    }\n",
              "\n",
              "    .colab-df-convert:hover {\n",
              "      background-color: #E2EBFA;\n",
              "      box-shadow: 0px 1px 2px rgba(60, 64, 67, 0.3), 0px 1px 3px 1px rgba(60, 64, 67, 0.15);\n",
              "      fill: #174EA6;\n",
              "    }\n",
              "\n",
              "    [theme=dark] .colab-df-convert {\n",
              "      background-color: #3B4455;\n",
              "      fill: #D2E3FC;\n",
              "    }\n",
              "\n",
              "    [theme=dark] .colab-df-convert:hover {\n",
              "      background-color: #434B5C;\n",
              "      box-shadow: 0px 1px 3px 1px rgba(0, 0, 0, 0.15);\n",
              "      filter: drop-shadow(0px 1px 2px rgba(0, 0, 0, 0.3));\n",
              "      fill: #FFFFFF;\n",
              "    }\n",
              "  </style>\n",
              "\n",
              "      <script>\n",
              "        const buttonEl =\n",
              "          document.querySelector('#df-170760e6-8472-4a5d-965a-d99dda76a601 button.colab-df-convert');\n",
              "        buttonEl.style.display =\n",
              "          google.colab.kernel.accessAllowed ? 'block' : 'none';\n",
              "\n",
              "        async function convertToInteractive(key) {\n",
              "          const element = document.querySelector('#df-170760e6-8472-4a5d-965a-d99dda76a601');\n",
              "          const dataTable =\n",
              "            await google.colab.kernel.invokeFunction('convertToInteractive',\n",
              "                                                     [key], {});\n",
              "          if (!dataTable) return;\n",
              "\n",
              "          const docLinkHtml = 'Like what you see? Visit the ' +\n",
              "            '<a target=\"_blank\" href=https://colab.research.google.com/notebooks/data_table.ipynb>data table notebook</a>'\n",
              "            + ' to learn more about interactive tables.';\n",
              "          element.innerHTML = '';\n",
              "          dataTable['output_type'] = 'display_data';\n",
              "          await google.colab.output.renderOutput(dataTable, element);\n",
              "          const docLink = document.createElement('div');\n",
              "          docLink.innerHTML = docLinkHtml;\n",
              "          element.appendChild(docLink);\n",
              "        }\n",
              "      </script>\n",
              "    </div>\n",
              "  </div>\n",
              "  "
            ]
          },
          "metadata": {},
          "execution_count": 102
        }
      ]
    },
    {
      "cell_type": "code",
      "source": [
        "# info\n",
        "results.info()"
      ],
      "metadata": {
        "colab": {
          "base_uri": "https://localhost:8080/"
        },
        "id": "QCs2UTgl7tML",
        "outputId": "33126f5d-b3a6-4ca0-8dc7-978d36bfc3df"
      },
      "execution_count": 103,
      "outputs": [
        {
          "output_type": "stream",
          "name": "stdout",
          "text": [
            "<class 'pandas.core.frame.DataFrame'>\n",
            "RangeIndex: 40839 entries, 0 to 40838\n",
            "Data columns (total 7 columns):\n",
            " #   Column      Non-Null Count  Dtype \n",
            "---  ------      --------------  ----- \n",
            " 0   date        40839 non-null  object\n",
            " 1   home_team   40839 non-null  object\n",
            " 2   away_team   40839 non-null  object\n",
            " 3   home_score  40839 non-null  int64 \n",
            " 4   away_score  40839 non-null  int64 \n",
            " 5   tournament  40839 non-null  object\n",
            " 6   country     40839 non-null  object\n",
            "dtypes: int64(2), object(5)\n",
            "memory usage: 2.2+ MB\n"
          ]
        }
      ]
    },
    {
      "cell_type": "markdown",
      "source": [
        "date column data type should be changed to date time"
      ],
      "metadata": {
        "id": "lojfXO8W-NZN"
      }
    },
    {
      "cell_type": "code",
      "source": [
        "# info\n",
        "fifa_ranking.info()"
      ],
      "metadata": {
        "colab": {
          "base_uri": "https://localhost:8080/"
        },
        "id": "5i-y8fC07wV9",
        "outputId": "ad477752-901d-4c58-fee1-aeccacf48cc9"
      },
      "execution_count": 104,
      "outputs": [
        {
          "output_type": "stream",
          "name": "stdout",
          "text": [
            "<class 'pandas.core.frame.DataFrame'>\n",
            "RangeIndex: 57793 entries, 0 to 57792\n",
            "Data columns (total 5 columns):\n",
            " #   Column           Non-Null Count  Dtype  \n",
            "---  ------           --------------  -----  \n",
            " 0   rank             57793 non-null  int64  \n",
            " 1   country          57793 non-null  object \n",
            " 2   total_points     57793 non-null  float64\n",
            " 3   previous_points  57793 non-null  int64  \n",
            " 4   rank_date        57793 non-null  object \n",
            "dtypes: float64(1), int64(2), object(2)\n",
            "memory usage: 2.2+ MB\n"
          ]
        }
      ]
    },
    {
      "cell_type": "code",
      "source": [
        "print(results['date'].unique())\n",
        "print('****************************************************************')\n",
        "print(fifa_ranking['rank_date'].unique())"
      ],
      "metadata": {
        "id": "W0OFiHpHBaVa",
        "outputId": "ebb863aa-4d25-4d58-80f9-e3cb9a2c9f36",
        "colab": {
          "base_uri": "https://localhost:8080/"
        }
      },
      "execution_count": 105,
      "outputs": [
        {
          "output_type": "stream",
          "name": "stdout",
          "text": [
            "['1872-11-30' '1873-03-08' '1874-03-07' ... '2019-07-18' '2019-07-19'\n",
            " '2019-07-20']\n",
            "****************************************************************\n",
            "['1993-08-08' '1993-09-23' '1993-10-22' '1993-11-19' '1993-12-23'\n",
            " '1994-02-15' '1994-03-15' '1994-04-19' '1994-05-17' '1994-06-14'\n",
            " '1994-07-21' '1994-09-13' '1994-10-25' '1994-11-22' '1994-12-20'\n",
            " '1995-02-20' '1995-04-19' '1995-05-16' '1995-06-13' '1995-07-25'\n",
            " '1995-08-22' '1995-09-19' '1995-10-17' '1995-11-21' '1995-12-19'\n",
            " '1996-01-24' '1996-02-21' '1996-04-24' '1996-05-22' '1996-07-03'\n",
            " '1996-08-28' '1996-09-25' '1996-10-23' '1996-11-20' '1996-12-18'\n",
            " '1997-02-27' '1997-04-09' '1997-05-14' '1997-06-18' '1997-07-16'\n",
            " '1997-08-20' '1997-09-17' '1997-10-17' '1997-11-19' '1997-12-23'\n",
            " '1998-02-18' '1998-03-18' '1998-04-22' '1998-05-20' '1998-07-15'\n",
            " '1998-08-19' '1998-09-16' '1998-10-21' '1998-11-18' '1998-12-23'\n",
            " '1999-01-27' '1999-02-24' '1999-03-24' '1999-04-21' '1999-05-19'\n",
            " '1999-06-16' '1999-07-21' '1999-08-18' '1999-09-15' '1999-10-13'\n",
            " '1999-11-17' '1999-12-22' '2000-01-19' '2000-02-16' '2000-03-15'\n",
            " '2000-04-12' '2000-05-10' '2000-06-07' '2000-07-05' '2000-08-09'\n",
            " '2000-09-06' '2000-10-11' '2000-11-15' '2000-12-20' '2001-01-17'\n",
            " '2001-02-14' '2001-03-14' '2001-04-11' '2001-05-16' '2001-06-20'\n",
            " '2001-07-18' '2001-08-22' '2001-09-19' '2001-10-17' '2001-11-21'\n",
            " '2001-12-19' '2002-01-16' '2002-02-13' '2002-03-20' '2002-04-17'\n",
            " '2002-05-15' '2002-07-03' '2002-08-14' '2002-09-18' '2002-10-23'\n",
            " '2002-11-20' '2002-12-18' '2003-01-15' '2003-02-19' '2003-03-26'\n",
            " '2003-04-23' '2003-05-21' '2003-06-25' '2003-07-30' '2003-08-27'\n",
            " '2003-09-24' '2003-10-22' '2003-11-19' '2003-12-15' '2004-01-14'\n",
            " '2004-02-18' '2004-03-17' '2004-04-14' '2004-05-12' '2004-06-09'\n",
            " '2004-07-07' '2004-08-04' '2004-09-01' '2004-10-06' '2004-11-10'\n",
            " '2004-12-20' '2005-01-19' '2005-02-16' '2005-03-23' '2005-04-20'\n",
            " '2005-05-18' '2005-06-15' '2005-07-20' '2005-08-17' '2005-09-12'\n",
            " '2005-10-17' '2005-11-21' '2005-12-16' '2006-01-18' '2006-02-15'\n",
            " '2006-03-15' '2006-04-19' '2006-05-17' '2006-07-12' '2006-08-16'\n",
            " '2006-09-13' '2006-10-18' '2006-11-22' '2006-12-18' '2007-01-17'\n",
            " '2007-02-14' '2007-03-14' '2007-04-18' '2007-05-16' '2007-06-13'\n",
            " '2007-07-18' '2007-08-22' '2007-09-19' '2007-10-24' '2007-11-23'\n",
            " '2007-12-17' '2008-01-16' '2008-02-13' '2008-03-12' '2008-04-09'\n",
            " '2008-05-07' '2008-06-04' '2008-07-02' '2008-08-06' '2008-09-03'\n",
            " '2008-10-08' '2008-11-12' '2008-12-17' '2009-01-14' '2009-02-11'\n",
            " '2009-03-11' '2009-04-08' '2009-05-06' '2009-06-03' '2009-07-01'\n",
            " '2009-08-05' '2009-09-02' '2009-10-16' '2009-11-20' '2009-12-16'\n",
            " '2010-02-03' '2010-03-03' '2010-03-31' '2010-04-28' '2010-05-26'\n",
            " '2010-07-14' '2010-08-11' '2010-09-15' '2010-10-20' '2010-11-17'\n",
            " '2010-12-15' '2011-01-12' '2011-02-02' '2011-03-09' '2011-04-13'\n",
            " '2011-05-18' '2011-06-29' '2011-07-27' '2011-08-24' '2011-09-21'\n",
            " '2011-10-19' '2011-11-23' '2011-12-21' '2012-01-18' '2012-02-15'\n",
            " '2012-03-07' '2012-04-11' '2012-05-09' '2012-06-06' '2012-07-04'\n",
            " '2012-08-08' '2012-09-05' '2012-10-03' '2012-11-07' '2012-12-19'\n",
            " '2013-01-17' '2013-02-14' '2013-03-14' '2013-04-11' '2013-05-09'\n",
            " '2013-06-06' '2013-07-04' '2013-08-08' '2013-09-12' '2013-10-17'\n",
            " '2013-11-28' '2013-12-19' '2014-01-16' '2014-02-13' '2014-03-13'\n",
            " '2014-04-10' '2014-05-08' '2014-06-05' '2014-07-17' '2014-08-14'\n",
            " '2014-09-18' '2014-10-23' '2014-11-27' '2014-12-18' '2015-01-08'\n",
            " '2015-02-12' '2015-03-12' '2015-04-09' '2015-05-07' '2015-06-04'\n",
            " '2015-07-09' '2015-08-06' '2015-09-03' '2015-10-01' '2015-11-05'\n",
            " '2015-12-03' '2016-01-07' '2016-02-04' '2016-03-03' '2016-04-07'\n",
            " '2016-05-05' '2016-06-02' '2016-07-14' '2016-08-11' '2016-09-15'\n",
            " '2016-10-20' '2016-11-24' '2016-12-22' '2017-01-12' '2017-02-09'\n",
            " '2017-03-09' '2017-04-06' '2017-05-04' '2017-06-01' '2017-07-06'\n",
            " '2017-08-10' '2017-09-14' '2017-10-16' '2017-11-23' '2017-12-21'\n",
            " '2018-01-18' '2018-02-15' '2018-03-15' '2018-04-12' '2018-05-17'\n",
            " '2018-06-07']\n"
          ]
        }
      ]
    },
    {
      "cell_type": "markdown",
      "source": [
        "rankings started from 1993, therefore we should drop columns before 1993 from the results datset"
      ],
      "metadata": {
        "id": "SQPTUvC2C1Qn"
      }
    },
    {
      "cell_type": "code",
      "source": [
        "results.shape"
      ],
      "metadata": {
        "id": "NM0K8daBDiY_",
        "outputId": "9de1f65b-e832-4a08-d96f-cdbf48926c82",
        "colab": {
          "base_uri": "https://localhost:8080/"
        }
      },
      "execution_count": 106,
      "outputs": [
        {
          "output_type": "execute_result",
          "data": {
            "text/plain": [
              "(40839, 7)"
            ]
          },
          "metadata": {},
          "execution_count": 106
        }
      ]
    },
    {
      "cell_type": "code",
      "source": [
        "# drop the records before 1993\n",
        "results = results[results['date'] >= '1993']\n",
        "results.shape\n"
      ],
      "metadata": {
        "id": "93gDLaKCDAGF",
        "outputId": "86a3ddbc-fef4-40f7-b722-c4c10d9f8d3a",
        "colab": {
          "base_uri": "https://localhost:8080/"
        }
      },
      "execution_count": 107,
      "outputs": [
        {
          "output_type": "execute_result",
          "data": {
            "text/plain": [
              "(23478, 7)"
            ]
          },
          "metadata": {},
          "execution_count": 107
        }
      ]
    },
    {
      "cell_type": "markdown",
      "source": [
        "Now the rows have reduced from 40839 to 23478"
      ],
      "metadata": {
        "id": "sd4ekbACDp8A"
      }
    },
    {
      "cell_type": "code",
      "source": [
        "# missing values\n",
        "results.isnull().sum()\n",
        "\n",
        "# no missing values"
      ],
      "metadata": {
        "colab": {
          "base_uri": "https://localhost:8080/"
        },
        "id": "cE-ryFwD7ykt",
        "outputId": "bfa1c617-ab40-478e-a7e7-a73ec1ad24dc"
      },
      "execution_count": 108,
      "outputs": [
        {
          "output_type": "execute_result",
          "data": {
            "text/plain": [
              "date          0\n",
              "home_team     0\n",
              "away_team     0\n",
              "home_score    0\n",
              "away_score    0\n",
              "tournament    0\n",
              "country       0\n",
              "dtype: int64"
            ]
          },
          "metadata": {},
          "execution_count": 108
        }
      ]
    },
    {
      "cell_type": "code",
      "source": [
        "# missing values\n",
        "fifa_ranking.isnull().sum()\n",
        "\n",
        "# there are no missing values"
      ],
      "metadata": {
        "colab": {
          "base_uri": "https://localhost:8080/"
        },
        "id": "vdEi0lAP8vUw",
        "outputId": "9f105eed-c264-48ed-94b6-0c22220ed791"
      },
      "execution_count": 109,
      "outputs": [
        {
          "output_type": "execute_result",
          "data": {
            "text/plain": [
              "rank               0\n",
              "country            0\n",
              "total_points       0\n",
              "previous_points    0\n",
              "rank_date          0\n",
              "dtype: int64"
            ]
          },
          "metadata": {},
          "execution_count": 109
        }
      ]
    },
    {
      "cell_type": "code",
      "source": [
        "# duplicate values\n",
        "value = results.duplicated().sum()\n",
        "print(value)\n",
        "print('results dataset has', value, 'duplicate values')\n",
        "# results dataset has no duplicate values"
      ],
      "metadata": {
        "colab": {
          "base_uri": "https://localhost:8080/"
        },
        "id": "K-ocP0Rb81be",
        "outputId": "c528fc21-3d22-433c-d2fb-75a1f28d70a4"
      },
      "execution_count": 110,
      "outputs": [
        {
          "output_type": "stream",
          "name": "stdout",
          "text": [
            "1\n",
            "results dataset has 1 duplicate values\n"
          ]
        }
      ]
    },
    {
      "cell_type": "code",
      "source": [
        "# duplicate values\n",
        "value = fifa_ranking.duplicated().sum()\n",
        "print(value)\n",
        "print('results dataset has', value, 'duplicate values')"
      ],
      "metadata": {
        "colab": {
          "base_uri": "https://localhost:8080/"
        },
        "id": "Ce0TW3o_9QsU",
        "outputId": "ff09f953-64aa-42aa-dbf3-70fa9dfe7795"
      },
      "execution_count": 111,
      "outputs": [
        {
          "output_type": "stream",
          "name": "stdout",
          "text": [
            "37\n",
            "results dataset has 37 duplicate values\n"
          ]
        }
      ]
    },
    {
      "cell_type": "code",
      "source": [
        "# drop the duplicate values\n",
        "fifa_ranking.drop_duplicates(keep='first', inplace = True)"
      ],
      "metadata": {
        "id": "8Z4hg2w49PqS"
      },
      "execution_count": 112,
      "outputs": []
    },
    {
      "cell_type": "code",
      "source": [
        "# first, change the date columns to datetime\n",
        "results['date'] = pd.to_datetime(results['date'])\n",
        "\n",
        "# rename the rank_date column\n",
        "fifa_ranking.rename(columns = {'rank_date':'date'}, inplace = True)\n",
        "fifa_ranking['date'] = pd.to_datetime(fifa_ranking['date'])   "
      ],
      "metadata": {
        "id": "IEoutT9w-Aua",
        "outputId": "054a320b-b875-4203-d2ba-270bce0282b3",
        "colab": {
          "base_uri": "https://localhost:8080/"
        }
      },
      "execution_count": 113,
      "outputs": [
        {
          "output_type": "stream",
          "name": "stderr",
          "text": [
            "/usr/local/lib/python3.7/dist-packages/ipykernel_launcher.py:2: SettingWithCopyWarning: \n",
            "A value is trying to be set on a copy of a slice from a DataFrame.\n",
            "Try using .loc[row_indexer,col_indexer] = value instead\n",
            "\n",
            "See the caveats in the documentation: https://pandas.pydata.org/pandas-docs/stable/user_guide/indexing.html#returning-a-view-versus-a-copy\n",
            "  \n"
          ]
        }
      ]
    },
    {
      "cell_type": "code",
      "source": [
        "# split the date to months and year\n",
        "# results\n",
        "results['year'] = results.date.dt.year\n",
        "results['month'] = results.date.dt.month\n",
        "\n",
        "# fifa rankings\n",
        "fifa_ranking['year'] = fifa_ranking.date.dt.year\n",
        "fifa_ranking['month'] = fifa_ranking.date.dt.month\n"
      ],
      "metadata": {
        "id": "_HYyYqy7-u-k",
        "outputId": "2a98a1e4-8461-4801-923e-0919532371b9",
        "colab": {
          "base_uri": "https://localhost:8080/"
        }
      },
      "execution_count": 114,
      "outputs": [
        {
          "output_type": "stream",
          "name": "stderr",
          "text": [
            "/usr/local/lib/python3.7/dist-packages/ipykernel_launcher.py:3: SettingWithCopyWarning: \n",
            "A value is trying to be set on a copy of a slice from a DataFrame.\n",
            "Try using .loc[row_indexer,col_indexer] = value instead\n",
            "\n",
            "See the caveats in the documentation: https://pandas.pydata.org/pandas-docs/stable/user_guide/indexing.html#returning-a-view-versus-a-copy\n",
            "  This is separate from the ipykernel package so we can avoid doing imports until\n",
            "/usr/local/lib/python3.7/dist-packages/ipykernel_launcher.py:4: SettingWithCopyWarning: \n",
            "A value is trying to be set on a copy of a slice from a DataFrame.\n",
            "Try using .loc[row_indexer,col_indexer] = value instead\n",
            "\n",
            "See the caveats in the documentation: https://pandas.pydata.org/pandas-docs/stable/user_guide/indexing.html#returning-a-view-versus-a-copy\n",
            "  after removing the cwd from sys.path.\n"
          ]
        }
      ]
    },
    {
      "cell_type": "code",
      "source": [
        "fifa_ranking.columns"
      ],
      "metadata": {
        "id": "5Ha4nywzeo8g",
        "outputId": "32ba93c3-186f-48a5-e2d0-9e2663101ab4",
        "colab": {
          "base_uri": "https://localhost:8080/"
        }
      },
      "execution_count": 115,
      "outputs": [
        {
          "output_type": "execute_result",
          "data": {
            "text/plain": [
              "Index(['rank', 'country', 'total_points', 'previous_points', 'date', 'year',\n",
              "       'month'],\n",
              "      dtype='object')"
            ]
          },
          "metadata": {},
          "execution_count": 115
        }
      ]
    },
    {
      "cell_type": "markdown",
      "source": [
        "### Check for outliers"
      ],
      "metadata": {
        "id": "sk1sBCD8eje1"
      }
    },
    {
      "cell_type": "code",
      "source": [
        "# Checking for Outliers\n",
        "#\n",
        "# Plotting boxplots for each of the numerical columns\n",
        "sns.set_style('darkgrid')\n",
        "fig, axes = plt.subplots(nrows = 1, ncols = 2, figsize = (10, 8))\n",
        "fig.suptitle('Box plots showing outliers', y= 0.93, fontsize = 15)\n",
        "\n",
        "for ax, data, name in zip(axes.flatten(), fifa_ranking, ['total_points',\t'previous_points']):\n",
        "  sns.boxplot(fifa_ranking[name], ax = ax)\n",
        "\n",
        "plt.show()"
      ],
      "metadata": {
        "id": "ihqoI99pemKm",
        "outputId": "21a1c7ed-38b6-4ecc-cba2-3a41b00abc3f",
        "colab": {
          "base_uri": "https://localhost:8080/",
          "height": 620
        }
      },
      "execution_count": 122,
      "outputs": [
        {
          "output_type": "stream",
          "name": "stderr",
          "text": [
            "/usr/local/lib/python3.7/dist-packages/seaborn/_decorators.py:43: FutureWarning: Pass the following variable as a keyword arg: x. From version 0.12, the only valid positional argument will be `data`, and passing other arguments without an explicit keyword will result in an error or misinterpretation.\n",
            "  FutureWarning\n",
            "/usr/local/lib/python3.7/dist-packages/seaborn/_decorators.py:43: FutureWarning: Pass the following variable as a keyword arg: x. From version 0.12, the only valid positional argument will be `data`, and passing other arguments without an explicit keyword will result in an error or misinterpretation.\n",
            "  FutureWarning\n"
          ]
        },
        {
          "output_type": "display_data",
          "data": {
            "text/plain": [
              "<Figure size 720x576 with 2 Axes>"
            ],
            "image/png": "[encoded data removed]"
          },
          "metadata": {}
        }
      ]
    },
    {
      "cell_type": "markdown",
      "source": [
        "There are many outliers but we cannot impute them since they are true values"
      ],
      "metadata": {
        "id": "P-y2W8T3gDn9"
      }
    },
    {
      "cell_type": "code",
      "source": [
        "# Checking for Outliers\n",
        "#\n",
        "# Plotting boxplots for each of the numerical columns\n",
        "sns.set_style('darkgrid')\n",
        "fig, axes = plt.subplots(nrows = 1, ncols = 2, figsize = (10, 8))\n",
        "fig.suptitle('Box plots showing outliers', y= 0.93, fontsize = 15)\n",
        "\n",
        "for ax, data, name in zip(axes.flatten(), results, ['home_score',\t'away_score']):\n",
        "  sns.boxplot(results[name], ax = ax)\n"
      ],
      "metadata": {
        "id": "FRfDJ_wGfvyr",
        "outputId": "4e384e67-d0ab-41d8-866d-6850e95dbba3",
        "colab": {
          "base_uri": "https://localhost:8080/",
          "height": 620
        }
      },
      "execution_count": 124,
      "outputs": [
        {
          "output_type": "stream",
          "name": "stderr",
          "text": [
            "/usr/local/lib/python3.7/dist-packages/seaborn/_decorators.py:43: FutureWarning: Pass the following variable as a keyword arg: x. From version 0.12, the only valid positional argument will be `data`, and passing other arguments without an explicit keyword will result in an error or misinterpretation.\n",
            "  FutureWarning\n",
            "/usr/local/lib/python3.7/dist-packages/seaborn/_decorators.py:43: FutureWarning: Pass the following variable as a keyword arg: x. From version 0.12, the only valid positional argument will be `data`, and passing other arguments without an explicit keyword will result in an error or misinterpretation.\n",
            "  FutureWarning\n"
          ]
        },
        {
          "output_type": "display_data",
          "data": {
            "text/plain": [
              "<Figure size 720x576 with 2 Axes>"
            ],
            "image/png": "[encoded data removed]"
          },
          "metadata": {}
        }
      ]
    },
    {
      "cell_type": "markdown",
      "source": [
        "There are many outliers but we cannot impute them since they are true values"
      ],
      "metadata": {
        "id": "3X5Bbiw6fmpS"
      }
    },
    {
      "cell_type": "markdown",
      "source": [
        "## Merging the two datasets to obtain Home_team ranking(home_team_rank)"
      ],
      "metadata": {
        "id": "IgiyumPdGgoI"
      }
    },
    {
      "cell_type": "code",
      "source": [
        "# merge to obtain the home_team\n",
        "\n",
        "home_football = pd.merge(results, fifa_ranking, how = 'inner', left_on = ['year', 'month', 'home_team'], right_on = ['year', 'month', 'country'])"
      ],
      "metadata": {
        "id": "HJ1eaRl_9H9g"
      },
      "execution_count": 26,
      "outputs": []
    },
    {
      "cell_type": "code",
      "source": [
        "# preview the new dataframe\n",
        "pd.set_option('display.max_columns', None)\n",
        "home_football.head()"
      ],
      "metadata": {
        "id": "kyS2c8oQ-Mx4",
        "outputId": "41b08037-d715-4698-a8e3-8a14180a9a1c",
        "colab": {
          "base_uri": "https://localhost:8080/",
          "height": 336
        }
      },
      "execution_count": 27,
      "outputs": [
        {
          "output_type": "execute_result",
          "data": {
            "text/plain": [
              "      date_x home_team  away_team  home_score  away_score  \\\n",
              "0 1993-08-01  Colombia   Paraguay           0           0   \n",
              "1 1993-08-15  Colombia  Argentina           2           1   \n",
              "2 1993-08-29  Colombia       Peru           4           0   \n",
              "3 1993-08-01      Peru  Argentina           0           1   \n",
              "4 1993-08-08      Peru   Colombia           0           1   \n",
              "\n",
              "                     tournament country_x  year  month  rank country_y  \\\n",
              "0  FIFA World Cup qualification  Colombia  1993      8    19  Colombia   \n",
              "1  FIFA World Cup qualification  Colombia  1993      8    19  Colombia   \n",
              "2  FIFA World Cup qualification  Colombia  1993      8    19  Colombia   \n",
              "3  FIFA World Cup qualification      Peru  1993      8    70      Peru   \n",
              "4  FIFA World Cup qualification      Peru  1993      8    70      Peru   \n",
              "\n",
              "   total_points  previous_points     date_y  \n",
              "0           0.0               36 1993-08-08  \n",
              "1           0.0               36 1993-08-08  \n",
              "2           0.0               36 1993-08-08  \n",
              "3           0.0               16 1993-08-08  \n",
              "4           0.0               16 1993-08-08  "
            ],
            "text/html": [
              "\n",
              "  <div id=\"df-49c5caf3-85bc-4fcc-b069-9d180a61a764\">\n",
              "    <div class=\"colab-df-container\">\n",
              "      <div>\n",
              "<style scoped>\n",
              "    .dataframe tbody tr th:only-of-type {\n",
              "        vertical-align: middle;\n",
              "    }\n",
              "\n",
              "    .dataframe tbody tr th {\n",
              "        vertical-align: top;\n",
              "    }\n",
              "\n",
              "    .dataframe thead th {\n",
              "        text-align: right;\n",
              "    }\n",
              "</style>\n",
              "<table border=\"1\" class=\"dataframe\">\n",
              "  <thead>\n",
              "    <tr style=\"text-align: right;\">\n",
              "      <th></th>\n",
              "      <th>date_x</th>\n",
              "      <th>home_team</th>\n",
              "      <th>away_team</th>\n",
              "      <th>home_score</th>\n",
              "      <th>away_score</th>\n",
              "      <th>tournament</th>\n",
              "      <th>country_x</th>\n",
              "      <th>year</th>\n",
              "      <th>month</th>\n",
              "      <th>rank</th>\n",
              "      <th>country_y</th>\n",
              "      <th>total_points</th>\n",
              "      <th>previous_points</th>\n",
              "      <th>date_y</th>\n",
              "    </tr>\n",
              "  </thead>\n",
              "  <tbody>\n",
              "    <tr>\n",
              "      <th>0</th>\n",
              "      <td>1993-08-01</td>\n",
              "      <td>Colombia</td>\n",
              "      <td>Paraguay</td>\n",
              "      <td>0</td>\n",
              "      <td>0</td>\n",
              "      <td>FIFA World Cup qualification</td>\n",
              "      <td>Colombia</td>\n",
              "      <td>1993</td>\n",
              "      <td>8</td>\n",
              "      <td>19</td>\n",
              "      <td>Colombia</td>\n",
              "      <td>0.0</td>\n",
              "      <td>36</td>\n",
              "      <td>1993-08-08</td>\n",
              "    </tr>\n",
              "    <tr>\n",
              "      <th>1</th>\n",
              "      <td>1993-08-15</td>\n",
              "      <td>Colombia</td>\n",
              "      <td>Argentina</td>\n",
              "      <td>2</td>\n",
              "      <td>1</td>\n",
              "      <td>FIFA World Cup qualification</td>\n",
              "      <td>Colombia</td>\n",
              "      <td>1993</td>\n",
              "      <td>8</td>\n",
              "      <td>19</td>\n",
              "      <td>Colombia</td>\n",
              "      <td>0.0</td>\n",
              "      <td>36</td>\n",
              "      <td>1993-08-08</td>\n",
              "    </tr>\n",
              "    <tr>\n",
              "      <th>2</th>\n",
              "      <td>1993-08-29</td>\n",
              "      <td>Colombia</td>\n",
              "      <td>Peru</td>\n",
              "      <td>4</td>\n",
              "      <td>0</td>\n",
              "      <td>FIFA World Cup qualification</td>\n",
              "      <td>Colombia</td>\n",
              "      <td>1993</td>\n",
              "      <td>8</td>\n",
              "      <td>19</td>\n",
              "      <td>Colombia</td>\n",
              "      <td>0.0</td>\n",
              "      <td>36</td>\n",
              "      <td>1993-08-08</td>\n",
              "    </tr>\n",
              "    <tr>\n",
              "      <th>3</th>\n",
              "      <td>1993-08-01</td>\n",
              "      <td>Peru</td>\n",
              "      <td>Argentina</td>\n",
              "      <td>0</td>\n",
              "      <td>1</td>\n",
              "      <td>FIFA World Cup qualification</td>\n",
              "      <td>Peru</td>\n",
              "      <td>1993</td>\n",
              "      <td>8</td>\n",
              "      <td>70</td>\n",
              "      <td>Peru</td>\n",
              "      <td>0.0</td>\n",
              "      <td>16</td>\n",
              "      <td>1993-08-08</td>\n",
              "    </tr>\n",
              "    <tr>\n",
              "      <th>4</th>\n",
              "      <td>1993-08-08</td>\n",
              "      <td>Peru</td>\n",
              "      <td>Colombia</td>\n",
              "      <td>0</td>\n",
              "      <td>1</td>\n",
              "      <td>FIFA World Cup qualification</td>\n",
              "      <td>Peru</td>\n",
              "      <td>1993</td>\n",
              "      <td>8</td>\n",
              "      <td>70</td>\n",
              "      <td>Peru</td>\n",
              "      <td>0.0</td>\n",
              "      <td>16</td>\n",
              "      <td>1993-08-08</td>\n",
              "    </tr>\n",
              "  </tbody>\n",
              "</table>\n",
              "</div>\n",
              "      <button class=\"colab-df-convert\" onclick=\"convertToInteractive('df-49c5caf3-85bc-4fcc-b069-9d180a61a764')\"\n",
              "              title=\"Convert this dataframe to an interactive table.\"\n",
              "              style=\"display:none;\">\n",
              "        \n",
              "  <svg xmlns=\"http://www.w3.org/2000/svg\" height=\"24px\"viewBox=\"0 0 24 24\"\n",
              "       width=\"24px\">\n",
              "    <path d=\"M0 0h24v24H0V0z\" fill=\"none\"/>\n",
              "    <path d=\"M18.56 5.44l.94 2.06.94-2.06 2.06-.94-2.06-.94-.94-2.06-.94 2.06-2.06.94zm-11 1L8.5 8.5l.94-2.06 2.06-.94-2.06-.94L8.5 2.5l-.94 2.06-2.06.94zm10 10l.94 2.06.94-2.06 2.06-.94-2.06-.94-.94-2.06-.94 2.06-2.06.94z\"/><path d=\"M17.41 7.96l-1.37-1.37c-.4-.4-.92-.59-1.43-.59-.52 0-1.04.2-1.43.59L10.3 9.45l-7.72 7.72c-.78.78-.78 2.05 0 2.83L4 21.41c.39.39.9.59 1.41.59.51 0 1.02-.2 1.41-.59l7.78-7.78 2.81-2.81c.8-.78.8-2.07 0-2.86zM5.41 20L4 18.59l7.72-7.72 1.47 1.35L5.41 20z\"/>\n",
              "  </svg>\n",
              "      </button>\n",
              "      \n",
              "  <style>\n",
              "    .colab-df-container {\n",
              "      display:flex;\n",
              "      flex-wrap:wrap;\n",
              "      gap: 12px;\n",
              "    }\n",
              "\n",
              "    .colab-df-convert {\n",
              "      background-color: #E8F0FE;\n",
              "      border: none;\n",
              "      border-radius: 50%;\n",
              "      cursor: pointer;\n",
              "      display: none;\n",
              "      fill: #1967D2;\n",
              "      height: 32px;\n",
              "      padding: 0 0 0 0;\n",
              "      width: 32px;\n",
              "    }\n",
              "\n",
              "    .colab-df-convert:hover {\n",
              "      background-color: #E2EBFA;\n",
              "      box-shadow: 0px 1px 2px rgba(60, 64, 67, 0.3), 0px 1px 3px 1px rgba(60, 64, 67, 0.15);\n",
              "      fill: #174EA6;\n",
              "    }\n",
              "\n",
              "    [theme=dark] .colab-df-convert {\n",
              "      background-color: #3B4455;\n",
              "      fill: #D2E3FC;\n",
              "    }\n",
              "\n",
              "    [theme=dark] .colab-df-convert:hover {\n",
              "      background-color: #434B5C;\n",
              "      box-shadow: 0px 1px 3px 1px rgba(0, 0, 0, 0.15);\n",
              "      filter: drop-shadow(0px 1px 2px rgba(0, 0, 0, 0.3));\n",
              "      fill: #FFFFFF;\n",
              "    }\n",
              "  </style>\n",
              "\n",
              "      <script>\n",
              "        const buttonEl =\n",
              "          document.querySelector('#df-49c5caf3-85bc-4fcc-b069-9d180a61a764 button.colab-df-convert');\n",
              "        buttonEl.style.display =\n",
              "          google.colab.kernel.accessAllowed ? 'block' : 'none';\n",
              "\n",
              "        async function convertToInteractive(key) {\n",
              "          const element = document.querySelector('#df-49c5caf3-85bc-4fcc-b069-9d180a61a764');\n",
              "          const dataTable =\n",
              "            await google.colab.kernel.invokeFunction('convertToInteractive',\n",
              "                                                     [key], {});\n",
              "          if (!dataTable) return;\n",
              "\n",
              "          const docLinkHtml = 'Like what you see? Visit the ' +\n",
              "            '<a target=\"_blank\" href=https://colab.research.google.com/notebooks/data_table.ipynb>data table notebook</a>'\n",
              "            + ' to learn more about interactive tables.';\n",
              "          element.innerHTML = '';\n",
              "          dataTable['output_type'] = 'display_data';\n",
              "          await google.colab.output.renderOutput(dataTable, element);\n",
              "          const docLink = document.createElement('div');\n",
              "          docLink.innerHTML = docLinkHtml;\n",
              "          element.appendChild(docLink);\n",
              "        }\n",
              "      </script>\n",
              "    </div>\n",
              "  </div>\n",
              "  "
            ]
          },
          "metadata": {},
          "execution_count": 27
        }
      ]
    },
    {
      "cell_type": "code",
      "source": [
        "# drop nnecessary column\n",
        "home_football.drop(columns = ['country_y', 'date_x', 'date_y'], axis = 1, inplace=True)"
      ],
      "metadata": {
        "id": "JdYKQOma-ULz"
      },
      "execution_count": 28,
      "outputs": []
    },
    {
      "cell_type": "code",
      "source": [
        "# rename some columns\n",
        "home_football.rename(columns = {'country_x':'country', 'rank':'home_rank'}, inplace=True)"
      ],
      "metadata": {
        "id": "fdGo1vMZLvRz"
      },
      "execution_count": 29,
      "outputs": []
    },
    {
      "cell_type": "code",
      "source": [
        "home_football.head(3)"
      ],
      "metadata": {
        "id": "-DgDZR4O8_sL",
        "outputId": "ea963d58-d5fe-4660-8fd2-4228d0a9871c",
        "colab": {
          "base_uri": "https://localhost:8080/",
          "height": 143
        }
      },
      "execution_count": 30,
      "outputs": [
        {
          "output_type": "execute_result",
          "data": {
            "text/plain": [
              "  home_team  away_team  home_score  away_score                    tournament  \\\n",
              "0  Colombia   Paraguay           0           0  FIFA World Cup qualification   \n",
              "1  Colombia  Argentina           2           1  FIFA World Cup qualification   \n",
              "2  Colombia       Peru           4           0  FIFA World Cup qualification   \n",
              "\n",
              "    country  year  month  home_rank  total_points  previous_points  \n",
              "0  Colombia  1993      8         19           0.0               36  \n",
              "1  Colombia  1993      8         19           0.0               36  \n",
              "2  Colombia  1993      8         19           0.0               36  "
            ],
            "text/html": [
              "\n",
              "  <div id=\"df-f0918363-866f-4f38-8c8d-fae1c29aa03a\">\n",
              "    <div class=\"colab-df-container\">\n",
              "      <div>\n",
              "<style scoped>\n",
              "    .dataframe tbody tr th:only-of-type {\n",
              "        vertical-align: middle;\n",
              "    }\n",
              "\n",
              "    .dataframe tbody tr th {\n",
              "        vertical-align: top;\n",
              "    }\n",
              "\n",
              "    .dataframe thead th {\n",
              "        text-align: right;\n",
              "    }\n",
              "</style>\n",
              "<table border=\"1\" class=\"dataframe\">\n",
              "  <thead>\n",
              "    <tr style=\"text-align: right;\">\n",
              "      <th></th>\n",
              "      <th>home_team</th>\n",
              "      <th>away_team</th>\n",
              "      <th>home_score</th>\n",
              "      <th>away_score</th>\n",
              "      <th>tournament</th>\n",
              "      <th>country</th>\n",
              "      <th>year</th>\n",
              "      <th>month</th>\n",
              "      <th>home_rank</th>\n",
              "      <th>total_points</th>\n",
              "      <th>previous_points</th>\n",
              "    </tr>\n",
              "  </thead>\n",
              "  <tbody>\n",
              "    <tr>\n",
              "      <th>0</th>\n",
              "      <td>Colombia</td>\n",
              "      <td>Paraguay</td>\n",
              "      <td>0</td>\n",
              "      <td>0</td>\n",
              "      <td>FIFA World Cup qualification</td>\n",
              "      <td>Colombia</td>\n",
              "      <td>1993</td>\n",
              "      <td>8</td>\n",
              "      <td>19</td>\n",
              "      <td>0.0</td>\n",
              "      <td>36</td>\n",
              "    </tr>\n",
              "    <tr>\n",
              "      <th>1</th>\n",
              "      <td>Colombia</td>\n",
              "      <td>Argentina</td>\n",
              "      <td>2</td>\n",
              "      <td>1</td>\n",
              "      <td>FIFA World Cup qualification</td>\n",
              "      <td>Colombia</td>\n",
              "      <td>1993</td>\n",
              "      <td>8</td>\n",
              "      <td>19</td>\n",
              "      <td>0.0</td>\n",
              "      <td>36</td>\n",
              "    </tr>\n",
              "    <tr>\n",
              "      <th>2</th>\n",
              "      <td>Colombia</td>\n",
              "      <td>Peru</td>\n",
              "      <td>4</td>\n",
              "      <td>0</td>\n",
              "      <td>FIFA World Cup qualification</td>\n",
              "      <td>Colombia</td>\n",
              "      <td>1993</td>\n",
              "      <td>8</td>\n",
              "      <td>19</td>\n",
              "      <td>0.0</td>\n",
              "      <td>36</td>\n",
              "    </tr>\n",
              "  </tbody>\n",
              "</table>\n",
              "</div>\n",
              "      <button class=\"colab-df-convert\" onclick=\"convertToInteractive('df-f0918363-866f-4f38-8c8d-fae1c29aa03a')\"\n",
              "              title=\"Convert this dataframe to an interactive table.\"\n",
              "              style=\"display:none;\">\n",
              "        \n",
              "  <svg xmlns=\"http://www.w3.org/2000/svg\" height=\"24px\"viewBox=\"0 0 24 24\"\n",
              "       width=\"24px\">\n",
              "    <path d=\"M0 0h24v24H0V0z\" fill=\"none\"/>\n",
              "    <path d=\"M18.56 5.44l.94 2.06.94-2.06 2.06-.94-2.06-.94-.94-2.06-.94 2.06-2.06.94zm-11 1L8.5 8.5l.94-2.06 2.06-.94-2.06-.94L8.5 2.5l-.94 2.06-2.06.94zm10 10l.94 2.06.94-2.06 2.06-.94-2.06-.94-.94-2.06-.94 2.06-2.06.94z\"/><path d=\"M17.41 7.96l-1.37-1.37c-.4-.4-.92-.59-1.43-.59-.52 0-1.04.2-1.43.59L10.3 9.45l-7.72 7.72c-.78.78-.78 2.05 0 2.83L4 21.41c.39.39.9.59 1.41.59.51 0 1.02-.2 1.41-.59l7.78-7.78 2.81-2.81c.8-.78.8-2.07 0-2.86zM5.41 20L4 18.59l7.72-7.72 1.47 1.35L5.41 20z\"/>\n",
              "  </svg>\n",
              "      </button>\n",
              "      \n",
              "  <style>\n",
              "    .colab-df-container {\n",
              "      display:flex;\n",
              "      flex-wrap:wrap;\n",
              "      gap: 12px;\n",
              "    }\n",
              "\n",
              "    .colab-df-convert {\n",
              "      background-color: #E8F0FE;\n",
              "      border: none;\n",
              "      border-radius: 50%;\n",
              "      cursor: pointer;\n",
              "      display: none;\n",
              "      fill: #1967D2;\n",
              "      height: 32px;\n",
              "      padding: 0 0 0 0;\n",
              "      width: 32px;\n",
              "    }\n",
              "\n",
              "    .colab-df-convert:hover {\n",
              "      background-color: #E2EBFA;\n",
              "      box-shadow: 0px 1px 2px rgba(60, 64, 67, 0.3), 0px 1px 3px 1px rgba(60, 64, 67, 0.15);\n",
              "      fill: #174EA6;\n",
              "    }\n",
              "\n",
              "    [theme=dark] .colab-df-convert {\n",
              "      background-color: #3B4455;\n",
              "      fill: #D2E3FC;\n",
              "    }\n",
              "\n",
              "    [theme=dark] .colab-df-convert:hover {\n",
              "      background-color: #434B5C;\n",
              "      box-shadow: 0px 1px 3px 1px rgba(0, 0, 0, 0.15);\n",
              "      filter: drop-shadow(0px 1px 2px rgba(0, 0, 0, 0.3));\n",
              "      fill: #FFFFFF;\n",
              "    }\n",
              "  </style>\n",
              "\n",
              "      <script>\n",
              "        const buttonEl =\n",
              "          document.querySelector('#df-f0918363-866f-4f38-8c8d-fae1c29aa03a button.colab-df-convert');\n",
              "        buttonEl.style.display =\n",
              "          google.colab.kernel.accessAllowed ? 'block' : 'none';\n",
              "\n",
              "        async function convertToInteractive(key) {\n",
              "          const element = document.querySelector('#df-f0918363-866f-4f38-8c8d-fae1c29aa03a');\n",
              "          const dataTable =\n",
              "            await google.colab.kernel.invokeFunction('convertToInteractive',\n",
              "                                                     [key], {});\n",
              "          if (!dataTable) return;\n",
              "\n",
              "          const docLinkHtml = 'Like what you see? Visit the ' +\n",
              "            '<a target=\"_blank\" href=https://colab.research.google.com/notebooks/data_table.ipynb>data table notebook</a>'\n",
              "            + ' to learn more about interactive tables.';\n",
              "          element.innerHTML = '';\n",
              "          dataTable['output_type'] = 'display_data';\n",
              "          await google.colab.output.renderOutput(dataTable, element);\n",
              "          const docLink = document.createElement('div');\n",
              "          docLink.innerHTML = docLinkHtml;\n",
              "          element.appendChild(docLink);\n",
              "        }\n",
              "      </script>\n",
              "    </div>\n",
              "  </div>\n",
              "  "
            ]
          },
          "metadata": {},
          "execution_count": 30
        }
      ]
    },
    {
      "cell_type": "markdown",
      "source": [
        "note that the home team is similar to country column"
      ],
      "metadata": {
        "id": "7lKFzKTc9rGd"
      }
    },
    {
      "cell_type": "markdown",
      "source": [
        "## Merging the two datasets to obtain an away team ranking(away_team_rank)"
      ],
      "metadata": {
        "id": "jc8KWCce-LGu"
      }
    },
    {
      "cell_type": "code",
      "source": [
        "# merge to obtain the home_team\n",
        "\n",
        "away_football = pd.merge(results, fifa_ranking, how = 'inner', left_on = ['year', 'month', 'away_team'], right_on = ['year', 'month', 'country'])\n",
        "away_football.head()"
      ],
      "metadata": {
        "id": "AQMoydrr9qTV",
        "outputId": "d655c9e7-c3ec-4d7a-f857-4c8458572789",
        "colab": {
          "base_uri": "https://localhost:8080/",
          "height": 336
        }
      },
      "execution_count": 31,
      "outputs": [
        {
          "output_type": "execute_result",
          "data": {
            "text/plain": [
              "      date_x  home_team  away_team  home_score  away_score  \\\n",
              "0 1993-08-01   Colombia   Paraguay           0           0   \n",
              "1 1993-08-29  Argentina   Paraguay           0           0   \n",
              "2 1993-08-01       Peru  Argentina           0           1   \n",
              "3 1993-08-08   Paraguay  Argentina           1           3   \n",
              "4 1993-08-15   Colombia  Argentina           2           1   \n",
              "\n",
              "                     tournament  country_x  year  month  rank  country_y  \\\n",
              "0  FIFA World Cup qualification   Colombia  1993      8    67   Paraguay   \n",
              "1  FIFA World Cup qualification  Argentina  1993      8    67   Paraguay   \n",
              "2  FIFA World Cup qualification       Peru  1993      8     5  Argentina   \n",
              "3  FIFA World Cup qualification   Paraguay  1993      8     5  Argentina   \n",
              "4  FIFA World Cup qualification   Colombia  1993      8     5  Argentina   \n",
              "\n",
              "   total_points  previous_points     date_y  \n",
              "0           0.0               22 1993-08-08  \n",
              "1           0.0               22 1993-08-08  \n",
              "2           0.0               51 1993-08-08  \n",
              "3           0.0               51 1993-08-08  \n",
              "4           0.0               51 1993-08-08  "
            ],
            "text/html": [
              "\n",
              "  <div id=\"df-6c13fbcc-fa19-42cc-9009-61075ffdd3be\">\n",
              "    <div class=\"colab-df-container\">\n",
              "      <div>\n",
              "<style scoped>\n",
              "    .dataframe tbody tr th:only-of-type {\n",
              "        vertical-align: middle;\n",
              "    }\n",
              "\n",
              "    .dataframe tbody tr th {\n",
              "        vertical-align: top;\n",
              "    }\n",
              "\n",
              "    .dataframe thead th {\n",
              "        text-align: right;\n",
              "    }\n",
              "</style>\n",
              "<table border=\"1\" class=\"dataframe\">\n",
              "  <thead>\n",
              "    <tr style=\"text-align: right;\">\n",
              "      <th></th>\n",
              "      <th>date_x</th>\n",
              "      <th>home_team</th>\n",
              "      <th>away_team</th>\n",
              "      <th>home_score</th>\n",
              "      <th>away_score</th>\n",
              "      <th>tournament</th>\n",
              "      <th>country_x</th>\n",
              "      <th>year</th>\n",
              "      <th>month</th>\n",
              "      <th>rank</th>\n",
              "      <th>country_y</th>\n",
              "      <th>total_points</th>\n",
              "      <th>previous_points</th>\n",
              "      <th>date_y</th>\n",
              "    </tr>\n",
              "  </thead>\n",
              "  <tbody>\n",
              "    <tr>\n",
              "      <th>0</th>\n",
              "      <td>1993-08-01</td>\n",
              "      <td>Colombia</td>\n",
              "      <td>Paraguay</td>\n",
              "      <td>0</td>\n",
              "      <td>0</td>\n",
              "      <td>FIFA World Cup qualification</td>\n",
              "      <td>Colombia</td>\n",
              "      <td>1993</td>\n",
              "      <td>8</td>\n",
              "      <td>67</td>\n",
              "      <td>Paraguay</td>\n",
              "      <td>0.0</td>\n",
              "      <td>22</td>\n",
              "      <td>1993-08-08</td>\n",
              "    </tr>\n",
              "    <tr>\n",
              "      <th>1</th>\n",
              "      <td>1993-08-29</td>\n",
              "      <td>Argentina</td>\n",
              "      <td>Paraguay</td>\n",
              "      <td>0</td>\n",
              "      <td>0</td>\n",
              "      <td>FIFA World Cup qualification</td>\n",
              "      <td>Argentina</td>\n",
              "      <td>1993</td>\n",
              "      <td>8</td>\n",
              "      <td>67</td>\n",
              "      <td>Paraguay</td>\n",
              "      <td>0.0</td>\n",
              "      <td>22</td>\n",
              "      <td>1993-08-08</td>\n",
              "    </tr>\n",
              "    <tr>\n",
              "      <th>2</th>\n",
              "      <td>1993-08-01</td>\n",
              "      <td>Peru</td>\n",
              "      <td>Argentina</td>\n",
              "      <td>0</td>\n",
              "      <td>1</td>\n",
              "      <td>FIFA World Cup qualification</td>\n",
              "      <td>Peru</td>\n",
              "      <td>1993</td>\n",
              "      <td>8</td>\n",
              "      <td>5</td>\n",
              "      <td>Argentina</td>\n",
              "      <td>0.0</td>\n",
              "      <td>51</td>\n",
              "      <td>1993-08-08</td>\n",
              "    </tr>\n",
              "    <tr>\n",
              "      <th>3</th>\n",
              "      <td>1993-08-08</td>\n",
              "      <td>Paraguay</td>\n",
              "      <td>Argentina</td>\n",
              "      <td>1</td>\n",
              "      <td>3</td>\n",
              "      <td>FIFA World Cup qualification</td>\n",
              "      <td>Paraguay</td>\n",
              "      <td>1993</td>\n",
              "      <td>8</td>\n",
              "      <td>5</td>\n",
              "      <td>Argentina</td>\n",
              "      <td>0.0</td>\n",
              "      <td>51</td>\n",
              "      <td>1993-08-08</td>\n",
              "    </tr>\n",
              "    <tr>\n",
              "      <th>4</th>\n",
              "      <td>1993-08-15</td>\n",
              "      <td>Colombia</td>\n",
              "      <td>Argentina</td>\n",
              "      <td>2</td>\n",
              "      <td>1</td>\n",
              "      <td>FIFA World Cup qualification</td>\n",
              "      <td>Colombia</td>\n",
              "      <td>1993</td>\n",
              "      <td>8</td>\n",
              "      <td>5</td>\n",
              "      <td>Argentina</td>\n",
              "      <td>0.0</td>\n",
              "      <td>51</td>\n",
              "      <td>1993-08-08</td>\n",
              "    </tr>\n",
              "  </tbody>\n",
              "</table>\n",
              "</div>\n",
              "      <button class=\"colab-df-convert\" onclick=\"convertToInteractive('df-6c13fbcc-fa19-42cc-9009-61075ffdd3be')\"\n",
              "              title=\"Convert this dataframe to an interactive table.\"\n",
              "              style=\"display:none;\">\n",
              "        \n",
              "  <svg xmlns=\"http://www.w3.org/2000/svg\" height=\"24px\"viewBox=\"0 0 24 24\"\n",
              "       width=\"24px\">\n",
              "    <path d=\"M0 0h24v24H0V0z\" fill=\"none\"/>\n",
              "    <path d=\"M18.56 5.44l.94 2.06.94-2.06 2.06-.94-2.06-.94-.94-2.06-.94 2.06-2.06.94zm-11 1L8.5 8.5l.94-2.06 2.06-.94-2.06-.94L8.5 2.5l-.94 2.06-2.06.94zm10 10l.94 2.06.94-2.06 2.06-.94-2.06-.94-.94-2.06-.94 2.06-2.06.94z\"/><path d=\"M17.41 7.96l-1.37-1.37c-.4-.4-.92-.59-1.43-.59-.52 0-1.04.2-1.43.59L10.3 9.45l-7.72 7.72c-.78.78-.78 2.05 0 2.83L4 21.41c.39.39.9.59 1.41.59.51 0 1.02-.2 1.41-.59l7.78-7.78 2.81-2.81c.8-.78.8-2.07 0-2.86zM5.41 20L4 18.59l7.72-7.72 1.47 1.35L5.41 20z\"/>\n",
              "  </svg>\n",
              "      </button>\n",
              "      \n",
              "  <style>\n",
              "    .colab-df-container {\n",
              "      display:flex;\n",
              "      flex-wrap:wrap;\n",
              "      gap: 12px;\n",
              "    }\n",
              "\n",
              "    .colab-df-convert {\n",
              "      background-color: #E8F0FE;\n",
              "      border: none;\n",
              "      border-radius: 50%;\n",
              "      cursor: pointer;\n",
              "      display: none;\n",
              "      fill: #1967D2;\n",
              "      height: 32px;\n",
              "      padding: 0 0 0 0;\n",
              "      width: 32px;\n",
              "    }\n",
              "\n",
              "    .colab-df-convert:hover {\n",
              "      background-color: #E2EBFA;\n",
              "      box-shadow: 0px 1px 2px rgba(60, 64, 67, 0.3), 0px 1px 3px 1px rgba(60, 64, 67, 0.15);\n",
              "      fill: #174EA6;\n",
              "    }\n",
              "\n",
              "    [theme=dark] .colab-df-convert {\n",
              "      background-color: #3B4455;\n",
              "      fill: #D2E3FC;\n",
              "    }\n",
              "\n",
              "    [theme=dark] .colab-df-convert:hover {\n",
              "      background-color: #434B5C;\n",
              "      box-shadow: 0px 1px 3px 1px rgba(0, 0, 0, 0.15);\n",
              "      filter: drop-shadow(0px 1px 2px rgba(0, 0, 0, 0.3));\n",
              "      fill: #FFFFFF;\n",
              "    }\n",
              "  </style>\n",
              "\n",
              "      <script>\n",
              "        const buttonEl =\n",
              "          document.querySelector('#df-6c13fbcc-fa19-42cc-9009-61075ffdd3be button.colab-df-convert');\n",
              "        buttonEl.style.display =\n",
              "          google.colab.kernel.accessAllowed ? 'block' : 'none';\n",
              "\n",
              "        async function convertToInteractive(key) {\n",
              "          const element = document.querySelector('#df-6c13fbcc-fa19-42cc-9009-61075ffdd3be');\n",
              "          const dataTable =\n",
              "            await google.colab.kernel.invokeFunction('convertToInteractive',\n",
              "                                                     [key], {});\n",
              "          if (!dataTable) return;\n",
              "\n",
              "          const docLinkHtml = 'Like what you see? Visit the ' +\n",
              "            '<a target=\"_blank\" href=https://colab.research.google.com/notebooks/data_table.ipynb>data table notebook</a>'\n",
              "            + ' to learn more about interactive tables.';\n",
              "          element.innerHTML = '';\n",
              "          dataTable['output_type'] = 'display_data';\n",
              "          await google.colab.output.renderOutput(dataTable, element);\n",
              "          const docLink = document.createElement('div');\n",
              "          docLink.innerHTML = docLinkHtml;\n",
              "          element.appendChild(docLink);\n",
              "        }\n",
              "      </script>\n",
              "    </div>\n",
              "  </div>\n",
              "  "
            ]
          },
          "metadata": {},
          "execution_count": 31
        }
      ]
    },
    {
      "cell_type": "code",
      "source": [
        "# drop nnecessary column\n",
        "away_football.drop(columns = ['country_y', 'date_x', 'date_y'], axis = 1, inplace=True)"
      ],
      "metadata": {
        "id": "8bu2m4VZ9Kxf"
      },
      "execution_count": 32,
      "outputs": []
    },
    {
      "cell_type": "code",
      "source": [
        "# rename some columns\n",
        "away_football.rename(columns = {'country_x':'country', 'rank':'away_rank'}, inplace=True)"
      ],
      "metadata": {
        "id": "BYFP9tmx_TzE"
      },
      "execution_count": 33,
      "outputs": []
    },
    {
      "cell_type": "code",
      "source": [
        "away_football = away_football[['away_rank','away_team', 'month', 'year']]\n",
        "away_football.head()"
      ],
      "metadata": {
        "id": "MKPoSwsj_Tvl",
        "outputId": "7aabe687-c472-4837-a388-8686e1157d6a",
        "colab": {
          "base_uri": "https://localhost:8080/",
          "height": 206
        }
      },
      "execution_count": 34,
      "outputs": [
        {
          "output_type": "execute_result",
          "data": {
            "text/plain": [
              "   away_rank  away_team  month  year\n",
              "0         67   Paraguay      8  1993\n",
              "1         67   Paraguay      8  1993\n",
              "2          5  Argentina      8  1993\n",
              "3          5  Argentina      8  1993\n",
              "4          5  Argentina      8  1993"
            ],
            "text/html": [
              "\n",
              "  <div id=\"df-646189af-968b-4917-ad65-f940ee122ae9\">\n",
              "    <div class=\"colab-df-container\">\n",
              "      <div>\n",
              "<style scoped>\n",
              "    .dataframe tbody tr th:only-of-type {\n",
              "        vertical-align: middle;\n",
              "    }\n",
              "\n",
              "    .dataframe tbody tr th {\n",
              "        vertical-align: top;\n",
              "    }\n",
              "\n",
              "    .dataframe thead th {\n",
              "        text-align: right;\n",
              "    }\n",
              "</style>\n",
              "<table border=\"1\" class=\"dataframe\">\n",
              "  <thead>\n",
              "    <tr style=\"text-align: right;\">\n",
              "      <th></th>\n",
              "      <th>away_rank</th>\n",
              "      <th>away_team</th>\n",
              "      <th>month</th>\n",
              "      <th>year</th>\n",
              "    </tr>\n",
              "  </thead>\n",
              "  <tbody>\n",
              "    <tr>\n",
              "      <th>0</th>\n",
              "      <td>67</td>\n",
              "      <td>Paraguay</td>\n",
              "      <td>8</td>\n",
              "      <td>1993</td>\n",
              "    </tr>\n",
              "    <tr>\n",
              "      <th>1</th>\n",
              "      <td>67</td>\n",
              "      <td>Paraguay</td>\n",
              "      <td>8</td>\n",
              "      <td>1993</td>\n",
              "    </tr>\n",
              "    <tr>\n",
              "      <th>2</th>\n",
              "      <td>5</td>\n",
              "      <td>Argentina</td>\n",
              "      <td>8</td>\n",
              "      <td>1993</td>\n",
              "    </tr>\n",
              "    <tr>\n",
              "      <th>3</th>\n",
              "      <td>5</td>\n",
              "      <td>Argentina</td>\n",
              "      <td>8</td>\n",
              "      <td>1993</td>\n",
              "    </tr>\n",
              "    <tr>\n",
              "      <th>4</th>\n",
              "      <td>5</td>\n",
              "      <td>Argentina</td>\n",
              "      <td>8</td>\n",
              "      <td>1993</td>\n",
              "    </tr>\n",
              "  </tbody>\n",
              "</table>\n",
              "</div>\n",
              "      <button class=\"colab-df-convert\" onclick=\"convertToInteractive('df-646189af-968b-4917-ad65-f940ee122ae9')\"\n",
              "              title=\"Convert this dataframe to an interactive table.\"\n",
              "              style=\"display:none;\">\n",
              "        \n",
              "  <svg xmlns=\"http://www.w3.org/2000/svg\" height=\"24px\"viewBox=\"0 0 24 24\"\n",
              "       width=\"24px\">\n",
              "    <path d=\"M0 0h24v24H0V0z\" fill=\"none\"/>\n",
              "    <path d=\"M18.56 5.44l.94 2.06.94-2.06 2.06-.94-2.06-.94-.94-2.06-.94 2.06-2.06.94zm-11 1L8.5 8.5l.94-2.06 2.06-.94-2.06-.94L8.5 2.5l-.94 2.06-2.06.94zm10 10l.94 2.06.94-2.06 2.06-.94-2.06-.94-.94-2.06-.94 2.06-2.06.94z\"/><path d=\"M17.41 7.96l-1.37-1.37c-.4-.4-.92-.59-1.43-.59-.52 0-1.04.2-1.43.59L10.3 9.45l-7.72 7.72c-.78.78-.78 2.05 0 2.83L4 21.41c.39.39.9.59 1.41.59.51 0 1.02-.2 1.41-.59l7.78-7.78 2.81-2.81c.8-.78.8-2.07 0-2.86zM5.41 20L4 18.59l7.72-7.72 1.47 1.35L5.41 20z\"/>\n",
              "  </svg>\n",
              "      </button>\n",
              "      \n",
              "  <style>\n",
              "    .colab-df-container {\n",
              "      display:flex;\n",
              "      flex-wrap:wrap;\n",
              "      gap: 12px;\n",
              "    }\n",
              "\n",
              "    .colab-df-convert {\n",
              "      background-color: #E8F0FE;\n",
              "      border: none;\n",
              "      border-radius: 50%;\n",
              "      cursor: pointer;\n",
              "      display: none;\n",
              "      fill: #1967D2;\n",
              "      height: 32px;\n",
              "      padding: 0 0 0 0;\n",
              "      width: 32px;\n",
              "    }\n",
              "\n",
              "    .colab-df-convert:hover {\n",
              "      background-color: #E2EBFA;\n",
              "      box-shadow: 0px 1px 2px rgba(60, 64, 67, 0.3), 0px 1px 3px 1px rgba(60, 64, 67, 0.15);\n",
              "      fill: #174EA6;\n",
              "    }\n",
              "\n",
              "    [theme=dark] .colab-df-convert {\n",
              "      background-color: #3B4455;\n",
              "      fill: #D2E3FC;\n",
              "    }\n",
              "\n",
              "    [theme=dark] .colab-df-convert:hover {\n",
              "      background-color: #434B5C;\n",
              "      box-shadow: 0px 1px 3px 1px rgba(0, 0, 0, 0.15);\n",
              "      filter: drop-shadow(0px 1px 2px rgba(0, 0, 0, 0.3));\n",
              "      fill: #FFFFFF;\n",
              "    }\n",
              "  </style>\n",
              "\n",
              "      <script>\n",
              "        const buttonEl =\n",
              "          document.querySelector('#df-646189af-968b-4917-ad65-f940ee122ae9 button.colab-df-convert');\n",
              "        buttonEl.style.display =\n",
              "          google.colab.kernel.accessAllowed ? 'block' : 'none';\n",
              "\n",
              "        async function convertToInteractive(key) {\n",
              "          const element = document.querySelector('#df-646189af-968b-4917-ad65-f940ee122ae9');\n",
              "          const dataTable =\n",
              "            await google.colab.kernel.invokeFunction('convertToInteractive',\n",
              "                                                     [key], {});\n",
              "          if (!dataTable) return;\n",
              "\n",
              "          const docLinkHtml = 'Like what you see? Visit the ' +\n",
              "            '<a target=\"_blank\" href=https://colab.research.google.com/notebooks/data_table.ipynb>data table notebook</a>'\n",
              "            + ' to learn more about interactive tables.';\n",
              "          element.innerHTML = '';\n",
              "          dataTable['output_type'] = 'display_data';\n",
              "          await google.colab.output.renderOutput(dataTable, element);\n",
              "          const docLink = document.createElement('div');\n",
              "          docLink.innerHTML = docLinkHtml;\n",
              "          element.appendChild(docLink);\n",
              "        }\n",
              "      </script>\n",
              "    </div>\n",
              "  </div>\n",
              "  "
            ]
          },
          "metadata": {},
          "execution_count": 34
        }
      ]
    },
    {
      "cell_type": "markdown",
      "source": [
        "## Merge the datasets to obtain home team rankings and away team rankings"
      ],
      "metadata": {
        "id": "AQJ7UB1_EDtn"
      }
    },
    {
      "cell_type": "code",
      "source": [
        ""
      ],
      "metadata": {
        "id": "3a01IBbiD2m4"
      },
      "execution_count": 34,
      "outputs": []
    },
    {
      "cell_type": "code",
      "source": [
        "# merge \n",
        "football = pd.merge(home_football, away_football, how = 'inner', left_on = ['year','month','away_team'], right_on = ['year','month','away_team'])\n",
        "football.sample(10)"
      ],
      "metadata": {
        "id": "G0a0VDA2ENZm",
        "outputId": "4cbe0285-a073-487c-c13f-364bd670e075",
        "colab": {
          "base_uri": "https://localhost:8080/",
          "height": 406
        }
      },
      "execution_count": 35,
      "outputs": [
        {
          "output_type": "execute_result",
          "data": {
            "text/plain": [
              "        home_team  away_team  home_score  away_score  \\\n",
              "12687      Mexico     Poland           1           1   \n",
              "11794      Brazil      Chile           1           0   \n",
              "7290   Luxembourg    Finland           0           1   \n",
              "17782       India  Sri Lanka           3           1   \n",
              "20670      Rwanda    Nigeria           0           0   \n",
              "16438      Rwanda    Morocco           3           1   \n",
              "1502      Morocco       Mali           2           0   \n",
              "17361       Nepal  Palestine           0           0   \n",
              "27493     Iceland    Ukraine           2           0   \n",
              "5274         Iraq       Oman           2           0   \n",
              "\n",
              "                                 tournament        country  year  month  \\\n",
              "12687                              Friendly  United States  2005      4   \n",
              "11794                          Copa América           Peru  2004      7   \n",
              "7290                               Friendly     Luxembourg  2001      2   \n",
              "17782                             Nehru Cup          India  2009      8   \n",
              "20670  African Cup of Nations qualification         Rwanda  2012      2   \n",
              "16438          FIFA World Cup qualification         Rwanda  2008      6   \n",
              "1502                               Friendly        Morocco  1995     11   \n",
              "17361       AFC Challenge Cup qualification          Nepal  2009      3   \n",
              "27493          FIFA World Cup qualification        Iceland  2017      9   \n",
              "5274            AFC Asian Cup qualification     Tajikistan  1999      8   \n",
              "\n",
              "       home_rank  total_points  previous_points  away_rank  \n",
              "12687          8          0.00              752         25  \n",
              "11794          1          0.00              842         66  \n",
              "7290         141          0.00              266         60  \n",
              "17782        156          0.00              148        156  \n",
              "20670        108        308.46              304         56  \n",
              "16438        106          0.00              289         40  \n",
              "1502          37          0.00               42         52  \n",
              "17361        172          0.00               70        174  \n",
              "27493         22        931.49              927         24  \n",
              "5274         108          0.00              349         87  "
            ],
            "text/html": [
              "\n",
              "  <div id=\"df-f1152efa-e9f4-4918-b375-f2cf6e8ee72e\">\n",
              "    <div class=\"colab-df-container\">\n",
              "      <div>\n",
              "<style scoped>\n",
              "    .dataframe tbody tr th:only-of-type {\n",
              "        vertical-align: middle;\n",
              "    }\n",
              "\n",
              "    .dataframe tbody tr th {\n",
              "        vertical-align: top;\n",
              "    }\n",
              "\n",
              "    .dataframe thead th {\n",
              "        text-align: right;\n",
              "    }\n",
              "</style>\n",
              "<table border=\"1\" class=\"dataframe\">\n",
              "  <thead>\n",
              "    <tr style=\"text-align: right;\">\n",
              "      <th></th>\n",
              "      <th>home_team</th>\n",
              "      <th>away_team</th>\n",
              "      <th>home_score</th>\n",
              "      <th>away_score</th>\n",
              "      <th>tournament</th>\n",
              "      <th>country</th>\n",
              "      <th>year</th>\n",
              "      <th>month</th>\n",
              "      <th>home_rank</th>\n",
              "      <th>total_points</th>\n",
              "      <th>previous_points</th>\n",
              "      <th>away_rank</th>\n",
              "    </tr>\n",
              "  </thead>\n",
              "  <tbody>\n",
              "    <tr>\n",
              "      <th>12687</th>\n",
              "      <td>Mexico</td>\n",
              "      <td>Poland</td>\n",
              "      <td>1</td>\n",
              "      <td>1</td>\n",
              "      <td>Friendly</td>\n",
              "      <td>United States</td>\n",
              "      <td>2005</td>\n",
              "      <td>4</td>\n",
              "      <td>8</td>\n",
              "      <td>0.00</td>\n",
              "      <td>752</td>\n",
              "      <td>25</td>\n",
              "    </tr>\n",
              "    <tr>\n",
              "      <th>11794</th>\n",
              "      <td>Brazil</td>\n",
              "      <td>Chile</td>\n",
              "      <td>1</td>\n",
              "      <td>0</td>\n",
              "      <td>Copa América</td>\n",
              "      <td>Peru</td>\n",
              "      <td>2004</td>\n",
              "      <td>7</td>\n",
              "      <td>1</td>\n",
              "      <td>0.00</td>\n",
              "      <td>842</td>\n",
              "      <td>66</td>\n",
              "    </tr>\n",
              "    <tr>\n",
              "      <th>7290</th>\n",
              "      <td>Luxembourg</td>\n",
              "      <td>Finland</td>\n",
              "      <td>0</td>\n",
              "      <td>1</td>\n",
              "      <td>Friendly</td>\n",
              "      <td>Luxembourg</td>\n",
              "      <td>2001</td>\n",
              "      <td>2</td>\n",
              "      <td>141</td>\n",
              "      <td>0.00</td>\n",
              "      <td>266</td>\n",
              "      <td>60</td>\n",
              "    </tr>\n",
              "    <tr>\n",
              "      <th>17782</th>\n",
              "      <td>India</td>\n",
              "      <td>Sri Lanka</td>\n",
              "      <td>3</td>\n",
              "      <td>1</td>\n",
              "      <td>Nehru Cup</td>\n",
              "      <td>India</td>\n",
              "      <td>2009</td>\n",
              "      <td>8</td>\n",
              "      <td>156</td>\n",
              "      <td>0.00</td>\n",
              "      <td>148</td>\n",
              "      <td>156</td>\n",
              "    </tr>\n",
              "    <tr>\n",
              "      <th>20670</th>\n",
              "      <td>Rwanda</td>\n",
              "      <td>Nigeria</td>\n",
              "      <td>0</td>\n",
              "      <td>0</td>\n",
              "      <td>African Cup of Nations qualification</td>\n",
              "      <td>Rwanda</td>\n",
              "      <td>2012</td>\n",
              "      <td>2</td>\n",
              "      <td>108</td>\n",
              "      <td>308.46</td>\n",
              "      <td>304</td>\n",
              "      <td>56</td>\n",
              "    </tr>\n",
              "    <tr>\n",
              "      <th>16438</th>\n",
              "      <td>Rwanda</td>\n",
              "      <td>Morocco</td>\n",
              "      <td>3</td>\n",
              "      <td>1</td>\n",
              "      <td>FIFA World Cup qualification</td>\n",
              "      <td>Rwanda</td>\n",
              "      <td>2008</td>\n",
              "      <td>6</td>\n",
              "      <td>106</td>\n",
              "      <td>0.00</td>\n",
              "      <td>289</td>\n",
              "      <td>40</td>\n",
              "    </tr>\n",
              "    <tr>\n",
              "      <th>1502</th>\n",
              "      <td>Morocco</td>\n",
              "      <td>Mali</td>\n",
              "      <td>2</td>\n",
              "      <td>0</td>\n",
              "      <td>Friendly</td>\n",
              "      <td>Morocco</td>\n",
              "      <td>1995</td>\n",
              "      <td>11</td>\n",
              "      <td>37</td>\n",
              "      <td>0.00</td>\n",
              "      <td>42</td>\n",
              "      <td>52</td>\n",
              "    </tr>\n",
              "    <tr>\n",
              "      <th>17361</th>\n",
              "      <td>Nepal</td>\n",
              "      <td>Palestine</td>\n",
              "      <td>0</td>\n",
              "      <td>0</td>\n",
              "      <td>AFC Challenge Cup qualification</td>\n",
              "      <td>Nepal</td>\n",
              "      <td>2009</td>\n",
              "      <td>3</td>\n",
              "      <td>172</td>\n",
              "      <td>0.00</td>\n",
              "      <td>70</td>\n",
              "      <td>174</td>\n",
              "    </tr>\n",
              "    <tr>\n",
              "      <th>27493</th>\n",
              "      <td>Iceland</td>\n",
              "      <td>Ukraine</td>\n",
              "      <td>2</td>\n",
              "      <td>0</td>\n",
              "      <td>FIFA World Cup qualification</td>\n",
              "      <td>Iceland</td>\n",
              "      <td>2017</td>\n",
              "      <td>9</td>\n",
              "      <td>22</td>\n",
              "      <td>931.49</td>\n",
              "      <td>927</td>\n",
              "      <td>24</td>\n",
              "    </tr>\n",
              "    <tr>\n",
              "      <th>5274</th>\n",
              "      <td>Iraq</td>\n",
              "      <td>Oman</td>\n",
              "      <td>2</td>\n",
              "      <td>0</td>\n",
              "      <td>AFC Asian Cup qualification</td>\n",
              "      <td>Tajikistan</td>\n",
              "      <td>1999</td>\n",
              "      <td>8</td>\n",
              "      <td>108</td>\n",
              "      <td>0.00</td>\n",
              "      <td>349</td>\n",
              "      <td>87</td>\n",
              "    </tr>\n",
              "  </tbody>\n",
              "</table>\n",
              "</div>\n",
              "      <button class=\"colab-df-convert\" onclick=\"convertToInteractive('df-f1152efa-e9f4-4918-b375-f2cf6e8ee72e')\"\n",
              "              title=\"Convert this dataframe to an interactive table.\"\n",
              "              style=\"display:none;\">\n",
              "        \n",
              "  <svg xmlns=\"http://www.w3.org/2000/svg\" height=\"24px\"viewBox=\"0 0 24 24\"\n",
              "       width=\"24px\">\n",
              "    <path d=\"M0 0h24v24H0V0z\" fill=\"none\"/>\n",
              "    <path d=\"M18.56 5.44l.94 2.06.94-2.06 2.06-.94-2.06-.94-.94-2.06-.94 2.06-2.06.94zm-11 1L8.5 8.5l.94-2.06 2.06-.94-2.06-.94L8.5 2.5l-.94 2.06-2.06.94zm10 10l.94 2.06.94-2.06 2.06-.94-2.06-.94-.94-2.06-.94 2.06-2.06.94z\"/><path d=\"M17.41 7.96l-1.37-1.37c-.4-.4-.92-.59-1.43-.59-.52 0-1.04.2-1.43.59L10.3 9.45l-7.72 7.72c-.78.78-.78 2.05 0 2.83L4 21.41c.39.39.9.59 1.41.59.51 0 1.02-.2 1.41-.59l7.78-7.78 2.81-2.81c.8-.78.8-2.07 0-2.86zM5.41 20L4 18.59l7.72-7.72 1.47 1.35L5.41 20z\"/>\n",
              "  </svg>\n",
              "      </button>\n",
              "      \n",
              "  <style>\n",
              "    .colab-df-container {\n",
              "      display:flex;\n",
              "      flex-wrap:wrap;\n",
              "      gap: 12px;\n",
              "    }\n",
              "\n",
              "    .colab-df-convert {\n",
              "      background-color: #E8F0FE;\n",
              "      border: none;\n",
              "      border-radius: 50%;\n",
              "      cursor: pointer;\n",
              "      display: none;\n",
              "      fill: #1967D2;\n",
              "      height: 32px;\n",
              "      padding: 0 0 0 0;\n",
              "      width: 32px;\n",
              "    }\n",
              "\n",
              "    .colab-df-convert:hover {\n",
              "      background-color: #E2EBFA;\n",
              "      box-shadow: 0px 1px 2px rgba(60, 64, 67, 0.3), 0px 1px 3px 1px rgba(60, 64, 67, 0.15);\n",
              "      fill: #174EA6;\n",
              "    }\n",
              "\n",
              "    [theme=dark] .colab-df-convert {\n",
              "      background-color: #3B4455;\n",
              "      fill: #D2E3FC;\n",
              "    }\n",
              "\n",
              "    [theme=dark] .colab-df-convert:hover {\n",
              "      background-color: #434B5C;\n",
              "      box-shadow: 0px 1px 3px 1px rgba(0, 0, 0, 0.15);\n",
              "      filter: drop-shadow(0px 1px 2px rgba(0, 0, 0, 0.3));\n",
              "      fill: #FFFFFF;\n",
              "    }\n",
              "  </style>\n",
              "\n",
              "      <script>\n",
              "        const buttonEl =\n",
              "          document.querySelector('#df-f1152efa-e9f4-4918-b375-f2cf6e8ee72e button.colab-df-convert');\n",
              "        buttonEl.style.display =\n",
              "          google.colab.kernel.accessAllowed ? 'block' : 'none';\n",
              "\n",
              "        async function convertToInteractive(key) {\n",
              "          const element = document.querySelector('#df-f1152efa-e9f4-4918-b375-f2cf6e8ee72e');\n",
              "          const dataTable =\n",
              "            await google.colab.kernel.invokeFunction('convertToInteractive',\n",
              "                                                     [key], {});\n",
              "          if (!dataTable) return;\n",
              "\n",
              "          const docLinkHtml = 'Like what you see? Visit the ' +\n",
              "            '<a target=\"_blank\" href=https://colab.research.google.com/notebooks/data_table.ipynb>data table notebook</a>'\n",
              "            + ' to learn more about interactive tables.';\n",
              "          element.innerHTML = '';\n",
              "          dataTable['output_type'] = 'display_data';\n",
              "          await google.colab.output.renderOutput(dataTable, element);\n",
              "          const docLink = document.createElement('div');\n",
              "          docLink.innerHTML = docLinkHtml;\n",
              "          element.appendChild(docLink);\n",
              "        }\n",
              "      </script>\n",
              "    </div>\n",
              "  </div>\n",
              "  "
            ]
          },
          "metadata": {},
          "execution_count": 35
        }
      ]
    },
    {
      "cell_type": "markdown",
      "source": [
        "## Exploratory Data Analysis"
      ],
      "metadata": {
        "id": "0iRdypfTFgbO"
      }
    },
    {
      "cell_type": "code",
      "source": [
        "Figure(figsize=(10,8))\n",
        "sns.countplot(x = 'home_score', data= football)\n",
        "plt.show()"
      ],
      "metadata": {
        "id": "9_6bTTeZE7aK",
        "outputId": "de026397-e5b0-4b91-fa19-417263a0c9c8",
        "colab": {
          "base_uri": "https://localhost:8080/",
          "height": 280
        }
      },
      "execution_count": 36,
      "outputs": [
        {
          "output_type": "display_data",
          "data": {
            "text/plain": [
              "<Figure size 432x288 with 1 Axes>"
            ],
            "image/png": "[encoded data removed]"
          },
          "metadata": {
            "needs_background": "light"
          }
        }
      ]
    },
    {
      "cell_type": "code",
      "source": [
        "sns.countplot(x = 'away_score', data= football)\n",
        "plt.show()"
      ],
      "metadata": {
        "id": "hjxZDix6FqYp",
        "outputId": "510e624e-487e-46b1-9a44-0f5ab26a8f3b",
        "colab": {
          "base_uri": "https://localhost:8080/",
          "height": 278
        }
      },
      "execution_count": 37,
      "outputs": [
        {
          "output_type": "display_data",
          "data": {
            "text/plain": [
              "<Figure size 432x288 with 1 Axes>"
            ],
            "image/png": "[encoded data removed]"
          },
          "metadata": {
            "needs_background": "light"
          }
        }
      ]
    },
    {
      "cell_type": "markdown",
      "source": [
        "Both home scores and away scores ranges between 0 and 9, with frequent scores being 0, 1,2"
      ],
      "metadata": {
        "id": "h1_rLyoEgYIa"
      }
    },
    {
      "cell_type": "markdown",
      "source": [
        "### Feature Engineering"
      ],
      "metadata": {
        "id": "5eGxn7UIIsd_"
      }
    },
    {
      "cell_type": "code",
      "source": [
        "# tournament\n",
        "football['tournament'].nunique()"
      ],
      "metadata": {
        "id": "FyQaTlIUIaY8",
        "outputId": "5310a9d6-731f-4414-bac9-88afc502d877",
        "colab": {
          "base_uri": "https://localhost:8080/"
        }
      },
      "execution_count": 38,
      "outputs": [
        {
          "output_type": "execute_result",
          "data": {
            "text/plain": [
              "65"
            ]
          },
          "metadata": {},
          "execution_count": 38
        }
      ]
    },
    {
      "cell_type": "markdown",
      "source": [
        "There are 65 tournaments, but we want to group them to 3, namely: Fifa worldcup, friendly and other"
      ],
      "metadata": {
        "id": "N5f5tVr5H3Vu"
      }
    },
    {
      "cell_type": "code",
      "source": [
        "# grouping the tournament\n",
        "def tournament(tournament):\n",
        "  if tournament == 'FIFA World Cup qualification':\n",
        "    return 'FIFA World Cup'\n",
        "  elif tournament == 'Friendly':\n",
        "    return 'Friendly'\n",
        "  else:\n",
        "    return 'Other'\n",
        "\n",
        "# apply\n",
        "football['tournament_type'] = football['tournament'].apply(lambda t: tournament(t))"
      ],
      "metadata": {
        "id": "TXQaletPIle3"
      },
      "execution_count": 39,
      "outputs": []
    },
    {
      "cell_type": "code",
      "source": [
        "# drop the original tournament column, to remain with the new column tournament type\n",
        "football.drop(columns = ['tournament'], axis = 1, inplace = True)"
      ],
      "metadata": {
        "id": "E7Dfab7sYf7g"
      },
      "execution_count": 41,
      "outputs": []
    },
    {
      "cell_type": "markdown",
      "source": [
        "We now have three types of tournaments"
      ],
      "metadata": {
        "id": "g7tmdGQSJ_Uk"
      }
    },
    {
      "cell_type": "code",
      "source": [
        "# goal difference column\n",
        "football['goal_difference'] = football['home_score'] - football['away_score']\n",
        "football.sample(5)"
      ],
      "metadata": {
        "id": "Ij1pCvNvJ7so",
        "outputId": "8ce12fbc-b46f-43e7-c20d-e4770bcb9c0e",
        "colab": {
          "base_uri": "https://localhost:8080/",
          "height": 304
        }
      },
      "execution_count": 42,
      "outputs": [
        {
          "output_type": "execute_result",
          "data": {
            "text/plain": [
              "      home_team     away_team  home_score  away_score        country  year  \\\n",
              "13180     Italy       Moldova           2           1          Italy  2005   \n",
              "13574   Algeria  Burkina Faso           0           0         France  2006   \n",
              "12658  Cameroon         Sudan           2           1       Cameroon  2005   \n",
              "17401    Russia    Azerbaijan           2           0         Russia  2009   \n",
              "6821     Mexico       Ecuador           2           0  United States  2000   \n",
              "\n",
              "       month  home_rank  total_points  previous_points  away_rank  \\\n",
              "13180     10         12           0.0              725        108   \n",
              "13574      2         81           0.0              522         87   \n",
              "12658      3         25           0.0              675        107   \n",
              "17401      3          8           0.0             1119        134   \n",
              "6821       9         13           0.0              688         60   \n",
              "\n",
              "      tournament_type  goal_difference  \n",
              "13180  FIFA World Cup                1  \n",
              "13574        Friendly                0  \n",
              "12658  FIFA World Cup                1  \n",
              "17401  FIFA World Cup                2  \n",
              "6821         Friendly                2  "
            ],
            "text/html": [
              "\n",
              "  <div id=\"df-76ce0f1e-3e05-43b9-97ad-0879235c1905\">\n",
              "    <div class=\"colab-df-container\">\n",
              "      <div>\n",
              "<style scoped>\n",
              "    .dataframe tbody tr th:only-of-type {\n",
              "        vertical-align: middle;\n",
              "    }\n",
              "\n",
              "    .dataframe tbody tr th {\n",
              "        vertical-align: top;\n",
              "    }\n",
              "\n",
              "    .dataframe thead th {\n",
              "        text-align: right;\n",
              "    }\n",
              "</style>\n",
              "<table border=\"1\" class=\"dataframe\">\n",
              "  <thead>\n",
              "    <tr style=\"text-align: right;\">\n",
              "      <th></th>\n",
              "      <th>home_team</th>\n",
              "      <th>away_team</th>\n",
              "      <th>home_score</th>\n",
              "      <th>away_score</th>\n",
              "      <th>country</th>\n",
              "      <th>year</th>\n",
              "      <th>month</th>\n",
              "      <th>home_rank</th>\n",
              "      <th>total_points</th>\n",
              "      <th>previous_points</th>\n",
              "      <th>away_rank</th>\n",
              "      <th>tournament_type</th>\n",
              "      <th>goal_difference</th>\n",
              "    </tr>\n",
              "  </thead>\n",
              "  <tbody>\n",
              "    <tr>\n",
              "      <th>13180</th>\n",
              "      <td>Italy</td>\n",
              "      <td>Moldova</td>\n",
              "      <td>2</td>\n",
              "      <td>1</td>\n",
              "      <td>Italy</td>\n",
              "      <td>2005</td>\n",
              "      <td>10</td>\n",
              "      <td>12</td>\n",
              "      <td>0.0</td>\n",
              "      <td>725</td>\n",
              "      <td>108</td>\n",
              "      <td>FIFA World Cup</td>\n",
              "      <td>1</td>\n",
              "    </tr>\n",
              "    <tr>\n",
              "      <th>13574</th>\n",
              "      <td>Algeria</td>\n",
              "      <td>Burkina Faso</td>\n",
              "      <td>0</td>\n",
              "      <td>0</td>\n",
              "      <td>France</td>\n",
              "      <td>2006</td>\n",
              "      <td>2</td>\n",
              "      <td>81</td>\n",
              "      <td>0.0</td>\n",
              "      <td>522</td>\n",
              "      <td>87</td>\n",
              "      <td>Friendly</td>\n",
              "      <td>0</td>\n",
              "    </tr>\n",
              "    <tr>\n",
              "      <th>12658</th>\n",
              "      <td>Cameroon</td>\n",
              "      <td>Sudan</td>\n",
              "      <td>2</td>\n",
              "      <td>1</td>\n",
              "      <td>Cameroon</td>\n",
              "      <td>2005</td>\n",
              "      <td>3</td>\n",
              "      <td>25</td>\n",
              "      <td>0.0</td>\n",
              "      <td>675</td>\n",
              "      <td>107</td>\n",
              "      <td>FIFA World Cup</td>\n",
              "      <td>1</td>\n",
              "    </tr>\n",
              "    <tr>\n",
              "      <th>17401</th>\n",
              "      <td>Russia</td>\n",
              "      <td>Azerbaijan</td>\n",
              "      <td>2</td>\n",
              "      <td>0</td>\n",
              "      <td>Russia</td>\n",
              "      <td>2009</td>\n",
              "      <td>3</td>\n",
              "      <td>8</td>\n",
              "      <td>0.0</td>\n",
              "      <td>1119</td>\n",
              "      <td>134</td>\n",
              "      <td>FIFA World Cup</td>\n",
              "      <td>2</td>\n",
              "    </tr>\n",
              "    <tr>\n",
              "      <th>6821</th>\n",
              "      <td>Mexico</td>\n",
              "      <td>Ecuador</td>\n",
              "      <td>2</td>\n",
              "      <td>0</td>\n",
              "      <td>United States</td>\n",
              "      <td>2000</td>\n",
              "      <td>9</td>\n",
              "      <td>13</td>\n",
              "      <td>0.0</td>\n",
              "      <td>688</td>\n",
              "      <td>60</td>\n",
              "      <td>Friendly</td>\n",
              "      <td>2</td>\n",
              "    </tr>\n",
              "  </tbody>\n",
              "</table>\n",
              "</div>\n",
              "      <button class=\"colab-df-convert\" onclick=\"convertToInteractive('df-76ce0f1e-3e05-43b9-97ad-0879235c1905')\"\n",
              "              title=\"Convert this dataframe to an interactive table.\"\n",
              "              style=\"display:none;\">\n",
              "        \n",
              "  <svg xmlns=\"http://www.w3.org/2000/svg\" height=\"24px\"viewBox=\"0 0 24 24\"\n",
              "       width=\"24px\">\n",
              "    <path d=\"M0 0h24v24H0V0z\" fill=\"none\"/>\n",
              "    <path d=\"M18.56 5.44l.94 2.06.94-2.06 2.06-.94-2.06-.94-.94-2.06-.94 2.06-2.06.94zm-11 1L8.5 8.5l.94-2.06 2.06-.94-2.06-.94L8.5 2.5l-.94 2.06-2.06.94zm10 10l.94 2.06.94-2.06 2.06-.94-2.06-.94-.94-2.06-.94 2.06-2.06.94z\"/><path d=\"M17.41 7.96l-1.37-1.37c-.4-.4-.92-.59-1.43-.59-.52 0-1.04.2-1.43.59L10.3 9.45l-7.72 7.72c-.78.78-.78 2.05 0 2.83L4 21.41c.39.39.9.59 1.41.59.51 0 1.02-.2 1.41-.59l7.78-7.78 2.81-2.81c.8-.78.8-2.07 0-2.86zM5.41 20L4 18.59l7.72-7.72 1.47 1.35L5.41 20z\"/>\n",
              "  </svg>\n",
              "      </button>\n",
              "      \n",
              "  <style>\n",
              "    .colab-df-container {\n",
              "      display:flex;\n",
              "      flex-wrap:wrap;\n",
              "      gap: 12px;\n",
              "    }\n",
              "\n",
              "    .colab-df-convert {\n",
              "      background-color: #E8F0FE;\n",
              "      border: none;\n",
              "      border-radius: 50%;\n",
              "      cursor: pointer;\n",
              "      display: none;\n",
              "      fill: #1967D2;\n",
              "      height: 32px;\n",
              "      padding: 0 0 0 0;\n",
              "      width: 32px;\n",
              "    }\n",
              "\n",
              "    .colab-df-convert:hover {\n",
              "      background-color: #E2EBFA;\n",
              "      box-shadow: 0px 1px 2px rgba(60, 64, 67, 0.3), 0px 1px 3px 1px rgba(60, 64, 67, 0.15);\n",
              "      fill: #174EA6;\n",
              "    }\n",
              "\n",
              "    [theme=dark] .colab-df-convert {\n",
              "      background-color: #3B4455;\n",
              "      fill: #D2E3FC;\n",
              "    }\n",
              "\n",
              "    [theme=dark] .colab-df-convert:hover {\n",
              "      background-color: #434B5C;\n",
              "      box-shadow: 0px 1px 3px 1px rgba(0, 0, 0, 0.15);\n",
              "      filter: drop-shadow(0px 1px 2px rgba(0, 0, 0, 0.3));\n",
              "      fill: #FFFFFF;\n",
              "    }\n",
              "  </style>\n",
              "\n",
              "      <script>\n",
              "        const buttonEl =\n",
              "          document.querySelector('#df-76ce0f1e-3e05-43b9-97ad-0879235c1905 button.colab-df-convert');\n",
              "        buttonEl.style.display =\n",
              "          google.colab.kernel.accessAllowed ? 'block' : 'none';\n",
              "\n",
              "        async function convertToInteractive(key) {\n",
              "          const element = document.querySelector('#df-76ce0f1e-3e05-43b9-97ad-0879235c1905');\n",
              "          const dataTable =\n",
              "            await google.colab.kernel.invokeFunction('convertToInteractive',\n",
              "                                                     [key], {});\n",
              "          if (!dataTable) return;\n",
              "\n",
              "          const docLinkHtml = 'Like what you see? Visit the ' +\n",
              "            '<a target=\"_blank\" href=https://colab.research.google.com/notebooks/data_table.ipynb>data table notebook</a>'\n",
              "            + ' to learn more about interactive tables.';\n",
              "          element.innerHTML = '';\n",
              "          dataTable['output_type'] = 'display_data';\n",
              "          await google.colab.output.renderOutput(dataTable, element);\n",
              "          const docLink = document.createElement('div');\n",
              "          docLink.innerHTML = docLinkHtml;\n",
              "          element.appendChild(docLink);\n",
              "        }\n",
              "      </script>\n",
              "    </div>\n",
              "  </div>\n",
              "  "
            ]
          },
          "metadata": {},
          "execution_count": 42
        }
      ]
    },
    {
      "cell_type": "code",
      "source": [
        "# column that determines if the match ended with a win, draw or lose\n",
        "def home_team(scores):\n",
        "  if scores == 0:\n",
        "    return 'Draw'\n",
        "  elif scores > 0:\n",
        "    return 'Win'\n",
        "  else:\n",
        "    return 'Lose'\n",
        "\n",
        "football['match_outcome'] = football['goal_difference'].apply(lambda d: home_team(d))"
      ],
      "metadata": {
        "id": "9LdeusT3KmZk"
      },
      "execution_count": 43,
      "outputs": []
    },
    {
      "cell_type": "code",
      "source": [
        "football.sample(3)"
      ],
      "metadata": {
        "id": "e7iRMqhgLuBg",
        "outputId": "ff92f47c-e648-464d-e528-157cfcfce7ae",
        "colab": {
          "base_uri": "https://localhost:8080/",
          "height": 207
        }
      },
      "execution_count": 44,
      "outputs": [
        {
          "output_type": "execute_result",
          "data": {
            "text/plain": [
              "      home_team  away_team  home_score  away_score country  year  month  \\\n",
              "442       Chile  Argentina           3           3   Chile  1994      5   \n",
              "6194      Italy   Portugal           2           0   Italy  2000      4   \n",
              "14640     Italy   Scotland           2           0   Italy  2007      3   \n",
              "\n",
              "       home_rank  total_points  previous_points  away_rank tournament_type  \\\n",
              "442           40           0.0               34          6        Friendly   \n",
              "6194          14           0.0              681         15        Friendly   \n",
              "14640          2           0.0             1562         16           Other   \n",
              "\n",
              "       goal_difference match_outcome  \n",
              "442                  0          Draw  \n",
              "6194                 2           Win  \n",
              "14640                2           Win  "
            ],
            "text/html": [
              "\n",
              "  <div id=\"df-24a46274-fbda-4ee0-bbf9-233698f68428\">\n",
              "    <div class=\"colab-df-container\">\n",
              "      <div>\n",
              "<style scoped>\n",
              "    .dataframe tbody tr th:only-of-type {\n",
              "        vertical-align: middle;\n",
              "    }\n",
              "\n",
              "    .dataframe tbody tr th {\n",
              "        vertical-align: top;\n",
              "    }\n",
              "\n",
              "    .dataframe thead th {\n",
              "        text-align: right;\n",
              "    }\n",
              "</style>\n",
              "<table border=\"1\" class=\"dataframe\">\n",
              "  <thead>\n",
              "    <tr style=\"text-align: right;\">\n",
              "      <th></th>\n",
              "      <th>home_team</th>\n",
              "      <th>away_team</th>\n",
              "      <th>home_score</th>\n",
              "      <th>away_score</th>\n",
              "      <th>country</th>\n",
              "      <th>year</th>\n",
              "      <th>month</th>\n",
              "      <th>home_rank</th>\n",
              "      <th>total_points</th>\n",
              "      <th>previous_points</th>\n",
              "      <th>away_rank</th>\n",
              "      <th>tournament_type</th>\n",
              "      <th>goal_difference</th>\n",
              "      <th>match_outcome</th>\n",
              "    </tr>\n",
              "  </thead>\n",
              "  <tbody>\n",
              "    <tr>\n",
              "      <th>442</th>\n",
              "      <td>Chile</td>\n",
              "      <td>Argentina</td>\n",
              "      <td>3</td>\n",
              "      <td>3</td>\n",
              "      <td>Chile</td>\n",
              "      <td>1994</td>\n",
              "      <td>5</td>\n",
              "      <td>40</td>\n",
              "      <td>0.0</td>\n",
              "      <td>34</td>\n",
              "      <td>6</td>\n",
              "      <td>Friendly</td>\n",
              "      <td>0</td>\n",
              "      <td>Draw</td>\n",
              "    </tr>\n",
              "    <tr>\n",
              "      <th>6194</th>\n",
              "      <td>Italy</td>\n",
              "      <td>Portugal</td>\n",
              "      <td>2</td>\n",
              "      <td>0</td>\n",
              "      <td>Italy</td>\n",
              "      <td>2000</td>\n",
              "      <td>4</td>\n",
              "      <td>14</td>\n",
              "      <td>0.0</td>\n",
              "      <td>681</td>\n",
              "      <td>15</td>\n",
              "      <td>Friendly</td>\n",
              "      <td>2</td>\n",
              "      <td>Win</td>\n",
              "    </tr>\n",
              "    <tr>\n",
              "      <th>14640</th>\n",
              "      <td>Italy</td>\n",
              "      <td>Scotland</td>\n",
              "      <td>2</td>\n",
              "      <td>0</td>\n",
              "      <td>Italy</td>\n",
              "      <td>2007</td>\n",
              "      <td>3</td>\n",
              "      <td>2</td>\n",
              "      <td>0.0</td>\n",
              "      <td>1562</td>\n",
              "      <td>16</td>\n",
              "      <td>Other</td>\n",
              "      <td>2</td>\n",
              "      <td>Win</td>\n",
              "    </tr>\n",
              "  </tbody>\n",
              "</table>\n",
              "</div>\n",
              "      <button class=\"colab-df-convert\" onclick=\"convertToInteractive('df-24a46274-fbda-4ee0-bbf9-233698f68428')\"\n",
              "              title=\"Convert this dataframe to an interactive table.\"\n",
              "              style=\"display:none;\">\n",
              "        \n",
              "  <svg xmlns=\"http://www.w3.org/2000/svg\" height=\"24px\"viewBox=\"0 0 24 24\"\n",
              "       width=\"24px\">\n",
              "    <path d=\"M0 0h24v24H0V0z\" fill=\"none\"/>\n",
              "    <path d=\"M18.56 5.44l.94 2.06.94-2.06 2.06-.94-2.06-.94-.94-2.06-.94 2.06-2.06.94zm-11 1L8.5 8.5l.94-2.06 2.06-.94-2.06-.94L8.5 2.5l-.94 2.06-2.06.94zm10 10l.94 2.06.94-2.06 2.06-.94-2.06-.94-.94-2.06-.94 2.06-2.06.94z\"/><path d=\"M17.41 7.96l-1.37-1.37c-.4-.4-.92-.59-1.43-.59-.52 0-1.04.2-1.43.59L10.3 9.45l-7.72 7.72c-.78.78-.78 2.05 0 2.83L4 21.41c.39.39.9.59 1.41.59.51 0 1.02-.2 1.41-.59l7.78-7.78 2.81-2.81c.8-.78.8-2.07 0-2.86zM5.41 20L4 18.59l7.72-7.72 1.47 1.35L5.41 20z\"/>\n",
              "  </svg>\n",
              "      </button>\n",
              "      \n",
              "  <style>\n",
              "    .colab-df-container {\n",
              "      display:flex;\n",
              "      flex-wrap:wrap;\n",
              "      gap: 12px;\n",
              "    }\n",
              "\n",
              "    .colab-df-convert {\n",
              "      background-color: #E8F0FE;\n",
              "      border: none;\n",
              "      border-radius: 50%;\n",
              "      cursor: pointer;\n",
              "      display: none;\n",
              "      fill: #1967D2;\n",
              "      height: 32px;\n",
              "      padding: 0 0 0 0;\n",
              "      width: 32px;\n",
              "    }\n",
              "\n",
              "    .colab-df-convert:hover {\n",
              "      background-color: #E2EBFA;\n",
              "      box-shadow: 0px 1px 2px rgba(60, 64, 67, 0.3), 0px 1px 3px 1px rgba(60, 64, 67, 0.15);\n",
              "      fill: #174EA6;\n",
              "    }\n",
              "\n",
              "    [theme=dark] .colab-df-convert {\n",
              "      background-color: #3B4455;\n",
              "      fill: #D2E3FC;\n",
              "    }\n",
              "\n",
              "    [theme=dark] .colab-df-convert:hover {\n",
              "      background-color: #434B5C;\n",
              "      box-shadow: 0px 1px 3px 1px rgba(0, 0, 0, 0.15);\n",
              "      filter: drop-shadow(0px 1px 2px rgba(0, 0, 0, 0.3));\n",
              "      fill: #FFFFFF;\n",
              "    }\n",
              "  </style>\n",
              "\n",
              "      <script>\n",
              "        const buttonEl =\n",
              "          document.querySelector('#df-24a46274-fbda-4ee0-bbf9-233698f68428 button.colab-df-convert');\n",
              "        buttonEl.style.display =\n",
              "          google.colab.kernel.accessAllowed ? 'block' : 'none';\n",
              "\n",
              "        async function convertToInteractive(key) {\n",
              "          const element = document.querySelector('#df-24a46274-fbda-4ee0-bbf9-233698f68428');\n",
              "          const dataTable =\n",
              "            await google.colab.kernel.invokeFunction('convertToInteractive',\n",
              "                                                     [key], {});\n",
              "          if (!dataTable) return;\n",
              "\n",
              "          const docLinkHtml = 'Like what you see? Visit the ' +\n",
              "            '<a target=\"_blank\" href=https://colab.research.google.com/notebooks/data_table.ipynb>data table notebook</a>'\n",
              "            + ' to learn more about interactive tables.';\n",
              "          element.innerHTML = '';\n",
              "          dataTable['output_type'] = 'display_data';\n",
              "          await google.colab.output.renderOutput(dataTable, element);\n",
              "          const docLink = document.createElement('div');\n",
              "          docLink.innerHTML = docLinkHtml;\n",
              "          element.appendChild(docLink);\n",
              "        }\n",
              "      </script>\n",
              "    </div>\n",
              "  </div>\n",
              "  "
            ]
          },
          "metadata": {},
          "execution_count": 44
        }
      ]
    },
    {
      "cell_type": "markdown",
      "source": [
        "## Multicollinearity"
      ],
      "metadata": {
        "id": "l42-tZI9M2V1"
      }
    },
    {
      "cell_type": "markdown",
      "source": [
        "Multicollinearity occurs when two or more independent variables are highly correlated with one another in a regression model.\n",
        "\n",
        "This means that an independent variable can be predicted from another independent variable in a regression model.\n",
        "\n",
        "Multicollinearity can be a problem in a regression model because we would not be able to distinguish between the individual effects of the independent variables on the dependent variable. "
      ],
      "metadata": {
        "id": "d02c1M3NTfXq"
      }
    },
    {
      "cell_type": "markdown",
      "source": [
        "## Detecting multicollinearity using pearsonn's correlation"
      ],
      "metadata": {
        "id": "oqhHT3CMT1tM"
      }
    },
    {
      "cell_type": "code",
      "source": [
        "# pearsonn's square to draw collinearity between variables\n",
        "correlations = football.corr()\n",
        "correlations"
      ],
      "metadata": {
        "id": "2LfYr0_CL6JH",
        "outputId": "cb776088-5955-484e-bf68-04c91be0c5d6",
        "colab": {
          "base_uri": "https://localhost:8080/",
          "height": 331
        }
      },
      "execution_count": 45,
      "outputs": [
        {
          "output_type": "execute_result",
          "data": {
            "text/plain": [
              "                 home_score  away_score      year     month  home_rank  \\\n",
              "home_score         1.000000   -0.161033 -0.052214  0.020218  -0.114510   \n",
              "away_score        -0.161033    1.000000 -0.012372  0.019419   0.221365   \n",
              "year              -0.052214   -0.012372  1.000000 -0.008268   0.091889   \n",
              "month              0.020218    0.019419 -0.008268  1.000000   0.067434   \n",
              "home_rank         -0.114510    0.221365  0.091889  0.067434   1.000000   \n",
              "total_points       0.012154   -0.061949  0.624147  0.011014  -0.299439   \n",
              "previous_points    0.069234   -0.130760  0.408979 -0.068743  -0.652942   \n",
              "away_rank          0.307728   -0.151487  0.091281  0.068120   0.515308   \n",
              "goal_difference    0.824708   -0.690983 -0.031154  0.003681  -0.210721   \n",
              "\n",
              "                 total_points  previous_points  away_rank  goal_difference  \n",
              "home_score           0.012154         0.069234   0.307728         0.824708  \n",
              "away_score          -0.061949        -0.130760  -0.151487        -0.690983  \n",
              "year                 0.624147         0.408979   0.091281        -0.031154  \n",
              "month                0.011014        -0.068743   0.068120         0.003681  \n",
              "home_rank           -0.299439        -0.652942   0.515308        -0.210721  \n",
              "total_points         1.000000         0.546987  -0.147924         0.044401  \n",
              "previous_points      0.546987         1.000000  -0.310923         0.125640  \n",
              "away_rank           -0.147924        -0.310923   1.000000         0.312198  \n",
              "goal_difference      0.044401         0.125640   0.312198         1.000000  "
            ],
            "text/html": [
              "\n",
              "  <div id=\"df-a3b31f9c-d7b7-481c-93d9-43177b9f506b\">\n",
              "    <div class=\"colab-df-container\">\n",
              "      <div>\n",
              "<style scoped>\n",
              "    .dataframe tbody tr th:only-of-type {\n",
              "        vertical-align: middle;\n",
              "    }\n",
              "\n",
              "    .dataframe tbody tr th {\n",
              "        vertical-align: top;\n",
              "    }\n",
              "\n",
              "    .dataframe thead th {\n",
              "        text-align: right;\n",
              "    }\n",
              "</style>\n",
              "<table border=\"1\" class=\"dataframe\">\n",
              "  <thead>\n",
              "    <tr style=\"text-align: right;\">\n",
              "      <th></th>\n",
              "      <th>home_score</th>\n",
              "      <th>away_score</th>\n",
              "      <th>year</th>\n",
              "      <th>month</th>\n",
              "      <th>home_rank</th>\n",
              "      <th>total_points</th>\n",
              "      <th>previous_points</th>\n",
              "      <th>away_rank</th>\n",
              "      <th>goal_difference</th>\n",
              "    </tr>\n",
              "  </thead>\n",
              "  <tbody>\n",
              "    <tr>\n",
              "      <th>home_score</th>\n",
              "      <td>1.000000</td>\n",
              "      <td>-0.161033</td>\n",
              "      <td>-0.052214</td>\n",
              "      <td>0.020218</td>\n",
              "      <td>-0.114510</td>\n",
              "      <td>0.012154</td>\n",
              "      <td>0.069234</td>\n",
              "      <td>0.307728</td>\n",
              "      <td>0.824708</td>\n",
              "    </tr>\n",
              "    <tr>\n",
              "      <th>away_score</th>\n",
              "      <td>-0.161033</td>\n",
              "      <td>1.000000</td>\n",
              "      <td>-0.012372</td>\n",
              "      <td>0.019419</td>\n",
              "      <td>0.221365</td>\n",
              "      <td>-0.061949</td>\n",
              "      <td>-0.130760</td>\n",
              "      <td>-0.151487</td>\n",
              "      <td>-0.690983</td>\n",
              "    </tr>\n",
              "    <tr>\n",
              "      <th>year</th>\n",
              "      <td>-0.052214</td>\n",
              "      <td>-0.012372</td>\n",
              "      <td>1.000000</td>\n",
              "      <td>-0.008268</td>\n",
              "      <td>0.091889</td>\n",
              "      <td>0.624147</td>\n",
              "      <td>0.408979</td>\n",
              "      <td>0.091281</td>\n",
              "      <td>-0.031154</td>\n",
              "    </tr>\n",
              "    <tr>\n",
              "      <th>month</th>\n",
              "      <td>0.020218</td>\n",
              "      <td>0.019419</td>\n",
              "      <td>-0.008268</td>\n",
              "      <td>1.000000</td>\n",
              "      <td>0.067434</td>\n",
              "      <td>0.011014</td>\n",
              "      <td>-0.068743</td>\n",
              "      <td>0.068120</td>\n",
              "      <td>0.003681</td>\n",
              "    </tr>\n",
              "    <tr>\n",
              "      <th>home_rank</th>\n",
              "      <td>-0.114510</td>\n",
              "      <td>0.221365</td>\n",
              "      <td>0.091889</td>\n",
              "      <td>0.067434</td>\n",
              "      <td>1.000000</td>\n",
              "      <td>-0.299439</td>\n",
              "      <td>-0.652942</td>\n",
              "      <td>0.515308</td>\n",
              "      <td>-0.210721</td>\n",
              "    </tr>\n",
              "    <tr>\n",
              "      <th>total_points</th>\n",
              "      <td>0.012154</td>\n",
              "      <td>-0.061949</td>\n",
              "      <td>0.624147</td>\n",
              "      <td>0.011014</td>\n",
              "      <td>-0.299439</td>\n",
              "      <td>1.000000</td>\n",
              "      <td>0.546987</td>\n",
              "      <td>-0.147924</td>\n",
              "      <td>0.044401</td>\n",
              "    </tr>\n",
              "    <tr>\n",
              "      <th>previous_points</th>\n",
              "      <td>0.069234</td>\n",
              "      <td>-0.130760</td>\n",
              "      <td>0.408979</td>\n",
              "      <td>-0.068743</td>\n",
              "      <td>-0.652942</td>\n",
              "      <td>0.546987</td>\n",
              "      <td>1.000000</td>\n",
              "      <td>-0.310923</td>\n",
              "      <td>0.125640</td>\n",
              "    </tr>\n",
              "    <tr>\n",
              "      <th>away_rank</th>\n",
              "      <td>0.307728</td>\n",
              "      <td>-0.151487</td>\n",
              "      <td>0.091281</td>\n",
              "      <td>0.068120</td>\n",
              "      <td>0.515308</td>\n",
              "      <td>-0.147924</td>\n",
              "      <td>-0.310923</td>\n",
              "      <td>1.000000</td>\n",
              "      <td>0.312198</td>\n",
              "    </tr>\n",
              "    <tr>\n",
              "      <th>goal_difference</th>\n",
              "      <td>0.824708</td>\n",
              "      <td>-0.690983</td>\n",
              "      <td>-0.031154</td>\n",
              "      <td>0.003681</td>\n",
              "      <td>-0.210721</td>\n",
              "      <td>0.044401</td>\n",
              "      <td>0.125640</td>\n",
              "      <td>0.312198</td>\n",
              "      <td>1.000000</td>\n",
              "    </tr>\n",
              "  </tbody>\n",
              "</table>\n",
              "</div>\n",
              "      <button class=\"colab-df-convert\" onclick=\"convertToInteractive('df-a3b31f9c-d7b7-481c-93d9-43177b9f506b')\"\n",
              "              title=\"Convert this dataframe to an interactive table.\"\n",
              "              style=\"display:none;\">\n",
              "        \n",
              "  <svg xmlns=\"http://www.w3.org/2000/svg\" height=\"24px\"viewBox=\"0 0 24 24\"\n",
              "       width=\"24px\">\n",
              "    <path d=\"M0 0h24v24H0V0z\" fill=\"none\"/>\n",
              "    <path d=\"M18.56 5.44l.94 2.06.94-2.06 2.06-.94-2.06-.94-.94-2.06-.94 2.06-2.06.94zm-11 1L8.5 8.5l.94-2.06 2.06-.94-2.06-.94L8.5 2.5l-.94 2.06-2.06.94zm10 10l.94 2.06.94-2.06 2.06-.94-2.06-.94-.94-2.06-.94 2.06-2.06.94z\"/><path d=\"M17.41 7.96l-1.37-1.37c-.4-.4-.92-.59-1.43-.59-.52 0-1.04.2-1.43.59L10.3 9.45l-7.72 7.72c-.78.78-.78 2.05 0 2.83L4 21.41c.39.39.9.59 1.41.59.51 0 1.02-.2 1.41-.59l7.78-7.78 2.81-2.81c.8-.78.8-2.07 0-2.86zM5.41 20L4 18.59l7.72-7.72 1.47 1.35L5.41 20z\"/>\n",
              "  </svg>\n",
              "      </button>\n",
              "      \n",
              "  <style>\n",
              "    .colab-df-container {\n",
              "      display:flex;\n",
              "      flex-wrap:wrap;\n",
              "      gap: 12px;\n",
              "    }\n",
              "\n",
              "    .colab-df-convert {\n",
              "      background-color: #E8F0FE;\n",
              "      border: none;\n",
              "      border-radius: 50%;\n",
              "      cursor: pointer;\n",
              "      display: none;\n",
              "      fill: #1967D2;\n",
              "      height: 32px;\n",
              "      padding: 0 0 0 0;\n",
              "      width: 32px;\n",
              "    }\n",
              "\n",
              "    .colab-df-convert:hover {\n",
              "      background-color: #E2EBFA;\n",
              "      box-shadow: 0px 1px 2px rgba(60, 64, 67, 0.3), 0px 1px 3px 1px rgba(60, 64, 67, 0.15);\n",
              "      fill: #174EA6;\n",
              "    }\n",
              "\n",
              "    [theme=dark] .colab-df-convert {\n",
              "      background-color: #3B4455;\n",
              "      fill: #D2E3FC;\n",
              "    }\n",
              "\n",
              "    [theme=dark] .colab-df-convert:hover {\n",
              "      background-color: #434B5C;\n",
              "      box-shadow: 0px 1px 3px 1px rgba(0, 0, 0, 0.15);\n",
              "      filter: drop-shadow(0px 1px 2px rgba(0, 0, 0, 0.3));\n",
              "      fill: #FFFFFF;\n",
              "    }\n",
              "  </style>\n",
              "\n",
              "      <script>\n",
              "        const buttonEl =\n",
              "          document.querySelector('#df-a3b31f9c-d7b7-481c-93d9-43177b9f506b button.colab-df-convert');\n",
              "        buttonEl.style.display =\n",
              "          google.colab.kernel.accessAllowed ? 'block' : 'none';\n",
              "\n",
              "        async function convertToInteractive(key) {\n",
              "          const element = document.querySelector('#df-a3b31f9c-d7b7-481c-93d9-43177b9f506b');\n",
              "          const dataTable =\n",
              "            await google.colab.kernel.invokeFunction('convertToInteractive',\n",
              "                                                     [key], {});\n",
              "          if (!dataTable) return;\n",
              "\n",
              "          const docLinkHtml = 'Like what you see? Visit the ' +\n",
              "            '<a target=\"_blank\" href=https://colab.research.google.com/notebooks/data_table.ipynb>data table notebook</a>'\n",
              "            + ' to learn more about interactive tables.';\n",
              "          element.innerHTML = '';\n",
              "          dataTable['output_type'] = 'display_data';\n",
              "          await google.colab.output.renderOutput(dataTable, element);\n",
              "          const docLink = document.createElement('div');\n",
              "          docLink.innerHTML = docLinkHtml;\n",
              "          element.appendChild(docLink);\n",
              "        }\n",
              "      </script>\n",
              "    </div>\n",
              "  </div>\n",
              "  "
            ]
          },
          "metadata": {},
          "execution_count": 45
        }
      ]
    },
    {
      "cell_type": "code",
      "source": [
        "# visualize the correlations\n",
        "Figure(figsize = (12, 10))\n",
        "\n",
        "mask = np.zeros_like(football.corr(), dtype=np.bool)\n",
        "mask[np.triu_indices_from(mask)] = True\n",
        "sns.heatmap(football.corr(), annot =True, mask = mask)\n",
        "plt.show()"
      ],
      "metadata": {
        "id": "1cz7xi6qM8AU",
        "outputId": "c1943f60-3e47-40ad-d235-8c1f6fd5182d",
        "colab": {
          "base_uri": "https://localhost:8080/",
          "height": 408
        }
      },
      "execution_count": 46,
      "outputs": [
        {
          "output_type": "stream",
          "name": "stderr",
          "text": [
            "/usr/local/lib/python3.7/dist-packages/ipykernel_launcher.py:4: DeprecationWarning: `np.bool` is a deprecated alias for the builtin `bool`. To silence this warning, use `bool` by itself. Doing this will not modify any behavior and is safe. If you specifically wanted the numpy scalar type, use `np.bool_` here.\n",
            "Deprecated in NumPy 1.20; for more details and guidance: https://numpy.org/devdocs/release/1.20.0-notes.html#deprecations\n",
            "  after removing the cwd from sys.path.\n"
          ]
        },
        {
          "output_type": "display_data",
          "data": {
            "text/plain": [
              "<Figure size 432x288 with 2 Axes>"
            ],
            "image/png": "[encoded data removed]"
          },
          "metadata": {
            "needs_background": "light"
          }
        }
      ]
    },
    {
      "cell_type": "markdown",
      "source": [
        "## Detecting multicollinearity using Variance Inflation Factor(VIF) score\n",
        "VIF score of an independent variable represents how well the variable is explained by other independent variables\n",
        "\n",
        "*  VIF = 1, no correlation between the independent variable and the other variables\n",
        "*  VIF exceeding 5 or 10 indicates high multicollinearity between this independent variable and the others\n",
        "\n",
        "## Fixing multicollinearity\n",
        "Dropping one of the correlated features will help in bringing down the multicollinearity between correlated features:\n",
        "\n",
        "\n",
        "\n"
      ],
      "metadata": {
        "id": "EBZfCDZDRUd5"
      }
    },
    {
      "cell_type": "code",
      "source": [
        "# vif\n",
        "vif_df = pd.DataFrame(np.linalg.inv(correlations.values), index = correlations.index, columns = correlations.columns)\n",
        "vif_df"
      ],
      "metadata": {
        "id": "Zm4nKtONNN0C",
        "outputId": "aaf10552-738a-47dc-c482-af7c429c1ac1",
        "colab": {
          "base_uri": "https://localhost:8080/",
          "height": 331
        }
      },
      "execution_count": 47,
      "outputs": [
        {
          "output_type": "execute_result",
          "data": {
            "text/plain": [
              "                   home_score    away_score      year     month  home_rank  \\\n",
              "home_score      -4.646106e+13  3.635009e+13  0.059194 -0.002003   0.295168   \n",
              "away_score       3.635009e+13 -2.843948e+13  0.140343 -0.027672  -0.462250   \n",
              "year             5.991796e-02  1.397771e-01  2.424536  0.045670  -1.329363   \n",
              "month           -1.958531e-03 -2.770693e-02  0.045670  1.011910  -0.027877   \n",
              "home_rank        2.947634e-01 -4.619334e-01 -1.329363 -0.027877   3.304436   \n",
              "total_points    -5.135398e-03 -5.919838e-02 -1.271809 -0.092549   0.547221   \n",
              "previous_points -1.331129e-01 -2.665775e-02 -1.196323  0.065602   1.955056   \n",
              "away_rank       -7.049645e-01  4.805740e-01 -0.124215 -0.051307  -1.103669   \n",
              "goal_difference  6.343410e+13 -4.962941e+13  0.088954 -0.013760   0.166801   \n",
              "\n",
              "                 total_points  previous_points  away_rank  goal_difference  \n",
              "home_score          -0.004037        -0.133113  -0.704965     6.343410e+13  \n",
              "away_score          -0.060058        -0.026658   0.480574    -4.962941e+13  \n",
              "year                -1.271809        -1.196323  -0.124215     8.796539e-02  \n",
              "month               -0.092549         0.065602  -0.051307    -1.382091e-02  \n",
              "home_rank            0.547221         1.955056  -1.103669     1.673526e-01  \n",
              "total_points         2.111535        -0.261046   0.078607    -4.613817e-02  \n",
              "previous_points     -0.261046         2.888071  -0.046768     1.291545e-01  \n",
              "away_rank            0.078607        -0.046768   1.837295     1.059978e-01  \n",
              "goal_difference     -0.047638         0.129155   0.105998    -8.660769e+13  "
            ],
            "text/html": [
              "\n",
              "  <div id=\"df-ec703ad9-4c05-4c10-8bbf-196eda2bf362\">\n",
              "    <div class=\"colab-df-container\">\n",
              "      <div>\n",
              "<style scoped>\n",
              "    .dataframe tbody tr th:only-of-type {\n",
              "        vertical-align: middle;\n",
              "    }\n",
              "\n",
              "    .dataframe tbody tr th {\n",
              "        vertical-align: top;\n",
              "    }\n",
              "\n",
              "    .dataframe thead th {\n",
              "        text-align: right;\n",
              "    }\n",
              "</style>\n",
              "<table border=\"1\" class=\"dataframe\">\n",
              "  <thead>\n",
              "    <tr style=\"text-align: right;\">\n",
              "      <th></th>\n",
              "      <th>home_score</th>\n",
              "      <th>away_score</th>\n",
              "      <th>year</th>\n",
              "      <th>month</th>\n",
              "      <th>home_rank</th>\n",
              "      <th>total_points</th>\n",
              "      <th>previous_points</th>\n",
              "      <th>away_rank</th>\n",
              "      <th>goal_difference</th>\n",
              "    </tr>\n",
              "  </thead>\n",
              "  <tbody>\n",
              "    <tr>\n",
              "      <th>home_score</th>\n",
              "      <td>-4.646106e+13</td>\n",
              "      <td>3.635009e+13</td>\n",
              "      <td>0.059194</td>\n",
              "      <td>-0.002003</td>\n",
              "      <td>0.295168</td>\n",
              "      <td>-0.004037</td>\n",
              "      <td>-0.133113</td>\n",
              "      <td>-0.704965</td>\n",
              "      <td>6.343410e+13</td>\n",
              "    </tr>\n",
              "    <tr>\n",
              "      <th>away_score</th>\n",
              "      <td>3.635009e+13</td>\n",
              "      <td>-2.843948e+13</td>\n",
              "      <td>0.140343</td>\n",
              "      <td>-0.027672</td>\n",
              "      <td>-0.462250</td>\n",
              "      <td>-0.060058</td>\n",
              "      <td>-0.026658</td>\n",
              "      <td>0.480574</td>\n",
              "      <td>-4.962941e+13</td>\n",
              "    </tr>\n",
              "    <tr>\n",
              "      <th>year</th>\n",
              "      <td>5.991796e-02</td>\n",
              "      <td>1.397771e-01</td>\n",
              "      <td>2.424536</td>\n",
              "      <td>0.045670</td>\n",
              "      <td>-1.329363</td>\n",
              "      <td>-1.271809</td>\n",
              "      <td>-1.196323</td>\n",
              "      <td>-0.124215</td>\n",
              "      <td>8.796539e-02</td>\n",
              "    </tr>\n",
              "    <tr>\n",
              "      <th>month</th>\n",
              "      <td>-1.958531e-03</td>\n",
              "      <td>-2.770693e-02</td>\n",
              "      <td>0.045670</td>\n",
              "      <td>1.011910</td>\n",
              "      <td>-0.027877</td>\n",
              "      <td>-0.092549</td>\n",
              "      <td>0.065602</td>\n",
              "      <td>-0.051307</td>\n",
              "      <td>-1.382091e-02</td>\n",
              "    </tr>\n",
              "    <tr>\n",
              "      <th>home_rank</th>\n",
              "      <td>2.947634e-01</td>\n",
              "      <td>-4.619334e-01</td>\n",
              "      <td>-1.329363</td>\n",
              "      <td>-0.027877</td>\n",
              "      <td>3.304436</td>\n",
              "      <td>0.547221</td>\n",
              "      <td>1.955056</td>\n",
              "      <td>-1.103669</td>\n",
              "      <td>1.673526e-01</td>\n",
              "    </tr>\n",
              "    <tr>\n",
              "      <th>total_points</th>\n",
              "      <td>-5.135398e-03</td>\n",
              "      <td>-5.919838e-02</td>\n",
              "      <td>-1.271809</td>\n",
              "      <td>-0.092549</td>\n",
              "      <td>0.547221</td>\n",
              "      <td>2.111535</td>\n",
              "      <td>-0.261046</td>\n",
              "      <td>0.078607</td>\n",
              "      <td>-4.613817e-02</td>\n",
              "    </tr>\n",
              "    <tr>\n",
              "      <th>previous_points</th>\n",
              "      <td>-1.331129e-01</td>\n",
              "      <td>-2.665775e-02</td>\n",
              "      <td>-1.196323</td>\n",
              "      <td>0.065602</td>\n",
              "      <td>1.955056</td>\n",
              "      <td>-0.261046</td>\n",
              "      <td>2.888071</td>\n",
              "      <td>-0.046768</td>\n",
              "      <td>1.291545e-01</td>\n",
              "    </tr>\n",
              "    <tr>\n",
              "      <th>away_rank</th>\n",
              "      <td>-7.049645e-01</td>\n",
              "      <td>4.805740e-01</td>\n",
              "      <td>-0.124215</td>\n",
              "      <td>-0.051307</td>\n",
              "      <td>-1.103669</td>\n",
              "      <td>0.078607</td>\n",
              "      <td>-0.046768</td>\n",
              "      <td>1.837295</td>\n",
              "      <td>1.059978e-01</td>\n",
              "    </tr>\n",
              "    <tr>\n",
              "      <th>goal_difference</th>\n",
              "      <td>6.343410e+13</td>\n",
              "      <td>-4.962941e+13</td>\n",
              "      <td>0.088954</td>\n",
              "      <td>-0.013760</td>\n",
              "      <td>0.166801</td>\n",
              "      <td>-0.047638</td>\n",
              "      <td>0.129155</td>\n",
              "      <td>0.105998</td>\n",
              "      <td>-8.660769e+13</td>\n",
              "    </tr>\n",
              "  </tbody>\n",
              "</table>\n",
              "</div>\n",
              "      <button class=\"colab-df-convert\" onclick=\"convertToInteractive('df-ec703ad9-4c05-4c10-8bbf-196eda2bf362')\"\n",
              "              title=\"Convert this dataframe to an interactive table.\"\n",
              "              style=\"display:none;\">\n",
              "        \n",
              "  <svg xmlns=\"http://www.w3.org/2000/svg\" height=\"24px\"viewBox=\"0 0 24 24\"\n",
              "       width=\"24px\">\n",
              "    <path d=\"M0 0h24v24H0V0z\" fill=\"none\"/>\n",
              "    <path d=\"M18.56 5.44l.94 2.06.94-2.06 2.06-.94-2.06-.94-.94-2.06-.94 2.06-2.06.94zm-11 1L8.5 8.5l.94-2.06 2.06-.94-2.06-.94L8.5 2.5l-.94 2.06-2.06.94zm10 10l.94 2.06.94-2.06 2.06-.94-2.06-.94-.94-2.06-.94 2.06-2.06.94z\"/><path d=\"M17.41 7.96l-1.37-1.37c-.4-.4-.92-.59-1.43-.59-.52 0-1.04.2-1.43.59L10.3 9.45l-7.72 7.72c-.78.78-.78 2.05 0 2.83L4 21.41c.39.39.9.59 1.41.59.51 0 1.02-.2 1.41-.59l7.78-7.78 2.81-2.81c.8-.78.8-2.07 0-2.86zM5.41 20L4 18.59l7.72-7.72 1.47 1.35L5.41 20z\"/>\n",
              "  </svg>\n",
              "      </button>\n",
              "      \n",
              "  <style>\n",
              "    .colab-df-container {\n",
              "      display:flex;\n",
              "      flex-wrap:wrap;\n",
              "      gap: 12px;\n",
              "    }\n",
              "\n",
              "    .colab-df-convert {\n",
              "      background-color: #E8F0FE;\n",
              "      border: none;\n",
              "      border-radius: 50%;\n",
              "      cursor: pointer;\n",
              "      display: none;\n",
              "      fill: #1967D2;\n",
              "      height: 32px;\n",
              "      padding: 0 0 0 0;\n",
              "      width: 32px;\n",
              "    }\n",
              "\n",
              "    .colab-df-convert:hover {\n",
              "      background-color: #E2EBFA;\n",
              "      box-shadow: 0px 1px 2px rgba(60, 64, 67, 0.3), 0px 1px 3px 1px rgba(60, 64, 67, 0.15);\n",
              "      fill: #174EA6;\n",
              "    }\n",
              "\n",
              "    [theme=dark] .colab-df-convert {\n",
              "      background-color: #3B4455;\n",
              "      fill: #D2E3FC;\n",
              "    }\n",
              "\n",
              "    [theme=dark] .colab-df-convert:hover {\n",
              "      background-color: #434B5C;\n",
              "      box-shadow: 0px 1px 3px 1px rgba(0, 0, 0, 0.15);\n",
              "      filter: drop-shadow(0px 1px 2px rgba(0, 0, 0, 0.3));\n",
              "      fill: #FFFFFF;\n",
              "    }\n",
              "  </style>\n",
              "\n",
              "      <script>\n",
              "        const buttonEl =\n",
              "          document.querySelector('#df-ec703ad9-4c05-4c10-8bbf-196eda2bf362 button.colab-df-convert');\n",
              "        buttonEl.style.display =\n",
              "          google.colab.kernel.accessAllowed ? 'block' : 'none';\n",
              "\n",
              "        async function convertToInteractive(key) {\n",
              "          const element = document.querySelector('#df-ec703ad9-4c05-4c10-8bbf-196eda2bf362');\n",
              "          const dataTable =\n",
              "            await google.colab.kernel.invokeFunction('convertToInteractive',\n",
              "                                                     [key], {});\n",
              "          if (!dataTable) return;\n",
              "\n",
              "          const docLinkHtml = 'Like what you see? Visit the ' +\n",
              "            '<a target=\"_blank\" href=https://colab.research.google.com/notebooks/data_table.ipynb>data table notebook</a>'\n",
              "            + ' to learn more about interactive tables.';\n",
              "          element.innerHTML = '';\n",
              "          dataTable['output_type'] = 'display_data';\n",
              "          await google.colab.output.renderOutput(dataTable, element);\n",
              "          const docLink = document.createElement('div');\n",
              "          docLink.innerHTML = docLinkHtml;\n",
              "          element.appendChild(docLink);\n",
              "        }\n",
              "      </script>\n",
              "    </div>\n",
              "  </div>\n",
              "  "
            ]
          },
          "metadata": {},
          "execution_count": 47
        }
      ]
    },
    {
      "cell_type": "markdown",
      "source": [
        "For our dataset, there were no predictor variables which were highly correlated, so we are good to go \n"
      ],
      "metadata": {
        "id": "ZMseFCY05J15"
      }
    },
    {
      "cell_type": "code",
      "source": [
        "# save the df to csv\n",
        "football_df = football[['home_team', 'away_team', 'home_score', 'away_score', 'tournament_type', 'home_rank', 'away_rank', 'match_outcome']]\n",
        "\n",
        "football_df.to_csv('final_fifa_rankings.csv')"
      ],
      "metadata": {
        "id": "bdE5iZYoWydz"
      },
      "execution_count": 48,
      "outputs": []
    },
    {
      "cell_type": "code",
      "source": [
        "# read the new dataset\n",
        "football_df = pd.read_csv('final_fifa_rankings.csv')\n",
        "football_df.head()"
      ],
      "metadata": {
        "id": "hxhPRaWUXpw9",
        "outputId": "7758edc7-654b-49d0-8986-d458603de637",
        "colab": {
          "base_uri": "https://localhost:8080/",
          "height": 206
        }
      },
      "execution_count": 49,
      "outputs": [
        {
          "output_type": "execute_result",
          "data": {
            "text/plain": [
              "   Unnamed: 0  home_team  away_team  home_score  away_score tournament_type  \\\n",
              "0           0   Colombia   Paraguay           0           0  FIFA World Cup   \n",
              "1           1   Colombia   Paraguay           0           0  FIFA World Cup   \n",
              "2           2  Argentina   Paraguay           0           0  FIFA World Cup   \n",
              "3           3  Argentina   Paraguay           0           0  FIFA World Cup   \n",
              "4           4   Colombia  Argentina           2           1  FIFA World Cup   \n",
              "\n",
              "   home_rank  away_rank match_outcome  \n",
              "0         19         67          Draw  \n",
              "1         19         67          Draw  \n",
              "2          5         67          Draw  \n",
              "3          5         67          Draw  \n",
              "4         19          5           Win  "
            ],
            "text/html": [
              "\n",
              "  <div id=\"df-fc41a467-daef-4cb3-905d-5c160aaed8a6\">\n",
              "    <div class=\"colab-df-container\">\n",
              "      <div>\n",
              "<style scoped>\n",
              "    .dataframe tbody tr th:only-of-type {\n",
              "        vertical-align: middle;\n",
              "    }\n",
              "\n",
              "    .dataframe tbody tr th {\n",
              "        vertical-align: top;\n",
              "    }\n",
              "\n",
              "    .dataframe thead th {\n",
              "        text-align: right;\n",
              "    }\n",
              "</style>\n",
              "<table border=\"1\" class=\"dataframe\">\n",
              "  <thead>\n",
              "    <tr style=\"text-align: right;\">\n",
              "      <th></th>\n",
              "      <th>Unnamed: 0</th>\n",
              "      <th>home_team</th>\n",
              "      <th>away_team</th>\n",
              "      <th>home_score</th>\n",
              "      <th>away_score</th>\n",
              "      <th>tournament_type</th>\n",
              "      <th>home_rank</th>\n",
              "      <th>away_rank</th>\n",
              "      <th>match_outcome</th>\n",
              "    </tr>\n",
              "  </thead>\n",
              "  <tbody>\n",
              "    <tr>\n",
              "      <th>0</th>\n",
              "      <td>0</td>\n",
              "      <td>Colombia</td>\n",
              "      <td>Paraguay</td>\n",
              "      <td>0</td>\n",
              "      <td>0</td>\n",
              "      <td>FIFA World Cup</td>\n",
              "      <td>19</td>\n",
              "      <td>67</td>\n",
              "      <td>Draw</td>\n",
              "    </tr>\n",
              "    <tr>\n",
              "      <th>1</th>\n",
              "      <td>1</td>\n",
              "      <td>Colombia</td>\n",
              "      <td>Paraguay</td>\n",
              "      <td>0</td>\n",
              "      <td>0</td>\n",
              "      <td>FIFA World Cup</td>\n",
              "      <td>19</td>\n",
              "      <td>67</td>\n",
              "      <td>Draw</td>\n",
              "    </tr>\n",
              "    <tr>\n",
              "      <th>2</th>\n",
              "      <td>2</td>\n",
              "      <td>Argentina</td>\n",
              "      <td>Paraguay</td>\n",
              "      <td>0</td>\n",
              "      <td>0</td>\n",
              "      <td>FIFA World Cup</td>\n",
              "      <td>5</td>\n",
              "      <td>67</td>\n",
              "      <td>Draw</td>\n",
              "    </tr>\n",
              "    <tr>\n",
              "      <th>3</th>\n",
              "      <td>3</td>\n",
              "      <td>Argentina</td>\n",
              "      <td>Paraguay</td>\n",
              "      <td>0</td>\n",
              "      <td>0</td>\n",
              "      <td>FIFA World Cup</td>\n",
              "      <td>5</td>\n",
              "      <td>67</td>\n",
              "      <td>Draw</td>\n",
              "    </tr>\n",
              "    <tr>\n",
              "      <th>4</th>\n",
              "      <td>4</td>\n",
              "      <td>Colombia</td>\n",
              "      <td>Argentina</td>\n",
              "      <td>2</td>\n",
              "      <td>1</td>\n",
              "      <td>FIFA World Cup</td>\n",
              "      <td>19</td>\n",
              "      <td>5</td>\n",
              "      <td>Win</td>\n",
              "    </tr>\n",
              "  </tbody>\n",
              "</table>\n",
              "</div>\n",
              "      <button class=\"colab-df-convert\" onclick=\"convertToInteractive('df-fc41a467-daef-4cb3-905d-5c160aaed8a6')\"\n",
              "              title=\"Convert this dataframe to an interactive table.\"\n",
              "              style=\"display:none;\">\n",
              "        \n",
              "  <svg xmlns=\"http://www.w3.org/2000/svg\" height=\"24px\"viewBox=\"0 0 24 24\"\n",
              "       width=\"24px\">\n",
              "    <path d=\"M0 0h24v24H0V0z\" fill=\"none\"/>\n",
              "    <path d=\"M18.56 5.44l.94 2.06.94-2.06 2.06-.94-2.06-.94-.94-2.06-.94 2.06-2.06.94zm-11 1L8.5 8.5l.94-2.06 2.06-.94-2.06-.94L8.5 2.5l-.94 2.06-2.06.94zm10 10l.94 2.06.94-2.06 2.06-.94-2.06-.94-.94-2.06-.94 2.06-2.06.94z\"/><path d=\"M17.41 7.96l-1.37-1.37c-.4-.4-.92-.59-1.43-.59-.52 0-1.04.2-1.43.59L10.3 9.45l-7.72 7.72c-.78.78-.78 2.05 0 2.83L4 21.41c.39.39.9.59 1.41.59.51 0 1.02-.2 1.41-.59l7.78-7.78 2.81-2.81c.8-.78.8-2.07 0-2.86zM5.41 20L4 18.59l7.72-7.72 1.47 1.35L5.41 20z\"/>\n",
              "  </svg>\n",
              "      </button>\n",
              "      \n",
              "  <style>\n",
              "    .colab-df-container {\n",
              "      display:flex;\n",
              "      flex-wrap:wrap;\n",
              "      gap: 12px;\n",
              "    }\n",
              "\n",
              "    .colab-df-convert {\n",
              "      background-color: #E8F0FE;\n",
              "      border: none;\n",
              "      border-radius: 50%;\n",
              "      cursor: pointer;\n",
              "      display: none;\n",
              "      fill: #1967D2;\n",
              "      height: 32px;\n",
              "      padding: 0 0 0 0;\n",
              "      width: 32px;\n",
              "    }\n",
              "\n",
              "    .colab-df-convert:hover {\n",
              "      background-color: #E2EBFA;\n",
              "      box-shadow: 0px 1px 2px rgba(60, 64, 67, 0.3), 0px 1px 3px 1px rgba(60, 64, 67, 0.15);\n",
              "      fill: #174EA6;\n",
              "    }\n",
              "\n",
              "    [theme=dark] .colab-df-convert {\n",
              "      background-color: #3B4455;\n",
              "      fill: #D2E3FC;\n",
              "    }\n",
              "\n",
              "    [theme=dark] .colab-df-convert:hover {\n",
              "      background-color: #434B5C;\n",
              "      box-shadow: 0px 1px 3px 1px rgba(0, 0, 0, 0.15);\n",
              "      filter: drop-shadow(0px 1px 2px rgba(0, 0, 0, 0.3));\n",
              "      fill: #FFFFFF;\n",
              "    }\n",
              "  </style>\n",
              "\n",
              "      <script>\n",
              "        const buttonEl =\n",
              "          document.querySelector('#df-fc41a467-daef-4cb3-905d-5c160aaed8a6 button.colab-df-convert');\n",
              "        buttonEl.style.display =\n",
              "          google.colab.kernel.accessAllowed ? 'block' : 'none';\n",
              "\n",
              "        async function convertToInteractive(key) {\n",
              "          const element = document.querySelector('#df-fc41a467-daef-4cb3-905d-5c160aaed8a6');\n",
              "          const dataTable =\n",
              "            await google.colab.kernel.invokeFunction('convertToInteractive',\n",
              "                                                     [key], {});\n",
              "          if (!dataTable) return;\n",
              "\n",
              "          const docLinkHtml = 'Like what you see? Visit the ' +\n",
              "            '<a target=\"_blank\" href=https://colab.research.google.com/notebooks/data_table.ipynb>data table notebook</a>'\n",
              "            + ' to learn more about interactive tables.';\n",
              "          element.innerHTML = '';\n",
              "          dataTable['output_type'] = 'display_data';\n",
              "          await google.colab.output.renderOutput(dataTable, element);\n",
              "          const docLink = document.createElement('div');\n",
              "          docLink.innerHTML = docLinkHtml;\n",
              "          element.appendChild(docLink);\n",
              "        }\n",
              "      </script>\n",
              "    </div>\n",
              "  </div>\n",
              "  "
            ]
          },
          "metadata": {},
          "execution_count": 49
        }
      ]
    },
    {
      "cell_type": "code",
      "source": [
        "# drop unnamed column\n",
        "football_df.drop(columns = ['Unnamed: 0'], axis = 1, inplace = True)"
      ],
      "metadata": {
        "id": "aorf2_r7X7Jf"
      },
      "execution_count": 50,
      "outputs": []
    },
    {
      "cell_type": "code",
      "source": [
        "# bottom of dataset\n",
        "football_df.tail()"
      ],
      "metadata": {
        "id": "6G9A2YMpYIJH",
        "outputId": "f041047b-18f8-43b2-97ea-bc34adc87904",
        "colab": {
          "base_uri": "https://localhost:8080/",
          "height": 206
        }
      },
      "execution_count": 51,
      "outputs": [
        {
          "output_type": "execute_result",
          "data": {
            "text/plain": [
              "       home_team away_team  home_score  away_score tournament_type  home_rank  \\\n",
              "28434      Japan    Poland           0           1           Other         61   \n",
              "28435  Argentina   Iceland           1           1           Other          5   \n",
              "28436  Argentina   Iceland           1           1           Other          5   \n",
              "28437    Nigeria   Iceland           2           0           Other         48   \n",
              "28438    Nigeria   Iceland           2           0           Other         48   \n",
              "\n",
              "       away_rank match_outcome  \n",
              "28434          8          Lose  \n",
              "28435         22          Draw  \n",
              "28436         22          Draw  \n",
              "28437         22           Win  \n",
              "28438         22           Win  "
            ],
            "text/html": [
              "\n",
              "  <div id=\"df-5a8cf0fc-6ade-4bf9-9ca4-f02bbc76e623\">\n",
              "    <div class=\"colab-df-container\">\n",
              "      <div>\n",
              "<style scoped>\n",
              "    .dataframe tbody tr th:only-of-type {\n",
              "        vertical-align: middle;\n",
              "    }\n",
              "\n",
              "    .dataframe tbody tr th {\n",
              "        vertical-align: top;\n",
              "    }\n",
              "\n",
              "    .dataframe thead th {\n",
              "        text-align: right;\n",
              "    }\n",
              "</style>\n",
              "<table border=\"1\" class=\"dataframe\">\n",
              "  <thead>\n",
              "    <tr style=\"text-align: right;\">\n",
              "      <th></th>\n",
              "      <th>home_team</th>\n",
              "      <th>away_team</th>\n",
              "      <th>home_score</th>\n",
              "      <th>away_score</th>\n",
              "      <th>tournament_type</th>\n",
              "      <th>home_rank</th>\n",
              "      <th>away_rank</th>\n",
              "      <th>match_outcome</th>\n",
              "    </tr>\n",
              "  </thead>\n",
              "  <tbody>\n",
              "    <tr>\n",
              "      <th>28434</th>\n",
              "      <td>Japan</td>\n",
              "      <td>Poland</td>\n",
              "      <td>0</td>\n",
              "      <td>1</td>\n",
              "      <td>Other</td>\n",
              "      <td>61</td>\n",
              "      <td>8</td>\n",
              "      <td>Lose</td>\n",
              "    </tr>\n",
              "    <tr>\n",
              "      <th>28435</th>\n",
              "      <td>Argentina</td>\n",
              "      <td>Iceland</td>\n",
              "      <td>1</td>\n",
              "      <td>1</td>\n",
              "      <td>Other</td>\n",
              "      <td>5</td>\n",
              "      <td>22</td>\n",
              "      <td>Draw</td>\n",
              "    </tr>\n",
              "    <tr>\n",
              "      <th>28436</th>\n",
              "      <td>Argentina</td>\n",
              "      <td>Iceland</td>\n",
              "      <td>1</td>\n",
              "      <td>1</td>\n",
              "      <td>Other</td>\n",
              "      <td>5</td>\n",
              "      <td>22</td>\n",
              "      <td>Draw</td>\n",
              "    </tr>\n",
              "    <tr>\n",
              "      <th>28437</th>\n",
              "      <td>Nigeria</td>\n",
              "      <td>Iceland</td>\n",
              "      <td>2</td>\n",
              "      <td>0</td>\n",
              "      <td>Other</td>\n",
              "      <td>48</td>\n",
              "      <td>22</td>\n",
              "      <td>Win</td>\n",
              "    </tr>\n",
              "    <tr>\n",
              "      <th>28438</th>\n",
              "      <td>Nigeria</td>\n",
              "      <td>Iceland</td>\n",
              "      <td>2</td>\n",
              "      <td>0</td>\n",
              "      <td>Other</td>\n",
              "      <td>48</td>\n",
              "      <td>22</td>\n",
              "      <td>Win</td>\n",
              "    </tr>\n",
              "  </tbody>\n",
              "</table>\n",
              "</div>\n",
              "      <button class=\"colab-df-convert\" onclick=\"convertToInteractive('df-5a8cf0fc-6ade-4bf9-9ca4-f02bbc76e623')\"\n",
              "              title=\"Convert this dataframe to an interactive table.\"\n",
              "              style=\"display:none;\">\n",
              "        \n",
              "  <svg xmlns=\"http://www.w3.org/2000/svg\" height=\"24px\"viewBox=\"0 0 24 24\"\n",
              "       width=\"24px\">\n",
              "    <path d=\"M0 0h24v24H0V0z\" fill=\"none\"/>\n",
              "    <path d=\"M18.56 5.44l.94 2.06.94-2.06 2.06-.94-2.06-.94-.94-2.06-.94 2.06-2.06.94zm-11 1L8.5 8.5l.94-2.06 2.06-.94-2.06-.94L8.5 2.5l-.94 2.06-2.06.94zm10 10l.94 2.06.94-2.06 2.06-.94-2.06-.94-.94-2.06-.94 2.06-2.06.94z\"/><path d=\"M17.41 7.96l-1.37-1.37c-.4-.4-.92-.59-1.43-.59-.52 0-1.04.2-1.43.59L10.3 9.45l-7.72 7.72c-.78.78-.78 2.05 0 2.83L4 21.41c.39.39.9.59 1.41.59.51 0 1.02-.2 1.41-.59l7.78-7.78 2.81-2.81c.8-.78.8-2.07 0-2.86zM5.41 20L4 18.59l7.72-7.72 1.47 1.35L5.41 20z\"/>\n",
              "  </svg>\n",
              "      </button>\n",
              "      \n",
              "  <style>\n",
              "    .colab-df-container {\n",
              "      display:flex;\n",
              "      flex-wrap:wrap;\n",
              "      gap: 12px;\n",
              "    }\n",
              "\n",
              "    .colab-df-convert {\n",
              "      background-color: #E8F0FE;\n",
              "      border: none;\n",
              "      border-radius: 50%;\n",
              "      cursor: pointer;\n",
              "      display: none;\n",
              "      fill: #1967D2;\n",
              "      height: 32px;\n",
              "      padding: 0 0 0 0;\n",
              "      width: 32px;\n",
              "    }\n",
              "\n",
              "    .colab-df-convert:hover {\n",
              "      background-color: #E2EBFA;\n",
              "      box-shadow: 0px 1px 2px rgba(60, 64, 67, 0.3), 0px 1px 3px 1px rgba(60, 64, 67, 0.15);\n",
              "      fill: #174EA6;\n",
              "    }\n",
              "\n",
              "    [theme=dark] .colab-df-convert {\n",
              "      background-color: #3B4455;\n",
              "      fill: #D2E3FC;\n",
              "    }\n",
              "\n",
              "    [theme=dark] .colab-df-convert:hover {\n",
              "      background-color: #434B5C;\n",
              "      box-shadow: 0px 1px 3px 1px rgba(0, 0, 0, 0.15);\n",
              "      filter: drop-shadow(0px 1px 2px rgba(0, 0, 0, 0.3));\n",
              "      fill: #FFFFFF;\n",
              "    }\n",
              "  </style>\n",
              "\n",
              "      <script>\n",
              "        const buttonEl =\n",
              "          document.querySelector('#df-5a8cf0fc-6ade-4bf9-9ca4-f02bbc76e623 button.colab-df-convert');\n",
              "        buttonEl.style.display =\n",
              "          google.colab.kernel.accessAllowed ? 'block' : 'none';\n",
              "\n",
              "        async function convertToInteractive(key) {\n",
              "          const element = document.querySelector('#df-5a8cf0fc-6ade-4bf9-9ca4-f02bbc76e623');\n",
              "          const dataTable =\n",
              "            await google.colab.kernel.invokeFunction('convertToInteractive',\n",
              "                                                     [key], {});\n",
              "          if (!dataTable) return;\n",
              "\n",
              "          const docLinkHtml = 'Like what you see? Visit the ' +\n",
              "            '<a target=\"_blank\" href=https://colab.research.google.com/notebooks/data_table.ipynb>data table notebook</a>'\n",
              "            + ' to learn more about interactive tables.';\n",
              "          element.innerHTML = '';\n",
              "          dataTable['output_type'] = 'display_data';\n",
              "          await google.colab.output.renderOutput(dataTable, element);\n",
              "          const docLink = document.createElement('div');\n",
              "          docLink.innerHTML = docLinkHtml;\n",
              "          element.appendChild(docLink);\n",
              "        }\n",
              "      </script>\n",
              "    </div>\n",
              "  </div>\n",
              "  "
            ]
          },
          "metadata": {},
          "execution_count": 51
        }
      ]
    },
    {
      "cell_type": "code",
      "source": [
        "football_df.describe()"
      ],
      "metadata": {
        "id": "j7WIoK2omD6a",
        "outputId": "9461f318-a3b7-4344-ea55-c1b7c5ecddfb",
        "colab": {
          "base_uri": "https://localhost:8080/",
          "height": 300
        }
      },
      "execution_count": 52,
      "outputs": [
        {
          "output_type": "execute_result",
          "data": {
            "text/plain": [
              "         home_score    away_score     home_rank     away_rank\n",
              "count  28439.000000  28439.000000  28439.000000  28439.000000\n",
              "mean       1.596821      1.101445     78.387813     81.409192\n",
              "std        1.635258      1.279389     51.097232     52.575171\n",
              "min        0.000000      0.000000      1.000000      1.000000\n",
              "25%        0.000000      0.000000     35.000000     38.000000\n",
              "50%        1.000000      1.000000     73.000000     76.000000\n",
              "75%        2.000000      2.000000    114.000000    119.000000\n",
              "max       31.000000     15.000000    209.000000    209.000000"
            ],
            "text/html": [
              "\n",
              "  <div id=\"df-b058199e-626d-4247-a08e-6028e6ff6434\">\n",
              "    <div class=\"colab-df-container\">\n",
              "      <div>\n",
              "<style scoped>\n",
              "    .dataframe tbody tr th:only-of-type {\n",
              "        vertical-align: middle;\n",
              "    }\n",
              "\n",
              "    .dataframe tbody tr th {\n",
              "        vertical-align: top;\n",
              "    }\n",
              "\n",
              "    .dataframe thead th {\n",
              "        text-align: right;\n",
              "    }\n",
              "</style>\n",
              "<table border=\"1\" class=\"dataframe\">\n",
              "  <thead>\n",
              "    <tr style=\"text-align: right;\">\n",
              "      <th></th>\n",
              "      <th>home_score</th>\n",
              "      <th>away_score</th>\n",
              "      <th>home_rank</th>\n",
              "      <th>away_rank</th>\n",
              "    </tr>\n",
              "  </thead>\n",
              "  <tbody>\n",
              "    <tr>\n",
              "      <th>count</th>\n",
              "      <td>28439.000000</td>\n",
              "      <td>28439.000000</td>\n",
              "      <td>28439.000000</td>\n",
              "      <td>28439.000000</td>\n",
              "    </tr>\n",
              "    <tr>\n",
              "      <th>mean</th>\n",
              "      <td>1.596821</td>\n",
              "      <td>1.101445</td>\n",
              "      <td>78.387813</td>\n",
              "      <td>81.409192</td>\n",
              "    </tr>\n",
              "    <tr>\n",
              "      <th>std</th>\n",
              "      <td>1.635258</td>\n",
              "      <td>1.279389</td>\n",
              "      <td>51.097232</td>\n",
              "      <td>52.575171</td>\n",
              "    </tr>\n",
              "    <tr>\n",
              "      <th>min</th>\n",
              "      <td>0.000000</td>\n",
              "      <td>0.000000</td>\n",
              "      <td>1.000000</td>\n",
              "      <td>1.000000</td>\n",
              "    </tr>\n",
              "    <tr>\n",
              "      <th>25%</th>\n",
              "      <td>0.000000</td>\n",
              "      <td>0.000000</td>\n",
              "      <td>35.000000</td>\n",
              "      <td>38.000000</td>\n",
              "    </tr>\n",
              "    <tr>\n",
              "      <th>50%</th>\n",
              "      <td>1.000000</td>\n",
              "      <td>1.000000</td>\n",
              "      <td>73.000000</td>\n",
              "      <td>76.000000</td>\n",
              "    </tr>\n",
              "    <tr>\n",
              "      <th>75%</th>\n",
              "      <td>2.000000</td>\n",
              "      <td>2.000000</td>\n",
              "      <td>114.000000</td>\n",
              "      <td>119.000000</td>\n",
              "    </tr>\n",
              "    <tr>\n",
              "      <th>max</th>\n",
              "      <td>31.000000</td>\n",
              "      <td>15.000000</td>\n",
              "      <td>209.000000</td>\n",
              "      <td>209.000000</td>\n",
              "    </tr>\n",
              "  </tbody>\n",
              "</table>\n",
              "</div>\n",
              "      <button class=\"colab-df-convert\" onclick=\"convertToInteractive('df-b058199e-626d-4247-a08e-6028e6ff6434')\"\n",
              "              title=\"Convert this dataframe to an interactive table.\"\n",
              "              style=\"display:none;\">\n",
              "        \n",
              "  <svg xmlns=\"http://www.w3.org/2000/svg\" height=\"24px\"viewBox=\"0 0 24 24\"\n",
              "       width=\"24px\">\n",
              "    <path d=\"M0 0h24v24H0V0z\" fill=\"none\"/>\n",
              "    <path d=\"M18.56 5.44l.94 2.06.94-2.06 2.06-.94-2.06-.94-.94-2.06-.94 2.06-2.06.94zm-11 1L8.5 8.5l.94-2.06 2.06-.94-2.06-.94L8.5 2.5l-.94 2.06-2.06.94zm10 10l.94 2.06.94-2.06 2.06-.94-2.06-.94-.94-2.06-.94 2.06-2.06.94z\"/><path d=\"M17.41 7.96l-1.37-1.37c-.4-.4-.92-.59-1.43-.59-.52 0-1.04.2-1.43.59L10.3 9.45l-7.72 7.72c-.78.78-.78 2.05 0 2.83L4 21.41c.39.39.9.59 1.41.59.51 0 1.02-.2 1.41-.59l7.78-7.78 2.81-2.81c.8-.78.8-2.07 0-2.86zM5.41 20L4 18.59l7.72-7.72 1.47 1.35L5.41 20z\"/>\n",
              "  </svg>\n",
              "      </button>\n",
              "      \n",
              "  <style>\n",
              "    .colab-df-container {\n",
              "      display:flex;\n",
              "      flex-wrap:wrap;\n",
              "      gap: 12px;\n",
              "    }\n",
              "\n",
              "    .colab-df-convert {\n",
              "      background-color: #E8F0FE;\n",
              "      border: none;\n",
              "      border-radius: 50%;\n",
              "      cursor: pointer;\n",
              "      display: none;\n",
              "      fill: #1967D2;\n",
              "      height: 32px;\n",
              "      padding: 0 0 0 0;\n",
              "      width: 32px;\n",
              "    }\n",
              "\n",
              "    .colab-df-convert:hover {\n",
              "      background-color: #E2EBFA;\n",
              "      box-shadow: 0px 1px 2px rgba(60, 64, 67, 0.3), 0px 1px 3px 1px rgba(60, 64, 67, 0.15);\n",
              "      fill: #174EA6;\n",
              "    }\n",
              "\n",
              "    [theme=dark] .colab-df-convert {\n",
              "      background-color: #3B4455;\n",
              "      fill: #D2E3FC;\n",
              "    }\n",
              "\n",
              "    [theme=dark] .colab-df-convert:hover {\n",
              "      background-color: #434B5C;\n",
              "      box-shadow: 0px 1px 3px 1px rgba(0, 0, 0, 0.15);\n",
              "      filter: drop-shadow(0px 1px 2px rgba(0, 0, 0, 0.3));\n",
              "      fill: #FFFFFF;\n",
              "    }\n",
              "  </style>\n",
              "\n",
              "      <script>\n",
              "        const buttonEl =\n",
              "          document.querySelector('#df-b058199e-626d-4247-a08e-6028e6ff6434 button.colab-df-convert');\n",
              "        buttonEl.style.display =\n",
              "          google.colab.kernel.accessAllowed ? 'block' : 'none';\n",
              "\n",
              "        async function convertToInteractive(key) {\n",
              "          const element = document.querySelector('#df-b058199e-626d-4247-a08e-6028e6ff6434');\n",
              "          const dataTable =\n",
              "            await google.colab.kernel.invokeFunction('convertToInteractive',\n",
              "                                                     [key], {});\n",
              "          if (!dataTable) return;\n",
              "\n",
              "          const docLinkHtml = 'Like what you see? Visit the ' +\n",
              "            '<a target=\"_blank\" href=https://colab.research.google.com/notebooks/data_table.ipynb>data table notebook</a>'\n",
              "            + ' to learn more about interactive tables.';\n",
              "          element.innerHTML = '';\n",
              "          dataTable['output_type'] = 'display_data';\n",
              "          await google.colab.output.renderOutput(dataTable, element);\n",
              "          const docLink = document.createElement('div');\n",
              "          docLink.innerHTML = docLinkHtml;\n",
              "          element.appendChild(docLink);\n",
              "        }\n",
              "      </script>\n",
              "    </div>\n",
              "  </div>\n",
              "  "
            ]
          },
          "metadata": {},
          "execution_count": 52
        }
      ]
    },
    {
      "cell_type": "markdown",
      "source": [
        "## Modelling"
      ],
      "metadata": {
        "id": "1MhONPDBVWFm"
      }
    },
    {
      "cell_type": "markdown",
      "source": [
        "### Approach 1:Polynomial Regression"
      ],
      "metadata": {
        "id": "ZfQrYROgVcao"
      }
    },
    {
      "cell_type": "markdown",
      "source": [
        "### Model 1: Predicting home score using polynomial regression"
      ],
      "metadata": {
        "id": "6sjzp5aVZlk-"
      }
    },
    {
      "cell_type": "code",
      "source": [
        "# separate the predictors from the target variable\n",
        "predictor = football_df[['tournament_type', 'home_rank', 'away_rank']]\n",
        "target = football_df['home_score'].values.reshape(-1,1)\n",
        "\n",
        "# predictor = football_df.iloc[:,[4, 5, 6]].values\n",
        "# target = football_df.iloc[:, 2].values"
      ],
      "metadata": {
        "id": "IKSUvfBlSSg2"
      },
      "execution_count": 53,
      "outputs": []
    },
    {
      "cell_type": "code",
      "source": [
        "predictor.head()"
      ],
      "metadata": {
        "id": "ENQ7B5xoeRhz",
        "outputId": "98fd3c8b-cae8-4541-b810-38315e7ae516",
        "colab": {
          "base_uri": "https://localhost:8080/",
          "height": 206
        }
      },
      "execution_count": 54,
      "outputs": [
        {
          "output_type": "execute_result",
          "data": {
            "text/plain": [
              "  tournament_type  home_rank  away_rank\n",
              "0  FIFA World Cup         19         67\n",
              "1  FIFA World Cup         19         67\n",
              "2  FIFA World Cup          5         67\n",
              "3  FIFA World Cup          5         67\n",
              "4  FIFA World Cup         19          5"
            ],
            "text/html": [
              "\n",
              "  <div id=\"df-5e02614f-0c74-41dc-bf6c-cdfd160d6a0e\">\n",
              "    <div class=\"colab-df-container\">\n",
              "      <div>\n",
              "<style scoped>\n",
              "    .dataframe tbody tr th:only-of-type {\n",
              "        vertical-align: middle;\n",
              "    }\n",
              "\n",
              "    .dataframe tbody tr th {\n",
              "        vertical-align: top;\n",
              "    }\n",
              "\n",
              "    .dataframe thead th {\n",
              "        text-align: right;\n",
              "    }\n",
              "</style>\n",
              "<table border=\"1\" class=\"dataframe\">\n",
              "  <thead>\n",
              "    <tr style=\"text-align: right;\">\n",
              "      <th></th>\n",
              "      <th>tournament_type</th>\n",
              "      <th>home_rank</th>\n",
              "      <th>away_rank</th>\n",
              "    </tr>\n",
              "  </thead>\n",
              "  <tbody>\n",
              "    <tr>\n",
              "      <th>0</th>\n",
              "      <td>FIFA World Cup</td>\n",
              "      <td>19</td>\n",
              "      <td>67</td>\n",
              "    </tr>\n",
              "    <tr>\n",
              "      <th>1</th>\n",
              "      <td>FIFA World Cup</td>\n",
              "      <td>19</td>\n",
              "      <td>67</td>\n",
              "    </tr>\n",
              "    <tr>\n",
              "      <th>2</th>\n",
              "      <td>FIFA World Cup</td>\n",
              "      <td>5</td>\n",
              "      <td>67</td>\n",
              "    </tr>\n",
              "    <tr>\n",
              "      <th>3</th>\n",
              "      <td>FIFA World Cup</td>\n",
              "      <td>5</td>\n",
              "      <td>67</td>\n",
              "    </tr>\n",
              "    <tr>\n",
              "      <th>4</th>\n",
              "      <td>FIFA World Cup</td>\n",
              "      <td>19</td>\n",
              "      <td>5</td>\n",
              "    </tr>\n",
              "  </tbody>\n",
              "</table>\n",
              "</div>\n",
              "      <button class=\"colab-df-convert\" onclick=\"convertToInteractive('df-5e02614f-0c74-41dc-bf6c-cdfd160d6a0e')\"\n",
              "              title=\"Convert this dataframe to an interactive table.\"\n",
              "              style=\"display:none;\">\n",
              "        \n",
              "  <svg xmlns=\"http://www.w3.org/2000/svg\" height=\"24px\"viewBox=\"0 0 24 24\"\n",
              "       width=\"24px\">\n",
              "    <path d=\"M0 0h24v24H0V0z\" fill=\"none\"/>\n",
              "    <path d=\"M18.56 5.44l.94 2.06.94-2.06 2.06-.94-2.06-.94-.94-2.06-.94 2.06-2.06.94zm-11 1L8.5 8.5l.94-2.06 2.06-.94-2.06-.94L8.5 2.5l-.94 2.06-2.06.94zm10 10l.94 2.06.94-2.06 2.06-.94-2.06-.94-.94-2.06-.94 2.06-2.06.94z\"/><path d=\"M17.41 7.96l-1.37-1.37c-.4-.4-.92-.59-1.43-.59-.52 0-1.04.2-1.43.59L10.3 9.45l-7.72 7.72c-.78.78-.78 2.05 0 2.83L4 21.41c.39.39.9.59 1.41.59.51 0 1.02-.2 1.41-.59l7.78-7.78 2.81-2.81c.8-.78.8-2.07 0-2.86zM5.41 20L4 18.59l7.72-7.72 1.47 1.35L5.41 20z\"/>\n",
              "  </svg>\n",
              "      </button>\n",
              "      \n",
              "  <style>\n",
              "    .colab-df-container {\n",
              "      display:flex;\n",
              "      flex-wrap:wrap;\n",
              "      gap: 12px;\n",
              "    }\n",
              "\n",
              "    .colab-df-convert {\n",
              "      background-color: #E8F0FE;\n",
              "      border: none;\n",
              "      border-radius: 50%;\n",
              "      cursor: pointer;\n",
              "      display: none;\n",
              "      fill: #1967D2;\n",
              "      height: 32px;\n",
              "      padding: 0 0 0 0;\n",
              "      width: 32px;\n",
              "    }\n",
              "\n",
              "    .colab-df-convert:hover {\n",
              "      background-color: #E2EBFA;\n",
              "      box-shadow: 0px 1px 2px rgba(60, 64, 67, 0.3), 0px 1px 3px 1px rgba(60, 64, 67, 0.15);\n",
              "      fill: #174EA6;\n",
              "    }\n",
              "\n",
              "    [theme=dark] .colab-df-convert {\n",
              "      background-color: #3B4455;\n",
              "      fill: #D2E3FC;\n",
              "    }\n",
              "\n",
              "    [theme=dark] .colab-df-convert:hover {\n",
              "      background-color: #434B5C;\n",
              "      box-shadow: 0px 1px 3px 1px rgba(0, 0, 0, 0.15);\n",
              "      filter: drop-shadow(0px 1px 2px rgba(0, 0, 0, 0.3));\n",
              "      fill: #FFFFFF;\n",
              "    }\n",
              "  </style>\n",
              "\n",
              "      <script>\n",
              "        const buttonEl =\n",
              "          document.querySelector('#df-5e02614f-0c74-41dc-bf6c-cdfd160d6a0e button.colab-df-convert');\n",
              "        buttonEl.style.display =\n",
              "          google.colab.kernel.accessAllowed ? 'block' : 'none';\n",
              "\n",
              "        async function convertToInteractive(key) {\n",
              "          const element = document.querySelector('#df-5e02614f-0c74-41dc-bf6c-cdfd160d6a0e');\n",
              "          const dataTable =\n",
              "            await google.colab.kernel.invokeFunction('convertToInteractive',\n",
              "                                                     [key], {});\n",
              "          if (!dataTable) return;\n",
              "\n",
              "          const docLinkHtml = 'Like what you see? Visit the ' +\n",
              "            '<a target=\"_blank\" href=https://colab.research.google.com/notebooks/data_table.ipynb>data table notebook</a>'\n",
              "            + ' to learn more about interactive tables.';\n",
              "          element.innerHTML = '';\n",
              "          dataTable['output_type'] = 'display_data';\n",
              "          await google.colab.output.renderOutput(dataTable, element);\n",
              "          const docLink = document.createElement('div');\n",
              "          docLink.innerHTML = docLinkHtml;\n",
              "          element.appendChild(docLink);\n",
              "        }\n",
              "      </script>\n",
              "    </div>\n",
              "  </div>\n",
              "  "
            ]
          },
          "metadata": {},
          "execution_count": 54
        }
      ]
    },
    {
      "cell_type": "code",
      "source": [
        "# Encoding the categorical variable using dictvectorizer\n",
        "# turn df into dict\n",
        "football_df_dict = predictor.to_dict(orient='records') # turn each row as key-value pairs\n",
        "\n",
        "\n",
        "# instantiate a Dictvectorizer object for X\n",
        "dv_football = DictVectorizer(sparse=False) \n",
        "# sparse = False makes the output is not a sparse matrix\n",
        "\n",
        "# apply dv_football on football_df_dict\n",
        "football_encoded = dv_football.fit_transform(football_df_dict)\n"
      ],
      "metadata": {
        "id": "14YdIv8rcNur"
      },
      "execution_count": 55,
      "outputs": []
    },
    {
      "cell_type": "code",
      "source": [
        "# convert the encoded array into a dataframe\n",
        "football_enc = pd.DataFrame(football_encoded)\n",
        "football_enc.head()"
      ],
      "metadata": {
        "id": "QMxwemoddVJk",
        "outputId": "f0f3aa1d-0741-48eb-8777-6e07fcb7423d",
        "colab": {
          "base_uri": "https://localhost:8080/",
          "height": 206
        }
      },
      "execution_count": 56,
      "outputs": [
        {
          "output_type": "execute_result",
          "data": {
            "text/plain": [
              "      0     1    2    3    4\n",
              "0  67.0  19.0  1.0  0.0  0.0\n",
              "1  67.0  19.0  1.0  0.0  0.0\n",
              "2  67.0   5.0  1.0  0.0  0.0\n",
              "3  67.0   5.0  1.0  0.0  0.0\n",
              "4   5.0  19.0  1.0  0.0  0.0"
            ],
            "text/html": [
              "\n",
              "  <div id=\"df-401cfc36-c41c-451f-958a-b5271cc19e91\">\n",
              "    <div class=\"colab-df-container\">\n",
              "      <div>\n",
              "<style scoped>\n",
              "    .dataframe tbody tr th:only-of-type {\n",
              "        vertical-align: middle;\n",
              "    }\n",
              "\n",
              "    .dataframe tbody tr th {\n",
              "        vertical-align: top;\n",
              "    }\n",
              "\n",
              "    .dataframe thead th {\n",
              "        text-align: right;\n",
              "    }\n",
              "</style>\n",
              "<table border=\"1\" class=\"dataframe\">\n",
              "  <thead>\n",
              "    <tr style=\"text-align: right;\">\n",
              "      <th></th>\n",
              "      <th>0</th>\n",
              "      <th>1</th>\n",
              "      <th>2</th>\n",
              "      <th>3</th>\n",
              "      <th>4</th>\n",
              "    </tr>\n",
              "  </thead>\n",
              "  <tbody>\n",
              "    <tr>\n",
              "      <th>0</th>\n",
              "      <td>67.0</td>\n",
              "      <td>19.0</td>\n",
              "      <td>1.0</td>\n",
              "      <td>0.0</td>\n",
              "      <td>0.0</td>\n",
              "    </tr>\n",
              "    <tr>\n",
              "      <th>1</th>\n",
              "      <td>67.0</td>\n",
              "      <td>19.0</td>\n",
              "      <td>1.0</td>\n",
              "      <td>0.0</td>\n",
              "      <td>0.0</td>\n",
              "    </tr>\n",
              "    <tr>\n",
              "      <th>2</th>\n",
              "      <td>67.0</td>\n",
              "      <td>5.0</td>\n",
              "      <td>1.0</td>\n",
              "      <td>0.0</td>\n",
              "      <td>0.0</td>\n",
              "    </tr>\n",
              "    <tr>\n",
              "      <th>3</th>\n",
              "      <td>67.0</td>\n",
              "      <td>5.0</td>\n",
              "      <td>1.0</td>\n",
              "      <td>0.0</td>\n",
              "      <td>0.0</td>\n",
              "    </tr>\n",
              "    <tr>\n",
              "      <th>4</th>\n",
              "      <td>5.0</td>\n",
              "      <td>19.0</td>\n",
              "      <td>1.0</td>\n",
              "      <td>0.0</td>\n",
              "      <td>0.0</td>\n",
              "    </tr>\n",
              "  </tbody>\n",
              "</table>\n",
              "</div>\n",
              "      <button class=\"colab-df-convert\" onclick=\"convertToInteractive('df-401cfc36-c41c-451f-958a-b5271cc19e91')\"\n",
              "              title=\"Convert this dataframe to an interactive table.\"\n",
              "              style=\"display:none;\">\n",
              "        \n",
              "  <svg xmlns=\"http://www.w3.org/2000/svg\" height=\"24px\"viewBox=\"0 0 24 24\"\n",
              "       width=\"24px\">\n",
              "    <path d=\"M0 0h24v24H0V0z\" fill=\"none\"/>\n",
              "    <path d=\"M18.56 5.44l.94 2.06.94-2.06 2.06-.94-2.06-.94-.94-2.06-.94 2.06-2.06.94zm-11 1L8.5 8.5l.94-2.06 2.06-.94-2.06-.94L8.5 2.5l-.94 2.06-2.06.94zm10 10l.94 2.06.94-2.06 2.06-.94-2.06-.94-.94-2.06-.94 2.06-2.06.94z\"/><path d=\"M17.41 7.96l-1.37-1.37c-.4-.4-.92-.59-1.43-.59-.52 0-1.04.2-1.43.59L10.3 9.45l-7.72 7.72c-.78.78-.78 2.05 0 2.83L4 21.41c.39.39.9.59 1.41.59.51 0 1.02-.2 1.41-.59l7.78-7.78 2.81-2.81c.8-.78.8-2.07 0-2.86zM5.41 20L4 18.59l7.72-7.72 1.47 1.35L5.41 20z\"/>\n",
              "  </svg>\n",
              "      </button>\n",
              "      \n",
              "  <style>\n",
              "    .colab-df-container {\n",
              "      display:flex;\n",
              "      flex-wrap:wrap;\n",
              "      gap: 12px;\n",
              "    }\n",
              "\n",
              "    .colab-df-convert {\n",
              "      background-color: #E8F0FE;\n",
              "      border: none;\n",
              "      border-radius: 50%;\n",
              "      cursor: pointer;\n",
              "      display: none;\n",
              "      fill: #1967D2;\n",
              "      height: 32px;\n",
              "      padding: 0 0 0 0;\n",
              "      width: 32px;\n",
              "    }\n",
              "\n",
              "    .colab-df-convert:hover {\n",
              "      background-color: #E2EBFA;\n",
              "      box-shadow: 0px 1px 2px rgba(60, 64, 67, 0.3), 0px 1px 3px 1px rgba(60, 64, 67, 0.15);\n",
              "      fill: #174EA6;\n",
              "    }\n",
              "\n",
              "    [theme=dark] .colab-df-convert {\n",
              "      background-color: #3B4455;\n",
              "      fill: #D2E3FC;\n",
              "    }\n",
              "\n",
              "    [theme=dark] .colab-df-convert:hover {\n",
              "      background-color: #434B5C;\n",
              "      box-shadow: 0px 1px 3px 1px rgba(0, 0, 0, 0.15);\n",
              "      filter: drop-shadow(0px 1px 2px rgba(0, 0, 0, 0.3));\n",
              "      fill: #FFFFFF;\n",
              "    }\n",
              "  </style>\n",
              "\n",
              "      <script>\n",
              "        const buttonEl =\n",
              "          document.querySelector('#df-401cfc36-c41c-451f-958a-b5271cc19e91 button.colab-df-convert');\n",
              "        buttonEl.style.display =\n",
              "          google.colab.kernel.accessAllowed ? 'block' : 'none';\n",
              "\n",
              "        async function convertToInteractive(key) {\n",
              "          const element = document.querySelector('#df-401cfc36-c41c-451f-958a-b5271cc19e91');\n",
              "          const dataTable =\n",
              "            await google.colab.kernel.invokeFunction('convertToInteractive',\n",
              "                                                     [key], {});\n",
              "          if (!dataTable) return;\n",
              "\n",
              "          const docLinkHtml = 'Like what you see? Visit the ' +\n",
              "            '<a target=\"_blank\" href=https://colab.research.google.com/notebooks/data_table.ipynb>data table notebook</a>'\n",
              "            + ' to learn more about interactive tables.';\n",
              "          element.innerHTML = '';\n",
              "          dataTable['output_type'] = 'display_data';\n",
              "          await google.colab.output.renderOutput(dataTable, element);\n",
              "          const docLink = document.createElement('div');\n",
              "          docLink.innerHTML = docLinkHtml;\n",
              "          element.appendChild(docLink);\n",
              "        }\n",
              "      </script>\n",
              "    </div>\n",
              "  </div>\n",
              "  "
            ]
          },
          "metadata": {},
          "execution_count": 56
        }
      ]
    },
    {
      "cell_type": "code",
      "source": [
        "# vocabulary\n",
        "vocab = dv_football.vocabulary_\n",
        "vocab"
      ],
      "metadata": {
        "id": "mHGUP-1t7L5E",
        "outputId": "3796d91e-441a-41c2-fccc-b541ac99d7c8",
        "colab": {
          "base_uri": "https://localhost:8080/"
        }
      },
      "execution_count": 57,
      "outputs": [
        {
          "output_type": "execute_result",
          "data": {
            "text/plain": [
              "{'away_rank': 0,\n",
              " 'home_rank': 1,\n",
              " 'tournament_type=FIFA World Cup': 2,\n",
              " 'tournament_type=Friendly': 3,\n",
              " 'tournament_type=Other': 4}"
            ]
          },
          "metadata": {},
          "execution_count": 57
        }
      ]
    },
    {
      "cell_type": "code",
      "source": [
        "# Split the dataset into train and test sets\n",
        "X_train, X_test, Y_train, Y_test = train_test_split(football_enc, target, test_size = 0.2, random_state=12)"
      ],
      "metadata": {
        "id": "y0dnIG0bbItl"
      },
      "execution_count": 58,
      "outputs": []
    },
    {
      "cell_type": "markdown",
      "source": [
        "If you don't specify the random_state in your code, then every time you run(execute) your code a new random value is generated and the train and test datasets would have different values each time.\n",
        "\n",
        "However, if a fixed value is assigned like random_state = 12 then no matter how many times you execute your code the result would be the same .i.e, same values in train and test datasets."
      ],
      "metadata": {
        "id": "0GCB1o_zhLgE"
      }
    },
    {
      "cell_type": "code",
      "source": [
        "# standardising the x_train and x_test to the same scale\n",
        "sc = StandardScaler()\n",
        "X_train = sc.fit_transform(X_train)\n",
        "X_test = sc.transform(X_test)"
      ],
      "metadata": {
        "id": "rnkaVe_IgPgK"
      },
      "execution_count": 59,
      "outputs": []
    },
    {
      "cell_type": "code",
      "source": [
        "# Fit polynomial Regression to the dataset\n",
        "poly_features = PolynomialFeatures(degree = 10) \n",
        "X_train = poly_features.fit_transform(X_train)\n",
        "X_test = poly_features.fit_transform(X_test)\n"
      ],
      "metadata": {
        "id": "YqbuhPA2bNDa"
      },
      "execution_count": 60,
      "outputs": []
    },
    {
      "cell_type": "code",
      "source": [
        "# Training the model\n",
        "regressor = LinearRegression()\n",
        "regressor.fit(X_train, Y_train)"
      ],
      "metadata": {
        "id": "oVthN6MRjhPr",
        "outputId": "1624b344-1baf-48be-e31a-48055b07ace1",
        "colab": {
          "base_uri": "https://localhost:8080/"
        }
      },
      "execution_count": 61,
      "outputs": [
        {
          "output_type": "execute_result",
          "data": {
            "text/plain": [
              "LinearRegression()"
            ]
          },
          "metadata": {},
          "execution_count": 61
        }
      ]
    },
    {
      "cell_type": "markdown",
      "source": [
        "making predictions"
      ],
      "metadata": {
        "id": "F9UHBiKve5IU"
      }
    },
    {
      "cell_type": "code",
      "source": [
        "# Predict using Polynomial Regression\n",
        "# We can also get the predictions as an array\n",
        "y_pred = regressor.predict(X_test)\n"
      ],
      "metadata": {
        "id": "2MlsP1pRb_KI"
      },
      "execution_count": 62,
      "outputs": []
    },
    {
      "cell_type": "code",
      "source": [
        "y_pred"
      ],
      "metadata": {
        "id": "BK1-svREfKsc",
        "outputId": "168fc11b-e92d-4dea-9eb8-ad6df6765304",
        "colab": {
          "base_uri": "https://localhost:8080/"
        }
      },
      "execution_count": 63,
      "outputs": [
        {
          "output_type": "execute_result",
          "data": {
            "text/plain": [
              "array([[3.32242584],\n",
              "       [1.26889372],\n",
              "       [2.79908752],\n",
              "       ...,\n",
              "       [0.98566246],\n",
              "       [1.39756203],\n",
              "       [0.91651917]])"
            ]
          },
          "metadata": {},
          "execution_count": 63
        }
      ]
    },
    {
      "cell_type": "markdown",
      "source": [
        "## Evaluate the performance of model 1"
      ],
      "metadata": {
        "id": "ga9CWnn1j-2s"
      }
    },
    {
      "cell_type": "code",
      "source": [
        "# Measuring the accuracy of the model\n",
        "\n",
        "print(\"The RMSE score for the model % .3f: \"% np.sqrt(mean_squared_error(Y_test, y_pred)))"
      ],
      "metadata": {
        "id": "K68slx_2j2GW",
        "outputId": "fedd4a56-6a0d-4e60-d160-5d1434ed5c3a",
        "colab": {
          "base_uri": "https://localhost:8080/"
        }
      },
      "execution_count": 64,
      "outputs": [
        {
          "output_type": "stream",
          "name": "stdout",
          "text": [
            "The RMSE score for the model  1.388: \n"
          ]
        }
      ]
    },
    {
      "cell_type": "markdown",
      "source": [
        "### Challenging the solution\n",
        "By increasing the degree of freedom, the value of RMSE was decreasing until the degree of 11 when the RMSE started increasing again. So the best degree of freeddom was at degree 10"
      ],
      "metadata": {
        "id": "_7wCBV4GCCDH"
      }
    },
    {
      "cell_type": "markdown",
      "source": [
        "### Residual Plots and Heteroscedasticity testing using Bartlett's test"
      ],
      "metadata": {
        "id": "AH3Br0F5c1pq"
      }
    },
    {
      "cell_type": "code",
      "source": [
        "# residuals\n",
        "residuals = np.subtract(y_pred, Y_test)\n",
        "\n",
        "# Let's describe our residual:\n",
        "print(pd.DataFrame(residuals).describe())\n",
        "\n",
        "print(residuals.mean())\n"
      ],
      "metadata": {
        "id": "eF_r2itFc08_",
        "outputId": "90a9b53c-b4c8-49a7-b716-63fb3ab724f1",
        "colab": {
          "base_uri": "https://localhost:8080/"
        }
      },
      "execution_count": 65,
      "outputs": [
        {
          "output_type": "stream",
          "name": "stdout",
          "text": [
            "                 0\n",
            "count  5688.000000\n",
            "mean      0.065600\n",
            "std       1.386771\n",
            "min     -16.411642\n",
            "25%      -0.649190\n",
            "50%       0.274155\n",
            "75%       0.975707\n",
            "max       7.074686\n",
            "0.06560019945461204\n"
          ]
        }
      ]
    },
    {
      "cell_type": "code",
      "source": [
        "# Plotting the prediction errors\n",
        "plt.scatter(y_pred, residuals, color='black')\n",
        "plt.title('Residual Plot')\n",
        "plt.ylabel('residual')\n",
        "plt.xlabel('fitted values')\n",
        "plt.axhline(y= residuals.mean(), color='red')\n",
        "plt.show()"
      ],
      "metadata": {
        "id": "UtbRbmgld54l",
        "outputId": "88604743-bd23-4a44-d25d-3767b1783bf5",
        "colab": {
          "base_uri": "https://localhost:8080/",
          "height": 294
        }
      },
      "execution_count": 66,
      "outputs": [
        {
          "output_type": "display_data",
          "data": {
            "text/plain": [
              "<Figure size 432x288 with 1 Axes>"
            ],
            "image/png": "[encoded data removed]"
          },
          "metadata": {
            "needs_background": "light"
          }
        }
      ]
    },
    {
      "cell_type": "code",
      "source": [
        "# bartlett's test\n",
        "\n",
        "# first change the 2d array samples to 1d\n",
        "y_pred_flat = y_pred.ravel()\n",
        "residuals_flat = residuals.ravel()\n",
        "\n",
        "test_result, p_value = sp.stats.bartlett(y_pred_flat, residuals_flat)\n",
        "print('test_result=',test_result,\\\n",
        "      'p-value=',p_value)\n",
        "\n",
        "# To interpret the results we must also compute a critical value of the chi squared distribution\n",
        "degree_of_freedom = len(y_pred_flat)-1\n",
        "probability = 1 - p_value\n",
        "\n",
        "critical_value = sp.stats.chi2.ppf(probability, degree_of_freedom)\n",
        "print('critical_value',critical_value)\n",
        "\n",
        "# If the test_result is greater than the critical value, then we reject our null\n",
        "# hypothesis. This would mean that there are patterns to the variance of the data\n",
        "\n",
        "# Otherwise, we can identify no patterns, and we accept the null hypothesis that \n",
        "# the variance is homogeneous across our data\n",
        "\n",
        "if (test_result > critical_value):\n",
        "  print('the variances are unequal, and the model should be reassessed')\n",
        "else:\n",
        "  print('the variances are homogeneous!')\n"
      ],
      "metadata": {
        "id": "acDayMJweBTX",
        "outputId": "2b14ac4c-7358-4393-8f7b-77084fd87c7e",
        "colab": {
          "base_uri": "https://localhost:8080/"
        }
      },
      "execution_count": 67,
      "outputs": [
        {
          "output_type": "stream",
          "name": "stdout",
          "text": [
            "test_result= 1269.2374271619533 p-value= 5.4754738281295145e-278\n",
            "critical_value inf\n",
            "the variances are homogeneous!\n"
          ]
        }
      ]
    },
    {
      "cell_type": "markdown",
      "source": [
        "### Model 2: Predicting away score using polynomial regression"
      ],
      "metadata": {
        "id": "uaIEqvzH5jja"
      }
    },
    {
      "cell_type": "code",
      "source": [
        "# separate the predictors from the target variable\n",
        "predictor = football_df[['tournament_type', 'home_rank', 'away_rank']]\n",
        "target = football_df['away_score'].values.reshape(-1,1)\n"
      ],
      "metadata": {
        "id": "IFtyZhyIfEUj"
      },
      "execution_count": 68,
      "outputs": []
    },
    {
      "cell_type": "code",
      "source": [
        "predictor.head()"
      ],
      "metadata": {
        "id": "JO72HMbs8YAb",
        "outputId": "3c7bc6a8-4c0f-40f0-c300-29af05d08dab",
        "colab": {
          "base_uri": "https://localhost:8080/",
          "height": 206
        }
      },
      "execution_count": 69,
      "outputs": [
        {
          "output_type": "execute_result",
          "data": {
            "text/plain": [
              "  tournament_type  home_rank  away_rank\n",
              "0  FIFA World Cup         19         67\n",
              "1  FIFA World Cup         19         67\n",
              "2  FIFA World Cup          5         67\n",
              "3  FIFA World Cup          5         67\n",
              "4  FIFA World Cup         19          5"
            ],
            "text/html": [
              "\n",
              "  <div id=\"df-dfb0c177-22ab-4fa7-a88c-6bb288150da1\">\n",
              "    <div class=\"colab-df-container\">\n",
              "      <div>\n",
              "<style scoped>\n",
              "    .dataframe tbody tr th:only-of-type {\n",
              "        vertical-align: middle;\n",
              "    }\n",
              "\n",
              "    .dataframe tbody tr th {\n",
              "        vertical-align: top;\n",
              "    }\n",
              "\n",
              "    .dataframe thead th {\n",
              "        text-align: right;\n",
              "    }\n",
              "</style>\n",
              "<table border=\"1\" class=\"dataframe\">\n",
              "  <thead>\n",
              "    <tr style=\"text-align: right;\">\n",
              "      <th></th>\n",
              "      <th>tournament_type</th>\n",
              "      <th>home_rank</th>\n",
              "      <th>away_rank</th>\n",
              "    </tr>\n",
              "  </thead>\n",
              "  <tbody>\n",
              "    <tr>\n",
              "      <th>0</th>\n",
              "      <td>FIFA World Cup</td>\n",
              "      <td>19</td>\n",
              "      <td>67</td>\n",
              "    </tr>\n",
              "    <tr>\n",
              "      <th>1</th>\n",
              "      <td>FIFA World Cup</td>\n",
              "      <td>19</td>\n",
              "      <td>67</td>\n",
              "    </tr>\n",
              "    <tr>\n",
              "      <th>2</th>\n",
              "      <td>FIFA World Cup</td>\n",
              "      <td>5</td>\n",
              "      <td>67</td>\n",
              "    </tr>\n",
              "    <tr>\n",
              "      <th>3</th>\n",
              "      <td>FIFA World Cup</td>\n",
              "      <td>5</td>\n",
              "      <td>67</td>\n",
              "    </tr>\n",
              "    <tr>\n",
              "      <th>4</th>\n",
              "      <td>FIFA World Cup</td>\n",
              "      <td>19</td>\n",
              "      <td>5</td>\n",
              "    </tr>\n",
              "  </tbody>\n",
              "</table>\n",
              "</div>\n",
              "      <button class=\"colab-df-convert\" onclick=\"convertToInteractive('df-dfb0c177-22ab-4fa7-a88c-6bb288150da1')\"\n",
              "              title=\"Convert this dataframe to an interactive table.\"\n",
              "              style=\"display:none;\">\n",
              "        \n",
              "  <svg xmlns=\"http://www.w3.org/2000/svg\" height=\"24px\"viewBox=\"0 0 24 24\"\n",
              "       width=\"24px\">\n",
              "    <path d=\"M0 0h24v24H0V0z\" fill=\"none\"/>\n",
              "    <path d=\"M18.56 5.44l.94 2.06.94-2.06 2.06-.94-2.06-.94-.94-2.06-.94 2.06-2.06.94zm-11 1L8.5 8.5l.94-2.06 2.06-.94-2.06-.94L8.5 2.5l-.94 2.06-2.06.94zm10 10l.94 2.06.94-2.06 2.06-.94-2.06-.94-.94-2.06-.94 2.06-2.06.94z\"/><path d=\"M17.41 7.96l-1.37-1.37c-.4-.4-.92-.59-1.43-.59-.52 0-1.04.2-1.43.59L10.3 9.45l-7.72 7.72c-.78.78-.78 2.05 0 2.83L4 21.41c.39.39.9.59 1.41.59.51 0 1.02-.2 1.41-.59l7.78-7.78 2.81-2.81c.8-.78.8-2.07 0-2.86zM5.41 20L4 18.59l7.72-7.72 1.47 1.35L5.41 20z\"/>\n",
              "  </svg>\n",
              "      </button>\n",
              "      \n",
              "  <style>\n",
              "    .colab-df-container {\n",
              "      display:flex;\n",
              "      flex-wrap:wrap;\n",
              "      gap: 12px;\n",
              "    }\n",
              "\n",
              "    .colab-df-convert {\n",
              "      background-color: #E8F0FE;\n",
              "      border: none;\n",
              "      border-radius: 50%;\n",
              "      cursor: pointer;\n",
              "      display: none;\n",
              "      fill: #1967D2;\n",
              "      height: 32px;\n",
              "      padding: 0 0 0 0;\n",
              "      width: 32px;\n",
              "    }\n",
              "\n",
              "    .colab-df-convert:hover {\n",
              "      background-color: #E2EBFA;\n",
              "      box-shadow: 0px 1px 2px rgba(60, 64, 67, 0.3), 0px 1px 3px 1px rgba(60, 64, 67, 0.15);\n",
              "      fill: #174EA6;\n",
              "    }\n",
              "\n",
              "    [theme=dark] .colab-df-convert {\n",
              "      background-color: #3B4455;\n",
              "      fill: #D2E3FC;\n",
              "    }\n",
              "\n",
              "    [theme=dark] .colab-df-convert:hover {\n",
              "      background-color: #434B5C;\n",
              "      box-shadow: 0px 1px 3px 1px rgba(0, 0, 0, 0.15);\n",
              "      filter: drop-shadow(0px 1px 2px rgba(0, 0, 0, 0.3));\n",
              "      fill: #FFFFFF;\n",
              "    }\n",
              "  </style>\n",
              "\n",
              "      <script>\n",
              "        const buttonEl =\n",
              "          document.querySelector('#df-dfb0c177-22ab-4fa7-a88c-6bb288150da1 button.colab-df-convert');\n",
              "        buttonEl.style.display =\n",
              "          google.colab.kernel.accessAllowed ? 'block' : 'none';\n",
              "\n",
              "        async function convertToInteractive(key) {\n",
              "          const element = document.querySelector('#df-dfb0c177-22ab-4fa7-a88c-6bb288150da1');\n",
              "          const dataTable =\n",
              "            await google.colab.kernel.invokeFunction('convertToInteractive',\n",
              "                                                     [key], {});\n",
              "          if (!dataTable) return;\n",
              "\n",
              "          const docLinkHtml = 'Like what you see? Visit the ' +\n",
              "            '<a target=\"_blank\" href=https://colab.research.google.com/notebooks/data_table.ipynb>data table notebook</a>'\n",
              "            + ' to learn more about interactive tables.';\n",
              "          element.innerHTML = '';\n",
              "          dataTable['output_type'] = 'display_data';\n",
              "          await google.colab.output.renderOutput(dataTable, element);\n",
              "          const docLink = document.createElement('div');\n",
              "          docLink.innerHTML = docLinkHtml;\n",
              "          element.appendChild(docLink);\n",
              "        }\n",
              "      </script>\n",
              "    </div>\n",
              "  </div>\n",
              "  "
            ]
          },
          "metadata": {},
          "execution_count": 69
        }
      ]
    },
    {
      "cell_type": "markdown",
      "source": [
        "the predictor variables are similar to the one used above(for predicting home score)\n",
        "\n",
        "so we will use the same encoded variables used above, named football_enc"
      ],
      "metadata": {
        "id": "IwGtJDAU-Eo0"
      }
    },
    {
      "cell_type": "code",
      "source": [
        "# Split the dataset into train and test sets\n",
        "X_train, X_test, Y_train, Y_test = train_test_split(football_enc, target, test_size = 0.2, random_state=12)"
      ],
      "metadata": {
        "id": "GZ1TxUEx9W4S"
      },
      "execution_count": 70,
      "outputs": []
    },
    {
      "cell_type": "code",
      "source": [
        "# standardising the x_train and x_test to the same scale\n",
        "sc = StandardScaler()\n",
        "X_train = sc.fit_transform(X_train)\n",
        "X_test = sc.transform(X_test)"
      ],
      "metadata": {
        "id": "ur6YjPHM9eoO"
      },
      "execution_count": 71,
      "outputs": []
    },
    {
      "cell_type": "code",
      "source": [
        "# Fit polynomial Regression to the dataset\n",
        "poly_features = PolynomialFeatures(degree = 6) \n",
        "X_train = poly_features.fit_transform(X_train)\n",
        "X_test = poly_features.fit_transform(X_test)\n"
      ],
      "metadata": {
        "id": "VuFAIF9q9yLl"
      },
      "execution_count": 72,
      "outputs": []
    },
    {
      "cell_type": "code",
      "source": [
        "# Training the model\n",
        "regressor = LinearRegression()\n",
        "regressor.fit(X_train, Y_train)"
      ],
      "metadata": {
        "id": "Z75Nu-Wp90bx",
        "outputId": "d09c548a-106b-432e-dd59-58546f97ca62",
        "colab": {
          "base_uri": "https://localhost:8080/"
        }
      },
      "execution_count": 73,
      "outputs": [
        {
          "output_type": "execute_result",
          "data": {
            "text/plain": [
              "LinearRegression()"
            ]
          },
          "metadata": {},
          "execution_count": 73
        }
      ]
    },
    {
      "cell_type": "code",
      "source": [
        "# Predict using Polynomial Regression\n",
        "# We can also get the predictions as an array\n",
        "y_pred = regressor.predict(X_test)"
      ],
      "metadata": {
        "id": "snosYorq93aU"
      },
      "execution_count": 74,
      "outputs": []
    },
    {
      "cell_type": "code",
      "source": [
        "# Measuring the accuracy of the model\n",
        "\n",
        "print(\"The RMSE score for the model %.3f : \" % np.sqrt(mean_squared_error(Y_test, y_pred)))"
      ],
      "metadata": {
        "id": "etDN_ggE96CB",
        "outputId": "3173ccab-3f7e-4b31-9445-0051874c36fa",
        "colab": {
          "base_uri": "https://localhost:8080/"
        }
      },
      "execution_count": 75,
      "outputs": [
        {
          "output_type": "stream",
          "name": "stdout",
          "text": [
            "The RMSE score for the model 1.157 : \n"
          ]
        }
      ]
    },
    {
      "cell_type": "markdown",
      "source": [
        "### Challenging the solution\n",
        "By increasing the degree of freedom, the value of RMSE was decreasing until the degree of 7 when the RMSE started increasing again. So the best degree of freeddom was at degree 6\n",
        "\n",
        "However, the value of RMSE is too high and not the best to use"
      ],
      "metadata": {
        "id": "aKLiZwm4BTKA"
      }
    },
    {
      "cell_type": "markdown",
      "source": [
        "### Residual Plots and Heteroscedasticity testing using Bartlett's test"
      ],
      "metadata": {
        "id": "2pq_e6Z4hU1f"
      }
    },
    {
      "cell_type": "markdown",
      "source": [
        " Quiz: Figure out from the home team’s perspective if the game is a Win, Lose or Draw"
      ],
      "metadata": {
        "id": "GjjD5DSqHWVn"
      }
    },
    {
      "cell_type": "code",
      "source": [
        "# residuals\n",
        "residuals = np.subtract(y_pred, Y_test)\n",
        "\n",
        "# Let's describe our residual:\n",
        "print(pd.DataFrame(residuals).describe())\n",
        "\n",
        "print(residuals.mean())\n"
      ],
      "metadata": {
        "id": "x_6WP-jFG4co",
        "outputId": "ed6d030b-e9dd-472c-cfb2-2788e52f1d79",
        "colab": {
          "base_uri": "https://localhost:8080/"
        }
      },
      "execution_count": 76,
      "outputs": [
        {
          "output_type": "stream",
          "name": "stdout",
          "text": [
            "                 0\n",
            "count  5688.000000\n",
            "mean     -0.022330\n",
            "std       1.156969\n",
            "min      -9.348633\n",
            "25%      -0.539368\n",
            "50%       0.164490\n",
            "75%       0.783630\n",
            "max       3.849854\n",
            "-0.022330325699389066\n"
          ]
        }
      ]
    },
    {
      "cell_type": "code",
      "source": [
        "# Plotting the prediction errors\n",
        "plt.scatter(y_pred, residuals, color='black')\n",
        "plt.title('Residual Plot')\n",
        "plt.ylabel('residual')\n",
        "plt.xlabel('fitted values')\n",
        "plt.axhline(y= residuals.mean(), color='red')\n",
        "plt.show()"
      ],
      "metadata": {
        "id": "uSAQHwc3hefO",
        "outputId": "68141e00-6fe3-4ee1-bf35-131800b105c8",
        "colab": {
          "base_uri": "https://localhost:8080/",
          "height": 294
        }
      },
      "execution_count": 77,
      "outputs": [
        {
          "output_type": "display_data",
          "data": {
            "text/plain": [
              "<Figure size 432x288 with 1 Axes>"
            ],
            "image/png": "[encoded data removed]"
          },
          "metadata": {
            "needs_background": "light"
          }
        }
      ]
    },
    {
      "cell_type": "code",
      "source": [
        "# bartlett's test\n",
        "\n",
        "# first change the 2d array samples to 1d\n",
        "y_pred_flat = y_pred.ravel()\n",
        "residuals_flat = residuals.ravel()\n",
        "\n",
        "test_result, p_value = sp.stats.bartlett(y_pred_flat, residuals_flat)\n",
        "print('test_result=',test_result,\\\n",
        "      'p-value=',p_value)\n",
        "\n",
        "# To interpret the results we must also compute a critical value of the chi squared distribution\n",
        "degree_of_freedom = len(y_pred_flat)-1\n",
        "probability = 1 - p_value\n",
        "\n",
        "critical_value = sp.stats.chi2.ppf(probability, degree_of_freedom)\n",
        "print('critical_value',critical_value)\n",
        "\n",
        "# If the test_result is greater than the critical value, then we reject our null\n",
        "# hypothesis. This would mean that there are patterns to the variance of the data\n",
        "\n",
        "# Otherwise, we can identify no patterns, and we accept the null hypothesis that \n",
        "# the variance is homogeneous across our data\n",
        "\n",
        "if (test_result > critical_value):\n",
        "  print('the variances are unequal, and the model should be reassessed')\n",
        "else:\n",
        "  print('the variances are homogeneous!')"
      ],
      "metadata": {
        "id": "FxHLrs5vhiyL",
        "outputId": "cb561f52-e0fa-4e63-a292-dca37959bed5",
        "colab": {
          "base_uri": "https://localhost:8080/"
        }
      },
      "execution_count": 78,
      "outputs": [
        {
          "output_type": "stream",
          "name": "stdout",
          "text": [
            "test_result= 2994.3652695038536 p-value= 0.0\n",
            "critical_value inf\n",
            "the variances are homogeneous!\n"
          ]
        }
      ]
    },
    {
      "cell_type": "markdown",
      "source": [
        "### Approach 2: Using Logistic Regression"
      ],
      "metadata": {
        "id": "yh5sxq-tG0xn"
      }
    },
    {
      "cell_type": "code",
      "source": [
        "# preview the dataset\n",
        "football_df.head()"
      ],
      "metadata": {
        "id": "iCGyNE5gin0T",
        "outputId": "7fe82d1d-d3b4-47a9-d20a-1a76babc54e6",
        "colab": {
          "base_uri": "https://localhost:8080/",
          "height": 206
        }
      },
      "execution_count": 79,
      "outputs": [
        {
          "output_type": "execute_result",
          "data": {
            "text/plain": [
              "   home_team  away_team  home_score  away_score tournament_type  home_rank  \\\n",
              "0   Colombia   Paraguay           0           0  FIFA World Cup         19   \n",
              "1   Colombia   Paraguay           0           0  FIFA World Cup         19   \n",
              "2  Argentina   Paraguay           0           0  FIFA World Cup          5   \n",
              "3  Argentina   Paraguay           0           0  FIFA World Cup          5   \n",
              "4   Colombia  Argentina           2           1  FIFA World Cup         19   \n",
              "\n",
              "   away_rank match_outcome  \n",
              "0         67          Draw  \n",
              "1         67          Draw  \n",
              "2         67          Draw  \n",
              "3         67          Draw  \n",
              "4          5           Win  "
            ],
            "text/html": [
              "\n",
              "  <div id=\"df-6f28db49-2d2a-4ea9-b936-ba70b149b012\">\n",
              "    <div class=\"colab-df-container\">\n",
              "      <div>\n",
              "<style scoped>\n",
              "    .dataframe tbody tr th:only-of-type {\n",
              "        vertical-align: middle;\n",
              "    }\n",
              "\n",
              "    .dataframe tbody tr th {\n",
              "        vertical-align: top;\n",
              "    }\n",
              "\n",
              "    .dataframe thead th {\n",
              "        text-align: right;\n",
              "    }\n",
              "</style>\n",
              "<table border=\"1\" class=\"dataframe\">\n",
              "  <thead>\n",
              "    <tr style=\"text-align: right;\">\n",
              "      <th></th>\n",
              "      <th>home_team</th>\n",
              "      <th>away_team</th>\n",
              "      <th>home_score</th>\n",
              "      <th>away_score</th>\n",
              "      <th>tournament_type</th>\n",
              "      <th>home_rank</th>\n",
              "      <th>away_rank</th>\n",
              "      <th>match_outcome</th>\n",
              "    </tr>\n",
              "  </thead>\n",
              "  <tbody>\n",
              "    <tr>\n",
              "      <th>0</th>\n",
              "      <td>Colombia</td>\n",
              "      <td>Paraguay</td>\n",
              "      <td>0</td>\n",
              "      <td>0</td>\n",
              "      <td>FIFA World Cup</td>\n",
              "      <td>19</td>\n",
              "      <td>67</td>\n",
              "      <td>Draw</td>\n",
              "    </tr>\n",
              "    <tr>\n",
              "      <th>1</th>\n",
              "      <td>Colombia</td>\n",
              "      <td>Paraguay</td>\n",
              "      <td>0</td>\n",
              "      <td>0</td>\n",
              "      <td>FIFA World Cup</td>\n",
              "      <td>19</td>\n",
              "      <td>67</td>\n",
              "      <td>Draw</td>\n",
              "    </tr>\n",
              "    <tr>\n",
              "      <th>2</th>\n",
              "      <td>Argentina</td>\n",
              "      <td>Paraguay</td>\n",
              "      <td>0</td>\n",
              "      <td>0</td>\n",
              "      <td>FIFA World Cup</td>\n",
              "      <td>5</td>\n",
              "      <td>67</td>\n",
              "      <td>Draw</td>\n",
              "    </tr>\n",
              "    <tr>\n",
              "      <th>3</th>\n",
              "      <td>Argentina</td>\n",
              "      <td>Paraguay</td>\n",
              "      <td>0</td>\n",
              "      <td>0</td>\n",
              "      <td>FIFA World Cup</td>\n",
              "      <td>5</td>\n",
              "      <td>67</td>\n",
              "      <td>Draw</td>\n",
              "    </tr>\n",
              "    <tr>\n",
              "      <th>4</th>\n",
              "      <td>Colombia</td>\n",
              "      <td>Argentina</td>\n",
              "      <td>2</td>\n",
              "      <td>1</td>\n",
              "      <td>FIFA World Cup</td>\n",
              "      <td>19</td>\n",
              "      <td>5</td>\n",
              "      <td>Win</td>\n",
              "    </tr>\n",
              "  </tbody>\n",
              "</table>\n",
              "</div>\n",
              "      <button class=\"colab-df-convert\" onclick=\"convertToInteractive('df-6f28db49-2d2a-4ea9-b936-ba70b149b012')\"\n",
              "              title=\"Convert this dataframe to an interactive table.\"\n",
              "              style=\"display:none;\">\n",
              "        \n",
              "  <svg xmlns=\"http://www.w3.org/2000/svg\" height=\"24px\"viewBox=\"0 0 24 24\"\n",
              "       width=\"24px\">\n",
              "    <path d=\"M0 0h24v24H0V0z\" fill=\"none\"/>\n",
              "    <path d=\"M18.56 5.44l.94 2.06.94-2.06 2.06-.94-2.06-.94-.94-2.06-.94 2.06-2.06.94zm-11 1L8.5 8.5l.94-2.06 2.06-.94-2.06-.94L8.5 2.5l-.94 2.06-2.06.94zm10 10l.94 2.06.94-2.06 2.06-.94-2.06-.94-.94-2.06-.94 2.06-2.06.94z\"/><path d=\"M17.41 7.96l-1.37-1.37c-.4-.4-.92-.59-1.43-.59-.52 0-1.04.2-1.43.59L10.3 9.45l-7.72 7.72c-.78.78-.78 2.05 0 2.83L4 21.41c.39.39.9.59 1.41.59.51 0 1.02-.2 1.41-.59l7.78-7.78 2.81-2.81c.8-.78.8-2.07 0-2.86zM5.41 20L4 18.59l7.72-7.72 1.47 1.35L5.41 20z\"/>\n",
              "  </svg>\n",
              "      </button>\n",
              "      \n",
              "  <style>\n",
              "    .colab-df-container {\n",
              "      display:flex;\n",
              "      flex-wrap:wrap;\n",
              "      gap: 12px;\n",
              "    }\n",
              "\n",
              "    .colab-df-convert {\n",
              "      background-color: #E8F0FE;\n",
              "      border: none;\n",
              "      border-radius: 50%;\n",
              "      cursor: pointer;\n",
              "      display: none;\n",
              "      fill: #1967D2;\n",
              "      height: 32px;\n",
              "      padding: 0 0 0 0;\n",
              "      width: 32px;\n",
              "    }\n",
              "\n",
              "    .colab-df-convert:hover {\n",
              "      background-color: #E2EBFA;\n",
              "      box-shadow: 0px 1px 2px rgba(60, 64, 67, 0.3), 0px 1px 3px 1px rgba(60, 64, 67, 0.15);\n",
              "      fill: #174EA6;\n",
              "    }\n",
              "\n",
              "    [theme=dark] .colab-df-convert {\n",
              "      background-color: #3B4455;\n",
              "      fill: #D2E3FC;\n",
              "    }\n",
              "\n",
              "    [theme=dark] .colab-df-convert:hover {\n",
              "      background-color: #434B5C;\n",
              "      box-shadow: 0px 1px 3px 1px rgba(0, 0, 0, 0.15);\n",
              "      filter: drop-shadow(0px 1px 2px rgba(0, 0, 0, 0.3));\n",
              "      fill: #FFFFFF;\n",
              "    }\n",
              "  </style>\n",
              "\n",
              "      <script>\n",
              "        const buttonEl =\n",
              "          document.querySelector('#df-6f28db49-2d2a-4ea9-b936-ba70b149b012 button.colab-df-convert');\n",
              "        buttonEl.style.display =\n",
              "          google.colab.kernel.accessAllowed ? 'block' : 'none';\n",
              "\n",
              "        async function convertToInteractive(key) {\n",
              "          const element = document.querySelector('#df-6f28db49-2d2a-4ea9-b936-ba70b149b012');\n",
              "          const dataTable =\n",
              "            await google.colab.kernel.invokeFunction('convertToInteractive',\n",
              "                                                     [key], {});\n",
              "          if (!dataTable) return;\n",
              "\n",
              "          const docLinkHtml = 'Like what you see? Visit the ' +\n",
              "            '<a target=\"_blank\" href=https://colab.research.google.com/notebooks/data_table.ipynb>data table notebook</a>'\n",
              "            + ' to learn more about interactive tables.';\n",
              "          element.innerHTML = '';\n",
              "          dataTable['output_type'] = 'display_data';\n",
              "          await google.colab.output.renderOutput(dataTable, element);\n",
              "          const docLink = document.createElement('div');\n",
              "          docLink.innerHTML = docLinkHtml;\n",
              "          element.appendChild(docLink);\n",
              "        }\n",
              "      </script>\n",
              "    </div>\n",
              "  </div>\n",
              "  "
            ]
          },
          "metadata": {},
          "execution_count": 79
        }
      ]
    },
    {
      "cell_type": "code",
      "source": [
        "# Splitting our dataset\n",
        "X = football_df[['home_score', 'away_score', 'tournament_type', 'home_rank', 'away_rank']]\n",
        "y = football_df['match_outcome']\n"
      ],
      "metadata": {
        "id": "T5gD-3JYiAhM"
      },
      "execution_count": 80,
      "outputs": []
    },
    {
      "cell_type": "code",
      "source": [
        "# Checking our target variable\n",
        "sns.countplot(x='match_outcome',data=football_df, palette='hls')"
      ],
      "metadata": {
        "id": "b7XxdcUIuOUE",
        "outputId": "e675990f-8e48-44da-c791-13e9e8150009",
        "colab": {
          "base_uri": "https://localhost:8080/",
          "height": 300
        }
      },
      "execution_count": 81,
      "outputs": [
        {
          "output_type": "execute_result",
          "data": {
            "text/plain": [
              "<matplotlib.axes._subplots.AxesSubplot at 0x7f4816bb2a90>"
            ]
          },
          "metadata": {},
          "execution_count": 81
        },
        {
          "output_type": "display_data",
          "data": {
            "text/plain": [
              "<Figure size 432x288 with 1 Axes>"
            ],
            "image/png": "[encoded data removed]"
          },
          "metadata": {
            "needs_background": "light"
          }
        }
      ]
    },
    {
      "cell_type": "markdown",
      "source": [
        "This is an ordinal Logistic Regression"
      ],
      "metadata": {
        "id": "cwe_p1HAwLcb"
      }
    },
    {
      "cell_type": "code",
      "source": [
        "# Encoding the categorical variable using dictvectorizer\n",
        "# turn df into dict\n",
        "X_dict = X.to_dict(orient='records') # turn each row as key-value pairs\n",
        "\n",
        "\n",
        "# instantiate a Dictvectorizer object for X\n",
        "dv_X = DictVectorizer(sparse=False) \n",
        "# sparse = False makes the output is not a sparse matrix\n",
        "\n",
        "# apply dv_football on football_df_dict\n",
        "X_encoded = dv_X.fit_transform(X_dict)\n"
      ],
      "metadata": {
        "id": "asWUu-BCxQO6"
      },
      "execution_count": 82,
      "outputs": []
    },
    {
      "cell_type": "code",
      "source": [
        "# convert the encoded array into a dataframe\n",
        "X = pd.DataFrame(X_encoded)\n",
        "X.head()"
      ],
      "metadata": {
        "id": "zEYqSbOqxmMk",
        "outputId": "421637bc-68c3-4868-cc4a-1184a3459c06",
        "colab": {
          "base_uri": "https://localhost:8080/",
          "height": 206
        }
      },
      "execution_count": 83,
      "outputs": [
        {
          "output_type": "execute_result",
          "data": {
            "text/plain": [
              "      0    1     2    3    4    5    6\n",
              "0  67.0  0.0  19.0  0.0  1.0  0.0  0.0\n",
              "1  67.0  0.0  19.0  0.0  1.0  0.0  0.0\n",
              "2  67.0  0.0   5.0  0.0  1.0  0.0  0.0\n",
              "3  67.0  0.0   5.0  0.0  1.0  0.0  0.0\n",
              "4   5.0  1.0  19.0  2.0  1.0  0.0  0.0"
            ],
            "text/html": [
              "\n",
              "  <div id=\"df-e8e083d5-a6d9-435f-bc9c-1c9648937812\">\n",
              "    <div class=\"colab-df-container\">\n",
              "      <div>\n",
              "<style scoped>\n",
              "    .dataframe tbody tr th:only-of-type {\n",
              "        vertical-align: middle;\n",
              "    }\n",
              "\n",
              "    .dataframe tbody tr th {\n",
              "        vertical-align: top;\n",
              "    }\n",
              "\n",
              "    .dataframe thead th {\n",
              "        text-align: right;\n",
              "    }\n",
              "</style>\n",
              "<table border=\"1\" class=\"dataframe\">\n",
              "  <thead>\n",
              "    <tr style=\"text-align: right;\">\n",
              "      <th></th>\n",
              "      <th>0</th>\n",
              "      <th>1</th>\n",
              "      <th>2</th>\n",
              "      <th>3</th>\n",
              "      <th>4</th>\n",
              "      <th>5</th>\n",
              "      <th>6</th>\n",
              "    </tr>\n",
              "  </thead>\n",
              "  <tbody>\n",
              "    <tr>\n",
              "      <th>0</th>\n",
              "      <td>67.0</td>\n",
              "      <td>0.0</td>\n",
              "      <td>19.0</td>\n",
              "      <td>0.0</td>\n",
              "      <td>1.0</td>\n",
              "      <td>0.0</td>\n",
              "      <td>0.0</td>\n",
              "    </tr>\n",
              "    <tr>\n",
              "      <th>1</th>\n",
              "      <td>67.0</td>\n",
              "      <td>0.0</td>\n",
              "      <td>19.0</td>\n",
              "      <td>0.0</td>\n",
              "      <td>1.0</td>\n",
              "      <td>0.0</td>\n",
              "      <td>0.0</td>\n",
              "    </tr>\n",
              "    <tr>\n",
              "      <th>2</th>\n",
              "      <td>67.0</td>\n",
              "      <td>0.0</td>\n",
              "      <td>5.0</td>\n",
              "      <td>0.0</td>\n",
              "      <td>1.0</td>\n",
              "      <td>0.0</td>\n",
              "      <td>0.0</td>\n",
              "    </tr>\n",
              "    <tr>\n",
              "      <th>3</th>\n",
              "      <td>67.0</td>\n",
              "      <td>0.0</td>\n",
              "      <td>5.0</td>\n",
              "      <td>0.0</td>\n",
              "      <td>1.0</td>\n",
              "      <td>0.0</td>\n",
              "      <td>0.0</td>\n",
              "    </tr>\n",
              "    <tr>\n",
              "      <th>4</th>\n",
              "      <td>5.0</td>\n",
              "      <td>1.0</td>\n",
              "      <td>19.0</td>\n",
              "      <td>2.0</td>\n",
              "      <td>1.0</td>\n",
              "      <td>0.0</td>\n",
              "      <td>0.0</td>\n",
              "    </tr>\n",
              "  </tbody>\n",
              "</table>\n",
              "</div>\n",
              "      <button class=\"colab-df-convert\" onclick=\"convertToInteractive('df-e8e083d5-a6d9-435f-bc9c-1c9648937812')\"\n",
              "              title=\"Convert this dataframe to an interactive table.\"\n",
              "              style=\"display:none;\">\n",
              "        \n",
              "  <svg xmlns=\"http://www.w3.org/2000/svg\" height=\"24px\"viewBox=\"0 0 24 24\"\n",
              "       width=\"24px\">\n",
              "    <path d=\"M0 0h24v24H0V0z\" fill=\"none\"/>\n",
              "    <path d=\"M18.56 5.44l.94 2.06.94-2.06 2.06-.94-2.06-.94-.94-2.06-.94 2.06-2.06.94zm-11 1L8.5 8.5l.94-2.06 2.06-.94-2.06-.94L8.5 2.5l-.94 2.06-2.06.94zm10 10l.94 2.06.94-2.06 2.06-.94-2.06-.94-.94-2.06-.94 2.06-2.06.94z\"/><path d=\"M17.41 7.96l-1.37-1.37c-.4-.4-.92-.59-1.43-.59-.52 0-1.04.2-1.43.59L10.3 9.45l-7.72 7.72c-.78.78-.78 2.05 0 2.83L4 21.41c.39.39.9.59 1.41.59.51 0 1.02-.2 1.41-.59l7.78-7.78 2.81-2.81c.8-.78.8-2.07 0-2.86zM5.41 20L4 18.59l7.72-7.72 1.47 1.35L5.41 20z\"/>\n",
              "  </svg>\n",
              "      </button>\n",
              "      \n",
              "  <style>\n",
              "    .colab-df-container {\n",
              "      display:flex;\n",
              "      flex-wrap:wrap;\n",
              "      gap: 12px;\n",
              "    }\n",
              "\n",
              "    .colab-df-convert {\n",
              "      background-color: #E8F0FE;\n",
              "      border: none;\n",
              "      border-radius: 50%;\n",
              "      cursor: pointer;\n",
              "      display: none;\n",
              "      fill: #1967D2;\n",
              "      height: 32px;\n",
              "      padding: 0 0 0 0;\n",
              "      width: 32px;\n",
              "    }\n",
              "\n",
              "    .colab-df-convert:hover {\n",
              "      background-color: #E2EBFA;\n",
              "      box-shadow: 0px 1px 2px rgba(60, 64, 67, 0.3), 0px 1px 3px 1px rgba(60, 64, 67, 0.15);\n",
              "      fill: #174EA6;\n",
              "    }\n",
              "\n",
              "    [theme=dark] .colab-df-convert {\n",
              "      background-color: #3B4455;\n",
              "      fill: #D2E3FC;\n",
              "    }\n",
              "\n",
              "    [theme=dark] .colab-df-convert:hover {\n",
              "      background-color: #434B5C;\n",
              "      box-shadow: 0px 1px 3px 1px rgba(0, 0, 0, 0.15);\n",
              "      filter: drop-shadow(0px 1px 2px rgba(0, 0, 0, 0.3));\n",
              "      fill: #FFFFFF;\n",
              "    }\n",
              "  </style>\n",
              "\n",
              "      <script>\n",
              "        const buttonEl =\n",
              "          document.querySelector('#df-e8e083d5-a6d9-435f-bc9c-1c9648937812 button.colab-df-convert');\n",
              "        buttonEl.style.display =\n",
              "          google.colab.kernel.accessAllowed ? 'block' : 'none';\n",
              "\n",
              "        async function convertToInteractive(key) {\n",
              "          const element = document.querySelector('#df-e8e083d5-a6d9-435f-bc9c-1c9648937812');\n",
              "          const dataTable =\n",
              "            await google.colab.kernel.invokeFunction('convertToInteractive',\n",
              "                                                     [key], {});\n",
              "          if (!dataTable) return;\n",
              "\n",
              "          const docLinkHtml = 'Like what you see? Visit the ' +\n",
              "            '<a target=\"_blank\" href=https://colab.research.google.com/notebooks/data_table.ipynb>data table notebook</a>'\n",
              "            + ' to learn more about interactive tables.';\n",
              "          element.innerHTML = '';\n",
              "          dataTable['output_type'] = 'display_data';\n",
              "          await google.colab.output.renderOutput(dataTable, element);\n",
              "          const docLink = document.createElement('div');\n",
              "          docLink.innerHTML = docLinkHtml;\n",
              "          element.appendChild(docLink);\n",
              "        }\n",
              "      </script>\n",
              "    </div>\n",
              "  </div>\n",
              "  "
            ]
          },
          "metadata": {},
          "execution_count": 83
        }
      ]
    },
    {
      "cell_type": "code",
      "source": [
        "# vocabulary\n",
        "vocab = dv_X.vocabulary_\n",
        "vocab"
      ],
      "metadata": {
        "id": "0vhB0YRO7gew",
        "outputId": "336c8e8d-60bf-41ce-8c20-217424999e24",
        "colab": {
          "base_uri": "https://localhost:8080/"
        }
      },
      "execution_count": 84,
      "outputs": [
        {
          "output_type": "execute_result",
          "data": {
            "text/plain": [
              "{'away_rank': 0,\n",
              " 'away_score': 1,\n",
              " 'home_rank': 2,\n",
              " 'home_score': 3,\n",
              " 'tournament_type=FIFA World Cup': 4,\n",
              " 'tournament_type=Friendly': 5,\n",
              " 'tournament_type=Other': 6}"
            ]
          },
          "metadata": {},
          "execution_count": 84
        }
      ]
    },
    {
      "cell_type": "code",
      "source": [
        "# plit to train and test\n",
        "X_train, X_test, y_train, y_test = train_test_split(X, y, test_size = .2, random_state=25)"
      ],
      "metadata": {
        "id": "zr-hm4lsuLEM"
      },
      "execution_count": 85,
      "outputs": []
    },
    {
      "cell_type": "code",
      "source": [
        " #Fitting our model\n",
        "# \n",
        "LogReg = LogisticRegression()\n",
        "LogReg.fit(X_train, y_train)"
      ],
      "metadata": {
        "id": "itEm-SiliAeF",
        "outputId": "d9743e30-fd88-434b-faf5-9ce556076b17",
        "colab": {
          "base_uri": "https://localhost:8080/"
        }
      },
      "execution_count": 86,
      "outputs": [
        {
          "output_type": "stream",
          "name": "stderr",
          "text": [
            "/usr/local/lib/python3.7/dist-packages/sklearn/linear_model/_logistic.py:818: ConvergenceWarning: lbfgs failed to converge (status=1):\n",
            "STOP: TOTAL NO. of ITERATIONS REACHED LIMIT.\n",
            "\n",
            "Increase the number of iterations (max_iter) or scale the data as shown in:\n",
            "    https://scikit-learn.org/stable/modules/preprocessing.html\n",
            "Please also refer to the documentation for alternative solver options:\n",
            "    https://scikit-learn.org/stable/modules/linear_model.html#logistic-regression\n",
            "  extra_warning_msg=_LOGISTIC_SOLVER_CONVERGENCE_MSG,\n"
          ]
        },
        {
          "output_type": "execute_result",
          "data": {
            "text/plain": [
              "LogisticRegression()"
            ]
          },
          "metadata": {},
          "execution_count": 86
        }
      ]
    },
    {
      "cell_type": "code",
      "source": [
        "# Using our model to make a prediction\n",
        "#\n",
        "y_pred = LogReg.predict(X_test)"
      ],
      "metadata": {
        "id": "-mkZB22oiTyC"
      },
      "execution_count": 87,
      "outputs": []
    },
    {
      "cell_type": "code",
      "source": [
        "# Evaluating the model\n",
        "confusion_matrix = confusion_matrix(y_test, y_pred)\n",
        "print('The confusion matrix:')\n",
        "print(confusion_matrix)\n",
        "\n",
        "print(\"The accuracy of the model is:\", accuracy_score(y_test, y_pred))\n"
      ],
      "metadata": {
        "id": "bP5qaV7niTs4",
        "outputId": "0ca063d9-e296-4598-dfe2-be55601ed50b",
        "colab": {
          "base_uri": "https://localhost:8080/"
        }
      },
      "execution_count": 88,
      "outputs": [
        {
          "output_type": "stream",
          "name": "stdout",
          "text": [
            "The confusion matrix:\n",
            "[[1398    0    0]\n",
            " [   0 1555    0]\n",
            " [   0    0 2735]]\n",
            "The accuracy of the model is: 1.0\n"
          ]
        }
      ]
    },
    {
      "cell_type": "markdown",
      "source": [
        "THe accuracy is too high(100%) on our firt model trial and this could be a sign of overfitting.\n",
        "\n",
        "We can challenge the solution by hyperparameter tuning, using different classifiers like the SVM"
      ],
      "metadata": {
        "id": "bmbmkpcVg9Rd"
      }
    },
    {
      "cell_type": "markdown",
      "source": [
        "### Challenging the solution"
      ],
      "metadata": {
        "id": "0osbM-PjhN7t"
      }
    },
    {
      "cell_type": "markdown",
      "source": [
        "Let's try hyperparameter tuning"
      ],
      "metadata": {
        "id": "IsiOzZwRhS8g"
      }
    },
    {
      "cell_type": "code",
      "source": [
        "football_df.head(2)"
      ],
      "metadata": {
        "id": "nvBjD2jshtyn",
        "outputId": "1ed15eb6-9168-4b92-f174-91a5d669379b",
        "colab": {
          "base_uri": "https://localhost:8080/",
          "height": 112
        }
      },
      "execution_count": 125,
      "outputs": [
        {
          "output_type": "execute_result",
          "data": {
            "text/plain": [
              "  home_team away_team  home_score  away_score tournament_type  home_rank  \\\n",
              "0  Colombia  Paraguay           0           0  FIFA World Cup         19   \n",
              "1  Colombia  Paraguay           0           0  FIFA World Cup         19   \n",
              "\n",
              "   away_rank match_outcome  \n",
              "0         67          Draw  \n",
              "1         67          Draw  "
            ],
            "text/html": [
              "\n",
              "  <div id=\"df-1ff66458-2aef-4416-addd-a71c62f58cc1\">\n",
              "    <div class=\"colab-df-container\">\n",
              "      <div>\n",
              "<style scoped>\n",
              "    .dataframe tbody tr th:only-of-type {\n",
              "        vertical-align: middle;\n",
              "    }\n",
              "\n",
              "    .dataframe tbody tr th {\n",
              "        vertical-align: top;\n",
              "    }\n",
              "\n",
              "    .dataframe thead th {\n",
              "        text-align: right;\n",
              "    }\n",
              "</style>\n",
              "<table border=\"1\" class=\"dataframe\">\n",
              "  <thead>\n",
              "    <tr style=\"text-align: right;\">\n",
              "      <th></th>\n",
              "      <th>home_team</th>\n",
              "      <th>away_team</th>\n",
              "      <th>home_score</th>\n",
              "      <th>away_score</th>\n",
              "      <th>tournament_type</th>\n",
              "      <th>home_rank</th>\n",
              "      <th>away_rank</th>\n",
              "      <th>match_outcome</th>\n",
              "    </tr>\n",
              "  </thead>\n",
              "  <tbody>\n",
              "    <tr>\n",
              "      <th>0</th>\n",
              "      <td>Colombia</td>\n",
              "      <td>Paraguay</td>\n",
              "      <td>0</td>\n",
              "      <td>0</td>\n",
              "      <td>FIFA World Cup</td>\n",
              "      <td>19</td>\n",
              "      <td>67</td>\n",
              "      <td>Draw</td>\n",
              "    </tr>\n",
              "    <tr>\n",
              "      <th>1</th>\n",
              "      <td>Colombia</td>\n",
              "      <td>Paraguay</td>\n",
              "      <td>0</td>\n",
              "      <td>0</td>\n",
              "      <td>FIFA World Cup</td>\n",
              "      <td>19</td>\n",
              "      <td>67</td>\n",
              "      <td>Draw</td>\n",
              "    </tr>\n",
              "  </tbody>\n",
              "</table>\n",
              "</div>\n",
              "      <button class=\"colab-df-convert\" onclick=\"convertToInteractive('df-1ff66458-2aef-4416-addd-a71c62f58cc1')\"\n",
              "              title=\"Convert this dataframe to an interactive table.\"\n",
              "              style=\"display:none;\">\n",
              "        \n",
              "  <svg xmlns=\"http://www.w3.org/2000/svg\" height=\"24px\"viewBox=\"0 0 24 24\"\n",
              "       width=\"24px\">\n",
              "    <path d=\"M0 0h24v24H0V0z\" fill=\"none\"/>\n",
              "    <path d=\"M18.56 5.44l.94 2.06.94-2.06 2.06-.94-2.06-.94-.94-2.06-.94 2.06-2.06.94zm-11 1L8.5 8.5l.94-2.06 2.06-.94-2.06-.94L8.5 2.5l-.94 2.06-2.06.94zm10 10l.94 2.06.94-2.06 2.06-.94-2.06-.94-.94-2.06-.94 2.06-2.06.94z\"/><path d=\"M17.41 7.96l-1.37-1.37c-.4-.4-.92-.59-1.43-.59-.52 0-1.04.2-1.43.59L10.3 9.45l-7.72 7.72c-.78.78-.78 2.05 0 2.83L4 21.41c.39.39.9.59 1.41.59.51 0 1.02-.2 1.41-.59l7.78-7.78 2.81-2.81c.8-.78.8-2.07 0-2.86zM5.41 20L4 18.59l7.72-7.72 1.47 1.35L5.41 20z\"/>\n",
              "  </svg>\n",
              "      </button>\n",
              "      \n",
              "  <style>\n",
              "    .colab-df-container {\n",
              "      display:flex;\n",
              "      flex-wrap:wrap;\n",
              "      gap: 12px;\n",
              "    }\n",
              "\n",
              "    .colab-df-convert {\n",
              "      background-color: #E8F0FE;\n",
              "      border: none;\n",
              "      border-radius: 50%;\n",
              "      cursor: pointer;\n",
              "      display: none;\n",
              "      fill: #1967D2;\n",
              "      height: 32px;\n",
              "      padding: 0 0 0 0;\n",
              "      width: 32px;\n",
              "    }\n",
              "\n",
              "    .colab-df-convert:hover {\n",
              "      background-color: #E2EBFA;\n",
              "      box-shadow: 0px 1px 2px rgba(60, 64, 67, 0.3), 0px 1px 3px 1px rgba(60, 64, 67, 0.15);\n",
              "      fill: #174EA6;\n",
              "    }\n",
              "\n",
              "    [theme=dark] .colab-df-convert {\n",
              "      background-color: #3B4455;\n",
              "      fill: #D2E3FC;\n",
              "    }\n",
              "\n",
              "    [theme=dark] .colab-df-convert:hover {\n",
              "      background-color: #434B5C;\n",
              "      box-shadow: 0px 1px 3px 1px rgba(0, 0, 0, 0.15);\n",
              "      filter: drop-shadow(0px 1px 2px rgba(0, 0, 0, 0.3));\n",
              "      fill: #FFFFFF;\n",
              "    }\n",
              "  </style>\n",
              "\n",
              "      <script>\n",
              "        const buttonEl =\n",
              "          document.querySelector('#df-1ff66458-2aef-4416-addd-a71c62f58cc1 button.colab-df-convert');\n",
              "        buttonEl.style.display =\n",
              "          google.colab.kernel.accessAllowed ? 'block' : 'none';\n",
              "\n",
              "        async function convertToInteractive(key) {\n",
              "          const element = document.querySelector('#df-1ff66458-2aef-4416-addd-a71c62f58cc1');\n",
              "          const dataTable =\n",
              "            await google.colab.kernel.invokeFunction('convertToInteractive',\n",
              "                                                     [key], {});\n",
              "          if (!dataTable) return;\n",
              "\n",
              "          const docLinkHtml = 'Like what you see? Visit the ' +\n",
              "            '<a target=\"_blank\" href=https://colab.research.google.com/notebooks/data_table.ipynb>data table notebook</a>'\n",
              "            + ' to learn more about interactive tables.';\n",
              "          element.innerHTML = '';\n",
              "          dataTable['output_type'] = 'display_data';\n",
              "          await google.colab.output.renderOutput(dataTable, element);\n",
              "          const docLink = document.createElement('div');\n",
              "          docLink.innerHTML = docLinkHtml;\n",
              "          element.appendChild(docLink);\n",
              "        }\n",
              "      </script>\n",
              "    </div>\n",
              "  </div>\n",
              "  "
            ]
          },
          "metadata": {},
          "execution_count": 125
        }
      ]
    },
    {
      "cell_type": "code",
      "source": [
        "# separate predictors from the target variable\n",
        "predictors = football_df[['home_score', 'away_score', 'tournament_type', 'home_rank', 'away_rank']]\n",
        "target = football_df['match_outcome']"
      ],
      "metadata": {
        "id": "YKV_EwJKhxHS"
      },
      "execution_count": 129,
      "outputs": []
    },
    {
      "cell_type": "code",
      "source": [
        "# Encoding the categorical variable using dictvectorizer\n",
        "# turn df into dict\n",
        "football_df_dict = predictor.to_dict(orient='records') # turn each row as key-value pairs\n",
        "\n",
        "\n",
        "# instantiate a Dictvectorizer object for X\n",
        "dv_football = DictVectorizer(sparse=False) \n",
        "# sparse = False makes the output is not a sparse matrix\n",
        "\n",
        "# apply dv_football on football_df_dict\n",
        "football_encoded = dv_football.fit_transform(football_df_dict)\n",
        "\n",
        "# convert the encoded array into a dataframe\n",
        "football_enc = pd.DataFrame(football_encoded)\n",
        "football_enc.head()"
      ],
      "metadata": {
        "id": "NqSSkB2AidAg",
        "outputId": "bdacab4c-161e-43e1-9eaf-0f62317759db",
        "colab": {
          "base_uri": "https://localhost:8080/",
          "height": 206
        }
      },
      "execution_count": 131,
      "outputs": [
        {
          "output_type": "execute_result",
          "data": {
            "text/plain": [
              "      0     1    2    3    4\n",
              "0  67.0  19.0  1.0  0.0  0.0\n",
              "1  67.0  19.0  1.0  0.0  0.0\n",
              "2  67.0   5.0  1.0  0.0  0.0\n",
              "3  67.0   5.0  1.0  0.0  0.0\n",
              "4   5.0  19.0  1.0  0.0  0.0"
            ],
            "text/html": [
              "\n",
              "  <div id=\"df-552dc9a6-acf4-45eb-a27d-89dcabb71866\">\n",
              "    <div class=\"colab-df-container\">\n",
              "      <div>\n",
              "<style scoped>\n",
              "    .dataframe tbody tr th:only-of-type {\n",
              "        vertical-align: middle;\n",
              "    }\n",
              "\n",
              "    .dataframe tbody tr th {\n",
              "        vertical-align: top;\n",
              "    }\n",
              "\n",
              "    .dataframe thead th {\n",
              "        text-align: right;\n",
              "    }\n",
              "</style>\n",
              "<table border=\"1\" class=\"dataframe\">\n",
              "  <thead>\n",
              "    <tr style=\"text-align: right;\">\n",
              "      <th></th>\n",
              "      <th>0</th>\n",
              "      <th>1</th>\n",
              "      <th>2</th>\n",
              "      <th>3</th>\n",
              "      <th>4</th>\n",
              "    </tr>\n",
              "  </thead>\n",
              "  <tbody>\n",
              "    <tr>\n",
              "      <th>0</th>\n",
              "      <td>67.0</td>\n",
              "      <td>19.0</td>\n",
              "      <td>1.0</td>\n",
              "      <td>0.0</td>\n",
              "      <td>0.0</td>\n",
              "    </tr>\n",
              "    <tr>\n",
              "      <th>1</th>\n",
              "      <td>67.0</td>\n",
              "      <td>19.0</td>\n",
              "      <td>1.0</td>\n",
              "      <td>0.0</td>\n",
              "      <td>0.0</td>\n",
              "    </tr>\n",
              "    <tr>\n",
              "      <th>2</th>\n",
              "      <td>67.0</td>\n",
              "      <td>5.0</td>\n",
              "      <td>1.0</td>\n",
              "      <td>0.0</td>\n",
              "      <td>0.0</td>\n",
              "    </tr>\n",
              "    <tr>\n",
              "      <th>3</th>\n",
              "      <td>67.0</td>\n",
              "      <td>5.0</td>\n",
              "      <td>1.0</td>\n",
              "      <td>0.0</td>\n",
              "      <td>0.0</td>\n",
              "    </tr>\n",
              "    <tr>\n",
              "      <th>4</th>\n",
              "      <td>5.0</td>\n",
              "      <td>19.0</td>\n",
              "      <td>1.0</td>\n",
              "      <td>0.0</td>\n",
              "      <td>0.0</td>\n",
              "    </tr>\n",
              "  </tbody>\n",
              "</table>\n",
              "</div>\n",
              "      <button class=\"colab-df-convert\" onclick=\"convertToInteractive('df-552dc9a6-acf4-45eb-a27d-89dcabb71866')\"\n",
              "              title=\"Convert this dataframe to an interactive table.\"\n",
              "              style=\"display:none;\">\n",
              "        \n",
              "  <svg xmlns=\"http://www.w3.org/2000/svg\" height=\"24px\"viewBox=\"0 0 24 24\"\n",
              "       width=\"24px\">\n",
              "    <path d=\"M0 0h24v24H0V0z\" fill=\"none\"/>\n",
              "    <path d=\"M18.56 5.44l.94 2.06.94-2.06 2.06-.94-2.06-.94-.94-2.06-.94 2.06-2.06.94zm-11 1L8.5 8.5l.94-2.06 2.06-.94-2.06-.94L8.5 2.5l-.94 2.06-2.06.94zm10 10l.94 2.06.94-2.06 2.06-.94-2.06-.94-.94-2.06-.94 2.06-2.06.94z\"/><path d=\"M17.41 7.96l-1.37-1.37c-.4-.4-.92-.59-1.43-.59-.52 0-1.04.2-1.43.59L10.3 9.45l-7.72 7.72c-.78.78-.78 2.05 0 2.83L4 21.41c.39.39.9.59 1.41.59.51 0 1.02-.2 1.41-.59l7.78-7.78 2.81-2.81c.8-.78.8-2.07 0-2.86zM5.41 20L4 18.59l7.72-7.72 1.47 1.35L5.41 20z\"/>\n",
              "  </svg>\n",
              "      </button>\n",
              "      \n",
              "  <style>\n",
              "    .colab-df-container {\n",
              "      display:flex;\n",
              "      flex-wrap:wrap;\n",
              "      gap: 12px;\n",
              "    }\n",
              "\n",
              "    .colab-df-convert {\n",
              "      background-color: #E8F0FE;\n",
              "      border: none;\n",
              "      border-radius: 50%;\n",
              "      cursor: pointer;\n",
              "      display: none;\n",
              "      fill: #1967D2;\n",
              "      height: 32px;\n",
              "      padding: 0 0 0 0;\n",
              "      width: 32px;\n",
              "    }\n",
              "\n",
              "    .colab-df-convert:hover {\n",
              "      background-color: #E2EBFA;\n",
              "      box-shadow: 0px 1px 2px rgba(60, 64, 67, 0.3), 0px 1px 3px 1px rgba(60, 64, 67, 0.15);\n",
              "      fill: #174EA6;\n",
              "    }\n",
              "\n",
              "    [theme=dark] .colab-df-convert {\n",
              "      background-color: #3B4455;\n",
              "      fill: #D2E3FC;\n",
              "    }\n",
              "\n",
              "    [theme=dark] .colab-df-convert:hover {\n",
              "      background-color: #434B5C;\n",
              "      box-shadow: 0px 1px 3px 1px rgba(0, 0, 0, 0.15);\n",
              "      filter: drop-shadow(0px 1px 2px rgba(0, 0, 0, 0.3));\n",
              "      fill: #FFFFFF;\n",
              "    }\n",
              "  </style>\n",
              "\n",
              "      <script>\n",
              "        const buttonEl =\n",
              "          document.querySelector('#df-552dc9a6-acf4-45eb-a27d-89dcabb71866 button.colab-df-convert');\n",
              "        buttonEl.style.display =\n",
              "          google.colab.kernel.accessAllowed ? 'block' : 'none';\n",
              "\n",
              "        async function convertToInteractive(key) {\n",
              "          const element = document.querySelector('#df-552dc9a6-acf4-45eb-a27d-89dcabb71866');\n",
              "          const dataTable =\n",
              "            await google.colab.kernel.invokeFunction('convertToInteractive',\n",
              "                                                     [key], {});\n",
              "          if (!dataTable) return;\n",
              "\n",
              "          const docLinkHtml = 'Like what you see? Visit the ' +\n",
              "            '<a target=\"_blank\" href=https://colab.research.google.com/notebooks/data_table.ipynb>data table notebook</a>'\n",
              "            + ' to learn more about interactive tables.';\n",
              "          element.innerHTML = '';\n",
              "          dataTable['output_type'] = 'display_data';\n",
              "          await google.colab.output.renderOutput(dataTable, element);\n",
              "          const docLink = document.createElement('div');\n",
              "          docLink.innerHTML = docLinkHtml;\n",
              "          element.appendChild(docLink);\n",
              "        }\n",
              "      </script>\n",
              "    </div>\n",
              "  </div>\n",
              "  "
            ]
          },
          "metadata": {},
          "execution_count": 131
        }
      ]
    },
    {
      "cell_type": "code",
      "source": [
        "# train test split\n",
        "xtrain, xtest, ytrain, ytest = train_test_split(football_enc, target, test_size = 0.2, random_state = 8)"
      ],
      "metadata": {
        "id": "RyigSQBEiTnQ"
      },
      "execution_count": 132,
      "outputs": []
    },
    {
      "cell_type": "code",
      "source": [
        "# Creating the logistic regression\n",
        "LogReg = LogisticRegression()\n",
        "\n",
        "# Creating regularization penalty space\n",
        "penalty = ['l1', 'l2', 'elasticnet']\n",
        "\n",
        "# Creating regularization hyperparameter space\n",
        "C = np.logspace(0, 4, 10)\n",
        "\n",
        "#solver\n",
        "solvers = ['newton-cg', 'lbfgs', 'liblinear', 'sag', 'saga']\n",
        "\n",
        "# multiclass\n",
        "multiclass = ['auto', 'ovr', 'multinomial']\n",
        "\n",
        "# Creating hyperparameter options\n",
        "hyperparameters = dict(C=C, penalty=penalty,solver = solvers,\n",
        "                         multi_class = multiclass)\n",
        "\n",
        "# Creating grid search using 5-fold cross validation\n",
        "clf = RandomizedSearchCV(LogReg, \n",
        "                         hyperparameters,\n",
        "                         cv=5,\n",
        "                         n_iter=100,\n",
        "                         random_state = 12, \n",
        "                         verbose=2\n",
        "                         )\n",
        "\n",
        "# Fitting grid search\n",
        "best_model = clf.fit(xtrain, ytrain)\n",
        "\n",
        "best_model"
      ],
      "metadata": {
        "id": "tONfRTlLiTkN",
        "outputId": "1120e3c0-f432-42da-a224-65ae744cffae",
        "colab": {
          "base_uri": "https://localhost:8080/"
        }
      },
      "execution_count": 133,
      "outputs": [
        {
          "output_type": "stream",
          "name": "stdout",
          "text": [
            "Fitting 5 folds for each of 100 candidates, totalling 500 fits\n",
            "[CV] END C=2.7825594022071245, multi_class=multinomial, penalty=l2, solver=lbfgs; total time=   0.7s\n",
            "[CV] END C=2.7825594022071245, multi_class=multinomial, penalty=l2, solver=lbfgs; total time=   0.7s\n",
            "[CV] END C=2.7825594022071245, multi_class=multinomial, penalty=l2, solver=lbfgs; total time=   0.7s\n",
            "[CV] END C=2.7825594022071245, multi_class=multinomial, penalty=l2, solver=lbfgs; total time=   0.7s\n",
            "[CV] END C=2.7825594022071245, multi_class=multinomial, penalty=l2, solver=lbfgs; total time=   0.8s\n",
            "[CV] END C=1.0, multi_class=multinomial, penalty=l2, solver=liblinear; total time=   0.0s\n",
            "[CV] END C=1.0, multi_class=multinomial, penalty=l2, solver=liblinear; total time=   0.0s\n",
            "[CV] END C=1.0, multi_class=multinomial, penalty=l2, solver=liblinear; total time=   0.0s\n",
            "[CV] END C=1.0, multi_class=multinomial, penalty=l2, solver=liblinear; total time=   0.0s\n",
            "[CV] END C=1.0, multi_class=multinomial, penalty=l2, solver=liblinear; total time=   0.0s\n",
            "[CV] END C=21.544346900318832, multi_class=ovr, penalty=l1, solver=newton-cg; total time=   0.0s\n",
            "[CV] END C=21.544346900318832, multi_class=ovr, penalty=l1, solver=newton-cg; total time=   0.0s\n",
            "[CV] END C=21.544346900318832, multi_class=ovr, penalty=l1, solver=newton-cg; total time=   0.0s\n",
            "[CV] END C=21.544346900318832, multi_class=ovr, penalty=l1, solver=newton-cg; total time=   0.0s\n",
            "[CV] END C=21.544346900318832, multi_class=ovr, penalty=l1, solver=newton-cg; total time=   0.0s\n",
            "[CV] END ...C=1.0, multi_class=ovr, penalty=l2, solver=lbfgs; total time=   0.4s\n",
            "[CV] END ...C=1.0, multi_class=ovr, penalty=l2, solver=lbfgs; total time=   0.4s\n",
            "[CV] END ...C=1.0, multi_class=ovr, penalty=l2, solver=lbfgs; total time=   0.4s\n",
            "[CV] END ...C=1.0, multi_class=ovr, penalty=l2, solver=lbfgs; total time=   0.4s\n",
            "[CV] END ...C=1.0, multi_class=ovr, penalty=l2, solver=lbfgs; total time=   0.4s\n",
            "[CV] END C=59.94842503189409, multi_class=multinomial, penalty=elasticnet, solver=liblinear; total time=   0.0s\n",
            "[CV] END C=59.94842503189409, multi_class=multinomial, penalty=elasticnet, solver=liblinear; total time=   0.0s\n",
            "[CV] END C=59.94842503189409, multi_class=multinomial, penalty=elasticnet, solver=liblinear; total time=   0.0s\n",
            "[CV] END C=59.94842503189409, multi_class=multinomial, penalty=elasticnet, solver=liblinear; total time=   0.0s\n",
            "[CV] END C=59.94842503189409, multi_class=multinomial, penalty=elasticnet, solver=liblinear; total time=   0.0s\n",
            "[CV] END C=1291.5496650148827, multi_class=auto, penalty=l2, solver=liblinear; total time=   0.1s\n",
            "[CV] END C=1291.5496650148827, multi_class=auto, penalty=l2, solver=liblinear; total time=   0.1s\n",
            "[CV] END C=1291.5496650148827, multi_class=auto, penalty=l2, solver=liblinear; total time=   0.1s\n",
            "[CV] END C=1291.5496650148827, multi_class=auto, penalty=l2, solver=liblinear; total time=   0.1s\n",
            "[CV] END C=1291.5496650148827, multi_class=auto, penalty=l2, solver=liblinear; total time=   0.1s\n",
            "[CV] END C=1291.5496650148827, multi_class=ovr, penalty=elasticnet, solver=saga; total time=   0.0s\n",
            "[CV] END C=1291.5496650148827, multi_class=ovr, penalty=elasticnet, solver=saga; total time=   0.0s\n",
            "[CV] END C=1291.5496650148827, multi_class=ovr, penalty=elasticnet, solver=saga; total time=   0.0s\n",
            "[CV] END C=1291.5496650148827, multi_class=ovr, penalty=elasticnet, solver=saga; total time=   0.0s\n",
            "[CV] END C=1291.5496650148827, multi_class=ovr, penalty=elasticnet, solver=saga; total time=   0.0s\n",
            "[CV] END C=166.81005372000593, multi_class=multinomial, penalty=elasticnet, solver=liblinear; total time=   0.0s\n",
            "[CV] END C=166.81005372000593, multi_class=multinomial, penalty=elasticnet, solver=liblinear; total time=   0.0s\n",
            "[CV] END C=166.81005372000593, multi_class=multinomial, penalty=elasticnet, solver=liblinear; total time=   0.0s\n",
            "[CV] END C=166.81005372000593, multi_class=multinomial, penalty=elasticnet, solver=liblinear; total time=   0.0s\n",
            "[CV] END C=166.81005372000593, multi_class=multinomial, penalty=elasticnet, solver=liblinear; total time=   0.0s\n",
            "[CV] END C=1.0, multi_class=multinomial, penalty=elasticnet, solver=newton-cg; total time=   0.0s\n",
            "[CV] END C=1.0, multi_class=multinomial, penalty=elasticnet, solver=newton-cg; total time=   0.0s\n",
            "[CV] END C=1.0, multi_class=multinomial, penalty=elasticnet, solver=newton-cg; total time=   0.0s\n",
            "[CV] END C=1.0, multi_class=multinomial, penalty=elasticnet, solver=newton-cg; total time=   0.0s\n",
            "[CV] END C=1.0, multi_class=multinomial, penalty=elasticnet, solver=newton-cg; total time=   0.0s\n",
            "[CV] END C=166.81005372000593, multi_class=ovr, penalty=elasticnet, solver=newton-cg; total time=   0.0s\n",
            "[CV] END C=166.81005372000593, multi_class=ovr, penalty=elasticnet, solver=newton-cg; total time=   0.0s\n",
            "[CV] END C=166.81005372000593, multi_class=ovr, penalty=elasticnet, solver=newton-cg; total time=   0.0s\n",
            "[CV] END C=166.81005372000593, multi_class=ovr, penalty=elasticnet, solver=newton-cg; total time=   0.0s\n",
            "[CV] END C=166.81005372000593, multi_class=ovr, penalty=elasticnet, solver=newton-cg; total time=   0.0s\n",
            "[CV] END C=10000.0, multi_class=auto, penalty=l1, solver=sag; total time=   0.0s\n",
            "[CV] END C=10000.0, multi_class=auto, penalty=l1, solver=sag; total time=   0.0s\n",
            "[CV] END C=10000.0, multi_class=auto, penalty=l1, solver=sag; total time=   0.0s\n",
            "[CV] END C=10000.0, multi_class=auto, penalty=l1, solver=sag; total time=   0.0s\n",
            "[CV] END C=10000.0, multi_class=auto, penalty=l1, solver=sag; total time=   0.0s\n"
          ]
        },
        {
          "output_type": "stream",
          "name": "stderr",
          "text": [
            "/usr/local/lib/python3.7/dist-packages/sklearn/linear_model/_sag.py:354: ConvergenceWarning: The max_iter was reached which means the coef_ did not converge\n",
            "  ConvergenceWarning,\n"
          ]
        },
        {
          "output_type": "stream",
          "name": "stdout",
          "text": [
            "[CV] END C=1291.5496650148827, multi_class=multinomial, penalty=l2, solver=saga; total time=   0.6s\n"
          ]
        },
        {
          "output_type": "stream",
          "name": "stderr",
          "text": [
            "/usr/local/lib/python3.7/dist-packages/sklearn/linear_model/_sag.py:354: ConvergenceWarning: The max_iter was reached which means the coef_ did not converge\n",
            "  ConvergenceWarning,\n"
          ]
        },
        {
          "output_type": "stream",
          "name": "stdout",
          "text": [
            "[CV] END C=1291.5496650148827, multi_class=multinomial, penalty=l2, solver=saga; total time=   0.7s\n"
          ]
        },
        {
          "output_type": "stream",
          "name": "stderr",
          "text": [
            "/usr/local/lib/python3.7/dist-packages/sklearn/linear_model/_sag.py:354: ConvergenceWarning: The max_iter was reached which means the coef_ did not converge\n",
            "  ConvergenceWarning,\n"
          ]
        },
        {
          "output_type": "stream",
          "name": "stdout",
          "text": [
            "[CV] END C=1291.5496650148827, multi_class=multinomial, penalty=l2, solver=saga; total time=   0.7s\n"
          ]
        },
        {
          "output_type": "stream",
          "name": "stderr",
          "text": [
            "/usr/local/lib/python3.7/dist-packages/sklearn/linear_model/_sag.py:354: ConvergenceWarning: The max_iter was reached which means the coef_ did not converge\n",
            "  ConvergenceWarning,\n"
          ]
        },
        {
          "output_type": "stream",
          "name": "stdout",
          "text": [
            "[CV] END C=1291.5496650148827, multi_class=multinomial, penalty=l2, solver=saga; total time=   0.7s\n"
          ]
        },
        {
          "output_type": "stream",
          "name": "stderr",
          "text": [
            "/usr/local/lib/python3.7/dist-packages/sklearn/linear_model/_sag.py:354: ConvergenceWarning: The max_iter was reached which means the coef_ did not converge\n",
            "  ConvergenceWarning,\n"
          ]
        },
        {
          "output_type": "stream",
          "name": "stdout",
          "text": [
            "[CV] END C=1291.5496650148827, multi_class=multinomial, penalty=l2, solver=saga; total time=   0.7s\n",
            "[CV] END C=7.742636826811269, multi_class=auto, penalty=l1, solver=liblinear; total time=   0.1s\n",
            "[CV] END C=7.742636826811269, multi_class=auto, penalty=l1, solver=liblinear; total time=   0.1s\n",
            "[CV] END C=7.742636826811269, multi_class=auto, penalty=l1, solver=liblinear; total time=   0.2s\n",
            "[CV] END C=7.742636826811269, multi_class=auto, penalty=l1, solver=liblinear; total time=   0.1s\n",
            "[CV] END C=7.742636826811269, multi_class=auto, penalty=l1, solver=liblinear; total time=   0.1s\n",
            "[CV] END C=464.15888336127773, multi_class=auto, penalty=l2, solver=newton-cg; total time=   1.0s\n",
            "[CV] END C=464.15888336127773, multi_class=auto, penalty=l2, solver=newton-cg; total time=   0.9s\n",
            "[CV] END C=464.15888336127773, multi_class=auto, penalty=l2, solver=newton-cg; total time=   1.0s\n",
            "[CV] END C=464.15888336127773, multi_class=auto, penalty=l2, solver=newton-cg; total time=   0.9s\n",
            "[CV] END C=464.15888336127773, multi_class=auto, penalty=l2, solver=newton-cg; total time=   0.9s\n",
            "[CV] END C=2.7825594022071245, multi_class=multinomial, penalty=elasticnet, solver=liblinear; total time=   0.0s\n",
            "[CV] END C=2.7825594022071245, multi_class=multinomial, penalty=elasticnet, solver=liblinear; total time=   0.0s\n",
            "[CV] END C=2.7825594022071245, multi_class=multinomial, penalty=elasticnet, solver=liblinear; total time=   0.0s\n",
            "[CV] END C=2.7825594022071245, multi_class=multinomial, penalty=elasticnet, solver=liblinear; total time=   0.0s\n",
            "[CV] END C=2.7825594022071245, multi_class=multinomial, penalty=elasticnet, solver=liblinear; total time=   0.0s\n",
            "[CV] END C=1291.5496650148827, multi_class=multinomial, penalty=l1, solver=sag; total time=   0.0s\n",
            "[CV] END C=1291.5496650148827, multi_class=multinomial, penalty=l1, solver=sag; total time=   0.0s\n",
            "[CV] END C=1291.5496650148827, multi_class=multinomial, penalty=l1, solver=sag; total time=   0.0s\n",
            "[CV] END C=1291.5496650148827, multi_class=multinomial, penalty=l1, solver=sag; total time=   0.0s\n",
            "[CV] END C=1291.5496650148827, multi_class=multinomial, penalty=l1, solver=sag; total time=   0.0s\n",
            "[CV] END C=7.742636826811269, multi_class=multinomial, penalty=l2, solver=liblinear; total time=   0.0s\n",
            "[CV] END C=7.742636826811269, multi_class=multinomial, penalty=l2, solver=liblinear; total time=   0.0s\n",
            "[CV] END C=7.742636826811269, multi_class=multinomial, penalty=l2, solver=liblinear; total time=   0.0s\n",
            "[CV] END C=7.742636826811269, multi_class=multinomial, penalty=l2, solver=liblinear; total time=   0.0s\n",
            "[CV] END C=7.742636826811269, multi_class=multinomial, penalty=l2, solver=liblinear; total time=   0.0s\n",
            "[CV] END ..C=1.0, multi_class=auto, penalty=l1, solver=lbfgs; total time=   0.0s\n",
            "[CV] END ..C=1.0, multi_class=auto, penalty=l1, solver=lbfgs; total time=   0.0s\n",
            "[CV] END ..C=1.0, multi_class=auto, penalty=l1, solver=lbfgs; total time=   0.0s\n",
            "[CV] END ..C=1.0, multi_class=auto, penalty=l1, solver=lbfgs; total time=   0.0s\n",
            "[CV] END ..C=1.0, multi_class=auto, penalty=l1, solver=lbfgs; total time=   0.0s\n",
            "[CV] END C=10000.0, multi_class=ovr, penalty=elasticnet, solver=lbfgs; total time=   0.0s\n",
            "[CV] END C=10000.0, multi_class=ovr, penalty=elasticnet, solver=lbfgs; total time=   0.0s\n",
            "[CV] END C=10000.0, multi_class=ovr, penalty=elasticnet, solver=lbfgs; total time=   0.0s\n",
            "[CV] END C=10000.0, multi_class=ovr, penalty=elasticnet, solver=lbfgs; total time=   0.0s\n",
            "[CV] END C=10000.0, multi_class=ovr, penalty=elasticnet, solver=lbfgs; total time=   0.0s\n",
            "[CV] END C=3593.813663804626, multi_class=ovr, penalty=l1, solver=sag; total time=   0.0s\n",
            "[CV] END C=3593.813663804626, multi_class=ovr, penalty=l1, solver=sag; total time=   0.0s\n",
            "[CV] END C=3593.813663804626, multi_class=ovr, penalty=l1, solver=sag; total time=   0.0s\n",
            "[CV] END C=3593.813663804626, multi_class=ovr, penalty=l1, solver=sag; total time=   0.0s\n",
            "[CV] END C=3593.813663804626, multi_class=ovr, penalty=l1, solver=sag; total time=   0.0s\n",
            "[CV] END C=1.0, multi_class=auto, penalty=elasticnet, solver=lbfgs; total time=   0.0s\n",
            "[CV] END C=1.0, multi_class=auto, penalty=elasticnet, solver=lbfgs; total time=   0.0s\n",
            "[CV] END C=1.0, multi_class=auto, penalty=elasticnet, solver=lbfgs; total time=   0.0s\n",
            "[CV] END C=1.0, multi_class=auto, penalty=elasticnet, solver=lbfgs; total time=   0.0s\n",
            "[CV] END C=1.0, multi_class=auto, penalty=elasticnet, solver=lbfgs; total time=   0.0s\n",
            "[CV] END C=166.81005372000593, multi_class=multinomial, penalty=l1, solver=newton-cg; total time=   0.0s\n",
            "[CV] END C=166.81005372000593, multi_class=multinomial, penalty=l1, solver=newton-cg; total time=   0.0s\n",
            "[CV] END C=166.81005372000593, multi_class=multinomial, penalty=l1, solver=newton-cg; total time=   0.0s\n",
            "[CV] END C=166.81005372000593, multi_class=multinomial, penalty=l1, solver=newton-cg; total time=   0.0s\n",
            "[CV] END C=166.81005372000593, multi_class=multinomial, penalty=l1, solver=newton-cg; total time=   0.0s\n",
            "[CV] END C=21.544346900318832, multi_class=multinomial, penalty=elasticnet, solver=liblinear; total time=   0.0s\n",
            "[CV] END C=21.544346900318832, multi_class=multinomial, penalty=elasticnet, solver=liblinear; total time=   0.0s\n",
            "[CV] END C=21.544346900318832, multi_class=multinomial, penalty=elasticnet, solver=liblinear; total time=   0.0s\n",
            "[CV] END C=21.544346900318832, multi_class=multinomial, penalty=elasticnet, solver=liblinear; total time=   0.0s\n",
            "[CV] END C=21.544346900318832, multi_class=multinomial, penalty=elasticnet, solver=liblinear; total time=   0.0s\n",
            "[CV] END C=7.742636826811269, multi_class=multinomial, penalty=l1, solver=liblinear; total time=   0.0s\n",
            "[CV] END C=7.742636826811269, multi_class=multinomial, penalty=l1, solver=liblinear; total time=   0.0s\n",
            "[CV] END C=7.742636826811269, multi_class=multinomial, penalty=l1, solver=liblinear; total time=   0.0s\n",
            "[CV] END C=7.742636826811269, multi_class=multinomial, penalty=l1, solver=liblinear; total time=   0.0s\n",
            "[CV] END C=7.742636826811269, multi_class=multinomial, penalty=l1, solver=liblinear; total time=   0.0s\n"
          ]
        },
        {
          "output_type": "stream",
          "name": "stderr",
          "text": [
            "/usr/local/lib/python3.7/dist-packages/sklearn/linear_model/_sag.py:354: ConvergenceWarning: The max_iter was reached which means the coef_ did not converge\n",
            "  ConvergenceWarning,\n",
            "/usr/local/lib/python3.7/dist-packages/sklearn/linear_model/_sag.py:354: ConvergenceWarning: The max_iter was reached which means the coef_ did not converge\n",
            "  ConvergenceWarning,\n",
            "/usr/local/lib/python3.7/dist-packages/sklearn/linear_model/_sag.py:354: ConvergenceWarning: The max_iter was reached which means the coef_ did not converge\n",
            "  ConvergenceWarning,\n"
          ]
        },
        {
          "output_type": "stream",
          "name": "stdout",
          "text": [
            "[CV] END C=464.15888336127773, multi_class=ovr, penalty=l1, solver=saga; total time=   0.9s\n"
          ]
        },
        {
          "output_type": "stream",
          "name": "stderr",
          "text": [
            "/usr/local/lib/python3.7/dist-packages/sklearn/linear_model/_sag.py:354: ConvergenceWarning: The max_iter was reached which means the coef_ did not converge\n",
            "  ConvergenceWarning,\n",
            "/usr/local/lib/python3.7/dist-packages/sklearn/linear_model/_sag.py:354: ConvergenceWarning: The max_iter was reached which means the coef_ did not converge\n",
            "  ConvergenceWarning,\n",
            "/usr/local/lib/python3.7/dist-packages/sklearn/linear_model/_sag.py:354: ConvergenceWarning: The max_iter was reached which means the coef_ did not converge\n",
            "  ConvergenceWarning,\n"
          ]
        },
        {
          "output_type": "stream",
          "name": "stdout",
          "text": [
            "[CV] END C=464.15888336127773, multi_class=ovr, penalty=l1, solver=saga; total time=   1.0s\n"
          ]
        },
        {
          "output_type": "stream",
          "name": "stderr",
          "text": [
            "/usr/local/lib/python3.7/dist-packages/sklearn/linear_model/_sag.py:354: ConvergenceWarning: The max_iter was reached which means the coef_ did not converge\n",
            "  ConvergenceWarning,\n",
            "/usr/local/lib/python3.7/dist-packages/sklearn/linear_model/_sag.py:354: ConvergenceWarning: The max_iter was reached which means the coef_ did not converge\n",
            "  ConvergenceWarning,\n",
            "/usr/local/lib/python3.7/dist-packages/sklearn/linear_model/_sag.py:354: ConvergenceWarning: The max_iter was reached which means the coef_ did not converge\n",
            "  ConvergenceWarning,\n"
          ]
        },
        {
          "output_type": "stream",
          "name": "stdout",
          "text": [
            "[CV] END C=464.15888336127773, multi_class=ovr, penalty=l1, solver=saga; total time=   0.9s\n"
          ]
        },
        {
          "output_type": "stream",
          "name": "stderr",
          "text": [
            "/usr/local/lib/python3.7/dist-packages/sklearn/linear_model/_sag.py:354: ConvergenceWarning: The max_iter was reached which means the coef_ did not converge\n",
            "  ConvergenceWarning,\n",
            "/usr/local/lib/python3.7/dist-packages/sklearn/linear_model/_sag.py:354: ConvergenceWarning: The max_iter was reached which means the coef_ did not converge\n",
            "  ConvergenceWarning,\n",
            "/usr/local/lib/python3.7/dist-packages/sklearn/linear_model/_sag.py:354: ConvergenceWarning: The max_iter was reached which means the coef_ did not converge\n",
            "  ConvergenceWarning,\n"
          ]
        },
        {
          "output_type": "stream",
          "name": "stdout",
          "text": [
            "[CV] END C=464.15888336127773, multi_class=ovr, penalty=l1, solver=saga; total time=   0.9s\n"
          ]
        },
        {
          "output_type": "stream",
          "name": "stderr",
          "text": [
            "/usr/local/lib/python3.7/dist-packages/sklearn/linear_model/_sag.py:354: ConvergenceWarning: The max_iter was reached which means the coef_ did not converge\n",
            "  ConvergenceWarning,\n",
            "/usr/local/lib/python3.7/dist-packages/sklearn/linear_model/_sag.py:354: ConvergenceWarning: The max_iter was reached which means the coef_ did not converge\n",
            "  ConvergenceWarning,\n",
            "/usr/local/lib/python3.7/dist-packages/sklearn/linear_model/_sag.py:354: ConvergenceWarning: The max_iter was reached which means the coef_ did not converge\n",
            "  ConvergenceWarning,\n"
          ]
        },
        {
          "output_type": "stream",
          "name": "stdout",
          "text": [
            "[CV] END C=464.15888336127773, multi_class=ovr, penalty=l1, solver=saga; total time=   0.9s\n",
            "[CV] END C=10000.0, multi_class=multinomial, penalty=elasticnet, solver=newton-cg; total time=   0.0s\n",
            "[CV] END C=10000.0, multi_class=multinomial, penalty=elasticnet, solver=newton-cg; total time=   0.0s\n",
            "[CV] END C=10000.0, multi_class=multinomial, penalty=elasticnet, solver=newton-cg; total time=   0.0s\n",
            "[CV] END C=10000.0, multi_class=multinomial, penalty=elasticnet, solver=newton-cg; total time=   0.0s\n",
            "[CV] END C=10000.0, multi_class=multinomial, penalty=elasticnet, solver=newton-cg; total time=   0.0s\n",
            "[CV] END C=1291.5496650148827, multi_class=multinomial, penalty=l1, solver=liblinear; total time=   0.0s\n",
            "[CV] END C=1291.5496650148827, multi_class=multinomial, penalty=l1, solver=liblinear; total time=   0.0s\n",
            "[CV] END C=1291.5496650148827, multi_class=multinomial, penalty=l1, solver=liblinear; total time=   0.0s\n",
            "[CV] END C=1291.5496650148827, multi_class=multinomial, penalty=l1, solver=liblinear; total time=   0.0s\n",
            "[CV] END C=1291.5496650148827, multi_class=multinomial, penalty=l1, solver=liblinear; total time=   0.0s\n",
            "[CV] END C=464.15888336127773, multi_class=auto, penalty=l2, solver=liblinear; total time=   0.1s\n",
            "[CV] END C=464.15888336127773, multi_class=auto, penalty=l2, solver=liblinear; total time=   0.1s\n",
            "[CV] END C=464.15888336127773, multi_class=auto, penalty=l2, solver=liblinear; total time=   0.1s\n",
            "[CV] END C=464.15888336127773, multi_class=auto, penalty=l2, solver=liblinear; total time=   0.1s\n",
            "[CV] END C=464.15888336127773, multi_class=auto, penalty=l2, solver=liblinear; total time=   0.1s\n",
            "[CV] END ..C=1.0, multi_class=auto, penalty=l2, solver=lbfgs; total time=   0.7s\n",
            "[CV] END ..C=1.0, multi_class=auto, penalty=l2, solver=lbfgs; total time=   0.7s\n",
            "[CV] END ..C=1.0, multi_class=auto, penalty=l2, solver=lbfgs; total time=   0.7s\n",
            "[CV] END ..C=1.0, multi_class=auto, penalty=l2, solver=lbfgs; total time=   0.7s\n",
            "[CV] END ..C=1.0, multi_class=auto, penalty=l2, solver=lbfgs; total time=   0.8s\n",
            "[CV] END C=3593.813663804626, multi_class=ovr, penalty=elasticnet, solver=sag; total time=   0.0s\n",
            "[CV] END C=3593.813663804626, multi_class=ovr, penalty=elasticnet, solver=sag; total time=   0.0s\n",
            "[CV] END C=3593.813663804626, multi_class=ovr, penalty=elasticnet, solver=sag; total time=   0.0s\n",
            "[CV] END C=3593.813663804626, multi_class=ovr, penalty=elasticnet, solver=sag; total time=   0.0s\n",
            "[CV] END C=3593.813663804626, multi_class=ovr, penalty=elasticnet, solver=sag; total time=   0.0s\n"
          ]
        },
        {
          "output_type": "stream",
          "name": "stderr",
          "text": [
            "/usr/local/lib/python3.7/dist-packages/sklearn/linear_model/_sag.py:354: ConvergenceWarning: The max_iter was reached which means the coef_ did not converge\n",
            "  ConvergenceWarning,\n"
          ]
        },
        {
          "output_type": "stream",
          "name": "stdout",
          "text": [
            "[CV] END C=10000.0, multi_class=multinomial, penalty=l2, solver=sag; total time=   0.6s\n"
          ]
        },
        {
          "output_type": "stream",
          "name": "stderr",
          "text": [
            "/usr/local/lib/python3.7/dist-packages/sklearn/linear_model/_sag.py:354: ConvergenceWarning: The max_iter was reached which means the coef_ did not converge\n",
            "  ConvergenceWarning,\n"
          ]
        },
        {
          "output_type": "stream",
          "name": "stdout",
          "text": [
            "[CV] END C=10000.0, multi_class=multinomial, penalty=l2, solver=sag; total time=   0.6s\n"
          ]
        },
        {
          "output_type": "stream",
          "name": "stderr",
          "text": [
            "/usr/local/lib/python3.7/dist-packages/sklearn/linear_model/_sag.py:354: ConvergenceWarning: The max_iter was reached which means the coef_ did not converge\n",
            "  ConvergenceWarning,\n"
          ]
        },
        {
          "output_type": "stream",
          "name": "stdout",
          "text": [
            "[CV] END C=10000.0, multi_class=multinomial, penalty=l2, solver=sag; total time=   0.6s\n"
          ]
        },
        {
          "output_type": "stream",
          "name": "stderr",
          "text": [
            "/usr/local/lib/python3.7/dist-packages/sklearn/linear_model/_sag.py:354: ConvergenceWarning: The max_iter was reached which means the coef_ did not converge\n",
            "  ConvergenceWarning,\n"
          ]
        },
        {
          "output_type": "stream",
          "name": "stdout",
          "text": [
            "[CV] END C=10000.0, multi_class=multinomial, penalty=l2, solver=sag; total time=   0.6s\n"
          ]
        },
        {
          "output_type": "stream",
          "name": "stderr",
          "text": [
            "/usr/local/lib/python3.7/dist-packages/sklearn/linear_model/_sag.py:354: ConvergenceWarning: The max_iter was reached which means the coef_ did not converge\n",
            "  ConvergenceWarning,\n"
          ]
        },
        {
          "output_type": "stream",
          "name": "stdout",
          "text": [
            "[CV] END C=10000.0, multi_class=multinomial, penalty=l2, solver=sag; total time=   0.6s\n",
            "[CV] END C=7.742636826811269, multi_class=auto, penalty=elasticnet, solver=lbfgs; total time=   0.0s\n",
            "[CV] END C=7.742636826811269, multi_class=auto, penalty=elasticnet, solver=lbfgs; total time=   0.0s\n",
            "[CV] END C=7.742636826811269, multi_class=auto, penalty=elasticnet, solver=lbfgs; total time=   0.0s\n",
            "[CV] END C=7.742636826811269, multi_class=auto, penalty=elasticnet, solver=lbfgs; total time=   0.0s\n",
            "[CV] END C=7.742636826811269, multi_class=auto, penalty=elasticnet, solver=lbfgs; total time=   0.0s\n",
            "[CV] END C=464.15888336127773, multi_class=ovr, penalty=l1, solver=lbfgs; total time=   0.0s\n",
            "[CV] END C=464.15888336127773, multi_class=ovr, penalty=l1, solver=lbfgs; total time=   0.0s\n",
            "[CV] END C=464.15888336127773, multi_class=ovr, penalty=l1, solver=lbfgs; total time=   0.0s\n",
            "[CV] END C=464.15888336127773, multi_class=ovr, penalty=l1, solver=lbfgs; total time=   0.0s\n",
            "[CV] END C=464.15888336127773, multi_class=ovr, penalty=l1, solver=lbfgs; total time=   0.0s\n",
            "[CV] END C=1.0, multi_class=ovr, penalty=elasticnet, solver=saga; total time=   0.0s\n",
            "[CV] END C=1.0, multi_class=ovr, penalty=elasticnet, solver=saga; total time=   0.0s\n",
            "[CV] END C=1.0, multi_class=ovr, penalty=elasticnet, solver=saga; total time=   0.0s\n",
            "[CV] END C=1.0, multi_class=ovr, penalty=elasticnet, solver=saga; total time=   0.0s\n",
            "[CV] END C=1.0, multi_class=ovr, penalty=elasticnet, solver=saga; total time=   0.0s\n",
            "[CV] END C=3593.813663804626, multi_class=auto, penalty=l2, solver=newton-cg; total time=   0.8s\n",
            "[CV] END C=3593.813663804626, multi_class=auto, penalty=l2, solver=newton-cg; total time=   0.8s\n",
            "[CV] END C=3593.813663804626, multi_class=auto, penalty=l2, solver=newton-cg; total time=   0.8s\n",
            "[CV] END C=3593.813663804626, multi_class=auto, penalty=l2, solver=newton-cg; total time=   1.0s\n",
            "[CV] END C=3593.813663804626, multi_class=auto, penalty=l2, solver=newton-cg; total time=   0.7s\n",
            "[CV] END C=1.0, multi_class=multinomial, penalty=elasticnet, solver=saga; total time=   0.0s\n",
            "[CV] END C=1.0, multi_class=multinomial, penalty=elasticnet, solver=saga; total time=   0.0s\n",
            "[CV] END C=1.0, multi_class=multinomial, penalty=elasticnet, solver=saga; total time=   0.0s\n",
            "[CV] END C=1.0, multi_class=multinomial, penalty=elasticnet, solver=saga; total time=   0.0s\n",
            "[CV] END C=1.0, multi_class=multinomial, penalty=elasticnet, solver=saga; total time=   0.0s\n",
            "[CV] END C=1.0, multi_class=multinomial, penalty=l2, solver=newton-cg; total time=   1.0s\n",
            "[CV] END C=1.0, multi_class=multinomial, penalty=l2, solver=newton-cg; total time=   0.8s\n",
            "[CV] END C=1.0, multi_class=multinomial, penalty=l2, solver=newton-cg; total time=   0.9s\n",
            "[CV] END C=1.0, multi_class=multinomial, penalty=l2, solver=newton-cg; total time=   0.9s\n",
            "[CV] END C=1.0, multi_class=multinomial, penalty=l2, solver=newton-cg; total time=   0.8s\n",
            "[CV] END C=464.15888336127773, multi_class=ovr, penalty=l1, solver=liblinear; total time=   0.1s\n",
            "[CV] END C=464.15888336127773, multi_class=ovr, penalty=l1, solver=liblinear; total time=   0.1s\n",
            "[CV] END C=464.15888336127773, multi_class=ovr, penalty=l1, solver=liblinear; total time=   0.1s\n",
            "[CV] END C=464.15888336127773, multi_class=ovr, penalty=l1, solver=liblinear; total time=   0.1s\n",
            "[CV] END C=464.15888336127773, multi_class=ovr, penalty=l1, solver=liblinear; total time=   0.1s\n",
            "[CV] END C=1.0, multi_class=auto, penalty=elasticnet, solver=saga; total time=   0.0s\n",
            "[CV] END C=1.0, multi_class=auto, penalty=elasticnet, solver=saga; total time=   0.0s\n",
            "[CV] END C=1.0, multi_class=auto, penalty=elasticnet, solver=saga; total time=   0.0s\n",
            "[CV] END C=1.0, multi_class=auto, penalty=elasticnet, solver=saga; total time=   0.0s\n",
            "[CV] END C=1.0, multi_class=auto, penalty=elasticnet, solver=saga; total time=   0.0s\n",
            "[CV] END C=2.7825594022071245, multi_class=multinomial, penalty=elasticnet, solver=newton-cg; total time=   0.0s\n",
            "[CV] END C=2.7825594022071245, multi_class=multinomial, penalty=elasticnet, solver=newton-cg; total time=   0.0s\n",
            "[CV] END C=2.7825594022071245, multi_class=multinomial, penalty=elasticnet, solver=newton-cg; total time=   0.0s\n",
            "[CV] END C=2.7825594022071245, multi_class=multinomial, penalty=elasticnet, solver=newton-cg; total time=   0.0s\n",
            "[CV] END C=2.7825594022071245, multi_class=multinomial, penalty=elasticnet, solver=newton-cg; total time=   0.0s\n",
            "[CV] END C=464.15888336127773, multi_class=ovr, penalty=l1, solver=sag; total time=   0.0s\n",
            "[CV] END C=464.15888336127773, multi_class=ovr, penalty=l1, solver=sag; total time=   0.0s\n",
            "[CV] END C=464.15888336127773, multi_class=ovr, penalty=l1, solver=sag; total time=   0.0s\n",
            "[CV] END C=464.15888336127773, multi_class=ovr, penalty=l1, solver=sag; total time=   0.0s\n",
            "[CV] END C=464.15888336127773, multi_class=ovr, penalty=l1, solver=sag; total time=   0.0s\n",
            "[CV] END C=2.7825594022071245, multi_class=ovr, penalty=l2, solver=liblinear; total time=   0.1s\n",
            "[CV] END C=2.7825594022071245, multi_class=ovr, penalty=l2, solver=liblinear; total time=   0.1s\n",
            "[CV] END C=2.7825594022071245, multi_class=ovr, penalty=l2, solver=liblinear; total time=   0.1s\n",
            "[CV] END C=2.7825594022071245, multi_class=ovr, penalty=l2, solver=liblinear; total time=   0.1s\n",
            "[CV] END C=2.7825594022071245, multi_class=ovr, penalty=l2, solver=liblinear; total time=   0.1s\n",
            "[CV] END C=166.81005372000593, multi_class=multinomial, penalty=elasticnet, solver=newton-cg; total time=   0.0s\n",
            "[CV] END C=166.81005372000593, multi_class=multinomial, penalty=elasticnet, solver=newton-cg; total time=   0.0s\n",
            "[CV] END C=166.81005372000593, multi_class=multinomial, penalty=elasticnet, solver=newton-cg; total time=   0.0s\n",
            "[CV] END C=166.81005372000593, multi_class=multinomial, penalty=elasticnet, solver=newton-cg; total time=   0.0s\n",
            "[CV] END C=166.81005372000593, multi_class=multinomial, penalty=elasticnet, solver=newton-cg; total time=   0.0s\n",
            "[CV] END C=166.81005372000593, multi_class=auto, penalty=l1, solver=lbfgs; total time=   0.0s\n",
            "[CV] END C=166.81005372000593, multi_class=auto, penalty=l1, solver=lbfgs; total time=   0.0s\n",
            "[CV] END C=166.81005372000593, multi_class=auto, penalty=l1, solver=lbfgs; total time=   0.0s\n",
            "[CV] END C=166.81005372000593, multi_class=auto, penalty=l1, solver=lbfgs; total time=   0.0s\n",
            "[CV] END C=166.81005372000593, multi_class=auto, penalty=l1, solver=lbfgs; total time=   0.0s\n"
          ]
        },
        {
          "output_type": "stream",
          "name": "stderr",
          "text": [
            "/usr/local/lib/python3.7/dist-packages/sklearn/linear_model/_sag.py:354: ConvergenceWarning: The max_iter was reached which means the coef_ did not converge\n",
            "  ConvergenceWarning,\n"
          ]
        },
        {
          "output_type": "stream",
          "name": "stdout",
          "text": [
            "[CV] END C=3593.813663804626, multi_class=auto, penalty=l1, solver=saga; total time=   0.8s\n"
          ]
        },
        {
          "output_type": "stream",
          "name": "stderr",
          "text": [
            "/usr/local/lib/python3.7/dist-packages/sklearn/linear_model/_sag.py:354: ConvergenceWarning: The max_iter was reached which means the coef_ did not converge\n",
            "  ConvergenceWarning,\n"
          ]
        },
        {
          "output_type": "stream",
          "name": "stdout",
          "text": [
            "[CV] END C=3593.813663804626, multi_class=auto, penalty=l1, solver=saga; total time=   0.8s\n"
          ]
        },
        {
          "output_type": "stream",
          "name": "stderr",
          "text": [
            "/usr/local/lib/python3.7/dist-packages/sklearn/linear_model/_sag.py:354: ConvergenceWarning: The max_iter was reached which means the coef_ did not converge\n",
            "  ConvergenceWarning,\n"
          ]
        },
        {
          "output_type": "stream",
          "name": "stdout",
          "text": [
            "[CV] END C=3593.813663804626, multi_class=auto, penalty=l1, solver=saga; total time=   0.7s\n"
          ]
        },
        {
          "output_type": "stream",
          "name": "stderr",
          "text": [
            "/usr/local/lib/python3.7/dist-packages/sklearn/linear_model/_sag.py:354: ConvergenceWarning: The max_iter was reached which means the coef_ did not converge\n",
            "  ConvergenceWarning,\n"
          ]
        },
        {
          "output_type": "stream",
          "name": "stdout",
          "text": [
            "[CV] END C=3593.813663804626, multi_class=auto, penalty=l1, solver=saga; total time=   0.8s\n"
          ]
        },
        {
          "output_type": "stream",
          "name": "stderr",
          "text": [
            "/usr/local/lib/python3.7/dist-packages/sklearn/linear_model/_sag.py:354: ConvergenceWarning: The max_iter was reached which means the coef_ did not converge\n",
            "  ConvergenceWarning,\n"
          ]
        },
        {
          "output_type": "stream",
          "name": "stdout",
          "text": [
            "[CV] END C=3593.813663804626, multi_class=auto, penalty=l1, solver=saga; total time=   0.8s\n"
          ]
        },
        {
          "output_type": "stream",
          "name": "stderr",
          "text": [
            "/usr/local/lib/python3.7/dist-packages/sklearn/linear_model/_sag.py:354: ConvergenceWarning: The max_iter was reached which means the coef_ did not converge\n",
            "  ConvergenceWarning,\n"
          ]
        },
        {
          "output_type": "stream",
          "name": "stdout",
          "text": [
            "[CV] END C=7.742636826811269, multi_class=multinomial, penalty=l1, solver=saga; total time=   0.8s\n"
          ]
        },
        {
          "output_type": "stream",
          "name": "stderr",
          "text": [
            "/usr/local/lib/python3.7/dist-packages/sklearn/linear_model/_sag.py:354: ConvergenceWarning: The max_iter was reached which means the coef_ did not converge\n",
            "  ConvergenceWarning,\n"
          ]
        },
        {
          "output_type": "stream",
          "name": "stdout",
          "text": [
            "[CV] END C=7.742636826811269, multi_class=multinomial, penalty=l1, solver=saga; total time=   0.7s\n"
          ]
        },
        {
          "output_type": "stream",
          "name": "stderr",
          "text": [
            "/usr/local/lib/python3.7/dist-packages/sklearn/linear_model/_sag.py:354: ConvergenceWarning: The max_iter was reached which means the coef_ did not converge\n",
            "  ConvergenceWarning,\n"
          ]
        },
        {
          "output_type": "stream",
          "name": "stdout",
          "text": [
            "[CV] END C=7.742636826811269, multi_class=multinomial, penalty=l1, solver=saga; total time=   0.8s\n"
          ]
        },
        {
          "output_type": "stream",
          "name": "stderr",
          "text": [
            "/usr/local/lib/python3.7/dist-packages/sklearn/linear_model/_sag.py:354: ConvergenceWarning: The max_iter was reached which means the coef_ did not converge\n",
            "  ConvergenceWarning,\n"
          ]
        },
        {
          "output_type": "stream",
          "name": "stdout",
          "text": [
            "[CV] END C=7.742636826811269, multi_class=multinomial, penalty=l1, solver=saga; total time=   0.8s\n"
          ]
        },
        {
          "output_type": "stream",
          "name": "stderr",
          "text": [
            "/usr/local/lib/python3.7/dist-packages/sklearn/linear_model/_sag.py:354: ConvergenceWarning: The max_iter was reached which means the coef_ did not converge\n",
            "  ConvergenceWarning,\n"
          ]
        },
        {
          "output_type": "stream",
          "name": "stdout",
          "text": [
            "[CV] END C=7.742636826811269, multi_class=multinomial, penalty=l1, solver=saga; total time=   0.7s\n",
            "[CV] END C=166.81005372000593, multi_class=auto, penalty=elasticnet, solver=lbfgs; total time=   0.0s\n",
            "[CV] END C=166.81005372000593, multi_class=auto, penalty=elasticnet, solver=lbfgs; total time=   0.0s\n",
            "[CV] END C=166.81005372000593, multi_class=auto, penalty=elasticnet, solver=lbfgs; total time=   0.0s\n",
            "[CV] END C=166.81005372000593, multi_class=auto, penalty=elasticnet, solver=lbfgs; total time=   0.0s\n",
            "[CV] END C=166.81005372000593, multi_class=auto, penalty=elasticnet, solver=lbfgs; total time=   0.0s\n",
            "[CV] END C=21.544346900318832, multi_class=multinomial, penalty=elasticnet, solver=lbfgs; total time=   0.0s\n",
            "[CV] END C=21.544346900318832, multi_class=multinomial, penalty=elasticnet, solver=lbfgs; total time=   0.0s\n",
            "[CV] END C=21.544346900318832, multi_class=multinomial, penalty=elasticnet, solver=lbfgs; total time=   0.0s\n",
            "[CV] END C=21.544346900318832, multi_class=multinomial, penalty=elasticnet, solver=lbfgs; total time=   0.0s\n",
            "[CV] END C=21.544346900318832, multi_class=multinomial, penalty=elasticnet, solver=lbfgs; total time=   0.0s\n",
            "[CV] END C=3593.813663804626, multi_class=auto, penalty=l1, solver=liblinear; total time=   0.1s\n",
            "[CV] END C=3593.813663804626, multi_class=auto, penalty=l1, solver=liblinear; total time=   0.1s\n",
            "[CV] END C=3593.813663804626, multi_class=auto, penalty=l1, solver=liblinear; total time=   0.1s\n",
            "[CV] END C=3593.813663804626, multi_class=auto, penalty=l1, solver=liblinear; total time=   0.1s\n",
            "[CV] END C=3593.813663804626, multi_class=auto, penalty=l1, solver=liblinear; total time=   0.1s\n",
            "[CV] END C=10000.0, multi_class=auto, penalty=l2, solver=lbfgs; total time=   0.7s\n",
            "[CV] END C=10000.0, multi_class=auto, penalty=l2, solver=lbfgs; total time=   0.7s\n",
            "[CV] END C=10000.0, multi_class=auto, penalty=l2, solver=lbfgs; total time=   0.7s\n",
            "[CV] END C=10000.0, multi_class=auto, penalty=l2, solver=lbfgs; total time=   0.7s\n",
            "[CV] END C=10000.0, multi_class=auto, penalty=l2, solver=lbfgs; total time=   0.7s\n",
            "[CV] END C=10000.0, multi_class=ovr, penalty=elasticnet, solver=saga; total time=   0.0s\n",
            "[CV] END C=10000.0, multi_class=ovr, penalty=elasticnet, solver=saga; total time=   0.0s\n",
            "[CV] END C=10000.0, multi_class=ovr, penalty=elasticnet, solver=saga; total time=   0.0s\n",
            "[CV] END C=10000.0, multi_class=ovr, penalty=elasticnet, solver=saga; total time=   0.0s\n",
            "[CV] END C=10000.0, multi_class=ovr, penalty=elasticnet, solver=saga; total time=   0.0s\n",
            "[CV] END C=3593.813663804626, multi_class=multinomial, penalty=l2, solver=lbfgs; total time=   0.7s\n",
            "[CV] END C=3593.813663804626, multi_class=multinomial, penalty=l2, solver=lbfgs; total time=   0.7s\n",
            "[CV] END C=3593.813663804626, multi_class=multinomial, penalty=l2, solver=lbfgs; total time=   0.7s\n",
            "[CV] END C=3593.813663804626, multi_class=multinomial, penalty=l2, solver=lbfgs; total time=   0.7s\n",
            "[CV] END C=3593.813663804626, multi_class=multinomial, penalty=l2, solver=lbfgs; total time=   0.7s\n",
            "[CV] END C=21.544346900318832, multi_class=auto, penalty=l2, solver=newton-cg; total time=   1.0s\n",
            "[CV] END C=21.544346900318832, multi_class=auto, penalty=l2, solver=newton-cg; total time=   0.9s\n",
            "[CV] END C=21.544346900318832, multi_class=auto, penalty=l2, solver=newton-cg; total time=   1.0s\n",
            "[CV] END C=21.544346900318832, multi_class=auto, penalty=l2, solver=newton-cg; total time=   0.9s\n",
            "[CV] END C=21.544346900318832, multi_class=auto, penalty=l2, solver=newton-cg; total time=   0.9s\n",
            "[CV] END C=59.94842503189409, multi_class=multinomial, penalty=l1, solver=sag; total time=   0.0s\n",
            "[CV] END C=59.94842503189409, multi_class=multinomial, penalty=l1, solver=sag; total time=   0.0s\n",
            "[CV] END C=59.94842503189409, multi_class=multinomial, penalty=l1, solver=sag; total time=   0.0s\n",
            "[CV] END C=59.94842503189409, multi_class=multinomial, penalty=l1, solver=sag; total time=   0.0s\n",
            "[CV] END C=59.94842503189409, multi_class=multinomial, penalty=l1, solver=sag; total time=   0.0s\n",
            "[CV] END C=1.0, multi_class=auto, penalty=l1, solver=newton-cg; total time=   0.0s\n",
            "[CV] END C=1.0, multi_class=auto, penalty=l1, solver=newton-cg; total time=   0.0s\n",
            "[CV] END C=1.0, multi_class=auto, penalty=l1, solver=newton-cg; total time=   0.0s\n",
            "[CV] END C=1.0, multi_class=auto, penalty=l1, solver=newton-cg; total time=   0.0s\n",
            "[CV] END C=1.0, multi_class=auto, penalty=l1, solver=newton-cg; total time=   0.0s\n",
            "[CV] END C=3593.813663804626, multi_class=ovr, penalty=elasticnet, solver=liblinear; total time=   0.0s\n",
            "[CV] END C=3593.813663804626, multi_class=ovr, penalty=elasticnet, solver=liblinear; total time=   0.0s\n",
            "[CV] END C=3593.813663804626, multi_class=ovr, penalty=elasticnet, solver=liblinear; total time=   0.0s\n",
            "[CV] END C=3593.813663804626, multi_class=ovr, penalty=elasticnet, solver=liblinear; total time=   0.0s\n",
            "[CV] END C=3593.813663804626, multi_class=ovr, penalty=elasticnet, solver=liblinear; total time=   0.0s\n",
            "[CV] END C=1291.5496650148827, multi_class=auto, penalty=elasticnet, solver=sag; total time=   0.0s\n",
            "[CV] END C=1291.5496650148827, multi_class=auto, penalty=elasticnet, solver=sag; total time=   0.0s\n",
            "[CV] END C=1291.5496650148827, multi_class=auto, penalty=elasticnet, solver=sag; total time=   0.0s\n",
            "[CV] END C=1291.5496650148827, multi_class=auto, penalty=elasticnet, solver=sag; total time=   0.0s\n",
            "[CV] END C=1291.5496650148827, multi_class=auto, penalty=elasticnet, solver=sag; total time=   0.0s\n",
            "[CV] END C=1291.5496650148827, multi_class=multinomial, penalty=l2, solver=lbfgs; total time=   0.7s\n",
            "[CV] END C=1291.5496650148827, multi_class=multinomial, penalty=l2, solver=lbfgs; total time=   0.7s\n",
            "[CV] END C=1291.5496650148827, multi_class=multinomial, penalty=l2, solver=lbfgs; total time=   0.7s\n",
            "[CV] END C=1291.5496650148827, multi_class=multinomial, penalty=l2, solver=lbfgs; total time=   0.7s\n",
            "[CV] END C=1291.5496650148827, multi_class=multinomial, penalty=l2, solver=lbfgs; total time=   0.7s\n"
          ]
        },
        {
          "output_type": "stream",
          "name": "stderr",
          "text": [
            "/usr/local/lib/python3.7/dist-packages/sklearn/linear_model/_sag.py:354: ConvergenceWarning: The max_iter was reached which means the coef_ did not converge\n",
            "  ConvergenceWarning,\n"
          ]
        },
        {
          "output_type": "stream",
          "name": "stdout",
          "text": [
            "[CV] END C=1.0, multi_class=multinomial, penalty=l2, solver=saga; total time=   0.7s\n"
          ]
        },
        {
          "output_type": "stream",
          "name": "stderr",
          "text": [
            "/usr/local/lib/python3.7/dist-packages/sklearn/linear_model/_sag.py:354: ConvergenceWarning: The max_iter was reached which means the coef_ did not converge\n",
            "  ConvergenceWarning,\n"
          ]
        },
        {
          "output_type": "stream",
          "name": "stdout",
          "text": [
            "[CV] END C=1.0, multi_class=multinomial, penalty=l2, solver=saga; total time=   0.7s\n"
          ]
        },
        {
          "output_type": "stream",
          "name": "stderr",
          "text": [
            "/usr/local/lib/python3.7/dist-packages/sklearn/linear_model/_sag.py:354: ConvergenceWarning: The max_iter was reached which means the coef_ did not converge\n",
            "  ConvergenceWarning,\n"
          ]
        },
        {
          "output_type": "stream",
          "name": "stdout",
          "text": [
            "[CV] END C=1.0, multi_class=multinomial, penalty=l2, solver=saga; total time=   0.6s\n"
          ]
        },
        {
          "output_type": "stream",
          "name": "stderr",
          "text": [
            "/usr/local/lib/python3.7/dist-packages/sklearn/linear_model/_sag.py:354: ConvergenceWarning: The max_iter was reached which means the coef_ did not converge\n",
            "  ConvergenceWarning,\n"
          ]
        },
        {
          "output_type": "stream",
          "name": "stdout",
          "text": [
            "[CV] END C=1.0, multi_class=multinomial, penalty=l2, solver=saga; total time=   0.6s\n"
          ]
        },
        {
          "output_type": "stream",
          "name": "stderr",
          "text": [
            "/usr/local/lib/python3.7/dist-packages/sklearn/linear_model/_sag.py:354: ConvergenceWarning: The max_iter was reached which means the coef_ did not converge\n",
            "  ConvergenceWarning,\n"
          ]
        },
        {
          "output_type": "stream",
          "name": "stdout",
          "text": [
            "[CV] END C=1.0, multi_class=multinomial, penalty=l2, solver=saga; total time=   0.6s\n"
          ]
        },
        {
          "output_type": "stream",
          "name": "stderr",
          "text": [
            "/usr/local/lib/python3.7/dist-packages/sklearn/linear_model/_sag.py:354: ConvergenceWarning: The max_iter was reached which means the coef_ did not converge\n",
            "  ConvergenceWarning,\n",
            "/usr/local/lib/python3.7/dist-packages/sklearn/linear_model/_sag.py:354: ConvergenceWarning: The max_iter was reached which means the coef_ did not converge\n",
            "  ConvergenceWarning,\n",
            "/usr/local/lib/python3.7/dist-packages/sklearn/linear_model/_sag.py:354: ConvergenceWarning: The max_iter was reached which means the coef_ did not converge\n",
            "  ConvergenceWarning,\n"
          ]
        },
        {
          "output_type": "stream",
          "name": "stdout",
          "text": [
            "[CV] END C=166.81005372000593, multi_class=ovr, penalty=l2, solver=saga; total time=   0.9s\n"
          ]
        },
        {
          "output_type": "stream",
          "name": "stderr",
          "text": [
            "/usr/local/lib/python3.7/dist-packages/sklearn/linear_model/_sag.py:354: ConvergenceWarning: The max_iter was reached which means the coef_ did not converge\n",
            "  ConvergenceWarning,\n",
            "/usr/local/lib/python3.7/dist-packages/sklearn/linear_model/_sag.py:354: ConvergenceWarning: The max_iter was reached which means the coef_ did not converge\n",
            "  ConvergenceWarning,\n",
            "/usr/local/lib/python3.7/dist-packages/sklearn/linear_model/_sag.py:354: ConvergenceWarning: The max_iter was reached which means the coef_ did not converge\n",
            "  ConvergenceWarning,\n"
          ]
        },
        {
          "output_type": "stream",
          "name": "stdout",
          "text": [
            "[CV] END C=166.81005372000593, multi_class=ovr, penalty=l2, solver=saga; total time=   0.8s\n"
          ]
        },
        {
          "output_type": "stream",
          "name": "stderr",
          "text": [
            "/usr/local/lib/python3.7/dist-packages/sklearn/linear_model/_sag.py:354: ConvergenceWarning: The max_iter was reached which means the coef_ did not converge\n",
            "  ConvergenceWarning,\n",
            "/usr/local/lib/python3.7/dist-packages/sklearn/linear_model/_sag.py:354: ConvergenceWarning: The max_iter was reached which means the coef_ did not converge\n",
            "  ConvergenceWarning,\n",
            "/usr/local/lib/python3.7/dist-packages/sklearn/linear_model/_sag.py:354: ConvergenceWarning: The max_iter was reached which means the coef_ did not converge\n",
            "  ConvergenceWarning,\n"
          ]
        },
        {
          "output_type": "stream",
          "name": "stdout",
          "text": [
            "[CV] END C=166.81005372000593, multi_class=ovr, penalty=l2, solver=saga; total time=   0.8s\n"
          ]
        },
        {
          "output_type": "stream",
          "name": "stderr",
          "text": [
            "/usr/local/lib/python3.7/dist-packages/sklearn/linear_model/_sag.py:354: ConvergenceWarning: The max_iter was reached which means the coef_ did not converge\n",
            "  ConvergenceWarning,\n",
            "/usr/local/lib/python3.7/dist-packages/sklearn/linear_model/_sag.py:354: ConvergenceWarning: The max_iter was reached which means the coef_ did not converge\n",
            "  ConvergenceWarning,\n",
            "/usr/local/lib/python3.7/dist-packages/sklearn/linear_model/_sag.py:354: ConvergenceWarning: The max_iter was reached which means the coef_ did not converge\n",
            "  ConvergenceWarning,\n"
          ]
        },
        {
          "output_type": "stream",
          "name": "stdout",
          "text": [
            "[CV] END C=166.81005372000593, multi_class=ovr, penalty=l2, solver=saga; total time=   0.8s\n"
          ]
        },
        {
          "output_type": "stream",
          "name": "stderr",
          "text": [
            "/usr/local/lib/python3.7/dist-packages/sklearn/linear_model/_sag.py:354: ConvergenceWarning: The max_iter was reached which means the coef_ did not converge\n",
            "  ConvergenceWarning,\n",
            "/usr/local/lib/python3.7/dist-packages/sklearn/linear_model/_sag.py:354: ConvergenceWarning: The max_iter was reached which means the coef_ did not converge\n",
            "  ConvergenceWarning,\n",
            "/usr/local/lib/python3.7/dist-packages/sklearn/linear_model/_sag.py:354: ConvergenceWarning: The max_iter was reached which means the coef_ did not converge\n",
            "  ConvergenceWarning,\n"
          ]
        },
        {
          "output_type": "stream",
          "name": "stdout",
          "text": [
            "[CV] END C=166.81005372000593, multi_class=ovr, penalty=l2, solver=saga; total time=   0.9s\n",
            "[CV] END ...C=1.0, multi_class=ovr, penalty=l1, solver=lbfgs; total time=   0.0s\n",
            "[CV] END ...C=1.0, multi_class=ovr, penalty=l1, solver=lbfgs; total time=   0.0s\n",
            "[CV] END ...C=1.0, multi_class=ovr, penalty=l1, solver=lbfgs; total time=   0.0s\n",
            "[CV] END ...C=1.0, multi_class=ovr, penalty=l1, solver=lbfgs; total time=   0.0s\n",
            "[CV] END ...C=1.0, multi_class=ovr, penalty=l1, solver=lbfgs; total time=   0.0s\n",
            "[CV] END C=3593.813663804626, multi_class=multinomial, penalty=elasticnet, solver=saga; total time=   0.0s\n",
            "[CV] END C=3593.813663804626, multi_class=multinomial, penalty=elasticnet, solver=saga; total time=   0.0s\n",
            "[CV] END C=3593.813663804626, multi_class=multinomial, penalty=elasticnet, solver=saga; total time=   0.0s\n",
            "[CV] END C=3593.813663804626, multi_class=multinomial, penalty=elasticnet, solver=saga; total time=   0.0s\n",
            "[CV] END C=3593.813663804626, multi_class=multinomial, penalty=elasticnet, solver=saga; total time=   0.0s\n",
            "[CV] END C=2.7825594022071245, multi_class=multinomial, penalty=elasticnet, solver=lbfgs; total time=   0.0s\n",
            "[CV] END C=2.7825594022071245, multi_class=multinomial, penalty=elasticnet, solver=lbfgs; total time=   0.0s\n",
            "[CV] END C=2.7825594022071245, multi_class=multinomial, penalty=elasticnet, solver=lbfgs; total time=   0.0s\n",
            "[CV] END C=2.7825594022071245, multi_class=multinomial, penalty=elasticnet, solver=lbfgs; total time=   0.0s\n",
            "[CV] END C=2.7825594022071245, multi_class=multinomial, penalty=elasticnet, solver=lbfgs; total time=   0.0s\n",
            "[CV] END C=464.15888336127773, multi_class=multinomial, penalty=elasticnet, solver=lbfgs; total time=   0.0s\n",
            "[CV] END C=464.15888336127773, multi_class=multinomial, penalty=elasticnet, solver=lbfgs; total time=   0.0s\n",
            "[CV] END C=464.15888336127773, multi_class=multinomial, penalty=elasticnet, solver=lbfgs; total time=   0.0s\n",
            "[CV] END C=464.15888336127773, multi_class=multinomial, penalty=elasticnet, solver=lbfgs; total time=   0.0s\n",
            "[CV] END C=464.15888336127773, multi_class=multinomial, penalty=elasticnet, solver=lbfgs; total time=   0.0s\n",
            "[CV] END C=59.94842503189409, multi_class=ovr, penalty=l2, solver=lbfgs; total time=   0.4s\n",
            "[CV] END C=59.94842503189409, multi_class=ovr, penalty=l2, solver=lbfgs; total time=   0.4s\n",
            "[CV] END C=59.94842503189409, multi_class=ovr, penalty=l2, solver=lbfgs; total time=   0.4s\n",
            "[CV] END C=59.94842503189409, multi_class=ovr, penalty=l2, solver=lbfgs; total time=   0.4s\n",
            "[CV] END C=59.94842503189409, multi_class=ovr, penalty=l2, solver=lbfgs; total time=   0.4s\n",
            "[CV] END C=464.15888336127773, multi_class=ovr, penalty=l2, solver=liblinear; total time=   0.1s\n",
            "[CV] END C=464.15888336127773, multi_class=ovr, penalty=l2, solver=liblinear; total time=   0.1s\n",
            "[CV] END C=464.15888336127773, multi_class=ovr, penalty=l2, solver=liblinear; total time=   0.1s\n",
            "[CV] END C=464.15888336127773, multi_class=ovr, penalty=l2, solver=liblinear; total time=   0.1s\n",
            "[CV] END C=464.15888336127773, multi_class=ovr, penalty=l2, solver=liblinear; total time=   0.1s\n",
            "[CV] END C=3593.813663804626, multi_class=auto, penalty=elasticnet, solver=saga; total time=   0.0s\n",
            "[CV] END C=3593.813663804626, multi_class=auto, penalty=elasticnet, solver=saga; total time=   0.0s\n",
            "[CV] END C=3593.813663804626, multi_class=auto, penalty=elasticnet, solver=saga; total time=   0.0s\n",
            "[CV] END C=3593.813663804626, multi_class=auto, penalty=elasticnet, solver=saga; total time=   0.0s\n",
            "[CV] END C=3593.813663804626, multi_class=auto, penalty=elasticnet, solver=saga; total time=   0.0s\n",
            "[CV] END C=59.94842503189409, multi_class=ovr, penalty=elasticnet, solver=newton-cg; total time=   0.0s\n",
            "[CV] END C=59.94842503189409, multi_class=ovr, penalty=elasticnet, solver=newton-cg; total time=   0.0s\n",
            "[CV] END C=59.94842503189409, multi_class=ovr, penalty=elasticnet, solver=newton-cg; total time=   0.0s\n",
            "[CV] END C=59.94842503189409, multi_class=ovr, penalty=elasticnet, solver=newton-cg; total time=   0.0s\n",
            "[CV] END C=59.94842503189409, multi_class=ovr, penalty=elasticnet, solver=newton-cg; total time=   0.0s\n",
            "[CV] END C=2.7825594022071245, multi_class=multinomial, penalty=l1, solver=sag; total time=   0.0s\n",
            "[CV] END C=2.7825594022071245, multi_class=multinomial, penalty=l1, solver=sag; total time=   0.0s\n",
            "[CV] END C=2.7825594022071245, multi_class=multinomial, penalty=l1, solver=sag; total time=   0.0s\n",
            "[CV] END C=2.7825594022071245, multi_class=multinomial, penalty=l1, solver=sag; total time=   0.0s\n",
            "[CV] END C=2.7825594022071245, multi_class=multinomial, penalty=l1, solver=sag; total time=   0.0s\n",
            "[CV] END C=1.0, multi_class=auto, penalty=elasticnet, solver=liblinear; total time=   0.0s\n",
            "[CV] END C=1.0, multi_class=auto, penalty=elasticnet, solver=liblinear; total time=   0.0s\n",
            "[CV] END C=1.0, multi_class=auto, penalty=elasticnet, solver=liblinear; total time=   0.0s\n",
            "[CV] END C=1.0, multi_class=auto, penalty=elasticnet, solver=liblinear; total time=   0.0s\n",
            "[CV] END C=1.0, multi_class=auto, penalty=elasticnet, solver=liblinear; total time=   0.0s\n",
            "[CV] END C=3593.813663804626, multi_class=ovr, penalty=l1, solver=lbfgs; total time=   0.0s\n",
            "[CV] END C=3593.813663804626, multi_class=ovr, penalty=l1, solver=lbfgs; total time=   0.0s\n",
            "[CV] END C=3593.813663804626, multi_class=ovr, penalty=l1, solver=lbfgs; total time=   0.0s\n",
            "[CV] END C=3593.813663804626, multi_class=ovr, penalty=l1, solver=lbfgs; total time=   0.0s\n",
            "[CV] END C=3593.813663804626, multi_class=ovr, penalty=l1, solver=lbfgs; total time=   0.0s\n",
            "[CV] END C=166.81005372000593, multi_class=ovr, penalty=elasticnet, solver=liblinear; total time=   0.0s\n",
            "[CV] END C=166.81005372000593, multi_class=ovr, penalty=elasticnet, solver=liblinear; total time=   0.0s\n",
            "[CV] END C=166.81005372000593, multi_class=ovr, penalty=elasticnet, solver=liblinear; total time=   0.0s\n",
            "[CV] END C=166.81005372000593, multi_class=ovr, penalty=elasticnet, solver=liblinear; total time=   0.0s\n",
            "[CV] END C=166.81005372000593, multi_class=ovr, penalty=elasticnet, solver=liblinear; total time=   0.0s\n",
            "[CV] END C=166.81005372000593, multi_class=ovr, penalty=elasticnet, solver=saga; total time=   0.0s\n",
            "[CV] END C=166.81005372000593, multi_class=ovr, penalty=elasticnet, solver=saga; total time=   0.0s\n",
            "[CV] END C=166.81005372000593, multi_class=ovr, penalty=elasticnet, solver=saga; total time=   0.0s\n",
            "[CV] END C=166.81005372000593, multi_class=ovr, penalty=elasticnet, solver=saga; total time=   0.0s\n",
            "[CV] END C=166.81005372000593, multi_class=ovr, penalty=elasticnet, solver=saga; total time=   0.0s\n",
            "[CV] END C=2.7825594022071245, multi_class=auto, penalty=l2, solver=liblinear; total time=   0.1s\n",
            "[CV] END C=2.7825594022071245, multi_class=auto, penalty=l2, solver=liblinear; total time=   0.1s\n",
            "[CV] END C=2.7825594022071245, multi_class=auto, penalty=l2, solver=liblinear; total time=   0.1s\n",
            "[CV] END C=2.7825594022071245, multi_class=auto, penalty=l2, solver=liblinear; total time=   0.1s\n",
            "[CV] END C=2.7825594022071245, multi_class=auto, penalty=l2, solver=liblinear; total time=   0.1s\n"
          ]
        },
        {
          "output_type": "stream",
          "name": "stderr",
          "text": [
            "/usr/local/lib/python3.7/dist-packages/sklearn/linear_model/_sag.py:354: ConvergenceWarning: The max_iter was reached which means the coef_ did not converge\n",
            "  ConvergenceWarning,\n",
            "/usr/local/lib/python3.7/dist-packages/sklearn/linear_model/_sag.py:354: ConvergenceWarning: The max_iter was reached which means the coef_ did not converge\n",
            "  ConvergenceWarning,\n",
            "/usr/local/lib/python3.7/dist-packages/sklearn/linear_model/_sag.py:354: ConvergenceWarning: The max_iter was reached which means the coef_ did not converge\n",
            "  ConvergenceWarning,\n"
          ]
        },
        {
          "output_type": "stream",
          "name": "stdout",
          "text": [
            "[CV] END C=10000.0, multi_class=ovr, penalty=l2, solver=saga; total time=   0.9s\n"
          ]
        },
        {
          "output_type": "stream",
          "name": "stderr",
          "text": [
            "/usr/local/lib/python3.7/dist-packages/sklearn/linear_model/_sag.py:354: ConvergenceWarning: The max_iter was reached which means the coef_ did not converge\n",
            "  ConvergenceWarning,\n",
            "/usr/local/lib/python3.7/dist-packages/sklearn/linear_model/_sag.py:354: ConvergenceWarning: The max_iter was reached which means the coef_ did not converge\n",
            "  ConvergenceWarning,\n",
            "/usr/local/lib/python3.7/dist-packages/sklearn/linear_model/_sag.py:354: ConvergenceWarning: The max_iter was reached which means the coef_ did not converge\n",
            "  ConvergenceWarning,\n"
          ]
        },
        {
          "output_type": "stream",
          "name": "stdout",
          "text": [
            "[CV] END C=10000.0, multi_class=ovr, penalty=l2, solver=saga; total time=   0.9s\n"
          ]
        },
        {
          "output_type": "stream",
          "name": "stderr",
          "text": [
            "/usr/local/lib/python3.7/dist-packages/sklearn/linear_model/_sag.py:354: ConvergenceWarning: The max_iter was reached which means the coef_ did not converge\n",
            "  ConvergenceWarning,\n",
            "/usr/local/lib/python3.7/dist-packages/sklearn/linear_model/_sag.py:354: ConvergenceWarning: The max_iter was reached which means the coef_ did not converge\n",
            "  ConvergenceWarning,\n",
            "/usr/local/lib/python3.7/dist-packages/sklearn/linear_model/_sag.py:354: ConvergenceWarning: The max_iter was reached which means the coef_ did not converge\n",
            "  ConvergenceWarning,\n"
          ]
        },
        {
          "output_type": "stream",
          "name": "stdout",
          "text": [
            "[CV] END C=10000.0, multi_class=ovr, penalty=l2, solver=saga; total time=   0.9s\n"
          ]
        },
        {
          "output_type": "stream",
          "name": "stderr",
          "text": [
            "/usr/local/lib/python3.7/dist-packages/sklearn/linear_model/_sag.py:354: ConvergenceWarning: The max_iter was reached which means the coef_ did not converge\n",
            "  ConvergenceWarning,\n",
            "/usr/local/lib/python3.7/dist-packages/sklearn/linear_model/_sag.py:354: ConvergenceWarning: The max_iter was reached which means the coef_ did not converge\n",
            "  ConvergenceWarning,\n",
            "/usr/local/lib/python3.7/dist-packages/sklearn/linear_model/_sag.py:354: ConvergenceWarning: The max_iter was reached which means the coef_ did not converge\n",
            "  ConvergenceWarning,\n"
          ]
        },
        {
          "output_type": "stream",
          "name": "stdout",
          "text": [
            "[CV] END C=10000.0, multi_class=ovr, penalty=l2, solver=saga; total time=   0.9s\n"
          ]
        },
        {
          "output_type": "stream",
          "name": "stderr",
          "text": [
            "/usr/local/lib/python3.7/dist-packages/sklearn/linear_model/_sag.py:354: ConvergenceWarning: The max_iter was reached which means the coef_ did not converge\n",
            "  ConvergenceWarning,\n",
            "/usr/local/lib/python3.7/dist-packages/sklearn/linear_model/_sag.py:354: ConvergenceWarning: The max_iter was reached which means the coef_ did not converge\n",
            "  ConvergenceWarning,\n",
            "/usr/local/lib/python3.7/dist-packages/sklearn/linear_model/_sag.py:354: ConvergenceWarning: The max_iter was reached which means the coef_ did not converge\n",
            "  ConvergenceWarning,\n"
          ]
        },
        {
          "output_type": "stream",
          "name": "stdout",
          "text": [
            "[CV] END C=10000.0, multi_class=ovr, penalty=l2, solver=saga; total time=   0.8s\n",
            "[CV] END C=464.15888336127773, multi_class=ovr, penalty=elasticnet, solver=sag; total time=   0.0s\n",
            "[CV] END C=464.15888336127773, multi_class=ovr, penalty=elasticnet, solver=sag; total time=   0.0s\n",
            "[CV] END C=464.15888336127773, multi_class=ovr, penalty=elasticnet, solver=sag; total time=   0.0s\n",
            "[CV] END C=464.15888336127773, multi_class=ovr, penalty=elasticnet, solver=sag; total time=   0.0s\n",
            "[CV] END C=464.15888336127773, multi_class=ovr, penalty=elasticnet, solver=sag; total time=   0.0s\n",
            "[CV] END C=1291.5496650148827, multi_class=auto, penalty=l2, solver=lbfgs; total time=   0.7s\n",
            "[CV] END C=1291.5496650148827, multi_class=auto, penalty=l2, solver=lbfgs; total time=   0.7s\n",
            "[CV] END C=1291.5496650148827, multi_class=auto, penalty=l2, solver=lbfgs; total time=   0.7s\n",
            "[CV] END C=1291.5496650148827, multi_class=auto, penalty=l2, solver=lbfgs; total time=   0.7s\n",
            "[CV] END C=1291.5496650148827, multi_class=auto, penalty=l2, solver=lbfgs; total time=   0.7s\n",
            "[CV] END C=166.81005372000593, multi_class=auto, penalty=l2, solver=newton-cg; total time=   1.0s\n",
            "[CV] END C=166.81005372000593, multi_class=auto, penalty=l2, solver=newton-cg; total time=   0.9s\n",
            "[CV] END C=166.81005372000593, multi_class=auto, penalty=l2, solver=newton-cg; total time=   0.9s\n",
            "[CV] END C=166.81005372000593, multi_class=auto, penalty=l2, solver=newton-cg; total time=   0.9s\n",
            "[CV] END C=166.81005372000593, multi_class=auto, penalty=l2, solver=newton-cg; total time=   0.9s\n",
            "[CV] END C=59.94842503189409, multi_class=auto, penalty=elasticnet, solver=newton-cg; total time=   0.0s\n",
            "[CV] END C=59.94842503189409, multi_class=auto, penalty=elasticnet, solver=newton-cg; total time=   0.0s\n",
            "[CV] END C=59.94842503189409, multi_class=auto, penalty=elasticnet, solver=newton-cg; total time=   0.0s\n",
            "[CV] END C=59.94842503189409, multi_class=auto, penalty=elasticnet, solver=newton-cg; total time=   0.0s\n",
            "[CV] END C=59.94842503189409, multi_class=auto, penalty=elasticnet, solver=newton-cg; total time=   0.0s\n",
            "[CV] END C=21.544346900318832, multi_class=multinomial, penalty=l1, solver=lbfgs; total time=   0.0s\n",
            "[CV] END C=21.544346900318832, multi_class=multinomial, penalty=l1, solver=lbfgs; total time=   0.0s\n",
            "[CV] END C=21.544346900318832, multi_class=multinomial, penalty=l1, solver=lbfgs; total time=   0.0s\n",
            "[CV] END C=21.544346900318832, multi_class=multinomial, penalty=l1, solver=lbfgs; total time=   0.0s\n",
            "[CV] END C=21.544346900318832, multi_class=multinomial, penalty=l1, solver=lbfgs; total time=   0.0s\n",
            "[CV] END C=3593.813663804626, multi_class=auto, penalty=elasticnet, solver=liblinear; total time=   0.0s\n",
            "[CV] END C=3593.813663804626, multi_class=auto, penalty=elasticnet, solver=liblinear; total time=   0.0s\n",
            "[CV] END C=3593.813663804626, multi_class=auto, penalty=elasticnet, solver=liblinear; total time=   0.0s\n",
            "[CV] END C=3593.813663804626, multi_class=auto, penalty=elasticnet, solver=liblinear; total time=   0.0s\n",
            "[CV] END C=3593.813663804626, multi_class=auto, penalty=elasticnet, solver=liblinear; total time=   0.0s\n",
            "[CV] END C=21.544346900318832, multi_class=multinomial, penalty=l1, solver=sag; total time=   0.0s\n",
            "[CV] END C=21.544346900318832, multi_class=multinomial, penalty=l1, solver=sag; total time=   0.0s\n",
            "[CV] END C=21.544346900318832, multi_class=multinomial, penalty=l1, solver=sag; total time=   0.0s\n",
            "[CV] END C=21.544346900318832, multi_class=multinomial, penalty=l1, solver=sag; total time=   0.0s\n",
            "[CV] END C=21.544346900318832, multi_class=multinomial, penalty=l1, solver=sag; total time=   0.0s\n"
          ]
        },
        {
          "output_type": "stream",
          "name": "stderr",
          "text": [
            "/usr/local/lib/python3.7/dist-packages/sklearn/linear_model/_sag.py:354: ConvergenceWarning: The max_iter was reached which means the coef_ did not converge\n",
            "  ConvergenceWarning,\n"
          ]
        },
        {
          "output_type": "stream",
          "name": "stdout",
          "text": [
            "[CV] END C=21.544346900318832, multi_class=auto, penalty=l2, solver=saga; total time=   0.7s\n"
          ]
        },
        {
          "output_type": "stream",
          "name": "stderr",
          "text": [
            "/usr/local/lib/python3.7/dist-packages/sklearn/linear_model/_sag.py:354: ConvergenceWarning: The max_iter was reached which means the coef_ did not converge\n",
            "  ConvergenceWarning,\n"
          ]
        },
        {
          "output_type": "stream",
          "name": "stdout",
          "text": [
            "[CV] END C=21.544346900318832, multi_class=auto, penalty=l2, solver=saga; total time=   0.7s\n"
          ]
        },
        {
          "output_type": "stream",
          "name": "stderr",
          "text": [
            "/usr/local/lib/python3.7/dist-packages/sklearn/linear_model/_sag.py:354: ConvergenceWarning: The max_iter was reached which means the coef_ did not converge\n",
            "  ConvergenceWarning,\n"
          ]
        },
        {
          "output_type": "stream",
          "name": "stdout",
          "text": [
            "[CV] END C=21.544346900318832, multi_class=auto, penalty=l2, solver=saga; total time=   0.7s\n"
          ]
        },
        {
          "output_type": "stream",
          "name": "stderr",
          "text": [
            "/usr/local/lib/python3.7/dist-packages/sklearn/linear_model/_sag.py:354: ConvergenceWarning: The max_iter was reached which means the coef_ did not converge\n",
            "  ConvergenceWarning,\n"
          ]
        },
        {
          "output_type": "stream",
          "name": "stdout",
          "text": [
            "[CV] END C=21.544346900318832, multi_class=auto, penalty=l2, solver=saga; total time=   0.7s\n"
          ]
        },
        {
          "output_type": "stream",
          "name": "stderr",
          "text": [
            "/usr/local/lib/python3.7/dist-packages/sklearn/linear_model/_sag.py:354: ConvergenceWarning: The max_iter was reached which means the coef_ did not converge\n",
            "  ConvergenceWarning,\n"
          ]
        },
        {
          "output_type": "stream",
          "name": "stdout",
          "text": [
            "[CV] END C=21.544346900318832, multi_class=auto, penalty=l2, solver=saga; total time=   0.7s\n"
          ]
        },
        {
          "output_type": "stream",
          "name": "stderr",
          "text": [
            "/usr/local/lib/python3.7/dist-packages/sklearn/linear_model/_sag.py:354: ConvergenceWarning: The max_iter was reached which means the coef_ did not converge\n",
            "  ConvergenceWarning,\n",
            "/usr/local/lib/python3.7/dist-packages/sklearn/linear_model/_sag.py:354: ConvergenceWarning: The max_iter was reached which means the coef_ did not converge\n",
            "  ConvergenceWarning,\n",
            "/usr/local/lib/python3.7/dist-packages/sklearn/linear_model/_sag.py:354: ConvergenceWarning: The max_iter was reached which means the coef_ did not converge\n",
            "  ConvergenceWarning,\n"
          ]
        },
        {
          "output_type": "stream",
          "name": "stdout",
          "text": [
            "[CV] END C=166.81005372000593, multi_class=ovr, penalty=l1, solver=saga; total time=   1.0s\n"
          ]
        },
        {
          "output_type": "stream",
          "name": "stderr",
          "text": [
            "/usr/local/lib/python3.7/dist-packages/sklearn/linear_model/_sag.py:354: ConvergenceWarning: The max_iter was reached which means the coef_ did not converge\n",
            "  ConvergenceWarning,\n",
            "/usr/local/lib/python3.7/dist-packages/sklearn/linear_model/_sag.py:354: ConvergenceWarning: The max_iter was reached which means the coef_ did not converge\n",
            "  ConvergenceWarning,\n",
            "/usr/local/lib/python3.7/dist-packages/sklearn/linear_model/_sag.py:354: ConvergenceWarning: The max_iter was reached which means the coef_ did not converge\n",
            "  ConvergenceWarning,\n"
          ]
        },
        {
          "output_type": "stream",
          "name": "stdout",
          "text": [
            "[CV] END C=166.81005372000593, multi_class=ovr, penalty=l1, solver=saga; total time=   1.0s\n"
          ]
        },
        {
          "output_type": "stream",
          "name": "stderr",
          "text": [
            "/usr/local/lib/python3.7/dist-packages/sklearn/linear_model/_sag.py:354: ConvergenceWarning: The max_iter was reached which means the coef_ did not converge\n",
            "  ConvergenceWarning,\n",
            "/usr/local/lib/python3.7/dist-packages/sklearn/linear_model/_sag.py:354: ConvergenceWarning: The max_iter was reached which means the coef_ did not converge\n",
            "  ConvergenceWarning,\n",
            "/usr/local/lib/python3.7/dist-packages/sklearn/linear_model/_sag.py:354: ConvergenceWarning: The max_iter was reached which means the coef_ did not converge\n",
            "  ConvergenceWarning,\n"
          ]
        },
        {
          "output_type": "stream",
          "name": "stdout",
          "text": [
            "[CV] END C=166.81005372000593, multi_class=ovr, penalty=l1, solver=saga; total time=   1.0s\n"
          ]
        },
        {
          "output_type": "stream",
          "name": "stderr",
          "text": [
            "/usr/local/lib/python3.7/dist-packages/sklearn/linear_model/_sag.py:354: ConvergenceWarning: The max_iter was reached which means the coef_ did not converge\n",
            "  ConvergenceWarning,\n",
            "/usr/local/lib/python3.7/dist-packages/sklearn/linear_model/_sag.py:354: ConvergenceWarning: The max_iter was reached which means the coef_ did not converge\n",
            "  ConvergenceWarning,\n",
            "/usr/local/lib/python3.7/dist-packages/sklearn/linear_model/_sag.py:354: ConvergenceWarning: The max_iter was reached which means the coef_ did not converge\n",
            "  ConvergenceWarning,\n"
          ]
        },
        {
          "output_type": "stream",
          "name": "stdout",
          "text": [
            "[CV] END C=166.81005372000593, multi_class=ovr, penalty=l1, solver=saga; total time=   1.0s\n"
          ]
        },
        {
          "output_type": "stream",
          "name": "stderr",
          "text": [
            "/usr/local/lib/python3.7/dist-packages/sklearn/linear_model/_sag.py:354: ConvergenceWarning: The max_iter was reached which means the coef_ did not converge\n",
            "  ConvergenceWarning,\n",
            "/usr/local/lib/python3.7/dist-packages/sklearn/linear_model/_sag.py:354: ConvergenceWarning: The max_iter was reached which means the coef_ did not converge\n",
            "  ConvergenceWarning,\n",
            "/usr/local/lib/python3.7/dist-packages/sklearn/linear_model/_sag.py:354: ConvergenceWarning: The max_iter was reached which means the coef_ did not converge\n",
            "  ConvergenceWarning,\n"
          ]
        },
        {
          "output_type": "stream",
          "name": "stdout",
          "text": [
            "[CV] END C=166.81005372000593, multi_class=ovr, penalty=l1, solver=saga; total time=   1.0s\n",
            "[CV] END C=3593.813663804626, multi_class=multinomial, penalty=l1, solver=liblinear; total time=   0.0s\n",
            "[CV] END C=3593.813663804626, multi_class=multinomial, penalty=l1, solver=liblinear; total time=   0.0s\n",
            "[CV] END C=3593.813663804626, multi_class=multinomial, penalty=l1, solver=liblinear; total time=   0.0s\n",
            "[CV] END C=3593.813663804626, multi_class=multinomial, penalty=l1, solver=liblinear; total time=   0.0s\n",
            "[CV] END C=3593.813663804626, multi_class=multinomial, penalty=l1, solver=liblinear; total time=   0.0s\n",
            "[CV] END C=2.7825594022071245, multi_class=auto, penalty=l2, solver=newton-cg; total time=   0.8s\n",
            "[CV] END C=2.7825594022071245, multi_class=auto, penalty=l2, solver=newton-cg; total time=   0.8s\n",
            "[CV] END C=2.7825594022071245, multi_class=auto, penalty=l2, solver=newton-cg; total time=   0.9s\n",
            "[CV] END C=2.7825594022071245, multi_class=auto, penalty=l2, solver=newton-cg; total time=   0.9s\n",
            "[CV] END C=2.7825594022071245, multi_class=auto, penalty=l2, solver=newton-cg; total time=   0.9s\n",
            "[CV] END C=10000.0, multi_class=ovr, penalty=elasticnet, solver=sag; total time=   0.0s\n",
            "[CV] END C=10000.0, multi_class=ovr, penalty=elasticnet, solver=sag; total time=   0.0s\n",
            "[CV] END C=10000.0, multi_class=ovr, penalty=elasticnet, solver=sag; total time=   0.0s\n",
            "[CV] END C=10000.0, multi_class=ovr, penalty=elasticnet, solver=sag; total time=   0.0s\n",
            "[CV] END C=10000.0, multi_class=ovr, penalty=elasticnet, solver=sag; total time=   0.0s\n"
          ]
        },
        {
          "output_type": "stream",
          "name": "stderr",
          "text": [
            "/usr/local/lib/python3.7/dist-packages/sklearn/linear_model/_sag.py:354: ConvergenceWarning: The max_iter was reached which means the coef_ did not converge\n",
            "  ConvergenceWarning,\n",
            "/usr/local/lib/python3.7/dist-packages/sklearn/linear_model/_sag.py:354: ConvergenceWarning: The max_iter was reached which means the coef_ did not converge\n",
            "  ConvergenceWarning,\n",
            "/usr/local/lib/python3.7/dist-packages/sklearn/linear_model/_sag.py:354: ConvergenceWarning: The max_iter was reached which means the coef_ did not converge\n",
            "  ConvergenceWarning,\n"
          ]
        },
        {
          "output_type": "stream",
          "name": "stdout",
          "text": [
            "[CV] END C=464.15888336127773, multi_class=ovr, penalty=l2, solver=saga; total time=   0.9s\n"
          ]
        },
        {
          "output_type": "stream",
          "name": "stderr",
          "text": [
            "/usr/local/lib/python3.7/dist-packages/sklearn/linear_model/_sag.py:354: ConvergenceWarning: The max_iter was reached which means the coef_ did not converge\n",
            "  ConvergenceWarning,\n",
            "/usr/local/lib/python3.7/dist-packages/sklearn/linear_model/_sag.py:354: ConvergenceWarning: The max_iter was reached which means the coef_ did not converge\n",
            "  ConvergenceWarning,\n",
            "/usr/local/lib/python3.7/dist-packages/sklearn/linear_model/_sag.py:354: ConvergenceWarning: The max_iter was reached which means the coef_ did not converge\n",
            "  ConvergenceWarning,\n"
          ]
        },
        {
          "output_type": "stream",
          "name": "stdout",
          "text": [
            "[CV] END C=464.15888336127773, multi_class=ovr, penalty=l2, solver=saga; total time=   0.9s\n"
          ]
        },
        {
          "output_type": "stream",
          "name": "stderr",
          "text": [
            "/usr/local/lib/python3.7/dist-packages/sklearn/linear_model/_sag.py:354: ConvergenceWarning: The max_iter was reached which means the coef_ did not converge\n",
            "  ConvergenceWarning,\n",
            "/usr/local/lib/python3.7/dist-packages/sklearn/linear_model/_sag.py:354: ConvergenceWarning: The max_iter was reached which means the coef_ did not converge\n",
            "  ConvergenceWarning,\n",
            "/usr/local/lib/python3.7/dist-packages/sklearn/linear_model/_sag.py:354: ConvergenceWarning: The max_iter was reached which means the coef_ did not converge\n",
            "  ConvergenceWarning,\n"
          ]
        },
        {
          "output_type": "stream",
          "name": "stdout",
          "text": [
            "[CV] END C=464.15888336127773, multi_class=ovr, penalty=l2, solver=saga; total time=   0.9s\n"
          ]
        },
        {
          "output_type": "stream",
          "name": "stderr",
          "text": [
            "/usr/local/lib/python3.7/dist-packages/sklearn/linear_model/_sag.py:354: ConvergenceWarning: The max_iter was reached which means the coef_ did not converge\n",
            "  ConvergenceWarning,\n",
            "/usr/local/lib/python3.7/dist-packages/sklearn/linear_model/_sag.py:354: ConvergenceWarning: The max_iter was reached which means the coef_ did not converge\n",
            "  ConvergenceWarning,\n",
            "/usr/local/lib/python3.7/dist-packages/sklearn/linear_model/_sag.py:354: ConvergenceWarning: The max_iter was reached which means the coef_ did not converge\n",
            "  ConvergenceWarning,\n"
          ]
        },
        {
          "output_type": "stream",
          "name": "stdout",
          "text": [
            "[CV] END C=464.15888336127773, multi_class=ovr, penalty=l2, solver=saga; total time=   0.9s\n"
          ]
        },
        {
          "output_type": "stream",
          "name": "stderr",
          "text": [
            "/usr/local/lib/python3.7/dist-packages/sklearn/linear_model/_sag.py:354: ConvergenceWarning: The max_iter was reached which means the coef_ did not converge\n",
            "  ConvergenceWarning,\n",
            "/usr/local/lib/python3.7/dist-packages/sklearn/linear_model/_sag.py:354: ConvergenceWarning: The max_iter was reached which means the coef_ did not converge\n",
            "  ConvergenceWarning,\n",
            "/usr/local/lib/python3.7/dist-packages/sklearn/linear_model/_sag.py:354: ConvergenceWarning: The max_iter was reached which means the coef_ did not converge\n",
            "  ConvergenceWarning,\n"
          ]
        },
        {
          "output_type": "stream",
          "name": "stdout",
          "text": [
            "[CV] END C=464.15888336127773, multi_class=ovr, penalty=l2, solver=saga; total time=   0.8s\n",
            "[CV] END C=2.7825594022071245, multi_class=ovr, penalty=l2, solver=lbfgs; total time=   0.4s\n",
            "[CV] END C=2.7825594022071245, multi_class=ovr, penalty=l2, solver=lbfgs; total time=   0.4s\n",
            "[CV] END C=2.7825594022071245, multi_class=ovr, penalty=l2, solver=lbfgs; total time=   0.4s\n",
            "[CV] END C=2.7825594022071245, multi_class=ovr, penalty=l2, solver=lbfgs; total time=   0.4s\n",
            "[CV] END C=2.7825594022071245, multi_class=ovr, penalty=l2, solver=lbfgs; total time=   0.4s\n",
            "[CV] END C=21.544346900318832, multi_class=multinomial, penalty=l1, solver=liblinear; total time=   0.0s\n",
            "[CV] END C=21.544346900318832, multi_class=multinomial, penalty=l1, solver=liblinear; total time=   0.0s\n",
            "[CV] END C=21.544346900318832, multi_class=multinomial, penalty=l1, solver=liblinear; total time=   0.0s\n",
            "[CV] END C=21.544346900318832, multi_class=multinomial, penalty=l1, solver=liblinear; total time=   0.0s\n",
            "[CV] END C=21.544346900318832, multi_class=multinomial, penalty=l1, solver=liblinear; total time=   0.0s\n",
            "[CV] END C=464.15888336127773, multi_class=ovr, penalty=l1, solver=newton-cg; total time=   0.0s\n",
            "[CV] END C=464.15888336127773, multi_class=ovr, penalty=l1, solver=newton-cg; total time=   0.0s\n",
            "[CV] END C=464.15888336127773, multi_class=ovr, penalty=l1, solver=newton-cg; total time=   0.0s\n",
            "[CV] END C=464.15888336127773, multi_class=ovr, penalty=l1, solver=newton-cg; total time=   0.0s\n",
            "[CV] END C=464.15888336127773, multi_class=ovr, penalty=l1, solver=newton-cg; total time=   0.0s\n",
            "[CV] END C=1.0, multi_class=multinomial, penalty=elasticnet, solver=liblinear; total time=   0.0s\n",
            "[CV] END C=1.0, multi_class=multinomial, penalty=elasticnet, solver=liblinear; total time=   0.0s\n",
            "[CV] END C=1.0, multi_class=multinomial, penalty=elasticnet, solver=liblinear; total time=   0.0s\n",
            "[CV] END C=1.0, multi_class=multinomial, penalty=elasticnet, solver=liblinear; total time=   0.0s\n",
            "[CV] END C=1.0, multi_class=multinomial, penalty=elasticnet, solver=liblinear; total time=   0.0s\n"
          ]
        },
        {
          "output_type": "stream",
          "name": "stderr",
          "text": [
            "/usr/local/lib/python3.7/dist-packages/sklearn/linear_model/_sag.py:354: ConvergenceWarning: The max_iter was reached which means the coef_ did not converge\n",
            "  ConvergenceWarning,\n",
            "/usr/local/lib/python3.7/dist-packages/sklearn/linear_model/_sag.py:354: ConvergenceWarning: The max_iter was reached which means the coef_ did not converge\n",
            "  ConvergenceWarning,\n",
            "/usr/local/lib/python3.7/dist-packages/sklearn/linear_model/_sag.py:354: ConvergenceWarning: The max_iter was reached which means the coef_ did not converge\n",
            "  ConvergenceWarning,\n"
          ]
        },
        {
          "output_type": "stream",
          "name": "stdout",
          "text": [
            "[CV] END C=3593.813663804626, multi_class=ovr, penalty=l2, solver=sag; total time=   0.8s\n"
          ]
        },
        {
          "output_type": "stream",
          "name": "stderr",
          "text": [
            "/usr/local/lib/python3.7/dist-packages/sklearn/linear_model/_sag.py:354: ConvergenceWarning: The max_iter was reached which means the coef_ did not converge\n",
            "  ConvergenceWarning,\n",
            "/usr/local/lib/python3.7/dist-packages/sklearn/linear_model/_sag.py:354: ConvergenceWarning: The max_iter was reached which means the coef_ did not converge\n",
            "  ConvergenceWarning,\n",
            "/usr/local/lib/python3.7/dist-packages/sklearn/linear_model/_sag.py:354: ConvergenceWarning: The max_iter was reached which means the coef_ did not converge\n",
            "  ConvergenceWarning,\n"
          ]
        },
        {
          "output_type": "stream",
          "name": "stdout",
          "text": [
            "[CV] END C=3593.813663804626, multi_class=ovr, penalty=l2, solver=sag; total time=   0.8s\n"
          ]
        },
        {
          "output_type": "stream",
          "name": "stderr",
          "text": [
            "/usr/local/lib/python3.7/dist-packages/sklearn/linear_model/_sag.py:354: ConvergenceWarning: The max_iter was reached which means the coef_ did not converge\n",
            "  ConvergenceWarning,\n",
            "/usr/local/lib/python3.7/dist-packages/sklearn/linear_model/_sag.py:354: ConvergenceWarning: The max_iter was reached which means the coef_ did not converge\n",
            "  ConvergenceWarning,\n",
            "/usr/local/lib/python3.7/dist-packages/sklearn/linear_model/_sag.py:354: ConvergenceWarning: The max_iter was reached which means the coef_ did not converge\n",
            "  ConvergenceWarning,\n"
          ]
        },
        {
          "output_type": "stream",
          "name": "stdout",
          "text": [
            "[CV] END C=3593.813663804626, multi_class=ovr, penalty=l2, solver=sag; total time=   0.8s\n"
          ]
        },
        {
          "output_type": "stream",
          "name": "stderr",
          "text": [
            "/usr/local/lib/python3.7/dist-packages/sklearn/linear_model/_sag.py:354: ConvergenceWarning: The max_iter was reached which means the coef_ did not converge\n",
            "  ConvergenceWarning,\n",
            "/usr/local/lib/python3.7/dist-packages/sklearn/linear_model/_sag.py:354: ConvergenceWarning: The max_iter was reached which means the coef_ did not converge\n",
            "  ConvergenceWarning,\n",
            "/usr/local/lib/python3.7/dist-packages/sklearn/linear_model/_sag.py:354: ConvergenceWarning: The max_iter was reached which means the coef_ did not converge\n",
            "  ConvergenceWarning,\n"
          ]
        },
        {
          "output_type": "stream",
          "name": "stdout",
          "text": [
            "[CV] END C=3593.813663804626, multi_class=ovr, penalty=l2, solver=sag; total time=   0.8s\n"
          ]
        },
        {
          "output_type": "stream",
          "name": "stderr",
          "text": [
            "/usr/local/lib/python3.7/dist-packages/sklearn/linear_model/_sag.py:354: ConvergenceWarning: The max_iter was reached which means the coef_ did not converge\n",
            "  ConvergenceWarning,\n",
            "/usr/local/lib/python3.7/dist-packages/sklearn/linear_model/_sag.py:354: ConvergenceWarning: The max_iter was reached which means the coef_ did not converge\n",
            "  ConvergenceWarning,\n",
            "/usr/local/lib/python3.7/dist-packages/sklearn/linear_model/_sag.py:354: ConvergenceWarning: The max_iter was reached which means the coef_ did not converge\n",
            "  ConvergenceWarning,\n"
          ]
        },
        {
          "output_type": "stream",
          "name": "stdout",
          "text": [
            "[CV] END C=3593.813663804626, multi_class=ovr, penalty=l2, solver=sag; total time=   0.8s\n",
            "[CV] END C=21.544346900318832, multi_class=auto, penalty=l1, solver=newton-cg; total time=   0.0s\n",
            "[CV] END C=21.544346900318832, multi_class=auto, penalty=l1, solver=newton-cg; total time=   0.0s\n",
            "[CV] END C=21.544346900318832, multi_class=auto, penalty=l1, solver=newton-cg; total time=   0.0s\n",
            "[CV] END C=21.544346900318832, multi_class=auto, penalty=l1, solver=newton-cg; total time=   0.0s\n",
            "[CV] END C=21.544346900318832, multi_class=auto, penalty=l1, solver=newton-cg; total time=   0.0s\n",
            "[CV] END C=10000.0, multi_class=ovr, penalty=elasticnet, solver=newton-cg; total time=   0.0s\n",
            "[CV] END C=10000.0, multi_class=ovr, penalty=elasticnet, solver=newton-cg; total time=   0.0s\n",
            "[CV] END C=10000.0, multi_class=ovr, penalty=elasticnet, solver=newton-cg; total time=   0.0s\n",
            "[CV] END C=10000.0, multi_class=ovr, penalty=elasticnet, solver=newton-cg; total time=   0.0s\n",
            "[CV] END C=10000.0, multi_class=ovr, penalty=elasticnet, solver=newton-cg; total time=   0.0s\n"
          ]
        },
        {
          "output_type": "stream",
          "name": "stderr",
          "text": [
            "/usr/local/lib/python3.7/dist-packages/sklearn/linear_model/_sag.py:354: ConvergenceWarning: The max_iter was reached which means the coef_ did not converge\n",
            "  ConvergenceWarning,\n",
            "/usr/local/lib/python3.7/dist-packages/sklearn/linear_model/_sag.py:354: ConvergenceWarning: The max_iter was reached which means the coef_ did not converge\n",
            "  ConvergenceWarning,\n",
            "/usr/local/lib/python3.7/dist-packages/sklearn/linear_model/_sag.py:354: ConvergenceWarning: The max_iter was reached which means the coef_ did not converge\n",
            "  ConvergenceWarning,\n"
          ]
        },
        {
          "output_type": "stream",
          "name": "stdout",
          "text": [
            "[CV] END C=2.7825594022071245, multi_class=ovr, penalty=l2, solver=saga; total time=   0.8s\n"
          ]
        },
        {
          "output_type": "stream",
          "name": "stderr",
          "text": [
            "/usr/local/lib/python3.7/dist-packages/sklearn/linear_model/_sag.py:354: ConvergenceWarning: The max_iter was reached which means the coef_ did not converge\n",
            "  ConvergenceWarning,\n",
            "/usr/local/lib/python3.7/dist-packages/sklearn/linear_model/_sag.py:354: ConvergenceWarning: The max_iter was reached which means the coef_ did not converge\n",
            "  ConvergenceWarning,\n",
            "/usr/local/lib/python3.7/dist-packages/sklearn/linear_model/_sag.py:354: ConvergenceWarning: The max_iter was reached which means the coef_ did not converge\n",
            "  ConvergenceWarning,\n"
          ]
        },
        {
          "output_type": "stream",
          "name": "stdout",
          "text": [
            "[CV] END C=2.7825594022071245, multi_class=ovr, penalty=l2, solver=saga; total time=   0.9s\n"
          ]
        },
        {
          "output_type": "stream",
          "name": "stderr",
          "text": [
            "/usr/local/lib/python3.7/dist-packages/sklearn/linear_model/_sag.py:354: ConvergenceWarning: The max_iter was reached which means the coef_ did not converge\n",
            "  ConvergenceWarning,\n",
            "/usr/local/lib/python3.7/dist-packages/sklearn/linear_model/_sag.py:354: ConvergenceWarning: The max_iter was reached which means the coef_ did not converge\n",
            "  ConvergenceWarning,\n",
            "/usr/local/lib/python3.7/dist-packages/sklearn/linear_model/_sag.py:354: ConvergenceWarning: The max_iter was reached which means the coef_ did not converge\n",
            "  ConvergenceWarning,\n"
          ]
        },
        {
          "output_type": "stream",
          "name": "stdout",
          "text": [
            "[CV] END C=2.7825594022071245, multi_class=ovr, penalty=l2, solver=saga; total time=   0.8s\n"
          ]
        },
        {
          "output_type": "stream",
          "name": "stderr",
          "text": [
            "/usr/local/lib/python3.7/dist-packages/sklearn/linear_model/_sag.py:354: ConvergenceWarning: The max_iter was reached which means the coef_ did not converge\n",
            "  ConvergenceWarning,\n",
            "/usr/local/lib/python3.7/dist-packages/sklearn/linear_model/_sag.py:354: ConvergenceWarning: The max_iter was reached which means the coef_ did not converge\n",
            "  ConvergenceWarning,\n",
            "/usr/local/lib/python3.7/dist-packages/sklearn/linear_model/_sag.py:354: ConvergenceWarning: The max_iter was reached which means the coef_ did not converge\n",
            "  ConvergenceWarning,\n"
          ]
        },
        {
          "output_type": "stream",
          "name": "stdout",
          "text": [
            "[CV] END C=2.7825594022071245, multi_class=ovr, penalty=l2, solver=saga; total time=   0.8s\n"
          ]
        },
        {
          "output_type": "stream",
          "name": "stderr",
          "text": [
            "/usr/local/lib/python3.7/dist-packages/sklearn/linear_model/_sag.py:354: ConvergenceWarning: The max_iter was reached which means the coef_ did not converge\n",
            "  ConvergenceWarning,\n",
            "/usr/local/lib/python3.7/dist-packages/sklearn/linear_model/_sag.py:354: ConvergenceWarning: The max_iter was reached which means the coef_ did not converge\n",
            "  ConvergenceWarning,\n",
            "/usr/local/lib/python3.7/dist-packages/sklearn/linear_model/_sag.py:354: ConvergenceWarning: The max_iter was reached which means the coef_ did not converge\n",
            "  ConvergenceWarning,\n"
          ]
        },
        {
          "output_type": "stream",
          "name": "stdout",
          "text": [
            "[CV] END C=2.7825594022071245, multi_class=ovr, penalty=l2, solver=saga; total time=   0.9s\n",
            "[CV] END C=464.15888336127773, multi_class=multinomial, penalty=elasticnet, solver=saga; total time=   0.0s\n",
            "[CV] END C=464.15888336127773, multi_class=multinomial, penalty=elasticnet, solver=saga; total time=   0.0s\n",
            "[CV] END C=464.15888336127773, multi_class=multinomial, penalty=elasticnet, solver=saga; total time=   0.0s\n",
            "[CV] END C=464.15888336127773, multi_class=multinomial, penalty=elasticnet, solver=saga; total time=   0.0s\n",
            "[CV] END C=464.15888336127773, multi_class=multinomial, penalty=elasticnet, solver=saga; total time=   0.0s\n",
            "[CV] END C=10000.0, multi_class=multinomial, penalty=l2, solver=lbfgs; total time=   0.8s\n",
            "[CV] END C=10000.0, multi_class=multinomial, penalty=l2, solver=lbfgs; total time=   0.7s\n",
            "[CV] END C=10000.0, multi_class=multinomial, penalty=l2, solver=lbfgs; total time=   0.7s\n",
            "[CV] END C=10000.0, multi_class=multinomial, penalty=l2, solver=lbfgs; total time=   0.7s\n",
            "[CV] END C=10000.0, multi_class=multinomial, penalty=l2, solver=lbfgs; total time=   0.7s\n",
            "[CV] END C=21.544346900318832, multi_class=ovr, penalty=l1, solver=liblinear; total time=   0.1s\n",
            "[CV] END C=21.544346900318832, multi_class=ovr, penalty=l1, solver=liblinear; total time=   0.1s\n",
            "[CV] END C=21.544346900318832, multi_class=ovr, penalty=l1, solver=liblinear; total time=   0.1s\n",
            "[CV] END C=21.544346900318832, multi_class=ovr, penalty=l1, solver=liblinear; total time=   0.1s\n",
            "[CV] END C=21.544346900318832, multi_class=ovr, penalty=l1, solver=liblinear; total time=   0.1s\n",
            "[CV] END C=2.7825594022071245, multi_class=auto, penalty=l1, solver=sag; total time=   0.0s\n",
            "[CV] END C=2.7825594022071245, multi_class=auto, penalty=l1, solver=sag; total time=   0.0s\n",
            "[CV] END C=2.7825594022071245, multi_class=auto, penalty=l1, solver=sag; total time=   0.0s\n",
            "[CV] END C=2.7825594022071245, multi_class=auto, penalty=l1, solver=sag; total time=   0.0s\n",
            "[CV] END C=2.7825594022071245, multi_class=auto, penalty=l1, solver=sag; total time=   0.0s\n"
          ]
        },
        {
          "output_type": "stream",
          "name": "stderr",
          "text": [
            "/usr/local/lib/python3.7/dist-packages/sklearn/model_selection/_validation.py:372: FitFailedWarning: \n",
            "310 fits failed out of a total of 500.\n",
            "The score on these train-test partitions for these parameters will be set to nan.\n",
            "If these failures are not expected, you can try to debug them by setting error_score='raise'.\n",
            "\n",
            "Below are more details about the failures:\n",
            "--------------------------------------------------------------------------------\n",
            "30 fits failed with the following error:\n",
            "Traceback (most recent call last):\n",
            "  File \"/usr/local/lib/python3.7/dist-packages/sklearn/model_selection/_validation.py\", line 680, in _fit_and_score\n",
            "    estimator.fit(X_train, y_train, **fit_params)\n",
            "  File \"/usr/local/lib/python3.7/dist-packages/sklearn/linear_model/_logistic.py\", line 1519, in fit\n",
            "    multi_class = _check_multi_class(self.multi_class, solver, len(self.classes_))\n",
            "  File \"/usr/local/lib/python3.7/dist-packages/sklearn/linear_model/_logistic.py\", line 483, in _check_multi_class\n",
            "    raise ValueError(\"Solver %s does not support a multinomial backend.\" % solver)\n",
            "ValueError: Solver liblinear does not support a multinomial backend.\n",
            "\n",
            "--------------------------------------------------------------------------------\n",
            "25 fits failed with the following error:\n",
            "Traceback (most recent call last):\n",
            "  File \"/usr/local/lib/python3.7/dist-packages/sklearn/model_selection/_validation.py\", line 680, in _fit_and_score\n",
            "    estimator.fit(X_train, y_train, **fit_params)\n",
            "  File \"/usr/local/lib/python3.7/dist-packages/sklearn/linear_model/_logistic.py\", line 1461, in fit\n",
            "    solver = _check_solver(self.solver, self.penalty, self.dual)\n",
            "  File \"/usr/local/lib/python3.7/dist-packages/sklearn/linear_model/_logistic.py\", line 449, in _check_solver\n",
            "    % (solver, penalty)\n",
            "ValueError: Solver newton-cg supports only 'l2' or 'none' penalties, got l1 penalty.\n",
            "\n",
            "--------------------------------------------------------------------------------\n",
            "45 fits failed with the following error:\n",
            "Traceback (most recent call last):\n",
            "  File \"/usr/local/lib/python3.7/dist-packages/sklearn/model_selection/_validation.py\", line 680, in _fit_and_score\n",
            "    estimator.fit(X_train, y_train, **fit_params)\n",
            "  File \"/usr/local/lib/python3.7/dist-packages/sklearn/linear_model/_logistic.py\", line 1461, in fit\n",
            "    solver = _check_solver(self.solver, self.penalty, self.dual)\n",
            "  File \"/usr/local/lib/python3.7/dist-packages/sklearn/linear_model/_logistic.py\", line 459, in _check_solver\n",
            "    solver\n",
            "ValueError: Only 'saga' solver supports elasticnet penalty, got solver=liblinear.\n",
            "\n",
            "--------------------------------------------------------------------------------\n",
            "45 fits failed with the following error:\n",
            "Traceback (most recent call last):\n",
            "  File \"/usr/local/lib/python3.7/dist-packages/sklearn/model_selection/_validation.py\", line 680, in _fit_and_score\n",
            "    estimator.fit(X_train, y_train, **fit_params)\n",
            "  File \"/usr/local/lib/python3.7/dist-packages/sklearn/linear_model/_logistic.py\", line 1473, in fit\n",
            "    % self.l1_ratio\n",
            "ValueError: l1_ratio must be between 0 and 1; got (l1_ratio=None)\n",
            "\n",
            "--------------------------------------------------------------------------------\n",
            "40 fits failed with the following error:\n",
            "Traceback (most recent call last):\n",
            "  File \"/usr/local/lib/python3.7/dist-packages/sklearn/model_selection/_validation.py\", line 680, in _fit_and_score\n",
            "    estimator.fit(X_train, y_train, **fit_params)\n",
            "  File \"/usr/local/lib/python3.7/dist-packages/sklearn/linear_model/_logistic.py\", line 1461, in fit\n",
            "    solver = _check_solver(self.solver, self.penalty, self.dual)\n",
            "  File \"/usr/local/lib/python3.7/dist-packages/sklearn/linear_model/_logistic.py\", line 449, in _check_solver\n",
            "    % (solver, penalty)\n",
            "ValueError: Solver newton-cg supports only 'l2' or 'none' penalties, got elasticnet penalty.\n",
            "\n",
            "--------------------------------------------------------------------------------\n",
            "40 fits failed with the following error:\n",
            "Traceback (most recent call last):\n",
            "  File \"/usr/local/lib/python3.7/dist-packages/sklearn/model_selection/_validation.py\", line 680, in _fit_and_score\n",
            "    estimator.fit(X_train, y_train, **fit_params)\n",
            "  File \"/usr/local/lib/python3.7/dist-packages/sklearn/linear_model/_logistic.py\", line 1461, in fit\n",
            "    solver = _check_solver(self.solver, self.penalty, self.dual)\n",
            "  File \"/usr/local/lib/python3.7/dist-packages/sklearn/linear_model/_logistic.py\", line 449, in _check_solver\n",
            "    % (solver, penalty)\n",
            "ValueError: Solver sag supports only 'l2' or 'none' penalties, got l1 penalty.\n",
            "\n",
            "--------------------------------------------------------------------------------\n",
            "30 fits failed with the following error:\n",
            "Traceback (most recent call last):\n",
            "  File \"/usr/local/lib/python3.7/dist-packages/sklearn/model_selection/_validation.py\", line 680, in _fit_and_score\n",
            "    estimator.fit(X_train, y_train, **fit_params)\n",
            "  File \"/usr/local/lib/python3.7/dist-packages/sklearn/linear_model/_logistic.py\", line 1461, in fit\n",
            "    solver = _check_solver(self.solver, self.penalty, self.dual)\n",
            "  File \"/usr/local/lib/python3.7/dist-packages/sklearn/linear_model/_logistic.py\", line 449, in _check_solver\n",
            "    % (solver, penalty)\n",
            "ValueError: Solver lbfgs supports only 'l2' or 'none' penalties, got l1 penalty.\n",
            "\n",
            "--------------------------------------------------------------------------------\n",
            "35 fits failed with the following error:\n",
            "Traceback (most recent call last):\n",
            "  File \"/usr/local/lib/python3.7/dist-packages/sklearn/model_selection/_validation.py\", line 680, in _fit_and_score\n",
            "    estimator.fit(X_train, y_train, **fit_params)\n",
            "  File \"/usr/local/lib/python3.7/dist-packages/sklearn/linear_model/_logistic.py\", line 1461, in fit\n",
            "    solver = _check_solver(self.solver, self.penalty, self.dual)\n",
            "  File \"/usr/local/lib/python3.7/dist-packages/sklearn/linear_model/_logistic.py\", line 449, in _check_solver\n",
            "    % (solver, penalty)\n",
            "ValueError: Solver lbfgs supports only 'l2' or 'none' penalties, got elasticnet penalty.\n",
            "\n",
            "--------------------------------------------------------------------------------\n",
            "20 fits failed with the following error:\n",
            "Traceback (most recent call last):\n",
            "  File \"/usr/local/lib/python3.7/dist-packages/sklearn/model_selection/_validation.py\", line 680, in _fit_and_score\n",
            "    estimator.fit(X_train, y_train, **fit_params)\n",
            "  File \"/usr/local/lib/python3.7/dist-packages/sklearn/linear_model/_logistic.py\", line 1461, in fit\n",
            "    solver = _check_solver(self.solver, self.penalty, self.dual)\n",
            "  File \"/usr/local/lib/python3.7/dist-packages/sklearn/linear_model/_logistic.py\", line 449, in _check_solver\n",
            "    % (solver, penalty)\n",
            "ValueError: Solver sag supports only 'l2' or 'none' penalties, got elasticnet penalty.\n",
            "\n",
            "  warnings.warn(some_fits_failed_message, FitFailedWarning)\n",
            "/usr/local/lib/python3.7/dist-packages/sklearn/model_selection/_search.py:972: UserWarning: One or more of the test scores are non-finite: [0.57105204        nan        nan 0.57113992        nan 0.57096408\n",
            "        nan        nan        nan        nan        nan 0.57131573\n",
            " 0.57113991 0.57109599        nan        nan        nan        nan\n",
            "        nan        nan        nan        nan        nan        nan\n",
            " 0.57087621        nan        nan 0.57096408 0.571096          nan\n",
            " 0.57109599        nan        nan        nan 0.57109599        nan\n",
            " 0.57109599 0.57113991        nan        nan        nan 0.57096408\n",
            "        nan        nan 0.57131573 0.57131574        nan        nan\n",
            " 0.57113991 0.57105204        nan 0.57105204 0.57109599        nan\n",
            "        nan        nan        nan 0.57105204 0.57127178 0.57087621\n",
            "        nan        nan        nan        nan 0.57118387 0.57096408\n",
            "        nan        nan        nan        nan        nan        nan\n",
            "        nan 0.57096408 0.57087621        nan 0.57105204 0.57109599\n",
            "        nan        nan        nan        nan 0.57131574 0.57083225\n",
            "        nan 0.57109599        nan 0.57083225 0.57118387        nan\n",
            "        nan        nan 0.57061246        nan        nan 0.57083225\n",
            "        nan 0.57105204 0.57113991        nan]\n",
            "  category=UserWarning,\n",
            "/usr/local/lib/python3.7/dist-packages/sklearn/linear_model/_sag.py:354: ConvergenceWarning: The max_iter was reached which means the coef_ did not converge\n",
            "  ConvergenceWarning,\n"
          ]
        },
        {
          "output_type": "execute_result",
          "data": {
            "text/plain": [
              "RandomizedSearchCV(cv=5, estimator=LogisticRegression(), n_iter=100,\n",
              "                   param_distributions={'C': array([1.00000000e+00, 2.78255940e+00, 7.74263683e+00, 2.15443469e+01,\n",
              "       5.99484250e+01, 1.66810054e+02, 4.64158883e+02, 1.29154967e+03,\n",
              "       3.59381366e+03, 1.00000000e+04]),\n",
              "                                        'multi_class': ['auto', 'ovr',\n",
              "                                                        'multinomial'],\n",
              "                                        'penalty': ['l1', 'l2', 'elasticnet'],\n",
              "                                        'solver': ['newton-cg', 'lbfgs',\n",
              "                                                   'liblinear', 'sag',\n",
              "                                                   'saga']},\n",
              "                   random_state=12, verbose=2)"
            ]
          },
          "metadata": {},
          "execution_count": 133
        }
      ]
    },
    {
      "cell_type": "code",
      "source": [
        "# Best parameters\n",
        "parameters = best_model.best_params_\n",
        "parameters"
      ],
      "metadata": {
        "id": "OQYBCisqiTiQ",
        "outputId": "b88d2389-d2c0-4227-90e4-e8ed21e1ef50",
        "colab": {
          "base_uri": "https://localhost:8080/"
        }
      },
      "execution_count": 134,
      "outputs": [
        {
          "output_type": "execute_result",
          "data": {
            "text/plain": [
              "{'C': 7.742636826811269,\n",
              " 'multi_class': 'multinomial',\n",
              " 'penalty': 'l1',\n",
              " 'solver': 'saga'}"
            ]
          },
          "metadata": {},
          "execution_count": 134
        }
      ]
    },
    {
      "cell_type": "code",
      "source": [
        "# fitting the model with the best hyperparameters\n",
        "model = LogisticRegression(\n",
        "    C = 7.742636826811269,\n",
        "    multi_class = 'multinomial',\n",
        "    penalty = 'l1',\n",
        "    solver = 'saga'\n",
        "\n",
        ")\n",
        "model.fit(xtrain, ytrain)\n",
        "\n",
        "\n",
        "# Prediction\n",
        "y_pred = model.predict(xtest)\n",
        "\n",
        "#score\n",
        "print(\"The accuracy of the model is %.3f:\"% accuracy_score(ytest, y_pred))"
      ],
      "metadata": {
        "id": "v82_M4SojppT",
        "outputId": "2fc6c3a2-718a-47ae-deb3-3ef07d2843b3",
        "colab": {
          "base_uri": "https://localhost:8080/"
        }
      },
      "execution_count": 137,
      "outputs": [
        {
          "output_type": "stream",
          "name": "stdout",
          "text": [
            "The accuracy of the model is 0.562:\n"
          ]
        },
        {
          "output_type": "stream",
          "name": "stderr",
          "text": [
            "/usr/local/lib/python3.7/dist-packages/sklearn/linear_model/_sag.py:354: ConvergenceWarning: The max_iter was reached which means the coef_ did not converge\n",
            "  ConvergenceWarning,\n"
          ]
        }
      ]
    },
    {
      "cell_type": "markdown",
      "source": [
        "The accuracy of the model is now 56.2%, meaning the model was earlier on overfitting."
      ],
      "metadata": {
        "id": "ZMKtbVvQkV7_"
      }
    },
    {
      "cell_type": "markdown",
      "source": [
        "10% of mean\n",
        "\n",
        "make comments of the output \n",
        "\n",
        "understanding the context\n",
        "\n",
        "interpret bartlett's"
      ],
      "metadata": {
        "id": "T9fR65BhjsoY"
      }
    },
    {
      "cell_type": "code",
      "source": [
        ""
      ],
      "metadata": {
        "id": "gt9Ox6W3jyr5"
      },
      "execution_count": 88,
      "outputs": []
    }
  ]
}