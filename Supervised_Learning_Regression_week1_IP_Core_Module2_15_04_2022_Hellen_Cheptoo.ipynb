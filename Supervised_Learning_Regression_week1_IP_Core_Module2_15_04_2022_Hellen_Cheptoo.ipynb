{
  "nbformat": 4,
  "nbformat_minor": 0,
  "metadata": {
    "colab": {
      "name": "Supervised_Learning_Regression_week1_IP_Core_Module2_15_04_2022_Hellen_Cheptoo.ipynb",
      "provenance": [],
      "collapsed_sections": [],
      "authorship_tag": "ABX9TyMsYjBcx425UDmLWlrfw1G5",
      "include_colab_link": true
    },
    "kernelspec": {
      "name": "python3",
      "display_name": "Python 3"
    },
    "language_info": {
      "name": "python"
    }
  },
  "cells": [
    {
      "cell_type": "markdown",
      "metadata": {
        "id": "view-in-github",
        "colab_type": "text"
      },
      "source": [
        "<a href=\"https://colab.research.google.com/github/hellen2021/Football-Analysis-Mchezopesa-Limited/blob/main/Supervised_Learning_Regression_week1_IP_Core_Module2_15_04_2022_Hellen_Cheptoo.ipynb\" target=\"_parent\"><img src=\"https://colab.research.google.com/assets/colab-badge.svg\" alt=\"Open In Colab\"/></a>"
      ]
    },
    {
      "cell_type": "markdown",
      "source": [
        "# Supervised Learning with Exploratory Data Analysis"
      ],
      "metadata": {
        "id": "WfpV6OSAt_sO"
      }
    },
    {
      "cell_type": "markdown",
      "source": [
        "### Football Analysis for Mchezopesa Limited Company"
      ],
      "metadata": {
        "id": "7f8JlLcEuPpg"
      }
    },
    {
      "cell_type": "markdown",
      "source": [
        "## 1.Defining the Research Questions\n",
        "\n",
        "You have been recruited as a football analyst in a company - Mchezopesa Ltd and tasked to accomplish the task below.\n",
        "\n",
        "A prediction result of a game between team 1 and team 2, based on who's home and who's away, and on whether or not the game is friendly (include rank in your training).\n",
        "\n",
        "## 2.Defining the metric of success\n",
        "This project will be a success if:\n",
        "\n",
        "a) We are able to accurately predict the winning team based on the two conditions:\n",
        "*   Home team or away team\n",
        "*   Type of tournament\n",
        "\n",
        "b) Achieve an accuracy of atleast 80%\n",
        "\n",
        "c) have the lowest RMSE as possible\n",
        "\n",
        "## 3.Understanding the context\n",
        "\n",
        "## 4.Experimental Design\n",
        "The following are the design steps:\n",
        "*   Loading the datsets\n",
        "*   Exploring and cleaning the datasets\n",
        "*   Merge the two datasets\n",
        "*   Perform EDA\n",
        "*   Feature Engineering\n",
        "*   Check for multicollinearity\n",
        "*   Polynomial Regression\n",
        "*   Logistic Regression\n",
        "*   Compute the Root Mean Squared Error\n",
        "*   Create residual plots for the models, and assess their heteroscedasticity using Bartlett’s test\n",
        "\n",
        "## 4.Data Relevance\n",
        "The relevance of the data will be verified by the performance of the model\n",
        "\n"
      ],
      "metadata": {
        "id": "PMU4vhzsumXN"
      }
    },
    {
      "cell_type": "markdown",
      "source": [
        "## Importing necessary libraries"
      ],
      "metadata": {
        "id": "0nvV0XH6vDMO"
      }
    },
    {
      "cell_type": "code",
      "source": [
        "import pandas as pd\n",
        "import numpy as np\n",
        "import seaborn as sns\n",
        "import matplotlib.pyplot as plt\n",
        "from sklearn.model_selection import train_test_split,GridSearchCV,RandomizedSearchCV,KFold,cross_val_score\n",
        "from sklearn.linear_model import LinearRegression,LogisticRegression\n",
        "from sklearn import metrics\n",
        "from sklearn.metrics import mean_squared_error, f1_score, accuracy_score, confusion_matrix, mean_squared_error\n",
        "from sklearn.preprocessing import PolynomialFeatures,StandardScaler,LabelEncoder\n",
        "from sklearn.feature_extraction import DictVectorizer\n",
        "import scipy as sp\n",
        "\n",
        "from matplotlib.figure import Figure\n",
        "import os\n",
        "import warnings\n",
        "import datetime"
      ],
      "metadata": {
        "id": "3AKHJyKlqdff"
      },
      "execution_count": 507,
      "outputs": []
    },
    {
      "cell_type": "markdown",
      "source": [
        "## Load the data"
      ],
      "metadata": {
        "id": "JJ0gKjRZu_Tl"
      }
    },
    {
      "cell_type": "code",
      "execution_count": 508,
      "metadata": {
        "id": "m5RbPGhymPyF",
        "colab": {
          "base_uri": "https://localhost:8080/"
        },
        "outputId": "b7e5a332-b8e1-4bf2-bbff-681927533c73"
      },
      "outputs": [
        {
          "output_type": "stream",
          "name": "stdout",
          "text": [
            "Drive already mounted at /content/drive; to attempt to forcibly remount, call drive.mount(\"/content/drive\", force_remount=True).\n"
          ]
        }
      ],
      "source": [
        "# Mounting Google Colab\n",
        "from google.colab import drive\n",
        "drive.mount('/content/drive')"
      ]
    },
    {
      "cell_type": "code",
      "source": [
        "# Accessing the working directory\n",
        "os.chdir('/content/drive/MyDrive/Moringa Data Science/CORE MODULE 2/week1IP')"
      ],
      "metadata": {
        "id": "WUsvXsl4qYbE"
      },
      "execution_count": 509,
      "outputs": []
    },
    {
      "cell_type": "code",
      "source": [
        "# Loading dataset\n",
        "results = pd.read_csv('results.csv')\n",
        "fifa_ranking = pd.read_csv('fifa_ranking.csv')"
      ],
      "metadata": {
        "id": "doRNAbX6sxfC"
      },
      "execution_count": 510,
      "outputs": []
    },
    {
      "cell_type": "markdown",
      "source": [
        "## Datasets Preview"
      ],
      "metadata": {
        "id": "YVnX6JxivKFb"
      }
    },
    {
      "cell_type": "code",
      "source": [
        "# results dataset\n",
        "results.head()"
      ],
      "metadata": {
        "colab": {
          "base_uri": "https://localhost:8080/",
          "height": 206
        },
        "id": "n8Pe-KOOu7PJ",
        "outputId": "fa0c9f6a-511c-41c6-961c-a17df6a73489"
      },
      "execution_count": 511,
      "outputs": [
        {
          "output_type": "execute_result",
          "data": {
            "text/plain": [
              "         date home_team away_team  home_score  away_score tournament     city  \\\n",
              "0  1872-11-30  Scotland   England           0           0   Friendly  Glasgow   \n",
              "1  1873-03-08   England  Scotland           4           2   Friendly   London   \n",
              "2  1874-03-07  Scotland   England           2           1   Friendly  Glasgow   \n",
              "3  1875-03-06   England  Scotland           2           2   Friendly   London   \n",
              "4  1876-03-04  Scotland   England           3           0   Friendly  Glasgow   \n",
              "\n",
              "    country  neutral  \n",
              "0  Scotland    False  \n",
              "1   England    False  \n",
              "2  Scotland    False  \n",
              "3   England    False  \n",
              "4  Scotland    False  "
            ],
            "text/html": [
              "\n",
              "  <div id=\"df-9b44d4de-8509-47e3-90e1-d94df9ff38ca\">\n",
              "    <div class=\"colab-df-container\">\n",
              "      <div>\n",
              "<style scoped>\n",
              "    .dataframe tbody tr th:only-of-type {\n",
              "        vertical-align: middle;\n",
              "    }\n",
              "\n",
              "    .dataframe tbody tr th {\n",
              "        vertical-align: top;\n",
              "    }\n",
              "\n",
              "    .dataframe thead th {\n",
              "        text-align: right;\n",
              "    }\n",
              "</style>\n",
              "<table border=\"1\" class=\"dataframe\">\n",
              "  <thead>\n",
              "    <tr style=\"text-align: right;\">\n",
              "      <th></th>\n",
              "      <th>date</th>\n",
              "      <th>home_team</th>\n",
              "      <th>away_team</th>\n",
              "      <th>home_score</th>\n",
              "      <th>away_score</th>\n",
              "      <th>tournament</th>\n",
              "      <th>city</th>\n",
              "      <th>country</th>\n",
              "      <th>neutral</th>\n",
              "    </tr>\n",
              "  </thead>\n",
              "  <tbody>\n",
              "    <tr>\n",
              "      <th>0</th>\n",
              "      <td>1872-11-30</td>\n",
              "      <td>Scotland</td>\n",
              "      <td>England</td>\n",
              "      <td>0</td>\n",
              "      <td>0</td>\n",
              "      <td>Friendly</td>\n",
              "      <td>Glasgow</td>\n",
              "      <td>Scotland</td>\n",
              "      <td>False</td>\n",
              "    </tr>\n",
              "    <tr>\n",
              "      <th>1</th>\n",
              "      <td>1873-03-08</td>\n",
              "      <td>England</td>\n",
              "      <td>Scotland</td>\n",
              "      <td>4</td>\n",
              "      <td>2</td>\n",
              "      <td>Friendly</td>\n",
              "      <td>London</td>\n",
              "      <td>England</td>\n",
              "      <td>False</td>\n",
              "    </tr>\n",
              "    <tr>\n",
              "      <th>2</th>\n",
              "      <td>1874-03-07</td>\n",
              "      <td>Scotland</td>\n",
              "      <td>England</td>\n",
              "      <td>2</td>\n",
              "      <td>1</td>\n",
              "      <td>Friendly</td>\n",
              "      <td>Glasgow</td>\n",
              "      <td>Scotland</td>\n",
              "      <td>False</td>\n",
              "    </tr>\n",
              "    <tr>\n",
              "      <th>3</th>\n",
              "      <td>1875-03-06</td>\n",
              "      <td>England</td>\n",
              "      <td>Scotland</td>\n",
              "      <td>2</td>\n",
              "      <td>2</td>\n",
              "      <td>Friendly</td>\n",
              "      <td>London</td>\n",
              "      <td>England</td>\n",
              "      <td>False</td>\n",
              "    </tr>\n",
              "    <tr>\n",
              "      <th>4</th>\n",
              "      <td>1876-03-04</td>\n",
              "      <td>Scotland</td>\n",
              "      <td>England</td>\n",
              "      <td>3</td>\n",
              "      <td>0</td>\n",
              "      <td>Friendly</td>\n",
              "      <td>Glasgow</td>\n",
              "      <td>Scotland</td>\n",
              "      <td>False</td>\n",
              "    </tr>\n",
              "  </tbody>\n",
              "</table>\n",
              "</div>\n",
              "      <button class=\"colab-df-convert\" onclick=\"convertToInteractive('df-9b44d4de-8509-47e3-90e1-d94df9ff38ca')\"\n",
              "              title=\"Convert this dataframe to an interactive table.\"\n",
              "              style=\"display:none;\">\n",
              "        \n",
              "  <svg xmlns=\"http://www.w3.org/2000/svg\" height=\"24px\"viewBox=\"0 0 24 24\"\n",
              "       width=\"24px\">\n",
              "    <path d=\"M0 0h24v24H0V0z\" fill=\"none\"/>\n",
              "    <path d=\"M18.56 5.44l.94 2.06.94-2.06 2.06-.94-2.06-.94-.94-2.06-.94 2.06-2.06.94zm-11 1L8.5 8.5l.94-2.06 2.06-.94-2.06-.94L8.5 2.5l-.94 2.06-2.06.94zm10 10l.94 2.06.94-2.06 2.06-.94-2.06-.94-.94-2.06-.94 2.06-2.06.94z\"/><path d=\"M17.41 7.96l-1.37-1.37c-.4-.4-.92-.59-1.43-.59-.52 0-1.04.2-1.43.59L10.3 9.45l-7.72 7.72c-.78.78-.78 2.05 0 2.83L4 21.41c.39.39.9.59 1.41.59.51 0 1.02-.2 1.41-.59l7.78-7.78 2.81-2.81c.8-.78.8-2.07 0-2.86zM5.41 20L4 18.59l7.72-7.72 1.47 1.35L5.41 20z\"/>\n",
              "  </svg>\n",
              "      </button>\n",
              "      \n",
              "  <style>\n",
              "    .colab-df-container {\n",
              "      display:flex;\n",
              "      flex-wrap:wrap;\n",
              "      gap: 12px;\n",
              "    }\n",
              "\n",
              "    .colab-df-convert {\n",
              "      background-color: #E8F0FE;\n",
              "      border: none;\n",
              "      border-radius: 50%;\n",
              "      cursor: pointer;\n",
              "      display: none;\n",
              "      fill: #1967D2;\n",
              "      height: 32px;\n",
              "      padding: 0 0 0 0;\n",
              "      width: 32px;\n",
              "    }\n",
              "\n",
              "    .colab-df-convert:hover {\n",
              "      background-color: #E2EBFA;\n",
              "      box-shadow: 0px 1px 2px rgba(60, 64, 67, 0.3), 0px 1px 3px 1px rgba(60, 64, 67, 0.15);\n",
              "      fill: #174EA6;\n",
              "    }\n",
              "\n",
              "    [theme=dark] .colab-df-convert {\n",
              "      background-color: #3B4455;\n",
              "      fill: #D2E3FC;\n",
              "    }\n",
              "\n",
              "    [theme=dark] .colab-df-convert:hover {\n",
              "      background-color: #434B5C;\n",
              "      box-shadow: 0px 1px 3px 1px rgba(0, 0, 0, 0.15);\n",
              "      filter: drop-shadow(0px 1px 2px rgba(0, 0, 0, 0.3));\n",
              "      fill: #FFFFFF;\n",
              "    }\n",
              "  </style>\n",
              "\n",
              "      <script>\n",
              "        const buttonEl =\n",
              "          document.querySelector('#df-9b44d4de-8509-47e3-90e1-d94df9ff38ca button.colab-df-convert');\n",
              "        buttonEl.style.display =\n",
              "          google.colab.kernel.accessAllowed ? 'block' : 'none';\n",
              "\n",
              "        async function convertToInteractive(key) {\n",
              "          const element = document.querySelector('#df-9b44d4de-8509-47e3-90e1-d94df9ff38ca');\n",
              "          const dataTable =\n",
              "            await google.colab.kernel.invokeFunction('convertToInteractive',\n",
              "                                                     [key], {});\n",
              "          if (!dataTable) return;\n",
              "\n",
              "          const docLinkHtml = 'Like what you see? Visit the ' +\n",
              "            '<a target=\"_blank\" href=https://colab.research.google.com/notebooks/data_table.ipynb>data table notebook</a>'\n",
              "            + ' to learn more about interactive tables.';\n",
              "          element.innerHTML = '';\n",
              "          dataTable['output_type'] = 'display_data';\n",
              "          await google.colab.output.renderOutput(dataTable, element);\n",
              "          const docLink = document.createElement('div');\n",
              "          docLink.innerHTML = docLinkHtml;\n",
              "          element.appendChild(docLink);\n",
              "        }\n",
              "      </script>\n",
              "    </div>\n",
              "  </div>\n",
              "  "
            ]
          },
          "metadata": {},
          "execution_count": 511
        }
      ]
    },
    {
      "cell_type": "code",
      "source": [
        "# fifa ranking dataset\n",
        "fifa_ranking.head()"
      ],
      "metadata": {
        "colab": {
          "base_uri": "https://localhost:8080/",
          "height": 270
        },
        "id": "D3Bebm2nvTDT",
        "outputId": "0229753b-d4b5-4b3c-9e13-63cc47df9aea"
      },
      "execution_count": 512,
      "outputs": [
        {
          "output_type": "execute_result",
          "data": {
            "text/plain": [
              "   rank country_full country_abrv  total_points  previous_points  rank_change  \\\n",
              "0     1      Germany          GER           0.0               57            0   \n",
              "1     2        Italy          ITA           0.0               57            0   \n",
              "2     3  Switzerland          SUI           0.0               50            9   \n",
              "3     4       Sweden          SWE           0.0               55            0   \n",
              "4     5    Argentina          ARG           0.0               51            5   \n",
              "\n",
              "   cur_year_avg  cur_year_avg_weighted  last_year_avg  last_year_avg_weighted  \\\n",
              "0           0.0                    0.0            0.0                     0.0   \n",
              "1           0.0                    0.0            0.0                     0.0   \n",
              "2           0.0                    0.0            0.0                     0.0   \n",
              "3           0.0                    0.0            0.0                     0.0   \n",
              "4           0.0                    0.0            0.0                     0.0   \n",
              "\n",
              "   two_year_ago_avg  two_year_ago_weighted  three_year_ago_avg  \\\n",
              "0               0.0                    0.0                 0.0   \n",
              "1               0.0                    0.0                 0.0   \n",
              "2               0.0                    0.0                 0.0   \n",
              "3               0.0                    0.0                 0.0   \n",
              "4               0.0                    0.0                 0.0   \n",
              "\n",
              "   three_year_ago_weighted confederation   rank_date  \n",
              "0                      0.0          UEFA  1993-08-08  \n",
              "1                      0.0          UEFA  1993-08-08  \n",
              "2                      0.0          UEFA  1993-08-08  \n",
              "3                      0.0          UEFA  1993-08-08  \n",
              "4                      0.0      CONMEBOL  1993-08-08  "
            ],
            "text/html": [
              "\n",
              "  <div id=\"df-dd3df325-7cfd-44a7-be5f-f716846d3b1d\">\n",
              "    <div class=\"colab-df-container\">\n",
              "      <div>\n",
              "<style scoped>\n",
              "    .dataframe tbody tr th:only-of-type {\n",
              "        vertical-align: middle;\n",
              "    }\n",
              "\n",
              "    .dataframe tbody tr th {\n",
              "        vertical-align: top;\n",
              "    }\n",
              "\n",
              "    .dataframe thead th {\n",
              "        text-align: right;\n",
              "    }\n",
              "</style>\n",
              "<table border=\"1\" class=\"dataframe\">\n",
              "  <thead>\n",
              "    <tr style=\"text-align: right;\">\n",
              "      <th></th>\n",
              "      <th>rank</th>\n",
              "      <th>country_full</th>\n",
              "      <th>country_abrv</th>\n",
              "      <th>total_points</th>\n",
              "      <th>previous_points</th>\n",
              "      <th>rank_change</th>\n",
              "      <th>cur_year_avg</th>\n",
              "      <th>cur_year_avg_weighted</th>\n",
              "      <th>last_year_avg</th>\n",
              "      <th>last_year_avg_weighted</th>\n",
              "      <th>two_year_ago_avg</th>\n",
              "      <th>two_year_ago_weighted</th>\n",
              "      <th>three_year_ago_avg</th>\n",
              "      <th>three_year_ago_weighted</th>\n",
              "      <th>confederation</th>\n",
              "      <th>rank_date</th>\n",
              "    </tr>\n",
              "  </thead>\n",
              "  <tbody>\n",
              "    <tr>\n",
              "      <th>0</th>\n",
              "      <td>1</td>\n",
              "      <td>Germany</td>\n",
              "      <td>GER</td>\n",
              "      <td>0.0</td>\n",
              "      <td>57</td>\n",
              "      <td>0</td>\n",
              "      <td>0.0</td>\n",
              "      <td>0.0</td>\n",
              "      <td>0.0</td>\n",
              "      <td>0.0</td>\n",
              "      <td>0.0</td>\n",
              "      <td>0.0</td>\n",
              "      <td>0.0</td>\n",
              "      <td>0.0</td>\n",
              "      <td>UEFA</td>\n",
              "      <td>1993-08-08</td>\n",
              "    </tr>\n",
              "    <tr>\n",
              "      <th>1</th>\n",
              "      <td>2</td>\n",
              "      <td>Italy</td>\n",
              "      <td>ITA</td>\n",
              "      <td>0.0</td>\n",
              "      <td>57</td>\n",
              "      <td>0</td>\n",
              "      <td>0.0</td>\n",
              "      <td>0.0</td>\n",
              "      <td>0.0</td>\n",
              "      <td>0.0</td>\n",
              "      <td>0.0</td>\n",
              "      <td>0.0</td>\n",
              "      <td>0.0</td>\n",
              "      <td>0.0</td>\n",
              "      <td>UEFA</td>\n",
              "      <td>1993-08-08</td>\n",
              "    </tr>\n",
              "    <tr>\n",
              "      <th>2</th>\n",
              "      <td>3</td>\n",
              "      <td>Switzerland</td>\n",
              "      <td>SUI</td>\n",
              "      <td>0.0</td>\n",
              "      <td>50</td>\n",
              "      <td>9</td>\n",
              "      <td>0.0</td>\n",
              "      <td>0.0</td>\n",
              "      <td>0.0</td>\n",
              "      <td>0.0</td>\n",
              "      <td>0.0</td>\n",
              "      <td>0.0</td>\n",
              "      <td>0.0</td>\n",
              "      <td>0.0</td>\n",
              "      <td>UEFA</td>\n",
              "      <td>1993-08-08</td>\n",
              "    </tr>\n",
              "    <tr>\n",
              "      <th>3</th>\n",
              "      <td>4</td>\n",
              "      <td>Sweden</td>\n",
              "      <td>SWE</td>\n",
              "      <td>0.0</td>\n",
              "      <td>55</td>\n",
              "      <td>0</td>\n",
              "      <td>0.0</td>\n",
              "      <td>0.0</td>\n",
              "      <td>0.0</td>\n",
              "      <td>0.0</td>\n",
              "      <td>0.0</td>\n",
              "      <td>0.0</td>\n",
              "      <td>0.0</td>\n",
              "      <td>0.0</td>\n",
              "      <td>UEFA</td>\n",
              "      <td>1993-08-08</td>\n",
              "    </tr>\n",
              "    <tr>\n",
              "      <th>4</th>\n",
              "      <td>5</td>\n",
              "      <td>Argentina</td>\n",
              "      <td>ARG</td>\n",
              "      <td>0.0</td>\n",
              "      <td>51</td>\n",
              "      <td>5</td>\n",
              "      <td>0.0</td>\n",
              "      <td>0.0</td>\n",
              "      <td>0.0</td>\n",
              "      <td>0.0</td>\n",
              "      <td>0.0</td>\n",
              "      <td>0.0</td>\n",
              "      <td>0.0</td>\n",
              "      <td>0.0</td>\n",
              "      <td>CONMEBOL</td>\n",
              "      <td>1993-08-08</td>\n",
              "    </tr>\n",
              "  </tbody>\n",
              "</table>\n",
              "</div>\n",
              "      <button class=\"colab-df-convert\" onclick=\"convertToInteractive('df-dd3df325-7cfd-44a7-be5f-f716846d3b1d')\"\n",
              "              title=\"Convert this dataframe to an interactive table.\"\n",
              "              style=\"display:none;\">\n",
              "        \n",
              "  <svg xmlns=\"http://www.w3.org/2000/svg\" height=\"24px\"viewBox=\"0 0 24 24\"\n",
              "       width=\"24px\">\n",
              "    <path d=\"M0 0h24v24H0V0z\" fill=\"none\"/>\n",
              "    <path d=\"M18.56 5.44l.94 2.06.94-2.06 2.06-.94-2.06-.94-.94-2.06-.94 2.06-2.06.94zm-11 1L8.5 8.5l.94-2.06 2.06-.94-2.06-.94L8.5 2.5l-.94 2.06-2.06.94zm10 10l.94 2.06.94-2.06 2.06-.94-2.06-.94-.94-2.06-.94 2.06-2.06.94z\"/><path d=\"M17.41 7.96l-1.37-1.37c-.4-.4-.92-.59-1.43-.59-.52 0-1.04.2-1.43.59L10.3 9.45l-7.72 7.72c-.78.78-.78 2.05 0 2.83L4 21.41c.39.39.9.59 1.41.59.51 0 1.02-.2 1.41-.59l7.78-7.78 2.81-2.81c.8-.78.8-2.07 0-2.86zM5.41 20L4 18.59l7.72-7.72 1.47 1.35L5.41 20z\"/>\n",
              "  </svg>\n",
              "      </button>\n",
              "      \n",
              "  <style>\n",
              "    .colab-df-container {\n",
              "      display:flex;\n",
              "      flex-wrap:wrap;\n",
              "      gap: 12px;\n",
              "    }\n",
              "\n",
              "    .colab-df-convert {\n",
              "      background-color: #E8F0FE;\n",
              "      border: none;\n",
              "      border-radius: 50%;\n",
              "      cursor: pointer;\n",
              "      display: none;\n",
              "      fill: #1967D2;\n",
              "      height: 32px;\n",
              "      padding: 0 0 0 0;\n",
              "      width: 32px;\n",
              "    }\n",
              "\n",
              "    .colab-df-convert:hover {\n",
              "      background-color: #E2EBFA;\n",
              "      box-shadow: 0px 1px 2px rgba(60, 64, 67, 0.3), 0px 1px 3px 1px rgba(60, 64, 67, 0.15);\n",
              "      fill: #174EA6;\n",
              "    }\n",
              "\n",
              "    [theme=dark] .colab-df-convert {\n",
              "      background-color: #3B4455;\n",
              "      fill: #D2E3FC;\n",
              "    }\n",
              "\n",
              "    [theme=dark] .colab-df-convert:hover {\n",
              "      background-color: #434B5C;\n",
              "      box-shadow: 0px 1px 3px 1px rgba(0, 0, 0, 0.15);\n",
              "      filter: drop-shadow(0px 1px 2px rgba(0, 0, 0, 0.3));\n",
              "      fill: #FFFFFF;\n",
              "    }\n",
              "  </style>\n",
              "\n",
              "      <script>\n",
              "        const buttonEl =\n",
              "          document.querySelector('#df-dd3df325-7cfd-44a7-be5f-f716846d3b1d button.colab-df-convert');\n",
              "        buttonEl.style.display =\n",
              "          google.colab.kernel.accessAllowed ? 'block' : 'none';\n",
              "\n",
              "        async function convertToInteractive(key) {\n",
              "          const element = document.querySelector('#df-dd3df325-7cfd-44a7-be5f-f716846d3b1d');\n",
              "          const dataTable =\n",
              "            await google.colab.kernel.invokeFunction('convertToInteractive',\n",
              "                                                     [key], {});\n",
              "          if (!dataTable) return;\n",
              "\n",
              "          const docLinkHtml = 'Like what you see? Visit the ' +\n",
              "            '<a target=\"_blank\" href=https://colab.research.google.com/notebooks/data_table.ipynb>data table notebook</a>'\n",
              "            + ' to learn more about interactive tables.';\n",
              "          element.innerHTML = '';\n",
              "          dataTable['output_type'] = 'display_data';\n",
              "          await google.colab.output.renderOutput(dataTable, element);\n",
              "          const docLink = document.createElement('div');\n",
              "          docLink.innerHTML = docLinkHtml;\n",
              "          element.appendChild(docLink);\n",
              "        }\n",
              "      </script>\n",
              "    </div>\n",
              "  </div>\n",
              "  "
            ]
          },
          "metadata": {},
          "execution_count": 512
        }
      ]
    },
    {
      "cell_type": "markdown",
      "source": [
        "## Explore and clean the datasets"
      ],
      "metadata": {
        "id": "uaBaSbIgvg4S"
      }
    },
    {
      "cell_type": "code",
      "source": [
        "print('results dataset has',results.shape[0], 'rows and', results.shape[1], 'columns')\n",
        "print('fifa ranking dataset has',fifa_ranking.shape[0], 'rows and', fifa_ranking.shape[1], 'columns')"
      ],
      "metadata": {
        "colab": {
          "base_uri": "https://localhost:8080/"
        },
        "id": "tb1llRiRvW_t",
        "outputId": "9ed09cc0-5e5e-4e37-8065-3ab91f07d065"
      },
      "execution_count": 513,
      "outputs": [
        {
          "output_type": "stream",
          "name": "stdout",
          "text": [
            "results dataset has 40839 rows and 9 columns\n",
            "fifa ranking dataset has 57793 rows and 16 columns\n"
          ]
        }
      ]
    },
    {
      "cell_type": "code",
      "source": [
        "# shaping the column names\n",
        "results.columns = results.columns.str.lower().str.strip().str.replace(' ', '_')\n",
        "fifa_ranking.columns = fifa_ranking.columns.str.lower().str.strip().str.replace(' ', '_')"
      ],
      "metadata": {
        "id": "8ikUeqZe_j3Q"
      },
      "execution_count": 514,
      "outputs": []
    },
    {
      "cell_type": "code",
      "source": [
        "#renaming columns\n",
        "fifa_ranking.rename(columns = {'country_full':'country'}, inplace = True)"
      ],
      "metadata": {
        "id": "R-kYVwA_IH1M"
      },
      "execution_count": 515,
      "outputs": []
    },
    {
      "cell_type": "code",
      "source": [
        "# drop unnecessary columns\n",
        "fifa_ranking.drop(columns = ['country_abrv', 'cur_year_avg', 'cur_year_avg_weighted', 'last_year_avg', 'last_year_avg_weighted',\n",
        "                  'two_year_ago_avg', 'two_year_ago_weighted', 'three_year_ago_avg', 'three_year_ago_weighted','confederation', 'rank_change'], axis = 1, inplace = True)\n",
        "results.drop(columns = ['city', 'neutral'], axis = 1, inplace = True)"
      ],
      "metadata": {
        "id": "9AqIxmlqG8ld"
      },
      "execution_count": 516,
      "outputs": []
    },
    {
      "cell_type": "code",
      "source": [
        "fifa_ranking.columns"
      ],
      "metadata": {
        "id": "PJ-SMPDoN3fz",
        "outputId": "61c2e78a-42bc-4097-f629-dde299ce6399",
        "colab": {
          "base_uri": "https://localhost:8080/"
        }
      },
      "execution_count": 517,
      "outputs": [
        {
          "output_type": "execute_result",
          "data": {
            "text/plain": [
              "Index(['rank', 'country', 'total_points', 'previous_points', 'rank_date'], dtype='object')"
            ]
          },
          "metadata": {},
          "execution_count": 517
        }
      ]
    },
    {
      "cell_type": "code",
      "source": [
        "# statistical analysis\n",
        "results.describe()"
      ],
      "metadata": {
        "colab": {
          "base_uri": "https://localhost:8080/",
          "height": 300
        },
        "id": "nCJuwgyC6b_1",
        "outputId": "4c9f2149-da38-4596-a3a3-0fc006fc7078"
      },
      "execution_count": 518,
      "outputs": [
        {
          "output_type": "execute_result",
          "data": {
            "text/plain": [
              "         home_score    away_score\n",
              "count  40839.000000  40839.000000\n",
              "mean       1.745709      1.188105\n",
              "std        1.749145      1.405120\n",
              "min        0.000000      0.000000\n",
              "25%        1.000000      0.000000\n",
              "50%        1.000000      1.000000\n",
              "75%        2.000000      2.000000\n",
              "max       31.000000     21.000000"
            ],
            "text/html": [
              "\n",
              "  <div id=\"df-6e564845-2d1e-4f4e-9821-f176702e4e6e\">\n",
              "    <div class=\"colab-df-container\">\n",
              "      <div>\n",
              "<style scoped>\n",
              "    .dataframe tbody tr th:only-of-type {\n",
              "        vertical-align: middle;\n",
              "    }\n",
              "\n",
              "    .dataframe tbody tr th {\n",
              "        vertical-align: top;\n",
              "    }\n",
              "\n",
              "    .dataframe thead th {\n",
              "        text-align: right;\n",
              "    }\n",
              "</style>\n",
              "<table border=\"1\" class=\"dataframe\">\n",
              "  <thead>\n",
              "    <tr style=\"text-align: right;\">\n",
              "      <th></th>\n",
              "      <th>home_score</th>\n",
              "      <th>away_score</th>\n",
              "    </tr>\n",
              "  </thead>\n",
              "  <tbody>\n",
              "    <tr>\n",
              "      <th>count</th>\n",
              "      <td>40839.000000</td>\n",
              "      <td>40839.000000</td>\n",
              "    </tr>\n",
              "    <tr>\n",
              "      <th>mean</th>\n",
              "      <td>1.745709</td>\n",
              "      <td>1.188105</td>\n",
              "    </tr>\n",
              "    <tr>\n",
              "      <th>std</th>\n",
              "      <td>1.749145</td>\n",
              "      <td>1.405120</td>\n",
              "    </tr>\n",
              "    <tr>\n",
              "      <th>min</th>\n",
              "      <td>0.000000</td>\n",
              "      <td>0.000000</td>\n",
              "    </tr>\n",
              "    <tr>\n",
              "      <th>25%</th>\n",
              "      <td>1.000000</td>\n",
              "      <td>0.000000</td>\n",
              "    </tr>\n",
              "    <tr>\n",
              "      <th>50%</th>\n",
              "      <td>1.000000</td>\n",
              "      <td>1.000000</td>\n",
              "    </tr>\n",
              "    <tr>\n",
              "      <th>75%</th>\n",
              "      <td>2.000000</td>\n",
              "      <td>2.000000</td>\n",
              "    </tr>\n",
              "    <tr>\n",
              "      <th>max</th>\n",
              "      <td>31.000000</td>\n",
              "      <td>21.000000</td>\n",
              "    </tr>\n",
              "  </tbody>\n",
              "</table>\n",
              "</div>\n",
              "      <button class=\"colab-df-convert\" onclick=\"convertToInteractive('df-6e564845-2d1e-4f4e-9821-f176702e4e6e')\"\n",
              "              title=\"Convert this dataframe to an interactive table.\"\n",
              "              style=\"display:none;\">\n",
              "        \n",
              "  <svg xmlns=\"http://www.w3.org/2000/svg\" height=\"24px\"viewBox=\"0 0 24 24\"\n",
              "       width=\"24px\">\n",
              "    <path d=\"M0 0h24v24H0V0z\" fill=\"none\"/>\n",
              "    <path d=\"M18.56 5.44l.94 2.06.94-2.06 2.06-.94-2.06-.94-.94-2.06-.94 2.06-2.06.94zm-11 1L8.5 8.5l.94-2.06 2.06-.94-2.06-.94L8.5 2.5l-.94 2.06-2.06.94zm10 10l.94 2.06.94-2.06 2.06-.94-2.06-.94-.94-2.06-.94 2.06-2.06.94z\"/><path d=\"M17.41 7.96l-1.37-1.37c-.4-.4-.92-.59-1.43-.59-.52 0-1.04.2-1.43.59L10.3 9.45l-7.72 7.72c-.78.78-.78 2.05 0 2.83L4 21.41c.39.39.9.59 1.41.59.51 0 1.02-.2 1.41-.59l7.78-7.78 2.81-2.81c.8-.78.8-2.07 0-2.86zM5.41 20L4 18.59l7.72-7.72 1.47 1.35L5.41 20z\"/>\n",
              "  </svg>\n",
              "      </button>\n",
              "      \n",
              "  <style>\n",
              "    .colab-df-container {\n",
              "      display:flex;\n",
              "      flex-wrap:wrap;\n",
              "      gap: 12px;\n",
              "    }\n",
              "\n",
              "    .colab-df-convert {\n",
              "      background-color: #E8F0FE;\n",
              "      border: none;\n",
              "      border-radius: 50%;\n",
              "      cursor: pointer;\n",
              "      display: none;\n",
              "      fill: #1967D2;\n",
              "      height: 32px;\n",
              "      padding: 0 0 0 0;\n",
              "      width: 32px;\n",
              "    }\n",
              "\n",
              "    .colab-df-convert:hover {\n",
              "      background-color: #E2EBFA;\n",
              "      box-shadow: 0px 1px 2px rgba(60, 64, 67, 0.3), 0px 1px 3px 1px rgba(60, 64, 67, 0.15);\n",
              "      fill: #174EA6;\n",
              "    }\n",
              "\n",
              "    [theme=dark] .colab-df-convert {\n",
              "      background-color: #3B4455;\n",
              "      fill: #D2E3FC;\n",
              "    }\n",
              "\n",
              "    [theme=dark] .colab-df-convert:hover {\n",
              "      background-color: #434B5C;\n",
              "      box-shadow: 0px 1px 3px 1px rgba(0, 0, 0, 0.15);\n",
              "      filter: drop-shadow(0px 1px 2px rgba(0, 0, 0, 0.3));\n",
              "      fill: #FFFFFF;\n",
              "    }\n",
              "  </style>\n",
              "\n",
              "      <script>\n",
              "        const buttonEl =\n",
              "          document.querySelector('#df-6e564845-2d1e-4f4e-9821-f176702e4e6e button.colab-df-convert');\n",
              "        buttonEl.style.display =\n",
              "          google.colab.kernel.accessAllowed ? 'block' : 'none';\n",
              "\n",
              "        async function convertToInteractive(key) {\n",
              "          const element = document.querySelector('#df-6e564845-2d1e-4f4e-9821-f176702e4e6e');\n",
              "          const dataTable =\n",
              "            await google.colab.kernel.invokeFunction('convertToInteractive',\n",
              "                                                     [key], {});\n",
              "          if (!dataTable) return;\n",
              "\n",
              "          const docLinkHtml = 'Like what you see? Visit the ' +\n",
              "            '<a target=\"_blank\" href=https://colab.research.google.com/notebooks/data_table.ipynb>data table notebook</a>'\n",
              "            + ' to learn more about interactive tables.';\n",
              "          element.innerHTML = '';\n",
              "          dataTable['output_type'] = 'display_data';\n",
              "          await google.colab.output.renderOutput(dataTable, element);\n",
              "          const docLink = document.createElement('div');\n",
              "          docLink.innerHTML = docLinkHtml;\n",
              "          element.appendChild(docLink);\n",
              "        }\n",
              "      </script>\n",
              "    </div>\n",
              "  </div>\n",
              "  "
            ]
          },
          "metadata": {},
          "execution_count": 518
        }
      ]
    },
    {
      "cell_type": "code",
      "source": [
        "# statistical analysis\n",
        "fifa_ranking.describe()"
      ],
      "metadata": {
        "colab": {
          "base_uri": "https://localhost:8080/",
          "height": 300
        },
        "id": "K7LwAk8Q7p8I",
        "outputId": "ef240774-969a-433c-d19f-84b83dd89c96"
      },
      "execution_count": 519,
      "outputs": [
        {
          "output_type": "execute_result",
          "data": {
            "text/plain": [
              "               rank  total_points  previous_points\n",
              "count  57793.000000  57793.000000     57793.000000\n",
              "mean     101.628086    122.068637       332.302926\n",
              "std       58.618424    260.426863       302.872948\n",
              "min        1.000000      0.000000         0.000000\n",
              "25%       51.000000      0.000000        56.000000\n",
              "50%      101.000000      0.000000       272.000000\n",
              "75%      152.000000     92.790000       525.000000\n",
              "max      209.000000   1775.030000      1920.000000"
            ],
            "text/html": [
              "\n",
              "  <div id=\"df-de643357-5c34-4eae-a0b1-dd1b995b7a30\">\n",
              "    <div class=\"colab-df-container\">\n",
              "      <div>\n",
              "<style scoped>\n",
              "    .dataframe tbody tr th:only-of-type {\n",
              "        vertical-align: middle;\n",
              "    }\n",
              "\n",
              "    .dataframe tbody tr th {\n",
              "        vertical-align: top;\n",
              "    }\n",
              "\n",
              "    .dataframe thead th {\n",
              "        text-align: right;\n",
              "    }\n",
              "</style>\n",
              "<table border=\"1\" class=\"dataframe\">\n",
              "  <thead>\n",
              "    <tr style=\"text-align: right;\">\n",
              "      <th></th>\n",
              "      <th>rank</th>\n",
              "      <th>total_points</th>\n",
              "      <th>previous_points</th>\n",
              "    </tr>\n",
              "  </thead>\n",
              "  <tbody>\n",
              "    <tr>\n",
              "      <th>count</th>\n",
              "      <td>57793.000000</td>\n",
              "      <td>57793.000000</td>\n",
              "      <td>57793.000000</td>\n",
              "    </tr>\n",
              "    <tr>\n",
              "      <th>mean</th>\n",
              "      <td>101.628086</td>\n",
              "      <td>122.068637</td>\n",
              "      <td>332.302926</td>\n",
              "    </tr>\n",
              "    <tr>\n",
              "      <th>std</th>\n",
              "      <td>58.618424</td>\n",
              "      <td>260.426863</td>\n",
              "      <td>302.872948</td>\n",
              "    </tr>\n",
              "    <tr>\n",
              "      <th>min</th>\n",
              "      <td>1.000000</td>\n",
              "      <td>0.000000</td>\n",
              "      <td>0.000000</td>\n",
              "    </tr>\n",
              "    <tr>\n",
              "      <th>25%</th>\n",
              "      <td>51.000000</td>\n",
              "      <td>0.000000</td>\n",
              "      <td>56.000000</td>\n",
              "    </tr>\n",
              "    <tr>\n",
              "      <th>50%</th>\n",
              "      <td>101.000000</td>\n",
              "      <td>0.000000</td>\n",
              "      <td>272.000000</td>\n",
              "    </tr>\n",
              "    <tr>\n",
              "      <th>75%</th>\n",
              "      <td>152.000000</td>\n",
              "      <td>92.790000</td>\n",
              "      <td>525.000000</td>\n",
              "    </tr>\n",
              "    <tr>\n",
              "      <th>max</th>\n",
              "      <td>209.000000</td>\n",
              "      <td>1775.030000</td>\n",
              "      <td>1920.000000</td>\n",
              "    </tr>\n",
              "  </tbody>\n",
              "</table>\n",
              "</div>\n",
              "      <button class=\"colab-df-convert\" onclick=\"convertToInteractive('df-de643357-5c34-4eae-a0b1-dd1b995b7a30')\"\n",
              "              title=\"Convert this dataframe to an interactive table.\"\n",
              "              style=\"display:none;\">\n",
              "        \n",
              "  <svg xmlns=\"http://www.w3.org/2000/svg\" height=\"24px\"viewBox=\"0 0 24 24\"\n",
              "       width=\"24px\">\n",
              "    <path d=\"M0 0h24v24H0V0z\" fill=\"none\"/>\n",
              "    <path d=\"M18.56 5.44l.94 2.06.94-2.06 2.06-.94-2.06-.94-.94-2.06-.94 2.06-2.06.94zm-11 1L8.5 8.5l.94-2.06 2.06-.94-2.06-.94L8.5 2.5l-.94 2.06-2.06.94zm10 10l.94 2.06.94-2.06 2.06-.94-2.06-.94-.94-2.06-.94 2.06-2.06.94z\"/><path d=\"M17.41 7.96l-1.37-1.37c-.4-.4-.92-.59-1.43-.59-.52 0-1.04.2-1.43.59L10.3 9.45l-7.72 7.72c-.78.78-.78 2.05 0 2.83L4 21.41c.39.39.9.59 1.41.59.51 0 1.02-.2 1.41-.59l7.78-7.78 2.81-2.81c.8-.78.8-2.07 0-2.86zM5.41 20L4 18.59l7.72-7.72 1.47 1.35L5.41 20z\"/>\n",
              "  </svg>\n",
              "      </button>\n",
              "      \n",
              "  <style>\n",
              "    .colab-df-container {\n",
              "      display:flex;\n",
              "      flex-wrap:wrap;\n",
              "      gap: 12px;\n",
              "    }\n",
              "\n",
              "    .colab-df-convert {\n",
              "      background-color: #E8F0FE;\n",
              "      border: none;\n",
              "      border-radius: 50%;\n",
              "      cursor: pointer;\n",
              "      display: none;\n",
              "      fill: #1967D2;\n",
              "      height: 32px;\n",
              "      padding: 0 0 0 0;\n",
              "      width: 32px;\n",
              "    }\n",
              "\n",
              "    .colab-df-convert:hover {\n",
              "      background-color: #E2EBFA;\n",
              "      box-shadow: 0px 1px 2px rgba(60, 64, 67, 0.3), 0px 1px 3px 1px rgba(60, 64, 67, 0.15);\n",
              "      fill: #174EA6;\n",
              "    }\n",
              "\n",
              "    [theme=dark] .colab-df-convert {\n",
              "      background-color: #3B4455;\n",
              "      fill: #D2E3FC;\n",
              "    }\n",
              "\n",
              "    [theme=dark] .colab-df-convert:hover {\n",
              "      background-color: #434B5C;\n",
              "      box-shadow: 0px 1px 3px 1px rgba(0, 0, 0, 0.15);\n",
              "      filter: drop-shadow(0px 1px 2px rgba(0, 0, 0, 0.3));\n",
              "      fill: #FFFFFF;\n",
              "    }\n",
              "  </style>\n",
              "\n",
              "      <script>\n",
              "        const buttonEl =\n",
              "          document.querySelector('#df-de643357-5c34-4eae-a0b1-dd1b995b7a30 button.colab-df-convert');\n",
              "        buttonEl.style.display =\n",
              "          google.colab.kernel.accessAllowed ? 'block' : 'none';\n",
              "\n",
              "        async function convertToInteractive(key) {\n",
              "          const element = document.querySelector('#df-de643357-5c34-4eae-a0b1-dd1b995b7a30');\n",
              "          const dataTable =\n",
              "            await google.colab.kernel.invokeFunction('convertToInteractive',\n",
              "                                                     [key], {});\n",
              "          if (!dataTable) return;\n",
              "\n",
              "          const docLinkHtml = 'Like what you see? Visit the ' +\n",
              "            '<a target=\"_blank\" href=https://colab.research.google.com/notebooks/data_table.ipynb>data table notebook</a>'\n",
              "            + ' to learn more about interactive tables.';\n",
              "          element.innerHTML = '';\n",
              "          dataTable['output_type'] = 'display_data';\n",
              "          await google.colab.output.renderOutput(dataTable, element);\n",
              "          const docLink = document.createElement('div');\n",
              "          docLink.innerHTML = docLinkHtml;\n",
              "          element.appendChild(docLink);\n",
              "        }\n",
              "      </script>\n",
              "    </div>\n",
              "  </div>\n",
              "  "
            ]
          },
          "metadata": {},
          "execution_count": 519
        }
      ]
    },
    {
      "cell_type": "code",
      "source": [
        "# info\n",
        "results.info()"
      ],
      "metadata": {
        "colab": {
          "base_uri": "https://localhost:8080/"
        },
        "id": "QCs2UTgl7tML",
        "outputId": "e8987435-0efc-42fe-b988-6436409af0e8"
      },
      "execution_count": 520,
      "outputs": [
        {
          "output_type": "stream",
          "name": "stdout",
          "text": [
            "<class 'pandas.core.frame.DataFrame'>\n",
            "RangeIndex: 40839 entries, 0 to 40838\n",
            "Data columns (total 7 columns):\n",
            " #   Column      Non-Null Count  Dtype \n",
            "---  ------      --------------  ----- \n",
            " 0   date        40839 non-null  object\n",
            " 1   home_team   40839 non-null  object\n",
            " 2   away_team   40839 non-null  object\n",
            " 3   home_score  40839 non-null  int64 \n",
            " 4   away_score  40839 non-null  int64 \n",
            " 5   tournament  40839 non-null  object\n",
            " 6   country     40839 non-null  object\n",
            "dtypes: int64(2), object(5)\n",
            "memory usage: 2.2+ MB\n"
          ]
        }
      ]
    },
    {
      "cell_type": "markdown",
      "source": [
        "date column data type should be changed to date time"
      ],
      "metadata": {
        "id": "lojfXO8W-NZN"
      }
    },
    {
      "cell_type": "code",
      "source": [
        "# info\n",
        "fifa_ranking.info()"
      ],
      "metadata": {
        "colab": {
          "base_uri": "https://localhost:8080/"
        },
        "id": "5i-y8fC07wV9",
        "outputId": "1aa8d005-8f0c-40f9-c336-32bb3440b169"
      },
      "execution_count": 521,
      "outputs": [
        {
          "output_type": "stream",
          "name": "stdout",
          "text": [
            "<class 'pandas.core.frame.DataFrame'>\n",
            "RangeIndex: 57793 entries, 0 to 57792\n",
            "Data columns (total 5 columns):\n",
            " #   Column           Non-Null Count  Dtype  \n",
            "---  ------           --------------  -----  \n",
            " 0   rank             57793 non-null  int64  \n",
            " 1   country          57793 non-null  object \n",
            " 2   total_points     57793 non-null  float64\n",
            " 3   previous_points  57793 non-null  int64  \n",
            " 4   rank_date        57793 non-null  object \n",
            "dtypes: float64(1), int64(2), object(2)\n",
            "memory usage: 2.2+ MB\n"
          ]
        }
      ]
    },
    {
      "cell_type": "code",
      "source": [
        "print(results['date'].unique())\n",
        "print('****************************************************************')\n",
        "print(fifa_ranking['rank_date'].unique())"
      ],
      "metadata": {
        "id": "W0OFiHpHBaVa",
        "outputId": "dda89d10-bd82-4b8b-dc3d-160238b0ce72",
        "colab": {
          "base_uri": "https://localhost:8080/"
        }
      },
      "execution_count": 522,
      "outputs": [
        {
          "output_type": "stream",
          "name": "stdout",
          "text": [
            "['1872-11-30' '1873-03-08' '1874-03-07' ... '2019-07-18' '2019-07-19'\n",
            " '2019-07-20']\n",
            "****************************************************************\n",
            "['1993-08-08' '1993-09-23' '1993-10-22' '1993-11-19' '1993-12-23'\n",
            " '1994-02-15' '1994-03-15' '1994-04-19' '1994-05-17' '1994-06-14'\n",
            " '1994-07-21' '1994-09-13' '1994-10-25' '1994-11-22' '1994-12-20'\n",
            " '1995-02-20' '1995-04-19' '1995-05-16' '1995-06-13' '1995-07-25'\n",
            " '1995-08-22' '1995-09-19' '1995-10-17' '1995-11-21' '1995-12-19'\n",
            " '1996-01-24' '1996-02-21' '1996-04-24' '1996-05-22' '1996-07-03'\n",
            " '1996-08-28' '1996-09-25' '1996-10-23' '1996-11-20' '1996-12-18'\n",
            " '1997-02-27' '1997-04-09' '1997-05-14' '1997-06-18' '1997-07-16'\n",
            " '1997-08-20' '1997-09-17' '1997-10-17' '1997-11-19' '1997-12-23'\n",
            " '1998-02-18' '1998-03-18' '1998-04-22' '1998-05-20' '1998-07-15'\n",
            " '1998-08-19' '1998-09-16' '1998-10-21' '1998-11-18' '1998-12-23'\n",
            " '1999-01-27' '1999-02-24' '1999-03-24' '1999-04-21' '1999-05-19'\n",
            " '1999-06-16' '1999-07-21' '1999-08-18' '1999-09-15' '1999-10-13'\n",
            " '1999-11-17' '1999-12-22' '2000-01-19' '2000-02-16' '2000-03-15'\n",
            " '2000-04-12' '2000-05-10' '2000-06-07' '2000-07-05' '2000-08-09'\n",
            " '2000-09-06' '2000-10-11' '2000-11-15' '2000-12-20' '2001-01-17'\n",
            " '2001-02-14' '2001-03-14' '2001-04-11' '2001-05-16' '2001-06-20'\n",
            " '2001-07-18' '2001-08-22' '2001-09-19' '2001-10-17' '2001-11-21'\n",
            " '2001-12-19' '2002-01-16' '2002-02-13' '2002-03-20' '2002-04-17'\n",
            " '2002-05-15' '2002-07-03' '2002-08-14' '2002-09-18' '2002-10-23'\n",
            " '2002-11-20' '2002-12-18' '2003-01-15' '2003-02-19' '2003-03-26'\n",
            " '2003-04-23' '2003-05-21' '2003-06-25' '2003-07-30' '2003-08-27'\n",
            " '2003-09-24' '2003-10-22' '2003-11-19' '2003-12-15' '2004-01-14'\n",
            " '2004-02-18' '2004-03-17' '2004-04-14' '2004-05-12' '2004-06-09'\n",
            " '2004-07-07' '2004-08-04' '2004-09-01' '2004-10-06' '2004-11-10'\n",
            " '2004-12-20' '2005-01-19' '2005-02-16' '2005-03-23' '2005-04-20'\n",
            " '2005-05-18' '2005-06-15' '2005-07-20' '2005-08-17' '2005-09-12'\n",
            " '2005-10-17' '2005-11-21' '2005-12-16' '2006-01-18' '2006-02-15'\n",
            " '2006-03-15' '2006-04-19' '2006-05-17' '2006-07-12' '2006-08-16'\n",
            " '2006-09-13' '2006-10-18' '2006-11-22' '2006-12-18' '2007-01-17'\n",
            " '2007-02-14' '2007-03-14' '2007-04-18' '2007-05-16' '2007-06-13'\n",
            " '2007-07-18' '2007-08-22' '2007-09-19' '2007-10-24' '2007-11-23'\n",
            " '2007-12-17' '2008-01-16' '2008-02-13' '2008-03-12' '2008-04-09'\n",
            " '2008-05-07' '2008-06-04' '2008-07-02' '2008-08-06' '2008-09-03'\n",
            " '2008-10-08' '2008-11-12' '2008-12-17' '2009-01-14' '2009-02-11'\n",
            " '2009-03-11' '2009-04-08' '2009-05-06' '2009-06-03' '2009-07-01'\n",
            " '2009-08-05' '2009-09-02' '2009-10-16' '2009-11-20' '2009-12-16'\n",
            " '2010-02-03' '2010-03-03' '2010-03-31' '2010-04-28' '2010-05-26'\n",
            " '2010-07-14' '2010-08-11' '2010-09-15' '2010-10-20' '2010-11-17'\n",
            " '2010-12-15' '2011-01-12' '2011-02-02' '2011-03-09' '2011-04-13'\n",
            " '2011-05-18' '2011-06-29' '2011-07-27' '2011-08-24' '2011-09-21'\n",
            " '2011-10-19' '2011-11-23' '2011-12-21' '2012-01-18' '2012-02-15'\n",
            " '2012-03-07' '2012-04-11' '2012-05-09' '2012-06-06' '2012-07-04'\n",
            " '2012-08-08' '2012-09-05' '2012-10-03' '2012-11-07' '2012-12-19'\n",
            " '2013-01-17' '2013-02-14' '2013-03-14' '2013-04-11' '2013-05-09'\n",
            " '2013-06-06' '2013-07-04' '2013-08-08' '2013-09-12' '2013-10-17'\n",
            " '2013-11-28' '2013-12-19' '2014-01-16' '2014-02-13' '2014-03-13'\n",
            " '2014-04-10' '2014-05-08' '2014-06-05' '2014-07-17' '2014-08-14'\n",
            " '2014-09-18' '2014-10-23' '2014-11-27' '2014-12-18' '2015-01-08'\n",
            " '2015-02-12' '2015-03-12' '2015-04-09' '2015-05-07' '2015-06-04'\n",
            " '2015-07-09' '2015-08-06' '2015-09-03' '2015-10-01' '2015-11-05'\n",
            " '2015-12-03' '2016-01-07' '2016-02-04' '2016-03-03' '2016-04-07'\n",
            " '2016-05-05' '2016-06-02' '2016-07-14' '2016-08-11' '2016-09-15'\n",
            " '2016-10-20' '2016-11-24' '2016-12-22' '2017-01-12' '2017-02-09'\n",
            " '2017-03-09' '2017-04-06' '2017-05-04' '2017-06-01' '2017-07-06'\n",
            " '2017-08-10' '2017-09-14' '2017-10-16' '2017-11-23' '2017-12-21'\n",
            " '2018-01-18' '2018-02-15' '2018-03-15' '2018-04-12' '2018-05-17'\n",
            " '2018-06-07']\n"
          ]
        }
      ]
    },
    {
      "cell_type": "markdown",
      "source": [
        "rankings started from 1993, therefore we should drop columns before 1993 from the results datset"
      ],
      "metadata": {
        "id": "SQPTUvC2C1Qn"
      }
    },
    {
      "cell_type": "code",
      "source": [
        "results.shape"
      ],
      "metadata": {
        "id": "NM0K8daBDiY_",
        "outputId": "c9c990e3-3b1d-438a-b422-ffcc8efe666d",
        "colab": {
          "base_uri": "https://localhost:8080/"
        }
      },
      "execution_count": 523,
      "outputs": [
        {
          "output_type": "execute_result",
          "data": {
            "text/plain": [
              "(40839, 7)"
            ]
          },
          "metadata": {},
          "execution_count": 523
        }
      ]
    },
    {
      "cell_type": "code",
      "source": [
        "# drop the records before 1993\n",
        "results = results[results['date'] >= '1993']\n",
        "results.shape\n"
      ],
      "metadata": {
        "id": "93gDLaKCDAGF",
        "outputId": "9b1c9a46-0a38-42bf-b203-49b436357c24",
        "colab": {
          "base_uri": "https://localhost:8080/"
        }
      },
      "execution_count": 524,
      "outputs": [
        {
          "output_type": "execute_result",
          "data": {
            "text/plain": [
              "(23478, 7)"
            ]
          },
          "metadata": {},
          "execution_count": 524
        }
      ]
    },
    {
      "cell_type": "markdown",
      "source": [
        "Now the rows have reduced from 40839 to 23478"
      ],
      "metadata": {
        "id": "sd4ekbACDp8A"
      }
    },
    {
      "cell_type": "code",
      "source": [
        "# missing values\n",
        "results.isnull().sum()\n",
        "\n",
        "# no missing values"
      ],
      "metadata": {
        "colab": {
          "base_uri": "https://localhost:8080/"
        },
        "id": "cE-ryFwD7ykt",
        "outputId": "5737db33-c827-4dec-adca-af6de642fece"
      },
      "execution_count": 525,
      "outputs": [
        {
          "output_type": "execute_result",
          "data": {
            "text/plain": [
              "date          0\n",
              "home_team     0\n",
              "away_team     0\n",
              "home_score    0\n",
              "away_score    0\n",
              "tournament    0\n",
              "country       0\n",
              "dtype: int64"
            ]
          },
          "metadata": {},
          "execution_count": 525
        }
      ]
    },
    {
      "cell_type": "code",
      "source": [
        "# missing values\n",
        "fifa_ranking.isnull().sum()\n",
        "\n",
        "# there are no missing values"
      ],
      "metadata": {
        "colab": {
          "base_uri": "https://localhost:8080/"
        },
        "id": "vdEi0lAP8vUw",
        "outputId": "0cb7d6fe-6f1d-4827-f3ba-794061bb8684"
      },
      "execution_count": 526,
      "outputs": [
        {
          "output_type": "execute_result",
          "data": {
            "text/plain": [
              "rank               0\n",
              "country            0\n",
              "total_points       0\n",
              "previous_points    0\n",
              "rank_date          0\n",
              "dtype: int64"
            ]
          },
          "metadata": {},
          "execution_count": 526
        }
      ]
    },
    {
      "cell_type": "code",
      "source": [
        "# duplicate values\n",
        "value = results.duplicated().sum()\n",
        "print(value)\n",
        "print('results dataset has', value, 'duplicate values')\n",
        "# results dataset has no duplicate values"
      ],
      "metadata": {
        "colab": {
          "base_uri": "https://localhost:8080/"
        },
        "id": "K-ocP0Rb81be",
        "outputId": "ecc5049c-5e5e-4dc7-c40d-6c8015f4d36f"
      },
      "execution_count": 527,
      "outputs": [
        {
          "output_type": "stream",
          "name": "stdout",
          "text": [
            "1\n",
            "results dataset has 1 duplicate values\n"
          ]
        }
      ]
    },
    {
      "cell_type": "code",
      "source": [
        "# duplicate values\n",
        "value = fifa_ranking.duplicated().sum()\n",
        "print(value)\n",
        "print('results dataset has', value, 'duplicate values')"
      ],
      "metadata": {
        "colab": {
          "base_uri": "https://localhost:8080/"
        },
        "id": "Ce0TW3o_9QsU",
        "outputId": "6f249b71-9e5a-44d1-ef7e-41f1a5813bd4"
      },
      "execution_count": 528,
      "outputs": [
        {
          "output_type": "stream",
          "name": "stdout",
          "text": [
            "37\n",
            "results dataset has 37 duplicate values\n"
          ]
        }
      ]
    },
    {
      "cell_type": "code",
      "source": [
        "# drop the duplicate values\n",
        "fifa_ranking.drop_duplicates(keep='first', inplace = True)"
      ],
      "metadata": {
        "id": "8Z4hg2w49PqS"
      },
      "execution_count": 529,
      "outputs": []
    },
    {
      "cell_type": "code",
      "source": [
        "# first, change the date columns to datetime\n",
        "results['date'] = pd.to_datetime(results['date'])\n",
        "\n",
        "# rename the rank_date column\n",
        "fifa_ranking.rename(columns = {'rank_date':'date'}, inplace = True)\n",
        "fifa_ranking['date'] = pd.to_datetime(fifa_ranking['date'])   "
      ],
      "metadata": {
        "id": "IEoutT9w-Aua"
      },
      "execution_count": 530,
      "outputs": []
    },
    {
      "cell_type": "code",
      "source": [
        "# split the date to months and year\n",
        "# results\n",
        "results['year'] = results.date.dt.year\n",
        "results['month'] = results.date.dt.month\n",
        "\n",
        "# fifa rankings\n",
        "fifa_ranking['year'] = fifa_ranking.date.dt.year\n",
        "fifa_ranking['month'] = fifa_ranking.date.dt.month\n"
      ],
      "metadata": {
        "id": "_HYyYqy7-u-k"
      },
      "execution_count": 531,
      "outputs": []
    },
    {
      "cell_type": "markdown",
      "source": [
        "## Merging the two datasets to obtain Home_team ranking(home_team_rank)"
      ],
      "metadata": {
        "id": "IgiyumPdGgoI"
      }
    },
    {
      "cell_type": "code",
      "source": [
        "# merge to obtain the home_team\n",
        "\n",
        "home_football = pd.merge(results, fifa_ranking, how = 'inner', left_on = ['year', 'month', 'home_team'], right_on = ['year', 'month', 'country'])"
      ],
      "metadata": {
        "id": "HJ1eaRl_9H9g"
      },
      "execution_count": 532,
      "outputs": []
    },
    {
      "cell_type": "code",
      "source": [
        "# preview the new dataframe\n",
        "pd.set_option('display.max_columns', None)\n",
        "home_football.head()"
      ],
      "metadata": {
        "id": "kyS2c8oQ-Mx4",
        "outputId": "4a9ab9db-2f3b-4b43-87c8-a0e14f724bde",
        "colab": {
          "base_uri": "https://localhost:8080/",
          "height": 336
        }
      },
      "execution_count": 533,
      "outputs": [
        {
          "output_type": "execute_result",
          "data": {
            "text/plain": [
              "      date_x home_team  away_team  home_score  away_score  \\\n",
              "0 1993-08-01  Colombia   Paraguay           0           0   \n",
              "1 1993-08-15  Colombia  Argentina           2           1   \n",
              "2 1993-08-29  Colombia       Peru           4           0   \n",
              "3 1993-08-01      Peru  Argentina           0           1   \n",
              "4 1993-08-08      Peru   Colombia           0           1   \n",
              "\n",
              "                     tournament country_x  year  month  rank country_y  \\\n",
              "0  FIFA World Cup qualification  Colombia  1993      8    19  Colombia   \n",
              "1  FIFA World Cup qualification  Colombia  1993      8    19  Colombia   \n",
              "2  FIFA World Cup qualification  Colombia  1993      8    19  Colombia   \n",
              "3  FIFA World Cup qualification      Peru  1993      8    70      Peru   \n",
              "4  FIFA World Cup qualification      Peru  1993      8    70      Peru   \n",
              "\n",
              "   total_points  previous_points     date_y  \n",
              "0           0.0               36 1993-08-08  \n",
              "1           0.0               36 1993-08-08  \n",
              "2           0.0               36 1993-08-08  \n",
              "3           0.0               16 1993-08-08  \n",
              "4           0.0               16 1993-08-08  "
            ],
            "text/html": [
              "\n",
              "  <div id=\"df-89e78df6-8d6a-4844-b811-39fc777c2d40\">\n",
              "    <div class=\"colab-df-container\">\n",
              "      <div>\n",
              "<style scoped>\n",
              "    .dataframe tbody tr th:only-of-type {\n",
              "        vertical-align: middle;\n",
              "    }\n",
              "\n",
              "    .dataframe tbody tr th {\n",
              "        vertical-align: top;\n",
              "    }\n",
              "\n",
              "    .dataframe thead th {\n",
              "        text-align: right;\n",
              "    }\n",
              "</style>\n",
              "<table border=\"1\" class=\"dataframe\">\n",
              "  <thead>\n",
              "    <tr style=\"text-align: right;\">\n",
              "      <th></th>\n",
              "      <th>date_x</th>\n",
              "      <th>home_team</th>\n",
              "      <th>away_team</th>\n",
              "      <th>home_score</th>\n",
              "      <th>away_score</th>\n",
              "      <th>tournament</th>\n",
              "      <th>country_x</th>\n",
              "      <th>year</th>\n",
              "      <th>month</th>\n",
              "      <th>rank</th>\n",
              "      <th>country_y</th>\n",
              "      <th>total_points</th>\n",
              "      <th>previous_points</th>\n",
              "      <th>date_y</th>\n",
              "    </tr>\n",
              "  </thead>\n",
              "  <tbody>\n",
              "    <tr>\n",
              "      <th>0</th>\n",
              "      <td>1993-08-01</td>\n",
              "      <td>Colombia</td>\n",
              "      <td>Paraguay</td>\n",
              "      <td>0</td>\n",
              "      <td>0</td>\n",
              "      <td>FIFA World Cup qualification</td>\n",
              "      <td>Colombia</td>\n",
              "      <td>1993</td>\n",
              "      <td>8</td>\n",
              "      <td>19</td>\n",
              "      <td>Colombia</td>\n",
              "      <td>0.0</td>\n",
              "      <td>36</td>\n",
              "      <td>1993-08-08</td>\n",
              "    </tr>\n",
              "    <tr>\n",
              "      <th>1</th>\n",
              "      <td>1993-08-15</td>\n",
              "      <td>Colombia</td>\n",
              "      <td>Argentina</td>\n",
              "      <td>2</td>\n",
              "      <td>1</td>\n",
              "      <td>FIFA World Cup qualification</td>\n",
              "      <td>Colombia</td>\n",
              "      <td>1993</td>\n",
              "      <td>8</td>\n",
              "      <td>19</td>\n",
              "      <td>Colombia</td>\n",
              "      <td>0.0</td>\n",
              "      <td>36</td>\n",
              "      <td>1993-08-08</td>\n",
              "    </tr>\n",
              "    <tr>\n",
              "      <th>2</th>\n",
              "      <td>1993-08-29</td>\n",
              "      <td>Colombia</td>\n",
              "      <td>Peru</td>\n",
              "      <td>4</td>\n",
              "      <td>0</td>\n",
              "      <td>FIFA World Cup qualification</td>\n",
              "      <td>Colombia</td>\n",
              "      <td>1993</td>\n",
              "      <td>8</td>\n",
              "      <td>19</td>\n",
              "      <td>Colombia</td>\n",
              "      <td>0.0</td>\n",
              "      <td>36</td>\n",
              "      <td>1993-08-08</td>\n",
              "    </tr>\n",
              "    <tr>\n",
              "      <th>3</th>\n",
              "      <td>1993-08-01</td>\n",
              "      <td>Peru</td>\n",
              "      <td>Argentina</td>\n",
              "      <td>0</td>\n",
              "      <td>1</td>\n",
              "      <td>FIFA World Cup qualification</td>\n",
              "      <td>Peru</td>\n",
              "      <td>1993</td>\n",
              "      <td>8</td>\n",
              "      <td>70</td>\n",
              "      <td>Peru</td>\n",
              "      <td>0.0</td>\n",
              "      <td>16</td>\n",
              "      <td>1993-08-08</td>\n",
              "    </tr>\n",
              "    <tr>\n",
              "      <th>4</th>\n",
              "      <td>1993-08-08</td>\n",
              "      <td>Peru</td>\n",
              "      <td>Colombia</td>\n",
              "      <td>0</td>\n",
              "      <td>1</td>\n",
              "      <td>FIFA World Cup qualification</td>\n",
              "      <td>Peru</td>\n",
              "      <td>1993</td>\n",
              "      <td>8</td>\n",
              "      <td>70</td>\n",
              "      <td>Peru</td>\n",
              "      <td>0.0</td>\n",
              "      <td>16</td>\n",
              "      <td>1993-08-08</td>\n",
              "    </tr>\n",
              "  </tbody>\n",
              "</table>\n",
              "</div>\n",
              "      <button class=\"colab-df-convert\" onclick=\"convertToInteractive('df-89e78df6-8d6a-4844-b811-39fc777c2d40')\"\n",
              "              title=\"Convert this dataframe to an interactive table.\"\n",
              "              style=\"display:none;\">\n",
              "        \n",
              "  <svg xmlns=\"http://www.w3.org/2000/svg\" height=\"24px\"viewBox=\"0 0 24 24\"\n",
              "       width=\"24px\">\n",
              "    <path d=\"M0 0h24v24H0V0z\" fill=\"none\"/>\n",
              "    <path d=\"M18.56 5.44l.94 2.06.94-2.06 2.06-.94-2.06-.94-.94-2.06-.94 2.06-2.06.94zm-11 1L8.5 8.5l.94-2.06 2.06-.94-2.06-.94L8.5 2.5l-.94 2.06-2.06.94zm10 10l.94 2.06.94-2.06 2.06-.94-2.06-.94-.94-2.06-.94 2.06-2.06.94z\"/><path d=\"M17.41 7.96l-1.37-1.37c-.4-.4-.92-.59-1.43-.59-.52 0-1.04.2-1.43.59L10.3 9.45l-7.72 7.72c-.78.78-.78 2.05 0 2.83L4 21.41c.39.39.9.59 1.41.59.51 0 1.02-.2 1.41-.59l7.78-7.78 2.81-2.81c.8-.78.8-2.07 0-2.86zM5.41 20L4 18.59l7.72-7.72 1.47 1.35L5.41 20z\"/>\n",
              "  </svg>\n",
              "      </button>\n",
              "      \n",
              "  <style>\n",
              "    .colab-df-container {\n",
              "      display:flex;\n",
              "      flex-wrap:wrap;\n",
              "      gap: 12px;\n",
              "    }\n",
              "\n",
              "    .colab-df-convert {\n",
              "      background-color: #E8F0FE;\n",
              "      border: none;\n",
              "      border-radius: 50%;\n",
              "      cursor: pointer;\n",
              "      display: none;\n",
              "      fill: #1967D2;\n",
              "      height: 32px;\n",
              "      padding: 0 0 0 0;\n",
              "      width: 32px;\n",
              "    }\n",
              "\n",
              "    .colab-df-convert:hover {\n",
              "      background-color: #E2EBFA;\n",
              "      box-shadow: 0px 1px 2px rgba(60, 64, 67, 0.3), 0px 1px 3px 1px rgba(60, 64, 67, 0.15);\n",
              "      fill: #174EA6;\n",
              "    }\n",
              "\n",
              "    [theme=dark] .colab-df-convert {\n",
              "      background-color: #3B4455;\n",
              "      fill: #D2E3FC;\n",
              "    }\n",
              "\n",
              "    [theme=dark] .colab-df-convert:hover {\n",
              "      background-color: #434B5C;\n",
              "      box-shadow: 0px 1px 3px 1px rgba(0, 0, 0, 0.15);\n",
              "      filter: drop-shadow(0px 1px 2px rgba(0, 0, 0, 0.3));\n",
              "      fill: #FFFFFF;\n",
              "    }\n",
              "  </style>\n",
              "\n",
              "      <script>\n",
              "        const buttonEl =\n",
              "          document.querySelector('#df-89e78df6-8d6a-4844-b811-39fc777c2d40 button.colab-df-convert');\n",
              "        buttonEl.style.display =\n",
              "          google.colab.kernel.accessAllowed ? 'block' : 'none';\n",
              "\n",
              "        async function convertToInteractive(key) {\n",
              "          const element = document.querySelector('#df-89e78df6-8d6a-4844-b811-39fc777c2d40');\n",
              "          const dataTable =\n",
              "            await google.colab.kernel.invokeFunction('convertToInteractive',\n",
              "                                                     [key], {});\n",
              "          if (!dataTable) return;\n",
              "\n",
              "          const docLinkHtml = 'Like what you see? Visit the ' +\n",
              "            '<a target=\"_blank\" href=https://colab.research.google.com/notebooks/data_table.ipynb>data table notebook</a>'\n",
              "            + ' to learn more about interactive tables.';\n",
              "          element.innerHTML = '';\n",
              "          dataTable['output_type'] = 'display_data';\n",
              "          await google.colab.output.renderOutput(dataTable, element);\n",
              "          const docLink = document.createElement('div');\n",
              "          docLink.innerHTML = docLinkHtml;\n",
              "          element.appendChild(docLink);\n",
              "        }\n",
              "      </script>\n",
              "    </div>\n",
              "  </div>\n",
              "  "
            ]
          },
          "metadata": {},
          "execution_count": 533
        }
      ]
    },
    {
      "cell_type": "code",
      "source": [
        "# drop nnecessary column\n",
        "home_football.drop(columns = ['country_y', 'date_x', 'date_y'], axis = 1, inplace=True)"
      ],
      "metadata": {
        "id": "JdYKQOma-ULz"
      },
      "execution_count": 534,
      "outputs": []
    },
    {
      "cell_type": "code",
      "source": [
        "# rename some columns\n",
        "home_football.rename(columns = {'country_x':'country', 'rank':'home_rank'}, inplace=True)"
      ],
      "metadata": {
        "id": "fdGo1vMZLvRz"
      },
      "execution_count": 535,
      "outputs": []
    },
    {
      "cell_type": "code",
      "source": [
        "home_football.head(3)"
      ],
      "metadata": {
        "id": "-DgDZR4O8_sL",
        "outputId": "a7bdcef3-aef9-4fd4-8103-acd8abad6e34",
        "colab": {
          "base_uri": "https://localhost:8080/",
          "height": 143
        }
      },
      "execution_count": 536,
      "outputs": [
        {
          "output_type": "execute_result",
          "data": {
            "text/plain": [
              "  home_team  away_team  home_score  away_score                    tournament  \\\n",
              "0  Colombia   Paraguay           0           0  FIFA World Cup qualification   \n",
              "1  Colombia  Argentina           2           1  FIFA World Cup qualification   \n",
              "2  Colombia       Peru           4           0  FIFA World Cup qualification   \n",
              "\n",
              "    country  year  month  home_rank  total_points  previous_points  \n",
              "0  Colombia  1993      8         19           0.0               36  \n",
              "1  Colombia  1993      8         19           0.0               36  \n",
              "2  Colombia  1993      8         19           0.0               36  "
            ],
            "text/html": [
              "\n",
              "  <div id=\"df-a87197cd-65e4-4606-8ce2-af530efc8d13\">\n",
              "    <div class=\"colab-df-container\">\n",
              "      <div>\n",
              "<style scoped>\n",
              "    .dataframe tbody tr th:only-of-type {\n",
              "        vertical-align: middle;\n",
              "    }\n",
              "\n",
              "    .dataframe tbody tr th {\n",
              "        vertical-align: top;\n",
              "    }\n",
              "\n",
              "    .dataframe thead th {\n",
              "        text-align: right;\n",
              "    }\n",
              "</style>\n",
              "<table border=\"1\" class=\"dataframe\">\n",
              "  <thead>\n",
              "    <tr style=\"text-align: right;\">\n",
              "      <th></th>\n",
              "      <th>home_team</th>\n",
              "      <th>away_team</th>\n",
              "      <th>home_score</th>\n",
              "      <th>away_score</th>\n",
              "      <th>tournament</th>\n",
              "      <th>country</th>\n",
              "      <th>year</th>\n",
              "      <th>month</th>\n",
              "      <th>home_rank</th>\n",
              "      <th>total_points</th>\n",
              "      <th>previous_points</th>\n",
              "    </tr>\n",
              "  </thead>\n",
              "  <tbody>\n",
              "    <tr>\n",
              "      <th>0</th>\n",
              "      <td>Colombia</td>\n",
              "      <td>Paraguay</td>\n",
              "      <td>0</td>\n",
              "      <td>0</td>\n",
              "      <td>FIFA World Cup qualification</td>\n",
              "      <td>Colombia</td>\n",
              "      <td>1993</td>\n",
              "      <td>8</td>\n",
              "      <td>19</td>\n",
              "      <td>0.0</td>\n",
              "      <td>36</td>\n",
              "    </tr>\n",
              "    <tr>\n",
              "      <th>1</th>\n",
              "      <td>Colombia</td>\n",
              "      <td>Argentina</td>\n",
              "      <td>2</td>\n",
              "      <td>1</td>\n",
              "      <td>FIFA World Cup qualification</td>\n",
              "      <td>Colombia</td>\n",
              "      <td>1993</td>\n",
              "      <td>8</td>\n",
              "      <td>19</td>\n",
              "      <td>0.0</td>\n",
              "      <td>36</td>\n",
              "    </tr>\n",
              "    <tr>\n",
              "      <th>2</th>\n",
              "      <td>Colombia</td>\n",
              "      <td>Peru</td>\n",
              "      <td>4</td>\n",
              "      <td>0</td>\n",
              "      <td>FIFA World Cup qualification</td>\n",
              "      <td>Colombia</td>\n",
              "      <td>1993</td>\n",
              "      <td>8</td>\n",
              "      <td>19</td>\n",
              "      <td>0.0</td>\n",
              "      <td>36</td>\n",
              "    </tr>\n",
              "  </tbody>\n",
              "</table>\n",
              "</div>\n",
              "      <button class=\"colab-df-convert\" onclick=\"convertToInteractive('df-a87197cd-65e4-4606-8ce2-af530efc8d13')\"\n",
              "              title=\"Convert this dataframe to an interactive table.\"\n",
              "              style=\"display:none;\">\n",
              "        \n",
              "  <svg xmlns=\"http://www.w3.org/2000/svg\" height=\"24px\"viewBox=\"0 0 24 24\"\n",
              "       width=\"24px\">\n",
              "    <path d=\"M0 0h24v24H0V0z\" fill=\"none\"/>\n",
              "    <path d=\"M18.56 5.44l.94 2.06.94-2.06 2.06-.94-2.06-.94-.94-2.06-.94 2.06-2.06.94zm-11 1L8.5 8.5l.94-2.06 2.06-.94-2.06-.94L8.5 2.5l-.94 2.06-2.06.94zm10 10l.94 2.06.94-2.06 2.06-.94-2.06-.94-.94-2.06-.94 2.06-2.06.94z\"/><path d=\"M17.41 7.96l-1.37-1.37c-.4-.4-.92-.59-1.43-.59-.52 0-1.04.2-1.43.59L10.3 9.45l-7.72 7.72c-.78.78-.78 2.05 0 2.83L4 21.41c.39.39.9.59 1.41.59.51 0 1.02-.2 1.41-.59l7.78-7.78 2.81-2.81c.8-.78.8-2.07 0-2.86zM5.41 20L4 18.59l7.72-7.72 1.47 1.35L5.41 20z\"/>\n",
              "  </svg>\n",
              "      </button>\n",
              "      \n",
              "  <style>\n",
              "    .colab-df-container {\n",
              "      display:flex;\n",
              "      flex-wrap:wrap;\n",
              "      gap: 12px;\n",
              "    }\n",
              "\n",
              "    .colab-df-convert {\n",
              "      background-color: #E8F0FE;\n",
              "      border: none;\n",
              "      border-radius: 50%;\n",
              "      cursor: pointer;\n",
              "      display: none;\n",
              "      fill: #1967D2;\n",
              "      height: 32px;\n",
              "      padding: 0 0 0 0;\n",
              "      width: 32px;\n",
              "    }\n",
              "\n",
              "    .colab-df-convert:hover {\n",
              "      background-color: #E2EBFA;\n",
              "      box-shadow: 0px 1px 2px rgba(60, 64, 67, 0.3), 0px 1px 3px 1px rgba(60, 64, 67, 0.15);\n",
              "      fill: #174EA6;\n",
              "    }\n",
              "\n",
              "    [theme=dark] .colab-df-convert {\n",
              "      background-color: #3B4455;\n",
              "      fill: #D2E3FC;\n",
              "    }\n",
              "\n",
              "    [theme=dark] .colab-df-convert:hover {\n",
              "      background-color: #434B5C;\n",
              "      box-shadow: 0px 1px 3px 1px rgba(0, 0, 0, 0.15);\n",
              "      filter: drop-shadow(0px 1px 2px rgba(0, 0, 0, 0.3));\n",
              "      fill: #FFFFFF;\n",
              "    }\n",
              "  </style>\n",
              "\n",
              "      <script>\n",
              "        const buttonEl =\n",
              "          document.querySelector('#df-a87197cd-65e4-4606-8ce2-af530efc8d13 button.colab-df-convert');\n",
              "        buttonEl.style.display =\n",
              "          google.colab.kernel.accessAllowed ? 'block' : 'none';\n",
              "\n",
              "        async function convertToInteractive(key) {\n",
              "          const element = document.querySelector('#df-a87197cd-65e4-4606-8ce2-af530efc8d13');\n",
              "          const dataTable =\n",
              "            await google.colab.kernel.invokeFunction('convertToInteractive',\n",
              "                                                     [key], {});\n",
              "          if (!dataTable) return;\n",
              "\n",
              "          const docLinkHtml = 'Like what you see? Visit the ' +\n",
              "            '<a target=\"_blank\" href=https://colab.research.google.com/notebooks/data_table.ipynb>data table notebook</a>'\n",
              "            + ' to learn more about interactive tables.';\n",
              "          element.innerHTML = '';\n",
              "          dataTable['output_type'] = 'display_data';\n",
              "          await google.colab.output.renderOutput(dataTable, element);\n",
              "          const docLink = document.createElement('div');\n",
              "          docLink.innerHTML = docLinkHtml;\n",
              "          element.appendChild(docLink);\n",
              "        }\n",
              "      </script>\n",
              "    </div>\n",
              "  </div>\n",
              "  "
            ]
          },
          "metadata": {},
          "execution_count": 536
        }
      ]
    },
    {
      "cell_type": "markdown",
      "source": [
        "note that the home team is similar to country column"
      ],
      "metadata": {
        "id": "7lKFzKTc9rGd"
      }
    },
    {
      "cell_type": "markdown",
      "source": [
        "## Merging the two datasets to obtain an away team ranking(away_team_rank)"
      ],
      "metadata": {
        "id": "jc8KWCce-LGu"
      }
    },
    {
      "cell_type": "code",
      "source": [
        "# merge to obtain the home_team\n",
        "\n",
        "away_football = pd.merge(results, fifa_ranking, how = 'inner', left_on = ['year', 'month', 'away_team'], right_on = ['year', 'month', 'country'])\n",
        "away_football.head()"
      ],
      "metadata": {
        "id": "AQMoydrr9qTV",
        "outputId": "85f779c7-cf2f-43a8-9ae6-2a7c3b23bfa6",
        "colab": {
          "base_uri": "https://localhost:8080/",
          "height": 336
        }
      },
      "execution_count": 537,
      "outputs": [
        {
          "output_type": "execute_result",
          "data": {
            "text/plain": [
              "      date_x  home_team  away_team  home_score  away_score  \\\n",
              "0 1993-08-01   Colombia   Paraguay           0           0   \n",
              "1 1993-08-29  Argentina   Paraguay           0           0   \n",
              "2 1993-08-01       Peru  Argentina           0           1   \n",
              "3 1993-08-08   Paraguay  Argentina           1           3   \n",
              "4 1993-08-15   Colombia  Argentina           2           1   \n",
              "\n",
              "                     tournament  country_x  year  month  rank  country_y  \\\n",
              "0  FIFA World Cup qualification   Colombia  1993      8    67   Paraguay   \n",
              "1  FIFA World Cup qualification  Argentina  1993      8    67   Paraguay   \n",
              "2  FIFA World Cup qualification       Peru  1993      8     5  Argentina   \n",
              "3  FIFA World Cup qualification   Paraguay  1993      8     5  Argentina   \n",
              "4  FIFA World Cup qualification   Colombia  1993      8     5  Argentina   \n",
              "\n",
              "   total_points  previous_points     date_y  \n",
              "0           0.0               22 1993-08-08  \n",
              "1           0.0               22 1993-08-08  \n",
              "2           0.0               51 1993-08-08  \n",
              "3           0.0               51 1993-08-08  \n",
              "4           0.0               51 1993-08-08  "
            ],
            "text/html": [
              "\n",
              "  <div id=\"df-d157b522-54ff-49ad-a84d-23cd0997a08b\">\n",
              "    <div class=\"colab-df-container\">\n",
              "      <div>\n",
              "<style scoped>\n",
              "    .dataframe tbody tr th:only-of-type {\n",
              "        vertical-align: middle;\n",
              "    }\n",
              "\n",
              "    .dataframe tbody tr th {\n",
              "        vertical-align: top;\n",
              "    }\n",
              "\n",
              "    .dataframe thead th {\n",
              "        text-align: right;\n",
              "    }\n",
              "</style>\n",
              "<table border=\"1\" class=\"dataframe\">\n",
              "  <thead>\n",
              "    <tr style=\"text-align: right;\">\n",
              "      <th></th>\n",
              "      <th>date_x</th>\n",
              "      <th>home_team</th>\n",
              "      <th>away_team</th>\n",
              "      <th>home_score</th>\n",
              "      <th>away_score</th>\n",
              "      <th>tournament</th>\n",
              "      <th>country_x</th>\n",
              "      <th>year</th>\n",
              "      <th>month</th>\n",
              "      <th>rank</th>\n",
              "      <th>country_y</th>\n",
              "      <th>total_points</th>\n",
              "      <th>previous_points</th>\n",
              "      <th>date_y</th>\n",
              "    </tr>\n",
              "  </thead>\n",
              "  <tbody>\n",
              "    <tr>\n",
              "      <th>0</th>\n",
              "      <td>1993-08-01</td>\n",
              "      <td>Colombia</td>\n",
              "      <td>Paraguay</td>\n",
              "      <td>0</td>\n",
              "      <td>0</td>\n",
              "      <td>FIFA World Cup qualification</td>\n",
              "      <td>Colombia</td>\n",
              "      <td>1993</td>\n",
              "      <td>8</td>\n",
              "      <td>67</td>\n",
              "      <td>Paraguay</td>\n",
              "      <td>0.0</td>\n",
              "      <td>22</td>\n",
              "      <td>1993-08-08</td>\n",
              "    </tr>\n",
              "    <tr>\n",
              "      <th>1</th>\n",
              "      <td>1993-08-29</td>\n",
              "      <td>Argentina</td>\n",
              "      <td>Paraguay</td>\n",
              "      <td>0</td>\n",
              "      <td>0</td>\n",
              "      <td>FIFA World Cup qualification</td>\n",
              "      <td>Argentina</td>\n",
              "      <td>1993</td>\n",
              "      <td>8</td>\n",
              "      <td>67</td>\n",
              "      <td>Paraguay</td>\n",
              "      <td>0.0</td>\n",
              "      <td>22</td>\n",
              "      <td>1993-08-08</td>\n",
              "    </tr>\n",
              "    <tr>\n",
              "      <th>2</th>\n",
              "      <td>1993-08-01</td>\n",
              "      <td>Peru</td>\n",
              "      <td>Argentina</td>\n",
              "      <td>0</td>\n",
              "      <td>1</td>\n",
              "      <td>FIFA World Cup qualification</td>\n",
              "      <td>Peru</td>\n",
              "      <td>1993</td>\n",
              "      <td>8</td>\n",
              "      <td>5</td>\n",
              "      <td>Argentina</td>\n",
              "      <td>0.0</td>\n",
              "      <td>51</td>\n",
              "      <td>1993-08-08</td>\n",
              "    </tr>\n",
              "    <tr>\n",
              "      <th>3</th>\n",
              "      <td>1993-08-08</td>\n",
              "      <td>Paraguay</td>\n",
              "      <td>Argentina</td>\n",
              "      <td>1</td>\n",
              "      <td>3</td>\n",
              "      <td>FIFA World Cup qualification</td>\n",
              "      <td>Paraguay</td>\n",
              "      <td>1993</td>\n",
              "      <td>8</td>\n",
              "      <td>5</td>\n",
              "      <td>Argentina</td>\n",
              "      <td>0.0</td>\n",
              "      <td>51</td>\n",
              "      <td>1993-08-08</td>\n",
              "    </tr>\n",
              "    <tr>\n",
              "      <th>4</th>\n",
              "      <td>1993-08-15</td>\n",
              "      <td>Colombia</td>\n",
              "      <td>Argentina</td>\n",
              "      <td>2</td>\n",
              "      <td>1</td>\n",
              "      <td>FIFA World Cup qualification</td>\n",
              "      <td>Colombia</td>\n",
              "      <td>1993</td>\n",
              "      <td>8</td>\n",
              "      <td>5</td>\n",
              "      <td>Argentina</td>\n",
              "      <td>0.0</td>\n",
              "      <td>51</td>\n",
              "      <td>1993-08-08</td>\n",
              "    </tr>\n",
              "  </tbody>\n",
              "</table>\n",
              "</div>\n",
              "      <button class=\"colab-df-convert\" onclick=\"convertToInteractive('df-d157b522-54ff-49ad-a84d-23cd0997a08b')\"\n",
              "              title=\"Convert this dataframe to an interactive table.\"\n",
              "              style=\"display:none;\">\n",
              "        \n",
              "  <svg xmlns=\"http://www.w3.org/2000/svg\" height=\"24px\"viewBox=\"0 0 24 24\"\n",
              "       width=\"24px\">\n",
              "    <path d=\"M0 0h24v24H0V0z\" fill=\"none\"/>\n",
              "    <path d=\"M18.56 5.44l.94 2.06.94-2.06 2.06-.94-2.06-.94-.94-2.06-.94 2.06-2.06.94zm-11 1L8.5 8.5l.94-2.06 2.06-.94-2.06-.94L8.5 2.5l-.94 2.06-2.06.94zm10 10l.94 2.06.94-2.06 2.06-.94-2.06-.94-.94-2.06-.94 2.06-2.06.94z\"/><path d=\"M17.41 7.96l-1.37-1.37c-.4-.4-.92-.59-1.43-.59-.52 0-1.04.2-1.43.59L10.3 9.45l-7.72 7.72c-.78.78-.78 2.05 0 2.83L4 21.41c.39.39.9.59 1.41.59.51 0 1.02-.2 1.41-.59l7.78-7.78 2.81-2.81c.8-.78.8-2.07 0-2.86zM5.41 20L4 18.59l7.72-7.72 1.47 1.35L5.41 20z\"/>\n",
              "  </svg>\n",
              "      </button>\n",
              "      \n",
              "  <style>\n",
              "    .colab-df-container {\n",
              "      display:flex;\n",
              "      flex-wrap:wrap;\n",
              "      gap: 12px;\n",
              "    }\n",
              "\n",
              "    .colab-df-convert {\n",
              "      background-color: #E8F0FE;\n",
              "      border: none;\n",
              "      border-radius: 50%;\n",
              "      cursor: pointer;\n",
              "      display: none;\n",
              "      fill: #1967D2;\n",
              "      height: 32px;\n",
              "      padding: 0 0 0 0;\n",
              "      width: 32px;\n",
              "    }\n",
              "\n",
              "    .colab-df-convert:hover {\n",
              "      background-color: #E2EBFA;\n",
              "      box-shadow: 0px 1px 2px rgba(60, 64, 67, 0.3), 0px 1px 3px 1px rgba(60, 64, 67, 0.15);\n",
              "      fill: #174EA6;\n",
              "    }\n",
              "\n",
              "    [theme=dark] .colab-df-convert {\n",
              "      background-color: #3B4455;\n",
              "      fill: #D2E3FC;\n",
              "    }\n",
              "\n",
              "    [theme=dark] .colab-df-convert:hover {\n",
              "      background-color: #434B5C;\n",
              "      box-shadow: 0px 1px 3px 1px rgba(0, 0, 0, 0.15);\n",
              "      filter: drop-shadow(0px 1px 2px rgba(0, 0, 0, 0.3));\n",
              "      fill: #FFFFFF;\n",
              "    }\n",
              "  </style>\n",
              "\n",
              "      <script>\n",
              "        const buttonEl =\n",
              "          document.querySelector('#df-d157b522-54ff-49ad-a84d-23cd0997a08b button.colab-df-convert');\n",
              "        buttonEl.style.display =\n",
              "          google.colab.kernel.accessAllowed ? 'block' : 'none';\n",
              "\n",
              "        async function convertToInteractive(key) {\n",
              "          const element = document.querySelector('#df-d157b522-54ff-49ad-a84d-23cd0997a08b');\n",
              "          const dataTable =\n",
              "            await google.colab.kernel.invokeFunction('convertToInteractive',\n",
              "                                                     [key], {});\n",
              "          if (!dataTable) return;\n",
              "\n",
              "          const docLinkHtml = 'Like what you see? Visit the ' +\n",
              "            '<a target=\"_blank\" href=https://colab.research.google.com/notebooks/data_table.ipynb>data table notebook</a>'\n",
              "            + ' to learn more about interactive tables.';\n",
              "          element.innerHTML = '';\n",
              "          dataTable['output_type'] = 'display_data';\n",
              "          await google.colab.output.renderOutput(dataTable, element);\n",
              "          const docLink = document.createElement('div');\n",
              "          docLink.innerHTML = docLinkHtml;\n",
              "          element.appendChild(docLink);\n",
              "        }\n",
              "      </script>\n",
              "    </div>\n",
              "  </div>\n",
              "  "
            ]
          },
          "metadata": {},
          "execution_count": 537
        }
      ]
    },
    {
      "cell_type": "code",
      "source": [
        "# drop nnecessary column\n",
        "away_football.drop(columns = ['country_y', 'date_x', 'date_y'], axis = 1, inplace=True)"
      ],
      "metadata": {
        "id": "8bu2m4VZ9Kxf"
      },
      "execution_count": 538,
      "outputs": []
    },
    {
      "cell_type": "code",
      "source": [
        "# rename some columns\n",
        "away_football.rename(columns = {'country_x':'country', 'rank':'away_rank'}, inplace=True)"
      ],
      "metadata": {
        "id": "BYFP9tmx_TzE"
      },
      "execution_count": 539,
      "outputs": []
    },
    {
      "cell_type": "code",
      "source": [
        "away_football = away_football[['away_rank','away_team', 'month', 'year']]\n",
        "away_football.head()"
      ],
      "metadata": {
        "id": "MKPoSwsj_Tvl",
        "outputId": "c3a3f456-892a-4648-c6f8-ff3df2070886",
        "colab": {
          "base_uri": "https://localhost:8080/",
          "height": 206
        }
      },
      "execution_count": 540,
      "outputs": [
        {
          "output_type": "execute_result",
          "data": {
            "text/plain": [
              "   away_rank  away_team  month  year\n",
              "0         67   Paraguay      8  1993\n",
              "1         67   Paraguay      8  1993\n",
              "2          5  Argentina      8  1993\n",
              "3          5  Argentina      8  1993\n",
              "4          5  Argentina      8  1993"
            ],
            "text/html": [
              "\n",
              "  <div id=\"df-69ede37e-2c18-4452-a974-755ae92cd8e5\">\n",
              "    <div class=\"colab-df-container\">\n",
              "      <div>\n",
              "<style scoped>\n",
              "    .dataframe tbody tr th:only-of-type {\n",
              "        vertical-align: middle;\n",
              "    }\n",
              "\n",
              "    .dataframe tbody tr th {\n",
              "        vertical-align: top;\n",
              "    }\n",
              "\n",
              "    .dataframe thead th {\n",
              "        text-align: right;\n",
              "    }\n",
              "</style>\n",
              "<table border=\"1\" class=\"dataframe\">\n",
              "  <thead>\n",
              "    <tr style=\"text-align: right;\">\n",
              "      <th></th>\n",
              "      <th>away_rank</th>\n",
              "      <th>away_team</th>\n",
              "      <th>month</th>\n",
              "      <th>year</th>\n",
              "    </tr>\n",
              "  </thead>\n",
              "  <tbody>\n",
              "    <tr>\n",
              "      <th>0</th>\n",
              "      <td>67</td>\n",
              "      <td>Paraguay</td>\n",
              "      <td>8</td>\n",
              "      <td>1993</td>\n",
              "    </tr>\n",
              "    <tr>\n",
              "      <th>1</th>\n",
              "      <td>67</td>\n",
              "      <td>Paraguay</td>\n",
              "      <td>8</td>\n",
              "      <td>1993</td>\n",
              "    </tr>\n",
              "    <tr>\n",
              "      <th>2</th>\n",
              "      <td>5</td>\n",
              "      <td>Argentina</td>\n",
              "      <td>8</td>\n",
              "      <td>1993</td>\n",
              "    </tr>\n",
              "    <tr>\n",
              "      <th>3</th>\n",
              "      <td>5</td>\n",
              "      <td>Argentina</td>\n",
              "      <td>8</td>\n",
              "      <td>1993</td>\n",
              "    </tr>\n",
              "    <tr>\n",
              "      <th>4</th>\n",
              "      <td>5</td>\n",
              "      <td>Argentina</td>\n",
              "      <td>8</td>\n",
              "      <td>1993</td>\n",
              "    </tr>\n",
              "  </tbody>\n",
              "</table>\n",
              "</div>\n",
              "      <button class=\"colab-df-convert\" onclick=\"convertToInteractive('df-69ede37e-2c18-4452-a974-755ae92cd8e5')\"\n",
              "              title=\"Convert this dataframe to an interactive table.\"\n",
              "              style=\"display:none;\">\n",
              "        \n",
              "  <svg xmlns=\"http://www.w3.org/2000/svg\" height=\"24px\"viewBox=\"0 0 24 24\"\n",
              "       width=\"24px\">\n",
              "    <path d=\"M0 0h24v24H0V0z\" fill=\"none\"/>\n",
              "    <path d=\"M18.56 5.44l.94 2.06.94-2.06 2.06-.94-2.06-.94-.94-2.06-.94 2.06-2.06.94zm-11 1L8.5 8.5l.94-2.06 2.06-.94-2.06-.94L8.5 2.5l-.94 2.06-2.06.94zm10 10l.94 2.06.94-2.06 2.06-.94-2.06-.94-.94-2.06-.94 2.06-2.06.94z\"/><path d=\"M17.41 7.96l-1.37-1.37c-.4-.4-.92-.59-1.43-.59-.52 0-1.04.2-1.43.59L10.3 9.45l-7.72 7.72c-.78.78-.78 2.05 0 2.83L4 21.41c.39.39.9.59 1.41.59.51 0 1.02-.2 1.41-.59l7.78-7.78 2.81-2.81c.8-.78.8-2.07 0-2.86zM5.41 20L4 18.59l7.72-7.72 1.47 1.35L5.41 20z\"/>\n",
              "  </svg>\n",
              "      </button>\n",
              "      \n",
              "  <style>\n",
              "    .colab-df-container {\n",
              "      display:flex;\n",
              "      flex-wrap:wrap;\n",
              "      gap: 12px;\n",
              "    }\n",
              "\n",
              "    .colab-df-convert {\n",
              "      background-color: #E8F0FE;\n",
              "      border: none;\n",
              "      border-radius: 50%;\n",
              "      cursor: pointer;\n",
              "      display: none;\n",
              "      fill: #1967D2;\n",
              "      height: 32px;\n",
              "      padding: 0 0 0 0;\n",
              "      width: 32px;\n",
              "    }\n",
              "\n",
              "    .colab-df-convert:hover {\n",
              "      background-color: #E2EBFA;\n",
              "      box-shadow: 0px 1px 2px rgba(60, 64, 67, 0.3), 0px 1px 3px 1px rgba(60, 64, 67, 0.15);\n",
              "      fill: #174EA6;\n",
              "    }\n",
              "\n",
              "    [theme=dark] .colab-df-convert {\n",
              "      background-color: #3B4455;\n",
              "      fill: #D2E3FC;\n",
              "    }\n",
              "\n",
              "    [theme=dark] .colab-df-convert:hover {\n",
              "      background-color: #434B5C;\n",
              "      box-shadow: 0px 1px 3px 1px rgba(0, 0, 0, 0.15);\n",
              "      filter: drop-shadow(0px 1px 2px rgba(0, 0, 0, 0.3));\n",
              "      fill: #FFFFFF;\n",
              "    }\n",
              "  </style>\n",
              "\n",
              "      <script>\n",
              "        const buttonEl =\n",
              "          document.querySelector('#df-69ede37e-2c18-4452-a974-755ae92cd8e5 button.colab-df-convert');\n",
              "        buttonEl.style.display =\n",
              "          google.colab.kernel.accessAllowed ? 'block' : 'none';\n",
              "\n",
              "        async function convertToInteractive(key) {\n",
              "          const element = document.querySelector('#df-69ede37e-2c18-4452-a974-755ae92cd8e5');\n",
              "          const dataTable =\n",
              "            await google.colab.kernel.invokeFunction('convertToInteractive',\n",
              "                                                     [key], {});\n",
              "          if (!dataTable) return;\n",
              "\n",
              "          const docLinkHtml = 'Like what you see? Visit the ' +\n",
              "            '<a target=\"_blank\" href=https://colab.research.google.com/notebooks/data_table.ipynb>data table notebook</a>'\n",
              "            + ' to learn more about interactive tables.';\n",
              "          element.innerHTML = '';\n",
              "          dataTable['output_type'] = 'display_data';\n",
              "          await google.colab.output.renderOutput(dataTable, element);\n",
              "          const docLink = document.createElement('div');\n",
              "          docLink.innerHTML = docLinkHtml;\n",
              "          element.appendChild(docLink);\n",
              "        }\n",
              "      </script>\n",
              "    </div>\n",
              "  </div>\n",
              "  "
            ]
          },
          "metadata": {},
          "execution_count": 540
        }
      ]
    },
    {
      "cell_type": "markdown",
      "source": [
        "## Merge the datasets to obtain home team rankings and away team rankings"
      ],
      "metadata": {
        "id": "AQJ7UB1_EDtn"
      }
    },
    {
      "cell_type": "code",
      "source": [
        ""
      ],
      "metadata": {
        "id": "3a01IBbiD2m4"
      },
      "execution_count": 540,
      "outputs": []
    },
    {
      "cell_type": "code",
      "source": [
        "# merge \n",
        "football = pd.merge(home_football, away_football, how = 'inner', left_on = ['year','month','away_team'], right_on = ['year','month','away_team'])\n",
        "football.sample(10)"
      ],
      "metadata": {
        "id": "G0a0VDA2ENZm",
        "outputId": "7d3aeb54-8782-47e5-9697-3ddd05c5dd4f",
        "colab": {
          "base_uri": "https://localhost:8080/",
          "height": 406
        }
      },
      "execution_count": 541,
      "outputs": [
        {
          "output_type": "execute_result",
          "data": {
            "text/plain": [
              "             home_team         away_team  home_score  away_score  \\\n",
              "18351       Mozambique          Botswana           0           1   \n",
              "13151           Poland           Iceland           3           2   \n",
              "10261  Solomon Islands           Vanuatu           2           2   \n",
              "20446            Kenya        Seychelles           4           0   \n",
              "22151            Spain           Uruguay           3           1   \n",
              "20343          Denmark           Finland           2           1   \n",
              "1123           Denmark            Cyprus           4           0   \n",
              "18233          Albania  Northern Ireland           1           0   \n",
              "777               Oman           Senegal           0           1   \n",
              "3667          Cameroon              Togo           3           1   \n",
              "\n",
              "                         tournament     country  year  month  home_rank  \\\n",
              "18351                      Friendly  Mozambique  2010      3         89   \n",
              "13151                      Friendly      Poland  2005     10         23   \n",
              "10261           South Pacific Games        Fiji  2003      7        151   \n",
              "20446  FIFA World Cup qualification       Kenya  2011     11        133   \n",
              "22151                      Friendly       Qatar  2013      2          1   \n",
              "20343                      Friendly     Denmark  2011     11         11   \n",
              "1123        UEFA Euro qualification     Denmark  1995      6         12   \n",
              "18233                      Friendly     Albania  2010      3         96   \n",
              "777                        Friendly        Oman  1994     10         65   \n",
              "3667                       Friendly       Egypt  1997     12         53   \n",
              "\n",
              "       total_points  previous_points  away_rank  \n",
              "18351          0.00              382        116  \n",
              "13151          0.00              705         92  \n",
              "10261          0.00              269        156  \n",
              "20446        239.79              205        183  \n",
              "22151       1589.51             1606         16  \n",
              "20343       1035.14             1030         88  \n",
              "1123           0.00               55         68  \n",
              "18233          0.00              336         50  \n",
              "777            0.00               20         53  \n",
              "3667           0.00               45         78  "
            ],
            "text/html": [
              "\n",
              "  <div id=\"df-831e2a3f-ab9a-4495-8b69-6693f0fdb902\">\n",
              "    <div class=\"colab-df-container\">\n",
              "      <div>\n",
              "<style scoped>\n",
              "    .dataframe tbody tr th:only-of-type {\n",
              "        vertical-align: middle;\n",
              "    }\n",
              "\n",
              "    .dataframe tbody tr th {\n",
              "        vertical-align: top;\n",
              "    }\n",
              "\n",
              "    .dataframe thead th {\n",
              "        text-align: right;\n",
              "    }\n",
              "</style>\n",
              "<table border=\"1\" class=\"dataframe\">\n",
              "  <thead>\n",
              "    <tr style=\"text-align: right;\">\n",
              "      <th></th>\n",
              "      <th>home_team</th>\n",
              "      <th>away_team</th>\n",
              "      <th>home_score</th>\n",
              "      <th>away_score</th>\n",
              "      <th>tournament</th>\n",
              "      <th>country</th>\n",
              "      <th>year</th>\n",
              "      <th>month</th>\n",
              "      <th>home_rank</th>\n",
              "      <th>total_points</th>\n",
              "      <th>previous_points</th>\n",
              "      <th>away_rank</th>\n",
              "    </tr>\n",
              "  </thead>\n",
              "  <tbody>\n",
              "    <tr>\n",
              "      <th>18351</th>\n",
              "      <td>Mozambique</td>\n",
              "      <td>Botswana</td>\n",
              "      <td>0</td>\n",
              "      <td>1</td>\n",
              "      <td>Friendly</td>\n",
              "      <td>Mozambique</td>\n",
              "      <td>2010</td>\n",
              "      <td>3</td>\n",
              "      <td>89</td>\n",
              "      <td>0.00</td>\n",
              "      <td>382</td>\n",
              "      <td>116</td>\n",
              "    </tr>\n",
              "    <tr>\n",
              "      <th>13151</th>\n",
              "      <td>Poland</td>\n",
              "      <td>Iceland</td>\n",
              "      <td>3</td>\n",
              "      <td>2</td>\n",
              "      <td>Friendly</td>\n",
              "      <td>Poland</td>\n",
              "      <td>2005</td>\n",
              "      <td>10</td>\n",
              "      <td>23</td>\n",
              "      <td>0.00</td>\n",
              "      <td>705</td>\n",
              "      <td>92</td>\n",
              "    </tr>\n",
              "    <tr>\n",
              "      <th>10261</th>\n",
              "      <td>Solomon Islands</td>\n",
              "      <td>Vanuatu</td>\n",
              "      <td>2</td>\n",
              "      <td>2</td>\n",
              "      <td>South Pacific Games</td>\n",
              "      <td>Fiji</td>\n",
              "      <td>2003</td>\n",
              "      <td>7</td>\n",
              "      <td>151</td>\n",
              "      <td>0.00</td>\n",
              "      <td>269</td>\n",
              "      <td>156</td>\n",
              "    </tr>\n",
              "    <tr>\n",
              "      <th>20446</th>\n",
              "      <td>Kenya</td>\n",
              "      <td>Seychelles</td>\n",
              "      <td>4</td>\n",
              "      <td>0</td>\n",
              "      <td>FIFA World Cup qualification</td>\n",
              "      <td>Kenya</td>\n",
              "      <td>2011</td>\n",
              "      <td>11</td>\n",
              "      <td>133</td>\n",
              "      <td>239.79</td>\n",
              "      <td>205</td>\n",
              "      <td>183</td>\n",
              "    </tr>\n",
              "    <tr>\n",
              "      <th>22151</th>\n",
              "      <td>Spain</td>\n",
              "      <td>Uruguay</td>\n",
              "      <td>3</td>\n",
              "      <td>1</td>\n",
              "      <td>Friendly</td>\n",
              "      <td>Qatar</td>\n",
              "      <td>2013</td>\n",
              "      <td>2</td>\n",
              "      <td>1</td>\n",
              "      <td>1589.51</td>\n",
              "      <td>1606</td>\n",
              "      <td>16</td>\n",
              "    </tr>\n",
              "    <tr>\n",
              "      <th>20343</th>\n",
              "      <td>Denmark</td>\n",
              "      <td>Finland</td>\n",
              "      <td>2</td>\n",
              "      <td>1</td>\n",
              "      <td>Friendly</td>\n",
              "      <td>Denmark</td>\n",
              "      <td>2011</td>\n",
              "      <td>11</td>\n",
              "      <td>11</td>\n",
              "      <td>1035.14</td>\n",
              "      <td>1030</td>\n",
              "      <td>88</td>\n",
              "    </tr>\n",
              "    <tr>\n",
              "      <th>1123</th>\n",
              "      <td>Denmark</td>\n",
              "      <td>Cyprus</td>\n",
              "      <td>4</td>\n",
              "      <td>0</td>\n",
              "      <td>UEFA Euro qualification</td>\n",
              "      <td>Denmark</td>\n",
              "      <td>1995</td>\n",
              "      <td>6</td>\n",
              "      <td>12</td>\n",
              "      <td>0.00</td>\n",
              "      <td>55</td>\n",
              "      <td>68</td>\n",
              "    </tr>\n",
              "    <tr>\n",
              "      <th>18233</th>\n",
              "      <td>Albania</td>\n",
              "      <td>Northern Ireland</td>\n",
              "      <td>1</td>\n",
              "      <td>0</td>\n",
              "      <td>Friendly</td>\n",
              "      <td>Albania</td>\n",
              "      <td>2010</td>\n",
              "      <td>3</td>\n",
              "      <td>96</td>\n",
              "      <td>0.00</td>\n",
              "      <td>336</td>\n",
              "      <td>50</td>\n",
              "    </tr>\n",
              "    <tr>\n",
              "      <th>777</th>\n",
              "      <td>Oman</td>\n",
              "      <td>Senegal</td>\n",
              "      <td>0</td>\n",
              "      <td>1</td>\n",
              "      <td>Friendly</td>\n",
              "      <td>Oman</td>\n",
              "      <td>1994</td>\n",
              "      <td>10</td>\n",
              "      <td>65</td>\n",
              "      <td>0.00</td>\n",
              "      <td>20</td>\n",
              "      <td>53</td>\n",
              "    </tr>\n",
              "    <tr>\n",
              "      <th>3667</th>\n",
              "      <td>Cameroon</td>\n",
              "      <td>Togo</td>\n",
              "      <td>3</td>\n",
              "      <td>1</td>\n",
              "      <td>Friendly</td>\n",
              "      <td>Egypt</td>\n",
              "      <td>1997</td>\n",
              "      <td>12</td>\n",
              "      <td>53</td>\n",
              "      <td>0.00</td>\n",
              "      <td>45</td>\n",
              "      <td>78</td>\n",
              "    </tr>\n",
              "  </tbody>\n",
              "</table>\n",
              "</div>\n",
              "      <button class=\"colab-df-convert\" onclick=\"convertToInteractive('df-831e2a3f-ab9a-4495-8b69-6693f0fdb902')\"\n",
              "              title=\"Convert this dataframe to an interactive table.\"\n",
              "              style=\"display:none;\">\n",
              "        \n",
              "  <svg xmlns=\"http://www.w3.org/2000/svg\" height=\"24px\"viewBox=\"0 0 24 24\"\n",
              "       width=\"24px\">\n",
              "    <path d=\"M0 0h24v24H0V0z\" fill=\"none\"/>\n",
              "    <path d=\"M18.56 5.44l.94 2.06.94-2.06 2.06-.94-2.06-.94-.94-2.06-.94 2.06-2.06.94zm-11 1L8.5 8.5l.94-2.06 2.06-.94-2.06-.94L8.5 2.5l-.94 2.06-2.06.94zm10 10l.94 2.06.94-2.06 2.06-.94-2.06-.94-.94-2.06-.94 2.06-2.06.94z\"/><path d=\"M17.41 7.96l-1.37-1.37c-.4-.4-.92-.59-1.43-.59-.52 0-1.04.2-1.43.59L10.3 9.45l-7.72 7.72c-.78.78-.78 2.05 0 2.83L4 21.41c.39.39.9.59 1.41.59.51 0 1.02-.2 1.41-.59l7.78-7.78 2.81-2.81c.8-.78.8-2.07 0-2.86zM5.41 20L4 18.59l7.72-7.72 1.47 1.35L5.41 20z\"/>\n",
              "  </svg>\n",
              "      </button>\n",
              "      \n",
              "  <style>\n",
              "    .colab-df-container {\n",
              "      display:flex;\n",
              "      flex-wrap:wrap;\n",
              "      gap: 12px;\n",
              "    }\n",
              "\n",
              "    .colab-df-convert {\n",
              "      background-color: #E8F0FE;\n",
              "      border: none;\n",
              "      border-radius: 50%;\n",
              "      cursor: pointer;\n",
              "      display: none;\n",
              "      fill: #1967D2;\n",
              "      height: 32px;\n",
              "      padding: 0 0 0 0;\n",
              "      width: 32px;\n",
              "    }\n",
              "\n",
              "    .colab-df-convert:hover {\n",
              "      background-color: #E2EBFA;\n",
              "      box-shadow: 0px 1px 2px rgba(60, 64, 67, 0.3), 0px 1px 3px 1px rgba(60, 64, 67, 0.15);\n",
              "      fill: #174EA6;\n",
              "    }\n",
              "\n",
              "    [theme=dark] .colab-df-convert {\n",
              "      background-color: #3B4455;\n",
              "      fill: #D2E3FC;\n",
              "    }\n",
              "\n",
              "    [theme=dark] .colab-df-convert:hover {\n",
              "      background-color: #434B5C;\n",
              "      box-shadow: 0px 1px 3px 1px rgba(0, 0, 0, 0.15);\n",
              "      filter: drop-shadow(0px 1px 2px rgba(0, 0, 0, 0.3));\n",
              "      fill: #FFFFFF;\n",
              "    }\n",
              "  </style>\n",
              "\n",
              "      <script>\n",
              "        const buttonEl =\n",
              "          document.querySelector('#df-831e2a3f-ab9a-4495-8b69-6693f0fdb902 button.colab-df-convert');\n",
              "        buttonEl.style.display =\n",
              "          google.colab.kernel.accessAllowed ? 'block' : 'none';\n",
              "\n",
              "        async function convertToInteractive(key) {\n",
              "          const element = document.querySelector('#df-831e2a3f-ab9a-4495-8b69-6693f0fdb902');\n",
              "          const dataTable =\n",
              "            await google.colab.kernel.invokeFunction('convertToInteractive',\n",
              "                                                     [key], {});\n",
              "          if (!dataTable) return;\n",
              "\n",
              "          const docLinkHtml = 'Like what you see? Visit the ' +\n",
              "            '<a target=\"_blank\" href=https://colab.research.google.com/notebooks/data_table.ipynb>data table notebook</a>'\n",
              "            + ' to learn more about interactive tables.';\n",
              "          element.innerHTML = '';\n",
              "          dataTable['output_type'] = 'display_data';\n",
              "          await google.colab.output.renderOutput(dataTable, element);\n",
              "          const docLink = document.createElement('div');\n",
              "          docLink.innerHTML = docLinkHtml;\n",
              "          element.appendChild(docLink);\n",
              "        }\n",
              "      </script>\n",
              "    </div>\n",
              "  </div>\n",
              "  "
            ]
          },
          "metadata": {},
          "execution_count": 541
        }
      ]
    },
    {
      "cell_type": "markdown",
      "source": [
        "## Exploratory Data Analysis"
      ],
      "metadata": {
        "id": "0iRdypfTFgbO"
      }
    },
    {
      "cell_type": "code",
      "source": [
        "Figure(figsize=(10,8))\n",
        "sns.countplot(x = 'home_score', data= football)\n",
        "plt.show()"
      ],
      "metadata": {
        "id": "9_6bTTeZE7aK",
        "outputId": "c73c3293-227b-44c3-a82e-7b6b212c031d",
        "colab": {
          "base_uri": "https://localhost:8080/",
          "height": 280
        }
      },
      "execution_count": 542,
      "outputs": [
        {
          "output_type": "display_data",
          "data": {
            "text/plain": [
              "<Figure size 432x288 with 1 Axes>"
            ],
            "image/png": "[encoded data removed]"
          },
          "metadata": {
            "needs_background": "light"
          }
        }
      ]
    },
    {
      "cell_type": "code",
      "source": [
        "sns.countplot(x = 'away_score', data= football)\n",
        "plt.show()"
      ],
      "metadata": {
        "id": "hjxZDix6FqYp",
        "outputId": "c22e9059-dc34-4569-9d88-a8746721e595",
        "colab": {
          "base_uri": "https://localhost:8080/",
          "height": 278
        }
      },
      "execution_count": 543,
      "outputs": [
        {
          "output_type": "display_data",
          "data": {
            "text/plain": [
              "<Figure size 432x288 with 1 Axes>"
            ],
            "image/png": "[encoded data removed]"
          },
          "metadata": {
            "needs_background": "light"
          }
        }
      ]
    },
    {
      "cell_type": "markdown",
      "source": [
        "### Feature Engineering"
      ],
      "metadata": {
        "id": "5eGxn7UIIsd_"
      }
    },
    {
      "cell_type": "code",
      "source": [
        "# tournament\n",
        "football['tournament'].nunique()"
      ],
      "metadata": {
        "id": "FyQaTlIUIaY8",
        "outputId": "4f418cb6-4ca0-4cf1-dda8-748f0cf48a27",
        "colab": {
          "base_uri": "https://localhost:8080/"
        }
      },
      "execution_count": 544,
      "outputs": [
        {
          "output_type": "execute_result",
          "data": {
            "text/plain": [
              "65"
            ]
          },
          "metadata": {},
          "execution_count": 544
        }
      ]
    },
    {
      "cell_type": "markdown",
      "source": [
        "There are 65 tournaments, but we want to group them to 3, namely: Fifa worldcup, friendly and other"
      ],
      "metadata": {
        "id": "N5f5tVr5H3Vu"
      }
    },
    {
      "cell_type": "code",
      "source": [
        "# grouping the tournament\n",
        "def tournament(tournament):\n",
        "  if tournament == 'FIFA World Cup qualification':\n",
        "    return 'FIFA World Cup'\n",
        "  elif tournament == 'Friendly':\n",
        "    return 'Friendly'\n",
        "  else:\n",
        "    return 'Other'\n",
        "\n",
        "# apply\n",
        "football['tournament_type'] = football['tournament'].apply(lambda t: tournament(t))"
      ],
      "metadata": {
        "id": "TXQaletPIle3"
      },
      "execution_count": 545,
      "outputs": []
    },
    {
      "cell_type": "code",
      "source": [
        "football['tournament'].nunique()"
      ],
      "metadata": {
        "id": "ZYnaR6k-Ji-c",
        "outputId": "f7adc4ad-5107-4bff-96d9-261205cbef03",
        "colab": {
          "base_uri": "https://localhost:8080/"
        }
      },
      "execution_count": 546,
      "outputs": [
        {
          "output_type": "execute_result",
          "data": {
            "text/plain": [
              "65"
            ]
          },
          "metadata": {},
          "execution_count": 546
        }
      ]
    },
    {
      "cell_type": "code",
      "source": [
        "# drop the original tournament column\n",
        "football.drop(columns = ['tournament'], axis = 1, inplace = True)"
      ],
      "metadata": {
        "id": "E7Dfab7sYf7g"
      },
      "execution_count": 547,
      "outputs": []
    },
    {
      "cell_type": "markdown",
      "source": [
        "We now have three types of tournaments"
      ],
      "metadata": {
        "id": "g7tmdGQSJ_Uk"
      }
    },
    {
      "cell_type": "code",
      "source": [
        "# goal difference column\n",
        "football['goal_difference'] = football['home_score'] - football['away_score']\n",
        "football.sample(5)"
      ],
      "metadata": {
        "id": "Ij1pCvNvJ7so",
        "outputId": "58e0f8fe-200c-4738-bc48-3c9e73afbf89",
        "colab": {
          "base_uri": "https://localhost:8080/",
          "height": 340
        }
      },
      "execution_count": 548,
      "outputs": [
        {
          "output_type": "execute_result",
          "data": {
            "text/plain": [
              "                  home_team     away_team  home_score  away_score  \\\n",
              "14436  United Arab Emirates        Kuwait           3           2   \n",
              "7452              Lithuania       Romania           0           3   \n",
              "15283               Senegal  Burkina Faso           5           1   \n",
              "6750            Switzerland        Greece           2           2   \n",
              "620                 Germany       Belgium           3           2   \n",
              "\n",
              "                    country  year  month  home_rank  total_points  \\\n",
              "14436  United Arab Emirates  2007      1         88           0.0   \n",
              "7452                 Cyprus  2001      2         87           0.0   \n",
              "15283               Senegal  2007      9         40           0.0   \n",
              "6750            Switzerland  2000      8         62           0.0   \n",
              "620           United States  1994      7          4           0.0   \n",
              "\n",
              "       previous_points  away_rank tournament_type  goal_difference  \n",
              "14436              375         76           Other                1  \n",
              "7452               457         13           Other               -3  \n",
              "15283              659        106           Other                4  \n",
              "6750               510         32        Friendly                0  \n",
              "620                 59         20           Other                1  "
            ],
            "text/html": [
              "\n",
              "  <div id=\"df-1531156c-e163-41ca-b320-4f02b0a4f7ac\">\n",
              "    <div class=\"colab-df-container\">\n",
              "      <div>\n",
              "<style scoped>\n",
              "    .dataframe tbody tr th:only-of-type {\n",
              "        vertical-align: middle;\n",
              "    }\n",
              "\n",
              "    .dataframe tbody tr th {\n",
              "        vertical-align: top;\n",
              "    }\n",
              "\n",
              "    .dataframe thead th {\n",
              "        text-align: right;\n",
              "    }\n",
              "</style>\n",
              "<table border=\"1\" class=\"dataframe\">\n",
              "  <thead>\n",
              "    <tr style=\"text-align: right;\">\n",
              "      <th></th>\n",
              "      <th>home_team</th>\n",
              "      <th>away_team</th>\n",
              "      <th>home_score</th>\n",
              "      <th>away_score</th>\n",
              "      <th>country</th>\n",
              "      <th>year</th>\n",
              "      <th>month</th>\n",
              "      <th>home_rank</th>\n",
              "      <th>total_points</th>\n",
              "      <th>previous_points</th>\n",
              "      <th>away_rank</th>\n",
              "      <th>tournament_type</th>\n",
              "      <th>goal_difference</th>\n",
              "    </tr>\n",
              "  </thead>\n",
              "  <tbody>\n",
              "    <tr>\n",
              "      <th>14436</th>\n",
              "      <td>United Arab Emirates</td>\n",
              "      <td>Kuwait</td>\n",
              "      <td>3</td>\n",
              "      <td>2</td>\n",
              "      <td>United Arab Emirates</td>\n",
              "      <td>2007</td>\n",
              "      <td>1</td>\n",
              "      <td>88</td>\n",
              "      <td>0.0</td>\n",
              "      <td>375</td>\n",
              "      <td>76</td>\n",
              "      <td>Other</td>\n",
              "      <td>1</td>\n",
              "    </tr>\n",
              "    <tr>\n",
              "      <th>7452</th>\n",
              "      <td>Lithuania</td>\n",
              "      <td>Romania</td>\n",
              "      <td>0</td>\n",
              "      <td>3</td>\n",
              "      <td>Cyprus</td>\n",
              "      <td>2001</td>\n",
              "      <td>2</td>\n",
              "      <td>87</td>\n",
              "      <td>0.0</td>\n",
              "      <td>457</td>\n",
              "      <td>13</td>\n",
              "      <td>Other</td>\n",
              "      <td>-3</td>\n",
              "    </tr>\n",
              "    <tr>\n",
              "      <th>15283</th>\n",
              "      <td>Senegal</td>\n",
              "      <td>Burkina Faso</td>\n",
              "      <td>5</td>\n",
              "      <td>1</td>\n",
              "      <td>Senegal</td>\n",
              "      <td>2007</td>\n",
              "      <td>9</td>\n",
              "      <td>40</td>\n",
              "      <td>0.0</td>\n",
              "      <td>659</td>\n",
              "      <td>106</td>\n",
              "      <td>Other</td>\n",
              "      <td>4</td>\n",
              "    </tr>\n",
              "    <tr>\n",
              "      <th>6750</th>\n",
              "      <td>Switzerland</td>\n",
              "      <td>Greece</td>\n",
              "      <td>2</td>\n",
              "      <td>2</td>\n",
              "      <td>Switzerland</td>\n",
              "      <td>2000</td>\n",
              "      <td>8</td>\n",
              "      <td>62</td>\n",
              "      <td>0.0</td>\n",
              "      <td>510</td>\n",
              "      <td>32</td>\n",
              "      <td>Friendly</td>\n",
              "      <td>0</td>\n",
              "    </tr>\n",
              "    <tr>\n",
              "      <th>620</th>\n",
              "      <td>Germany</td>\n",
              "      <td>Belgium</td>\n",
              "      <td>3</td>\n",
              "      <td>2</td>\n",
              "      <td>United States</td>\n",
              "      <td>1994</td>\n",
              "      <td>7</td>\n",
              "      <td>4</td>\n",
              "      <td>0.0</td>\n",
              "      <td>59</td>\n",
              "      <td>20</td>\n",
              "      <td>Other</td>\n",
              "      <td>1</td>\n",
              "    </tr>\n",
              "  </tbody>\n",
              "</table>\n",
              "</div>\n",
              "      <button class=\"colab-df-convert\" onclick=\"convertToInteractive('df-1531156c-e163-41ca-b320-4f02b0a4f7ac')\"\n",
              "              title=\"Convert this dataframe to an interactive table.\"\n",
              "              style=\"display:none;\">\n",
              "        \n",
              "  <svg xmlns=\"http://www.w3.org/2000/svg\" height=\"24px\"viewBox=\"0 0 24 24\"\n",
              "       width=\"24px\">\n",
              "    <path d=\"M0 0h24v24H0V0z\" fill=\"none\"/>\n",
              "    <path d=\"M18.56 5.44l.94 2.06.94-2.06 2.06-.94-2.06-.94-.94-2.06-.94 2.06-2.06.94zm-11 1L8.5 8.5l.94-2.06 2.06-.94-2.06-.94L8.5 2.5l-.94 2.06-2.06.94zm10 10l.94 2.06.94-2.06 2.06-.94-2.06-.94-.94-2.06-.94 2.06-2.06.94z\"/><path d=\"M17.41 7.96l-1.37-1.37c-.4-.4-.92-.59-1.43-.59-.52 0-1.04.2-1.43.59L10.3 9.45l-7.72 7.72c-.78.78-.78 2.05 0 2.83L4 21.41c.39.39.9.59 1.41.59.51 0 1.02-.2 1.41-.59l7.78-7.78 2.81-2.81c.8-.78.8-2.07 0-2.86zM5.41 20L4 18.59l7.72-7.72 1.47 1.35L5.41 20z\"/>\n",
              "  </svg>\n",
              "      </button>\n",
              "      \n",
              "  <style>\n",
              "    .colab-df-container {\n",
              "      display:flex;\n",
              "      flex-wrap:wrap;\n",
              "      gap: 12px;\n",
              "    }\n",
              "\n",
              "    .colab-df-convert {\n",
              "      background-color: #E8F0FE;\n",
              "      border: none;\n",
              "      border-radius: 50%;\n",
              "      cursor: pointer;\n",
              "      display: none;\n",
              "      fill: #1967D2;\n",
              "      height: 32px;\n",
              "      padding: 0 0 0 0;\n",
              "      width: 32px;\n",
              "    }\n",
              "\n",
              "    .colab-df-convert:hover {\n",
              "      background-color: #E2EBFA;\n",
              "      box-shadow: 0px 1px 2px rgba(60, 64, 67, 0.3), 0px 1px 3px 1px rgba(60, 64, 67, 0.15);\n",
              "      fill: #174EA6;\n",
              "    }\n",
              "\n",
              "    [theme=dark] .colab-df-convert {\n",
              "      background-color: #3B4455;\n",
              "      fill: #D2E3FC;\n",
              "    }\n",
              "\n",
              "    [theme=dark] .colab-df-convert:hover {\n",
              "      background-color: #434B5C;\n",
              "      box-shadow: 0px 1px 3px 1px rgba(0, 0, 0, 0.15);\n",
              "      filter: drop-shadow(0px 1px 2px rgba(0, 0, 0, 0.3));\n",
              "      fill: #FFFFFF;\n",
              "    }\n",
              "  </style>\n",
              "\n",
              "      <script>\n",
              "        const buttonEl =\n",
              "          document.querySelector('#df-1531156c-e163-41ca-b320-4f02b0a4f7ac button.colab-df-convert');\n",
              "        buttonEl.style.display =\n",
              "          google.colab.kernel.accessAllowed ? 'block' : 'none';\n",
              "\n",
              "        async function convertToInteractive(key) {\n",
              "          const element = document.querySelector('#df-1531156c-e163-41ca-b320-4f02b0a4f7ac');\n",
              "          const dataTable =\n",
              "            await google.colab.kernel.invokeFunction('convertToInteractive',\n",
              "                                                     [key], {});\n",
              "          if (!dataTable) return;\n",
              "\n",
              "          const docLinkHtml = 'Like what you see? Visit the ' +\n",
              "            '<a target=\"_blank\" href=https://colab.research.google.com/notebooks/data_table.ipynb>data table notebook</a>'\n",
              "            + ' to learn more about interactive tables.';\n",
              "          element.innerHTML = '';\n",
              "          dataTable['output_type'] = 'display_data';\n",
              "          await google.colab.output.renderOutput(dataTable, element);\n",
              "          const docLink = document.createElement('div');\n",
              "          docLink.innerHTML = docLinkHtml;\n",
              "          element.appendChild(docLink);\n",
              "        }\n",
              "      </script>\n",
              "    </div>\n",
              "  </div>\n",
              "  "
            ]
          },
          "metadata": {},
          "execution_count": 548
        }
      ]
    },
    {
      "cell_type": "code",
      "source": [
        "# column that determines if the match ended with a win, draw or lose\n",
        "def home_team(scores):\n",
        "  if scores == 0:\n",
        "    return 'Draw'\n",
        "  elif scores > 0:\n",
        "    return 'Win'\n",
        "  else:\n",
        "    return 'Lose'\n",
        "\n",
        "football['match_outcome'] = football['goal_difference'].apply(lambda d: home_team(d))"
      ],
      "metadata": {
        "id": "9LdeusT3KmZk"
      },
      "execution_count": 549,
      "outputs": []
    },
    {
      "cell_type": "code",
      "source": [
        "football.sample(3)"
      ],
      "metadata": {
        "id": "e7iRMqhgLuBg",
        "outputId": "5d15e8a4-a3e3-457f-c40e-d4399414513b",
        "colab": {
          "base_uri": "https://localhost:8080/",
          "height": 207
        }
      },
      "execution_count": 550,
      "outputs": [
        {
          "output_type": "execute_result",
          "data": {
            "text/plain": [
              "       home_team away_team  home_score  away_score  country  year  month  \\\n",
              "28021     France  Colombia           2           3   France  2018      3   \n",
              "27626    Vietnam  Cambodia           5           0  Vietnam  2017     10   \n",
              "4861   Sri Lanka     Nepal           2           3    India  1999      4   \n",
              "\n",
              "       home_rank  total_points  previous_points  away_rank tournament_type  \\\n",
              "28021          9       1185.16             1183         13        Friendly   \n",
              "27626        121        260.79              241        170           Other   \n",
              "4861         142          0.00              197        166           Other   \n",
              "\n",
              "       goal_difference match_outcome  \n",
              "28021               -1          Lose  \n",
              "27626                5           Win  \n",
              "4861                -1          Lose  "
            ],
            "text/html": [
              "\n",
              "  <div id=\"df-ef5facd3-4e4d-4ed9-87b7-175d1798ea29\">\n",
              "    <div class=\"colab-df-container\">\n",
              "      <div>\n",
              "<style scoped>\n",
              "    .dataframe tbody tr th:only-of-type {\n",
              "        vertical-align: middle;\n",
              "    }\n",
              "\n",
              "    .dataframe tbody tr th {\n",
              "        vertical-align: top;\n",
              "    }\n",
              "\n",
              "    .dataframe thead th {\n",
              "        text-align: right;\n",
              "    }\n",
              "</style>\n",
              "<table border=\"1\" class=\"dataframe\">\n",
              "  <thead>\n",
              "    <tr style=\"text-align: right;\">\n",
              "      <th></th>\n",
              "      <th>home_team</th>\n",
              "      <th>away_team</th>\n",
              "      <th>home_score</th>\n",
              "      <th>away_score</th>\n",
              "      <th>country</th>\n",
              "      <th>year</th>\n",
              "      <th>month</th>\n",
              "      <th>home_rank</th>\n",
              "      <th>total_points</th>\n",
              "      <th>previous_points</th>\n",
              "      <th>away_rank</th>\n",
              "      <th>tournament_type</th>\n",
              "      <th>goal_difference</th>\n",
              "      <th>match_outcome</th>\n",
              "    </tr>\n",
              "  </thead>\n",
              "  <tbody>\n",
              "    <tr>\n",
              "      <th>28021</th>\n",
              "      <td>France</td>\n",
              "      <td>Colombia</td>\n",
              "      <td>2</td>\n",
              "      <td>3</td>\n",
              "      <td>France</td>\n",
              "      <td>2018</td>\n",
              "      <td>3</td>\n",
              "      <td>9</td>\n",
              "      <td>1185.16</td>\n",
              "      <td>1183</td>\n",
              "      <td>13</td>\n",
              "      <td>Friendly</td>\n",
              "      <td>-1</td>\n",
              "      <td>Lose</td>\n",
              "    </tr>\n",
              "    <tr>\n",
              "      <th>27626</th>\n",
              "      <td>Vietnam</td>\n",
              "      <td>Cambodia</td>\n",
              "      <td>5</td>\n",
              "      <td>0</td>\n",
              "      <td>Vietnam</td>\n",
              "      <td>2017</td>\n",
              "      <td>10</td>\n",
              "      <td>121</td>\n",
              "      <td>260.79</td>\n",
              "      <td>241</td>\n",
              "      <td>170</td>\n",
              "      <td>Other</td>\n",
              "      <td>5</td>\n",
              "      <td>Win</td>\n",
              "    </tr>\n",
              "    <tr>\n",
              "      <th>4861</th>\n",
              "      <td>Sri Lanka</td>\n",
              "      <td>Nepal</td>\n",
              "      <td>2</td>\n",
              "      <td>3</td>\n",
              "      <td>India</td>\n",
              "      <td>1999</td>\n",
              "      <td>4</td>\n",
              "      <td>142</td>\n",
              "      <td>0.00</td>\n",
              "      <td>197</td>\n",
              "      <td>166</td>\n",
              "      <td>Other</td>\n",
              "      <td>-1</td>\n",
              "      <td>Lose</td>\n",
              "    </tr>\n",
              "  </tbody>\n",
              "</table>\n",
              "</div>\n",
              "      <button class=\"colab-df-convert\" onclick=\"convertToInteractive('df-ef5facd3-4e4d-4ed9-87b7-175d1798ea29')\"\n",
              "              title=\"Convert this dataframe to an interactive table.\"\n",
              "              style=\"display:none;\">\n",
              "        \n",
              "  <svg xmlns=\"http://www.w3.org/2000/svg\" height=\"24px\"viewBox=\"0 0 24 24\"\n",
              "       width=\"24px\">\n",
              "    <path d=\"M0 0h24v24H0V0z\" fill=\"none\"/>\n",
              "    <path d=\"M18.56 5.44l.94 2.06.94-2.06 2.06-.94-2.06-.94-.94-2.06-.94 2.06-2.06.94zm-11 1L8.5 8.5l.94-2.06 2.06-.94-2.06-.94L8.5 2.5l-.94 2.06-2.06.94zm10 10l.94 2.06.94-2.06 2.06-.94-2.06-.94-.94-2.06-.94 2.06-2.06.94z\"/><path d=\"M17.41 7.96l-1.37-1.37c-.4-.4-.92-.59-1.43-.59-.52 0-1.04.2-1.43.59L10.3 9.45l-7.72 7.72c-.78.78-.78 2.05 0 2.83L4 21.41c.39.39.9.59 1.41.59.51 0 1.02-.2 1.41-.59l7.78-7.78 2.81-2.81c.8-.78.8-2.07 0-2.86zM5.41 20L4 18.59l7.72-7.72 1.47 1.35L5.41 20z\"/>\n",
              "  </svg>\n",
              "      </button>\n",
              "      \n",
              "  <style>\n",
              "    .colab-df-container {\n",
              "      display:flex;\n",
              "      flex-wrap:wrap;\n",
              "      gap: 12px;\n",
              "    }\n",
              "\n",
              "    .colab-df-convert {\n",
              "      background-color: #E8F0FE;\n",
              "      border: none;\n",
              "      border-radius: 50%;\n",
              "      cursor: pointer;\n",
              "      display: none;\n",
              "      fill: #1967D2;\n",
              "      height: 32px;\n",
              "      padding: 0 0 0 0;\n",
              "      width: 32px;\n",
              "    }\n",
              "\n",
              "    .colab-df-convert:hover {\n",
              "      background-color: #E2EBFA;\n",
              "      box-shadow: 0px 1px 2px rgba(60, 64, 67, 0.3), 0px 1px 3px 1px rgba(60, 64, 67, 0.15);\n",
              "      fill: #174EA6;\n",
              "    }\n",
              "\n",
              "    [theme=dark] .colab-df-convert {\n",
              "      background-color: #3B4455;\n",
              "      fill: #D2E3FC;\n",
              "    }\n",
              "\n",
              "    [theme=dark] .colab-df-convert:hover {\n",
              "      background-color: #434B5C;\n",
              "      box-shadow: 0px 1px 3px 1px rgba(0, 0, 0, 0.15);\n",
              "      filter: drop-shadow(0px 1px 2px rgba(0, 0, 0, 0.3));\n",
              "      fill: #FFFFFF;\n",
              "    }\n",
              "  </style>\n",
              "\n",
              "      <script>\n",
              "        const buttonEl =\n",
              "          document.querySelector('#df-ef5facd3-4e4d-4ed9-87b7-175d1798ea29 button.colab-df-convert');\n",
              "        buttonEl.style.display =\n",
              "          google.colab.kernel.accessAllowed ? 'block' : 'none';\n",
              "\n",
              "        async function convertToInteractive(key) {\n",
              "          const element = document.querySelector('#df-ef5facd3-4e4d-4ed9-87b7-175d1798ea29');\n",
              "          const dataTable =\n",
              "            await google.colab.kernel.invokeFunction('convertToInteractive',\n",
              "                                                     [key], {});\n",
              "          if (!dataTable) return;\n",
              "\n",
              "          const docLinkHtml = 'Like what you see? Visit the ' +\n",
              "            '<a target=\"_blank\" href=https://colab.research.google.com/notebooks/data_table.ipynb>data table notebook</a>'\n",
              "            + ' to learn more about interactive tables.';\n",
              "          element.innerHTML = '';\n",
              "          dataTable['output_type'] = 'display_data';\n",
              "          await google.colab.output.renderOutput(dataTable, element);\n",
              "          const docLink = document.createElement('div');\n",
              "          docLink.innerHTML = docLinkHtml;\n",
              "          element.appendChild(docLink);\n",
              "        }\n",
              "      </script>\n",
              "    </div>\n",
              "  </div>\n",
              "  "
            ]
          },
          "metadata": {},
          "execution_count": 550
        }
      ]
    },
    {
      "cell_type": "markdown",
      "source": [
        "## Multicollinearity"
      ],
      "metadata": {
        "id": "l42-tZI9M2V1"
      }
    },
    {
      "cell_type": "markdown",
      "source": [
        "Multicollinearity occurs when two or more independent variables are highly correlated with one another in a regression model.\n",
        "\n",
        "This means that an independent variable can be predicted from another independent variable in a regression model.\n",
        "\n",
        "Multicollinearity can be a problem in a regression model because we would not be able to distinguish between the individual effects of the independent variables on the dependent variable. "
      ],
      "metadata": {
        "id": "d02c1M3NTfXq"
      }
    },
    {
      "cell_type": "markdown",
      "source": [
        "## Detecting multicollinearity using pearsonn's correlation"
      ],
      "metadata": {
        "id": "oqhHT3CMT1tM"
      }
    },
    {
      "cell_type": "code",
      "source": [
        "# pearsonn's square to draw collinearity between variables\n",
        "correlations = football.corr()\n",
        "correlations"
      ],
      "metadata": {
        "id": "2LfYr0_CL6JH",
        "outputId": "230e7ab2-ff60-4b8c-f68b-4d5200ad4c48",
        "colab": {
          "base_uri": "https://localhost:8080/",
          "height": 331
        }
      },
      "execution_count": 551,
      "outputs": [
        {
          "output_type": "execute_result",
          "data": {
            "text/plain": [
              "                 home_score  away_score      year     month  home_rank  \\\n",
              "home_score         1.000000   -0.161033 -0.052214  0.020218  -0.114510   \n",
              "away_score        -0.161033    1.000000 -0.012372  0.019419   0.221365   \n",
              "year              -0.052214   -0.012372  1.000000 -0.008268   0.091889   \n",
              "month              0.020218    0.019419 -0.008268  1.000000   0.067434   \n",
              "home_rank         -0.114510    0.221365  0.091889  0.067434   1.000000   \n",
              "total_points       0.012154   -0.061949  0.624147  0.011014  -0.299439   \n",
              "previous_points    0.069234   -0.130760  0.408979 -0.068743  -0.652942   \n",
              "away_rank          0.307728   -0.151487  0.091281  0.068120   0.515308   \n",
              "goal_difference    0.824708   -0.690983 -0.031154  0.003681  -0.210721   \n",
              "\n",
              "                 total_points  previous_points  away_rank  goal_difference  \n",
              "home_score           0.012154         0.069234   0.307728         0.824708  \n",
              "away_score          -0.061949        -0.130760  -0.151487        -0.690983  \n",
              "year                 0.624147         0.408979   0.091281        -0.031154  \n",
              "month                0.011014        -0.068743   0.068120         0.003681  \n",
              "home_rank           -0.299439        -0.652942   0.515308        -0.210721  \n",
              "total_points         1.000000         0.546987  -0.147924         0.044401  \n",
              "previous_points      0.546987         1.000000  -0.310923         0.125640  \n",
              "away_rank           -0.147924        -0.310923   1.000000         0.312198  \n",
              "goal_difference      0.044401         0.125640   0.312198         1.000000  "
            ],
            "text/html": [
              "\n",
              "  <div id=\"df-095be29f-6542-41c3-ab8b-398e00438ec6\">\n",
              "    <div class=\"colab-df-container\">\n",
              "      <div>\n",
              "<style scoped>\n",
              "    .dataframe tbody tr th:only-of-type {\n",
              "        vertical-align: middle;\n",
              "    }\n",
              "\n",
              "    .dataframe tbody tr th {\n",
              "        vertical-align: top;\n",
              "    }\n",
              "\n",
              "    .dataframe thead th {\n",
              "        text-align: right;\n",
              "    }\n",
              "</style>\n",
              "<table border=\"1\" class=\"dataframe\">\n",
              "  <thead>\n",
              "    <tr style=\"text-align: right;\">\n",
              "      <th></th>\n",
              "      <th>home_score</th>\n",
              "      <th>away_score</th>\n",
              "      <th>year</th>\n",
              "      <th>month</th>\n",
              "      <th>home_rank</th>\n",
              "      <th>total_points</th>\n",
              "      <th>previous_points</th>\n",
              "      <th>away_rank</th>\n",
              "      <th>goal_difference</th>\n",
              "    </tr>\n",
              "  </thead>\n",
              "  <tbody>\n",
              "    <tr>\n",
              "      <th>home_score</th>\n",
              "      <td>1.000000</td>\n",
              "      <td>-0.161033</td>\n",
              "      <td>-0.052214</td>\n",
              "      <td>0.020218</td>\n",
              "      <td>-0.114510</td>\n",
              "      <td>0.012154</td>\n",
              "      <td>0.069234</td>\n",
              "      <td>0.307728</td>\n",
              "      <td>0.824708</td>\n",
              "    </tr>\n",
              "    <tr>\n",
              "      <th>away_score</th>\n",
              "      <td>-0.161033</td>\n",
              "      <td>1.000000</td>\n",
              "      <td>-0.012372</td>\n",
              "      <td>0.019419</td>\n",
              "      <td>0.221365</td>\n",
              "      <td>-0.061949</td>\n",
              "      <td>-0.130760</td>\n",
              "      <td>-0.151487</td>\n",
              "      <td>-0.690983</td>\n",
              "    </tr>\n",
              "    <tr>\n",
              "      <th>year</th>\n",
              "      <td>-0.052214</td>\n",
              "      <td>-0.012372</td>\n",
              "      <td>1.000000</td>\n",
              "      <td>-0.008268</td>\n",
              "      <td>0.091889</td>\n",
              "      <td>0.624147</td>\n",
              "      <td>0.408979</td>\n",
              "      <td>0.091281</td>\n",
              "      <td>-0.031154</td>\n",
              "    </tr>\n",
              "    <tr>\n",
              "      <th>month</th>\n",
              "      <td>0.020218</td>\n",
              "      <td>0.019419</td>\n",
              "      <td>-0.008268</td>\n",
              "      <td>1.000000</td>\n",
              "      <td>0.067434</td>\n",
              "      <td>0.011014</td>\n",
              "      <td>-0.068743</td>\n",
              "      <td>0.068120</td>\n",
              "      <td>0.003681</td>\n",
              "    </tr>\n",
              "    <tr>\n",
              "      <th>home_rank</th>\n",
              "      <td>-0.114510</td>\n",
              "      <td>0.221365</td>\n",
              "      <td>0.091889</td>\n",
              "      <td>0.067434</td>\n",
              "      <td>1.000000</td>\n",
              "      <td>-0.299439</td>\n",
              "      <td>-0.652942</td>\n",
              "      <td>0.515308</td>\n",
              "      <td>-0.210721</td>\n",
              "    </tr>\n",
              "    <tr>\n",
              "      <th>total_points</th>\n",
              "      <td>0.012154</td>\n",
              "      <td>-0.061949</td>\n",
              "      <td>0.624147</td>\n",
              "      <td>0.011014</td>\n",
              "      <td>-0.299439</td>\n",
              "      <td>1.000000</td>\n",
              "      <td>0.546987</td>\n",
              "      <td>-0.147924</td>\n",
              "      <td>0.044401</td>\n",
              "    </tr>\n",
              "    <tr>\n",
              "      <th>previous_points</th>\n",
              "      <td>0.069234</td>\n",
              "      <td>-0.130760</td>\n",
              "      <td>0.408979</td>\n",
              "      <td>-0.068743</td>\n",
              "      <td>-0.652942</td>\n",
              "      <td>0.546987</td>\n",
              "      <td>1.000000</td>\n",
              "      <td>-0.310923</td>\n",
              "      <td>0.125640</td>\n",
              "    </tr>\n",
              "    <tr>\n",
              "      <th>away_rank</th>\n",
              "      <td>0.307728</td>\n",
              "      <td>-0.151487</td>\n",
              "      <td>0.091281</td>\n",
              "      <td>0.068120</td>\n",
              "      <td>0.515308</td>\n",
              "      <td>-0.147924</td>\n",
              "      <td>-0.310923</td>\n",
              "      <td>1.000000</td>\n",
              "      <td>0.312198</td>\n",
              "    </tr>\n",
              "    <tr>\n",
              "      <th>goal_difference</th>\n",
              "      <td>0.824708</td>\n",
              "      <td>-0.690983</td>\n",
              "      <td>-0.031154</td>\n",
              "      <td>0.003681</td>\n",
              "      <td>-0.210721</td>\n",
              "      <td>0.044401</td>\n",
              "      <td>0.125640</td>\n",
              "      <td>0.312198</td>\n",
              "      <td>1.000000</td>\n",
              "    </tr>\n",
              "  </tbody>\n",
              "</table>\n",
              "</div>\n",
              "      <button class=\"colab-df-convert\" onclick=\"convertToInteractive('df-095be29f-6542-41c3-ab8b-398e00438ec6')\"\n",
              "              title=\"Convert this dataframe to an interactive table.\"\n",
              "              style=\"display:none;\">\n",
              "        \n",
              "  <svg xmlns=\"http://www.w3.org/2000/svg\" height=\"24px\"viewBox=\"0 0 24 24\"\n",
              "       width=\"24px\">\n",
              "    <path d=\"M0 0h24v24H0V0z\" fill=\"none\"/>\n",
              "    <path d=\"M18.56 5.44l.94 2.06.94-2.06 2.06-.94-2.06-.94-.94-2.06-.94 2.06-2.06.94zm-11 1L8.5 8.5l.94-2.06 2.06-.94-2.06-.94L8.5 2.5l-.94 2.06-2.06.94zm10 10l.94 2.06.94-2.06 2.06-.94-2.06-.94-.94-2.06-.94 2.06-2.06.94z\"/><path d=\"M17.41 7.96l-1.37-1.37c-.4-.4-.92-.59-1.43-.59-.52 0-1.04.2-1.43.59L10.3 9.45l-7.72 7.72c-.78.78-.78 2.05 0 2.83L4 21.41c.39.39.9.59 1.41.59.51 0 1.02-.2 1.41-.59l7.78-7.78 2.81-2.81c.8-.78.8-2.07 0-2.86zM5.41 20L4 18.59l7.72-7.72 1.47 1.35L5.41 20z\"/>\n",
              "  </svg>\n",
              "      </button>\n",
              "      \n",
              "  <style>\n",
              "    .colab-df-container {\n",
              "      display:flex;\n",
              "      flex-wrap:wrap;\n",
              "      gap: 12px;\n",
              "    }\n",
              "\n",
              "    .colab-df-convert {\n",
              "      background-color: #E8F0FE;\n",
              "      border: none;\n",
              "      border-radius: 50%;\n",
              "      cursor: pointer;\n",
              "      display: none;\n",
              "      fill: #1967D2;\n",
              "      height: 32px;\n",
              "      padding: 0 0 0 0;\n",
              "      width: 32px;\n",
              "    }\n",
              "\n",
              "    .colab-df-convert:hover {\n",
              "      background-color: #E2EBFA;\n",
              "      box-shadow: 0px 1px 2px rgba(60, 64, 67, 0.3), 0px 1px 3px 1px rgba(60, 64, 67, 0.15);\n",
              "      fill: #174EA6;\n",
              "    }\n",
              "\n",
              "    [theme=dark] .colab-df-convert {\n",
              "      background-color: #3B4455;\n",
              "      fill: #D2E3FC;\n",
              "    }\n",
              "\n",
              "    [theme=dark] .colab-df-convert:hover {\n",
              "      background-color: #434B5C;\n",
              "      box-shadow: 0px 1px 3px 1px rgba(0, 0, 0, 0.15);\n",
              "      filter: drop-shadow(0px 1px 2px rgba(0, 0, 0, 0.3));\n",
              "      fill: #FFFFFF;\n",
              "    }\n",
              "  </style>\n",
              "\n",
              "      <script>\n",
              "        const buttonEl =\n",
              "          document.querySelector('#df-095be29f-6542-41c3-ab8b-398e00438ec6 button.colab-df-convert');\n",
              "        buttonEl.style.display =\n",
              "          google.colab.kernel.accessAllowed ? 'block' : 'none';\n",
              "\n",
              "        async function convertToInteractive(key) {\n",
              "          const element = document.querySelector('#df-095be29f-6542-41c3-ab8b-398e00438ec6');\n",
              "          const dataTable =\n",
              "            await google.colab.kernel.invokeFunction('convertToInteractive',\n",
              "                                                     [key], {});\n",
              "          if (!dataTable) return;\n",
              "\n",
              "          const docLinkHtml = 'Like what you see? Visit the ' +\n",
              "            '<a target=\"_blank\" href=https://colab.research.google.com/notebooks/data_table.ipynb>data table notebook</a>'\n",
              "            + ' to learn more about interactive tables.';\n",
              "          element.innerHTML = '';\n",
              "          dataTable['output_type'] = 'display_data';\n",
              "          await google.colab.output.renderOutput(dataTable, element);\n",
              "          const docLink = document.createElement('div');\n",
              "          docLink.innerHTML = docLinkHtml;\n",
              "          element.appendChild(docLink);\n",
              "        }\n",
              "      </script>\n",
              "    </div>\n",
              "  </div>\n",
              "  "
            ]
          },
          "metadata": {},
          "execution_count": 551
        }
      ]
    },
    {
      "cell_type": "code",
      "source": [
        "# visualize the correlations\n",
        "Figure(figsize = (12, 10))\n",
        "\n",
        "mask = np.zeros_like(football.corr(), dtype=np.bool)\n",
        "mask[np.triu_indices_from(mask)] = True\n",
        "sns.heatmap(football.corr(), annot =True, mask = mask)\n",
        "plt.show()"
      ],
      "metadata": {
        "id": "1cz7xi6qM8AU",
        "outputId": "009a4af8-3166-434a-fcaf-5ded2b8c3929",
        "colab": {
          "base_uri": "https://localhost:8080/",
          "height": 408
        }
      },
      "execution_count": 552,
      "outputs": [
        {
          "output_type": "stream",
          "name": "stderr",
          "text": [
            "/usr/local/lib/python3.7/dist-packages/ipykernel_launcher.py:4: DeprecationWarning: `np.bool` is a deprecated alias for the builtin `bool`. To silence this warning, use `bool` by itself. Doing this will not modify any behavior and is safe. If you specifically wanted the numpy scalar type, use `np.bool_` here.\n",
            "Deprecated in NumPy 1.20; for more details and guidance: https://numpy.org/devdocs/release/1.20.0-notes.html#deprecations\n",
            "  after removing the cwd from sys.path.\n"
          ]
        },
        {
          "output_type": "display_data",
          "data": {
            "text/plain": [
              "<Figure size 432x288 with 2 Axes>"
            ],
            "image/png": "[encoded data removed]"
          },
          "metadata": {
            "needs_background": "light"
          }
        }
      ]
    },
    {
      "cell_type": "markdown",
      "source": [
        "## Detecting multicollinearity using Variance Inflation Factor(VIF) score\n",
        "VIF score of an independent variable represents how well the variable is explained by other independent variables\n",
        "\n",
        "*  VIF = 1, no correlation between the independent variable and the other variables\n",
        "*  VIF exceeding 5 or 10 indicates high multicollinearity between this independent variable and the others\n",
        "\n",
        "## Fixing multicollinearity\n",
        "Dropping one of the correlated features will help in bringing down the multicollinearity between correlated features:\n",
        "\n",
        "\n",
        "\n"
      ],
      "metadata": {
        "id": "EBZfCDZDRUd5"
      }
    },
    {
      "cell_type": "code",
      "source": [
        "# vif\n",
        "vif_df = pd.DataFrame(np.linalg.inv(correlations.values), index = correlations.index, columns = correlations.columns)\n",
        "vif_df"
      ],
      "metadata": {
        "id": "Zm4nKtONNN0C",
        "outputId": "1779e30a-4af2-4c62-e6b0-cd7045d5866c",
        "colab": {
          "base_uri": "https://localhost:8080/",
          "height": 331
        }
      },
      "execution_count": 553,
      "outputs": [
        {
          "output_type": "execute_result",
          "data": {
            "text/plain": [
              "                   home_score    away_score      year     month  home_rank  \\\n",
              "home_score      -4.646106e+13  3.635009e+13  0.059194 -0.002003   0.295168   \n",
              "away_score       3.635009e+13 -2.843948e+13  0.140343 -0.027672  -0.462250   \n",
              "year             5.991796e-02  1.397771e-01  2.424536  0.045670  -1.329363   \n",
              "month           -1.958531e-03 -2.770693e-02  0.045670  1.011910  -0.027877   \n",
              "home_rank        2.947634e-01 -4.619334e-01 -1.329363 -0.027877   3.304436   \n",
              "total_points    -5.135398e-03 -5.919838e-02 -1.271809 -0.092549   0.547221   \n",
              "previous_points -1.331129e-01 -2.665775e-02 -1.196323  0.065602   1.955056   \n",
              "away_rank       -7.049645e-01  4.805740e-01 -0.124215 -0.051307  -1.103669   \n",
              "goal_difference  6.343410e+13 -4.962941e+13  0.088954 -0.013760   0.166801   \n",
              "\n",
              "                 total_points  previous_points  away_rank  goal_difference  \n",
              "home_score          -0.004037        -0.133113  -0.704965     6.343410e+13  \n",
              "away_score          -0.060058        -0.026658   0.480574    -4.962941e+13  \n",
              "year                -1.271809        -1.196323  -0.124215     8.796539e-02  \n",
              "month               -0.092549         0.065602  -0.051307    -1.382091e-02  \n",
              "home_rank            0.547221         1.955056  -1.103669     1.673526e-01  \n",
              "total_points         2.111535        -0.261046   0.078607    -4.613817e-02  \n",
              "previous_points     -0.261046         2.888071  -0.046768     1.291545e-01  \n",
              "away_rank            0.078607        -0.046768   1.837295     1.059978e-01  \n",
              "goal_difference     -0.047638         0.129155   0.105998    -8.660769e+13  "
            ],
            "text/html": [
              "\n",
              "  <div id=\"df-202c0c4f-0dae-4ae6-ac7b-612d2eda3f0e\">\n",
              "    <div class=\"colab-df-container\">\n",
              "      <div>\n",
              "<style scoped>\n",
              "    .dataframe tbody tr th:only-of-type {\n",
              "        vertical-align: middle;\n",
              "    }\n",
              "\n",
              "    .dataframe tbody tr th {\n",
              "        vertical-align: top;\n",
              "    }\n",
              "\n",
              "    .dataframe thead th {\n",
              "        text-align: right;\n",
              "    }\n",
              "</style>\n",
              "<table border=\"1\" class=\"dataframe\">\n",
              "  <thead>\n",
              "    <tr style=\"text-align: right;\">\n",
              "      <th></th>\n",
              "      <th>home_score</th>\n",
              "      <th>away_score</th>\n",
              "      <th>year</th>\n",
              "      <th>month</th>\n",
              "      <th>home_rank</th>\n",
              "      <th>total_points</th>\n",
              "      <th>previous_points</th>\n",
              "      <th>away_rank</th>\n",
              "      <th>goal_difference</th>\n",
              "    </tr>\n",
              "  </thead>\n",
              "  <tbody>\n",
              "    <tr>\n",
              "      <th>home_score</th>\n",
              "      <td>-4.646106e+13</td>\n",
              "      <td>3.635009e+13</td>\n",
              "      <td>0.059194</td>\n",
              "      <td>-0.002003</td>\n",
              "      <td>0.295168</td>\n",
              "      <td>-0.004037</td>\n",
              "      <td>-0.133113</td>\n",
              "      <td>-0.704965</td>\n",
              "      <td>6.343410e+13</td>\n",
              "    </tr>\n",
              "    <tr>\n",
              "      <th>away_score</th>\n",
              "      <td>3.635009e+13</td>\n",
              "      <td>-2.843948e+13</td>\n",
              "      <td>0.140343</td>\n",
              "      <td>-0.027672</td>\n",
              "      <td>-0.462250</td>\n",
              "      <td>-0.060058</td>\n",
              "      <td>-0.026658</td>\n",
              "      <td>0.480574</td>\n",
              "      <td>-4.962941e+13</td>\n",
              "    </tr>\n",
              "    <tr>\n",
              "      <th>year</th>\n",
              "      <td>5.991796e-02</td>\n",
              "      <td>1.397771e-01</td>\n",
              "      <td>2.424536</td>\n",
              "      <td>0.045670</td>\n",
              "      <td>-1.329363</td>\n",
              "      <td>-1.271809</td>\n",
              "      <td>-1.196323</td>\n",
              "      <td>-0.124215</td>\n",
              "      <td>8.796539e-02</td>\n",
              "    </tr>\n",
              "    <tr>\n",
              "      <th>month</th>\n",
              "      <td>-1.958531e-03</td>\n",
              "      <td>-2.770693e-02</td>\n",
              "      <td>0.045670</td>\n",
              "      <td>1.011910</td>\n",
              "      <td>-0.027877</td>\n",
              "      <td>-0.092549</td>\n",
              "      <td>0.065602</td>\n",
              "      <td>-0.051307</td>\n",
              "      <td>-1.382091e-02</td>\n",
              "    </tr>\n",
              "    <tr>\n",
              "      <th>home_rank</th>\n",
              "      <td>2.947634e-01</td>\n",
              "      <td>-4.619334e-01</td>\n",
              "      <td>-1.329363</td>\n",
              "      <td>-0.027877</td>\n",
              "      <td>3.304436</td>\n",
              "      <td>0.547221</td>\n",
              "      <td>1.955056</td>\n",
              "      <td>-1.103669</td>\n",
              "      <td>1.673526e-01</td>\n",
              "    </tr>\n",
              "    <tr>\n",
              "      <th>total_points</th>\n",
              "      <td>-5.135398e-03</td>\n",
              "      <td>-5.919838e-02</td>\n",
              "      <td>-1.271809</td>\n",
              "      <td>-0.092549</td>\n",
              "      <td>0.547221</td>\n",
              "      <td>2.111535</td>\n",
              "      <td>-0.261046</td>\n",
              "      <td>0.078607</td>\n",
              "      <td>-4.613817e-02</td>\n",
              "    </tr>\n",
              "    <tr>\n",
              "      <th>previous_points</th>\n",
              "      <td>-1.331129e-01</td>\n",
              "      <td>-2.665775e-02</td>\n",
              "      <td>-1.196323</td>\n",
              "      <td>0.065602</td>\n",
              "      <td>1.955056</td>\n",
              "      <td>-0.261046</td>\n",
              "      <td>2.888071</td>\n",
              "      <td>-0.046768</td>\n",
              "      <td>1.291545e-01</td>\n",
              "    </tr>\n",
              "    <tr>\n",
              "      <th>away_rank</th>\n",
              "      <td>-7.049645e-01</td>\n",
              "      <td>4.805740e-01</td>\n",
              "      <td>-0.124215</td>\n",
              "      <td>-0.051307</td>\n",
              "      <td>-1.103669</td>\n",
              "      <td>0.078607</td>\n",
              "      <td>-0.046768</td>\n",
              "      <td>1.837295</td>\n",
              "      <td>1.059978e-01</td>\n",
              "    </tr>\n",
              "    <tr>\n",
              "      <th>goal_difference</th>\n",
              "      <td>6.343410e+13</td>\n",
              "      <td>-4.962941e+13</td>\n",
              "      <td>0.088954</td>\n",
              "      <td>-0.013760</td>\n",
              "      <td>0.166801</td>\n",
              "      <td>-0.047638</td>\n",
              "      <td>0.129155</td>\n",
              "      <td>0.105998</td>\n",
              "      <td>-8.660769e+13</td>\n",
              "    </tr>\n",
              "  </tbody>\n",
              "</table>\n",
              "</div>\n",
              "      <button class=\"colab-df-convert\" onclick=\"convertToInteractive('df-202c0c4f-0dae-4ae6-ac7b-612d2eda3f0e')\"\n",
              "              title=\"Convert this dataframe to an interactive table.\"\n",
              "              style=\"display:none;\">\n",
              "        \n",
              "  <svg xmlns=\"http://www.w3.org/2000/svg\" height=\"24px\"viewBox=\"0 0 24 24\"\n",
              "       width=\"24px\">\n",
              "    <path d=\"M0 0h24v24H0V0z\" fill=\"none\"/>\n",
              "    <path d=\"M18.56 5.44l.94 2.06.94-2.06 2.06-.94-2.06-.94-.94-2.06-.94 2.06-2.06.94zm-11 1L8.5 8.5l.94-2.06 2.06-.94-2.06-.94L8.5 2.5l-.94 2.06-2.06.94zm10 10l.94 2.06.94-2.06 2.06-.94-2.06-.94-.94-2.06-.94 2.06-2.06.94z\"/><path d=\"M17.41 7.96l-1.37-1.37c-.4-.4-.92-.59-1.43-.59-.52 0-1.04.2-1.43.59L10.3 9.45l-7.72 7.72c-.78.78-.78 2.05 0 2.83L4 21.41c.39.39.9.59 1.41.59.51 0 1.02-.2 1.41-.59l7.78-7.78 2.81-2.81c.8-.78.8-2.07 0-2.86zM5.41 20L4 18.59l7.72-7.72 1.47 1.35L5.41 20z\"/>\n",
              "  </svg>\n",
              "      </button>\n",
              "      \n",
              "  <style>\n",
              "    .colab-df-container {\n",
              "      display:flex;\n",
              "      flex-wrap:wrap;\n",
              "      gap: 12px;\n",
              "    }\n",
              "\n",
              "    .colab-df-convert {\n",
              "      background-color: #E8F0FE;\n",
              "      border: none;\n",
              "      border-radius: 50%;\n",
              "      cursor: pointer;\n",
              "      display: none;\n",
              "      fill: #1967D2;\n",
              "      height: 32px;\n",
              "      padding: 0 0 0 0;\n",
              "      width: 32px;\n",
              "    }\n",
              "\n",
              "    .colab-df-convert:hover {\n",
              "      background-color: #E2EBFA;\n",
              "      box-shadow: 0px 1px 2px rgba(60, 64, 67, 0.3), 0px 1px 3px 1px rgba(60, 64, 67, 0.15);\n",
              "      fill: #174EA6;\n",
              "    }\n",
              "\n",
              "    [theme=dark] .colab-df-convert {\n",
              "      background-color: #3B4455;\n",
              "      fill: #D2E3FC;\n",
              "    }\n",
              "\n",
              "    [theme=dark] .colab-df-convert:hover {\n",
              "      background-color: #434B5C;\n",
              "      box-shadow: 0px 1px 3px 1px rgba(0, 0, 0, 0.15);\n",
              "      filter: drop-shadow(0px 1px 2px rgba(0, 0, 0, 0.3));\n",
              "      fill: #FFFFFF;\n",
              "    }\n",
              "  </style>\n",
              "\n",
              "      <script>\n",
              "        const buttonEl =\n",
              "          document.querySelector('#df-202c0c4f-0dae-4ae6-ac7b-612d2eda3f0e button.colab-df-convert');\n",
              "        buttonEl.style.display =\n",
              "          google.colab.kernel.accessAllowed ? 'block' : 'none';\n",
              "\n",
              "        async function convertToInteractive(key) {\n",
              "          const element = document.querySelector('#df-202c0c4f-0dae-4ae6-ac7b-612d2eda3f0e');\n",
              "          const dataTable =\n",
              "            await google.colab.kernel.invokeFunction('convertToInteractive',\n",
              "                                                     [key], {});\n",
              "          if (!dataTable) return;\n",
              "\n",
              "          const docLinkHtml = 'Like what you see? Visit the ' +\n",
              "            '<a target=\"_blank\" href=https://colab.research.google.com/notebooks/data_table.ipynb>data table notebook</a>'\n",
              "            + ' to learn more about interactive tables.';\n",
              "          element.innerHTML = '';\n",
              "          dataTable['output_type'] = 'display_data';\n",
              "          await google.colab.output.renderOutput(dataTable, element);\n",
              "          const docLink = document.createElement('div');\n",
              "          docLink.innerHTML = docLinkHtml;\n",
              "          element.appendChild(docLink);\n",
              "        }\n",
              "      </script>\n",
              "    </div>\n",
              "  </div>\n",
              "  "
            ]
          },
          "metadata": {},
          "execution_count": 553
        }
      ]
    },
    {
      "cell_type": "markdown",
      "source": [
        "For our dataset, there were no predictor variables which were highly correlated, so we are good to go \n"
      ],
      "metadata": {
        "id": "ZMseFCY05J15"
      }
    },
    {
      "cell_type": "code",
      "source": [
        "# save the df to csv\n",
        "football_df = football[['home_team', 'away_team', 'home_score', 'away_score', 'tournament_type', 'home_rank', 'away_rank', 'match_outcome']]\n",
        "\n",
        "football_df.to_csv('final_fifa_rankings.csv')"
      ],
      "metadata": {
        "id": "bdE5iZYoWydz"
      },
      "execution_count": 554,
      "outputs": []
    },
    {
      "cell_type": "code",
      "source": [
        "# read the new dataset\n",
        "football_df = pd.read_csv('final_fifa_rankings.csv')\n",
        "football_df.head()"
      ],
      "metadata": {
        "id": "hxhPRaWUXpw9",
        "outputId": "bebc3afa-2a8d-40f9-bb94-96a08138bf44",
        "colab": {
          "base_uri": "https://localhost:8080/",
          "height": 206
        }
      },
      "execution_count": 555,
      "outputs": [
        {
          "output_type": "execute_result",
          "data": {
            "text/plain": [
              "   Unnamed: 0  home_team  away_team  home_score  away_score tournament_type  \\\n",
              "0           0   Colombia   Paraguay           0           0  FIFA World Cup   \n",
              "1           1   Colombia   Paraguay           0           0  FIFA World Cup   \n",
              "2           2  Argentina   Paraguay           0           0  FIFA World Cup   \n",
              "3           3  Argentina   Paraguay           0           0  FIFA World Cup   \n",
              "4           4   Colombia  Argentina           2           1  FIFA World Cup   \n",
              "\n",
              "   home_rank  away_rank match_outcome  \n",
              "0         19         67          Draw  \n",
              "1         19         67          Draw  \n",
              "2          5         67          Draw  \n",
              "3          5         67          Draw  \n",
              "4         19          5           Win  "
            ],
            "text/html": [
              "\n",
              "  <div id=\"df-9b4c32e9-979a-4290-ba8e-55cfd6fc14e9\">\n",
              "    <div class=\"colab-df-container\">\n",
              "      <div>\n",
              "<style scoped>\n",
              "    .dataframe tbody tr th:only-of-type {\n",
              "        vertical-align: middle;\n",
              "    }\n",
              "\n",
              "    .dataframe tbody tr th {\n",
              "        vertical-align: top;\n",
              "    }\n",
              "\n",
              "    .dataframe thead th {\n",
              "        text-align: right;\n",
              "    }\n",
              "</style>\n",
              "<table border=\"1\" class=\"dataframe\">\n",
              "  <thead>\n",
              "    <tr style=\"text-align: right;\">\n",
              "      <th></th>\n",
              "      <th>Unnamed: 0</th>\n",
              "      <th>home_team</th>\n",
              "      <th>away_team</th>\n",
              "      <th>home_score</th>\n",
              "      <th>away_score</th>\n",
              "      <th>tournament_type</th>\n",
              "      <th>home_rank</th>\n",
              "      <th>away_rank</th>\n",
              "      <th>match_outcome</th>\n",
              "    </tr>\n",
              "  </thead>\n",
              "  <tbody>\n",
              "    <tr>\n",
              "      <th>0</th>\n",
              "      <td>0</td>\n",
              "      <td>Colombia</td>\n",
              "      <td>Paraguay</td>\n",
              "      <td>0</td>\n",
              "      <td>0</td>\n",
              "      <td>FIFA World Cup</td>\n",
              "      <td>19</td>\n",
              "      <td>67</td>\n",
              "      <td>Draw</td>\n",
              "    </tr>\n",
              "    <tr>\n",
              "      <th>1</th>\n",
              "      <td>1</td>\n",
              "      <td>Colombia</td>\n",
              "      <td>Paraguay</td>\n",
              "      <td>0</td>\n",
              "      <td>0</td>\n",
              "      <td>FIFA World Cup</td>\n",
              "      <td>19</td>\n",
              "      <td>67</td>\n",
              "      <td>Draw</td>\n",
              "    </tr>\n",
              "    <tr>\n",
              "      <th>2</th>\n",
              "      <td>2</td>\n",
              "      <td>Argentina</td>\n",
              "      <td>Paraguay</td>\n",
              "      <td>0</td>\n",
              "      <td>0</td>\n",
              "      <td>FIFA World Cup</td>\n",
              "      <td>5</td>\n",
              "      <td>67</td>\n",
              "      <td>Draw</td>\n",
              "    </tr>\n",
              "    <tr>\n",
              "      <th>3</th>\n",
              "      <td>3</td>\n",
              "      <td>Argentina</td>\n",
              "      <td>Paraguay</td>\n",
              "      <td>0</td>\n",
              "      <td>0</td>\n",
              "      <td>FIFA World Cup</td>\n",
              "      <td>5</td>\n",
              "      <td>67</td>\n",
              "      <td>Draw</td>\n",
              "    </tr>\n",
              "    <tr>\n",
              "      <th>4</th>\n",
              "      <td>4</td>\n",
              "      <td>Colombia</td>\n",
              "      <td>Argentina</td>\n",
              "      <td>2</td>\n",
              "      <td>1</td>\n",
              "      <td>FIFA World Cup</td>\n",
              "      <td>19</td>\n",
              "      <td>5</td>\n",
              "      <td>Win</td>\n",
              "    </tr>\n",
              "  </tbody>\n",
              "</table>\n",
              "</div>\n",
              "      <button class=\"colab-df-convert\" onclick=\"convertToInteractive('df-9b4c32e9-979a-4290-ba8e-55cfd6fc14e9')\"\n",
              "              title=\"Convert this dataframe to an interactive table.\"\n",
              "              style=\"display:none;\">\n",
              "        \n",
              "  <svg xmlns=\"http://www.w3.org/2000/svg\" height=\"24px\"viewBox=\"0 0 24 24\"\n",
              "       width=\"24px\">\n",
              "    <path d=\"M0 0h24v24H0V0z\" fill=\"none\"/>\n",
              "    <path d=\"M18.56 5.44l.94 2.06.94-2.06 2.06-.94-2.06-.94-.94-2.06-.94 2.06-2.06.94zm-11 1L8.5 8.5l.94-2.06 2.06-.94-2.06-.94L8.5 2.5l-.94 2.06-2.06.94zm10 10l.94 2.06.94-2.06 2.06-.94-2.06-.94-.94-2.06-.94 2.06-2.06.94z\"/><path d=\"M17.41 7.96l-1.37-1.37c-.4-.4-.92-.59-1.43-.59-.52 0-1.04.2-1.43.59L10.3 9.45l-7.72 7.72c-.78.78-.78 2.05 0 2.83L4 21.41c.39.39.9.59 1.41.59.51 0 1.02-.2 1.41-.59l7.78-7.78 2.81-2.81c.8-.78.8-2.07 0-2.86zM5.41 20L4 18.59l7.72-7.72 1.47 1.35L5.41 20z\"/>\n",
              "  </svg>\n",
              "      </button>\n",
              "      \n",
              "  <style>\n",
              "    .colab-df-container {\n",
              "      display:flex;\n",
              "      flex-wrap:wrap;\n",
              "      gap: 12px;\n",
              "    }\n",
              "\n",
              "    .colab-df-convert {\n",
              "      background-color: #E8F0FE;\n",
              "      border: none;\n",
              "      border-radius: 50%;\n",
              "      cursor: pointer;\n",
              "      display: none;\n",
              "      fill: #1967D2;\n",
              "      height: 32px;\n",
              "      padding: 0 0 0 0;\n",
              "      width: 32px;\n",
              "    }\n",
              "\n",
              "    .colab-df-convert:hover {\n",
              "      background-color: #E2EBFA;\n",
              "      box-shadow: 0px 1px 2px rgba(60, 64, 67, 0.3), 0px 1px 3px 1px rgba(60, 64, 67, 0.15);\n",
              "      fill: #174EA6;\n",
              "    }\n",
              "\n",
              "    [theme=dark] .colab-df-convert {\n",
              "      background-color: #3B4455;\n",
              "      fill: #D2E3FC;\n",
              "    }\n",
              "\n",
              "    [theme=dark] .colab-df-convert:hover {\n",
              "      background-color: #434B5C;\n",
              "      box-shadow: 0px 1px 3px 1px rgba(0, 0, 0, 0.15);\n",
              "      filter: drop-shadow(0px 1px 2px rgba(0, 0, 0, 0.3));\n",
              "      fill: #FFFFFF;\n",
              "    }\n",
              "  </style>\n",
              "\n",
              "      <script>\n",
              "        const buttonEl =\n",
              "          document.querySelector('#df-9b4c32e9-979a-4290-ba8e-55cfd6fc14e9 button.colab-df-convert');\n",
              "        buttonEl.style.display =\n",
              "          google.colab.kernel.accessAllowed ? 'block' : 'none';\n",
              "\n",
              "        async function convertToInteractive(key) {\n",
              "          const element = document.querySelector('#df-9b4c32e9-979a-4290-ba8e-55cfd6fc14e9');\n",
              "          const dataTable =\n",
              "            await google.colab.kernel.invokeFunction('convertToInteractive',\n",
              "                                                     [key], {});\n",
              "          if (!dataTable) return;\n",
              "\n",
              "          const docLinkHtml = 'Like what you see? Visit the ' +\n",
              "            '<a target=\"_blank\" href=https://colab.research.google.com/notebooks/data_table.ipynb>data table notebook</a>'\n",
              "            + ' to learn more about interactive tables.';\n",
              "          element.innerHTML = '';\n",
              "          dataTable['output_type'] = 'display_data';\n",
              "          await google.colab.output.renderOutput(dataTable, element);\n",
              "          const docLink = document.createElement('div');\n",
              "          docLink.innerHTML = docLinkHtml;\n",
              "          element.appendChild(docLink);\n",
              "        }\n",
              "      </script>\n",
              "    </div>\n",
              "  </div>\n",
              "  "
            ]
          },
          "metadata": {},
          "execution_count": 555
        }
      ]
    },
    {
      "cell_type": "code",
      "source": [
        "# drop unnamed column\n",
        "football_df.drop(columns = ['Unnamed: 0'], axis = 1, inplace = True)"
      ],
      "metadata": {
        "id": "aorf2_r7X7Jf"
      },
      "execution_count": 556,
      "outputs": []
    },
    {
      "cell_type": "code",
      "source": [
        "# bottom of dataset\n",
        "football_df.tail()"
      ],
      "metadata": {
        "id": "6G9A2YMpYIJH",
        "outputId": "74e1a511-6272-478b-e4e4-781d2dfdf805",
        "colab": {
          "base_uri": "https://localhost:8080/",
          "height": 206
        }
      },
      "execution_count": 557,
      "outputs": [
        {
          "output_type": "execute_result",
          "data": {
            "text/plain": [
              "       home_team away_team  home_score  away_score tournament_type  home_rank  \\\n",
              "28434      Japan    Poland           0           1           Other         61   \n",
              "28435  Argentina   Iceland           1           1           Other          5   \n",
              "28436  Argentina   Iceland           1           1           Other          5   \n",
              "28437    Nigeria   Iceland           2           0           Other         48   \n",
              "28438    Nigeria   Iceland           2           0           Other         48   \n",
              "\n",
              "       away_rank match_outcome  \n",
              "28434          8          Lose  \n",
              "28435         22          Draw  \n",
              "28436         22          Draw  \n",
              "28437         22           Win  \n",
              "28438         22           Win  "
            ],
            "text/html": [
              "\n",
              "  <div id=\"df-40f4dc48-6bc8-41ac-bacc-891092a0fbc4\">\n",
              "    <div class=\"colab-df-container\">\n",
              "      <div>\n",
              "<style scoped>\n",
              "    .dataframe tbody tr th:only-of-type {\n",
              "        vertical-align: middle;\n",
              "    }\n",
              "\n",
              "    .dataframe tbody tr th {\n",
              "        vertical-align: top;\n",
              "    }\n",
              "\n",
              "    .dataframe thead th {\n",
              "        text-align: right;\n",
              "    }\n",
              "</style>\n",
              "<table border=\"1\" class=\"dataframe\">\n",
              "  <thead>\n",
              "    <tr style=\"text-align: right;\">\n",
              "      <th></th>\n",
              "      <th>home_team</th>\n",
              "      <th>away_team</th>\n",
              "      <th>home_score</th>\n",
              "      <th>away_score</th>\n",
              "      <th>tournament_type</th>\n",
              "      <th>home_rank</th>\n",
              "      <th>away_rank</th>\n",
              "      <th>match_outcome</th>\n",
              "    </tr>\n",
              "  </thead>\n",
              "  <tbody>\n",
              "    <tr>\n",
              "      <th>28434</th>\n",
              "      <td>Japan</td>\n",
              "      <td>Poland</td>\n",
              "      <td>0</td>\n",
              "      <td>1</td>\n",
              "      <td>Other</td>\n",
              "      <td>61</td>\n",
              "      <td>8</td>\n",
              "      <td>Lose</td>\n",
              "    </tr>\n",
              "    <tr>\n",
              "      <th>28435</th>\n",
              "      <td>Argentina</td>\n",
              "      <td>Iceland</td>\n",
              "      <td>1</td>\n",
              "      <td>1</td>\n",
              "      <td>Other</td>\n",
              "      <td>5</td>\n",
              "      <td>22</td>\n",
              "      <td>Draw</td>\n",
              "    </tr>\n",
              "    <tr>\n",
              "      <th>28436</th>\n",
              "      <td>Argentina</td>\n",
              "      <td>Iceland</td>\n",
              "      <td>1</td>\n",
              "      <td>1</td>\n",
              "      <td>Other</td>\n",
              "      <td>5</td>\n",
              "      <td>22</td>\n",
              "      <td>Draw</td>\n",
              "    </tr>\n",
              "    <tr>\n",
              "      <th>28437</th>\n",
              "      <td>Nigeria</td>\n",
              "      <td>Iceland</td>\n",
              "      <td>2</td>\n",
              "      <td>0</td>\n",
              "      <td>Other</td>\n",
              "      <td>48</td>\n",
              "      <td>22</td>\n",
              "      <td>Win</td>\n",
              "    </tr>\n",
              "    <tr>\n",
              "      <th>28438</th>\n",
              "      <td>Nigeria</td>\n",
              "      <td>Iceland</td>\n",
              "      <td>2</td>\n",
              "      <td>0</td>\n",
              "      <td>Other</td>\n",
              "      <td>48</td>\n",
              "      <td>22</td>\n",
              "      <td>Win</td>\n",
              "    </tr>\n",
              "  </tbody>\n",
              "</table>\n",
              "</div>\n",
              "      <button class=\"colab-df-convert\" onclick=\"convertToInteractive('df-40f4dc48-6bc8-41ac-bacc-891092a0fbc4')\"\n",
              "              title=\"Convert this dataframe to an interactive table.\"\n",
              "              style=\"display:none;\">\n",
              "        \n",
              "  <svg xmlns=\"http://www.w3.org/2000/svg\" height=\"24px\"viewBox=\"0 0 24 24\"\n",
              "       width=\"24px\">\n",
              "    <path d=\"M0 0h24v24H0V0z\" fill=\"none\"/>\n",
              "    <path d=\"M18.56 5.44l.94 2.06.94-2.06 2.06-.94-2.06-.94-.94-2.06-.94 2.06-2.06.94zm-11 1L8.5 8.5l.94-2.06 2.06-.94-2.06-.94L8.5 2.5l-.94 2.06-2.06.94zm10 10l.94 2.06.94-2.06 2.06-.94-2.06-.94-.94-2.06-.94 2.06-2.06.94z\"/><path d=\"M17.41 7.96l-1.37-1.37c-.4-.4-.92-.59-1.43-.59-.52 0-1.04.2-1.43.59L10.3 9.45l-7.72 7.72c-.78.78-.78 2.05 0 2.83L4 21.41c.39.39.9.59 1.41.59.51 0 1.02-.2 1.41-.59l7.78-7.78 2.81-2.81c.8-.78.8-2.07 0-2.86zM5.41 20L4 18.59l7.72-7.72 1.47 1.35L5.41 20z\"/>\n",
              "  </svg>\n",
              "      </button>\n",
              "      \n",
              "  <style>\n",
              "    .colab-df-container {\n",
              "      display:flex;\n",
              "      flex-wrap:wrap;\n",
              "      gap: 12px;\n",
              "    }\n",
              "\n",
              "    .colab-df-convert {\n",
              "      background-color: #E8F0FE;\n",
              "      border: none;\n",
              "      border-radius: 50%;\n",
              "      cursor: pointer;\n",
              "      display: none;\n",
              "      fill: #1967D2;\n",
              "      height: 32px;\n",
              "      padding: 0 0 0 0;\n",
              "      width: 32px;\n",
              "    }\n",
              "\n",
              "    .colab-df-convert:hover {\n",
              "      background-color: #E2EBFA;\n",
              "      box-shadow: 0px 1px 2px rgba(60, 64, 67, 0.3), 0px 1px 3px 1px rgba(60, 64, 67, 0.15);\n",
              "      fill: #174EA6;\n",
              "    }\n",
              "\n",
              "    [theme=dark] .colab-df-convert {\n",
              "      background-color: #3B4455;\n",
              "      fill: #D2E3FC;\n",
              "    }\n",
              "\n",
              "    [theme=dark] .colab-df-convert:hover {\n",
              "      background-color: #434B5C;\n",
              "      box-shadow: 0px 1px 3px 1px rgba(0, 0, 0, 0.15);\n",
              "      filter: drop-shadow(0px 1px 2px rgba(0, 0, 0, 0.3));\n",
              "      fill: #FFFFFF;\n",
              "    }\n",
              "  </style>\n",
              "\n",
              "      <script>\n",
              "        const buttonEl =\n",
              "          document.querySelector('#df-40f4dc48-6bc8-41ac-bacc-891092a0fbc4 button.colab-df-convert');\n",
              "        buttonEl.style.display =\n",
              "          google.colab.kernel.accessAllowed ? 'block' : 'none';\n",
              "\n",
              "        async function convertToInteractive(key) {\n",
              "          const element = document.querySelector('#df-40f4dc48-6bc8-41ac-bacc-891092a0fbc4');\n",
              "          const dataTable =\n",
              "            await google.colab.kernel.invokeFunction('convertToInteractive',\n",
              "                                                     [key], {});\n",
              "          if (!dataTable) return;\n",
              "\n",
              "          const docLinkHtml = 'Like what you see? Visit the ' +\n",
              "            '<a target=\"_blank\" href=https://colab.research.google.com/notebooks/data_table.ipynb>data table notebook</a>'\n",
              "            + ' to learn more about interactive tables.';\n",
              "          element.innerHTML = '';\n",
              "          dataTable['output_type'] = 'display_data';\n",
              "          await google.colab.output.renderOutput(dataTable, element);\n",
              "          const docLink = document.createElement('div');\n",
              "          docLink.innerHTML = docLinkHtml;\n",
              "          element.appendChild(docLink);\n",
              "        }\n",
              "      </script>\n",
              "    </div>\n",
              "  </div>\n",
              "  "
            ]
          },
          "metadata": {},
          "execution_count": 557
        }
      ]
    },
    {
      "cell_type": "code",
      "source": [
        "football_df.describe()"
      ],
      "metadata": {
        "id": "j7WIoK2omD6a",
        "outputId": "dea4c98d-e5bf-4733-e91b-2be2a40437c5",
        "colab": {
          "base_uri": "https://localhost:8080/",
          "height": 300
        }
      },
      "execution_count": 558,
      "outputs": [
        {
          "output_type": "execute_result",
          "data": {
            "text/plain": [
              "         home_score    away_score     home_rank     away_rank\n",
              "count  28439.000000  28439.000000  28439.000000  28439.000000\n",
              "mean       1.596821      1.101445     78.387813     81.409192\n",
              "std        1.635258      1.279389     51.097232     52.575171\n",
              "min        0.000000      0.000000      1.000000      1.000000\n",
              "25%        0.000000      0.000000     35.000000     38.000000\n",
              "50%        1.000000      1.000000     73.000000     76.000000\n",
              "75%        2.000000      2.000000    114.000000    119.000000\n",
              "max       31.000000     15.000000    209.000000    209.000000"
            ],
            "text/html": [
              "\n",
              "  <div id=\"df-35bf5e9b-fc6c-43cf-97f3-2ae5c9d1ca7d\">\n",
              "    <div class=\"colab-df-container\">\n",
              "      <div>\n",
              "<style scoped>\n",
              "    .dataframe tbody tr th:only-of-type {\n",
              "        vertical-align: middle;\n",
              "    }\n",
              "\n",
              "    .dataframe tbody tr th {\n",
              "        vertical-align: top;\n",
              "    }\n",
              "\n",
              "    .dataframe thead th {\n",
              "        text-align: right;\n",
              "    }\n",
              "</style>\n",
              "<table border=\"1\" class=\"dataframe\">\n",
              "  <thead>\n",
              "    <tr style=\"text-align: right;\">\n",
              "      <th></th>\n",
              "      <th>home_score</th>\n",
              "      <th>away_score</th>\n",
              "      <th>home_rank</th>\n",
              "      <th>away_rank</th>\n",
              "    </tr>\n",
              "  </thead>\n",
              "  <tbody>\n",
              "    <tr>\n",
              "      <th>count</th>\n",
              "      <td>28439.000000</td>\n",
              "      <td>28439.000000</td>\n",
              "      <td>28439.000000</td>\n",
              "      <td>28439.000000</td>\n",
              "    </tr>\n",
              "    <tr>\n",
              "      <th>mean</th>\n",
              "      <td>1.596821</td>\n",
              "      <td>1.101445</td>\n",
              "      <td>78.387813</td>\n",
              "      <td>81.409192</td>\n",
              "    </tr>\n",
              "    <tr>\n",
              "      <th>std</th>\n",
              "      <td>1.635258</td>\n",
              "      <td>1.279389</td>\n",
              "      <td>51.097232</td>\n",
              "      <td>52.575171</td>\n",
              "    </tr>\n",
              "    <tr>\n",
              "      <th>min</th>\n",
              "      <td>0.000000</td>\n",
              "      <td>0.000000</td>\n",
              "      <td>1.000000</td>\n",
              "      <td>1.000000</td>\n",
              "    </tr>\n",
              "    <tr>\n",
              "      <th>25%</th>\n",
              "      <td>0.000000</td>\n",
              "      <td>0.000000</td>\n",
              "      <td>35.000000</td>\n",
              "      <td>38.000000</td>\n",
              "    </tr>\n",
              "    <tr>\n",
              "      <th>50%</th>\n",
              "      <td>1.000000</td>\n",
              "      <td>1.000000</td>\n",
              "      <td>73.000000</td>\n",
              "      <td>76.000000</td>\n",
              "    </tr>\n",
              "    <tr>\n",
              "      <th>75%</th>\n",
              "      <td>2.000000</td>\n",
              "      <td>2.000000</td>\n",
              "      <td>114.000000</td>\n",
              "      <td>119.000000</td>\n",
              "    </tr>\n",
              "    <tr>\n",
              "      <th>max</th>\n",
              "      <td>31.000000</td>\n",
              "      <td>15.000000</td>\n",
              "      <td>209.000000</td>\n",
              "      <td>209.000000</td>\n",
              "    </tr>\n",
              "  </tbody>\n",
              "</table>\n",
              "</div>\n",
              "      <button class=\"colab-df-convert\" onclick=\"convertToInteractive('df-35bf5e9b-fc6c-43cf-97f3-2ae5c9d1ca7d')\"\n",
              "              title=\"Convert this dataframe to an interactive table.\"\n",
              "              style=\"display:none;\">\n",
              "        \n",
              "  <svg xmlns=\"http://www.w3.org/2000/svg\" height=\"24px\"viewBox=\"0 0 24 24\"\n",
              "       width=\"24px\">\n",
              "    <path d=\"M0 0h24v24H0V0z\" fill=\"none\"/>\n",
              "    <path d=\"M18.56 5.44l.94 2.06.94-2.06 2.06-.94-2.06-.94-.94-2.06-.94 2.06-2.06.94zm-11 1L8.5 8.5l.94-2.06 2.06-.94-2.06-.94L8.5 2.5l-.94 2.06-2.06.94zm10 10l.94 2.06.94-2.06 2.06-.94-2.06-.94-.94-2.06-.94 2.06-2.06.94z\"/><path d=\"M17.41 7.96l-1.37-1.37c-.4-.4-.92-.59-1.43-.59-.52 0-1.04.2-1.43.59L10.3 9.45l-7.72 7.72c-.78.78-.78 2.05 0 2.83L4 21.41c.39.39.9.59 1.41.59.51 0 1.02-.2 1.41-.59l7.78-7.78 2.81-2.81c.8-.78.8-2.07 0-2.86zM5.41 20L4 18.59l7.72-7.72 1.47 1.35L5.41 20z\"/>\n",
              "  </svg>\n",
              "      </button>\n",
              "      \n",
              "  <style>\n",
              "    .colab-df-container {\n",
              "      display:flex;\n",
              "      flex-wrap:wrap;\n",
              "      gap: 12px;\n",
              "    }\n",
              "\n",
              "    .colab-df-convert {\n",
              "      background-color: #E8F0FE;\n",
              "      border: none;\n",
              "      border-radius: 50%;\n",
              "      cursor: pointer;\n",
              "      display: none;\n",
              "      fill: #1967D2;\n",
              "      height: 32px;\n",
              "      padding: 0 0 0 0;\n",
              "      width: 32px;\n",
              "    }\n",
              "\n",
              "    .colab-df-convert:hover {\n",
              "      background-color: #E2EBFA;\n",
              "      box-shadow: 0px 1px 2px rgba(60, 64, 67, 0.3), 0px 1px 3px 1px rgba(60, 64, 67, 0.15);\n",
              "      fill: #174EA6;\n",
              "    }\n",
              "\n",
              "    [theme=dark] .colab-df-convert {\n",
              "      background-color: #3B4455;\n",
              "      fill: #D2E3FC;\n",
              "    }\n",
              "\n",
              "    [theme=dark] .colab-df-convert:hover {\n",
              "      background-color: #434B5C;\n",
              "      box-shadow: 0px 1px 3px 1px rgba(0, 0, 0, 0.15);\n",
              "      filter: drop-shadow(0px 1px 2px rgba(0, 0, 0, 0.3));\n",
              "      fill: #FFFFFF;\n",
              "    }\n",
              "  </style>\n",
              "\n",
              "      <script>\n",
              "        const buttonEl =\n",
              "          document.querySelector('#df-35bf5e9b-fc6c-43cf-97f3-2ae5c9d1ca7d button.colab-df-convert');\n",
              "        buttonEl.style.display =\n",
              "          google.colab.kernel.accessAllowed ? 'block' : 'none';\n",
              "\n",
              "        async function convertToInteractive(key) {\n",
              "          const element = document.querySelector('#df-35bf5e9b-fc6c-43cf-97f3-2ae5c9d1ca7d');\n",
              "          const dataTable =\n",
              "            await google.colab.kernel.invokeFunction('convertToInteractive',\n",
              "                                                     [key], {});\n",
              "          if (!dataTable) return;\n",
              "\n",
              "          const docLinkHtml = 'Like what you see? Visit the ' +\n",
              "            '<a target=\"_blank\" href=https://colab.research.google.com/notebooks/data_table.ipynb>data table notebook</a>'\n",
              "            + ' to learn more about interactive tables.';\n",
              "          element.innerHTML = '';\n",
              "          dataTable['output_type'] = 'display_data';\n",
              "          await google.colab.output.renderOutput(dataTable, element);\n",
              "          const docLink = document.createElement('div');\n",
              "          docLink.innerHTML = docLinkHtml;\n",
              "          element.appendChild(docLink);\n",
              "        }\n",
              "      </script>\n",
              "    </div>\n",
              "  </div>\n",
              "  "
            ]
          },
          "metadata": {},
          "execution_count": 558
        }
      ]
    },
    {
      "cell_type": "markdown",
      "source": [
        "## Modelling"
      ],
      "metadata": {
        "id": "1MhONPDBVWFm"
      }
    },
    {
      "cell_type": "markdown",
      "source": [
        "### Approach 1:Polynomial Regression"
      ],
      "metadata": {
        "id": "ZfQrYROgVcao"
      }
    },
    {
      "cell_type": "markdown",
      "source": [
        "### Model 1: Predicting home score using polynomial regression"
      ],
      "metadata": {
        "id": "6sjzp5aVZlk-"
      }
    },
    {
      "cell_type": "code",
      "source": [
        "# separate the predictors from the target variable\n",
        "predictor = football_df[['tournament_type', 'home_rank', 'away_rank']]\n",
        "target = football_df['home_score'].values.reshape(-1,1)\n",
        "\n",
        "# predictor = football_df.iloc[:,[4, 5, 6]].values\n",
        "# target = football_df.iloc[:, 2].values"
      ],
      "metadata": {
        "id": "IKSUvfBlSSg2"
      },
      "execution_count": 559,
      "outputs": []
    },
    {
      "cell_type": "code",
      "source": [
        "predictor.head()"
      ],
      "metadata": {
        "id": "ENQ7B5xoeRhz",
        "outputId": "038fb805-369d-4ccf-961b-31f77801324a",
        "colab": {
          "base_uri": "https://localhost:8080/",
          "height": 206
        }
      },
      "execution_count": 560,
      "outputs": [
        {
          "output_type": "execute_result",
          "data": {
            "text/plain": [
              "  tournament_type  home_rank  away_rank\n",
              "0  FIFA World Cup         19         67\n",
              "1  FIFA World Cup         19         67\n",
              "2  FIFA World Cup          5         67\n",
              "3  FIFA World Cup          5         67\n",
              "4  FIFA World Cup         19          5"
            ],
            "text/html": [
              "\n",
              "  <div id=\"df-46c5b32d-dcfe-400b-a8ae-5584d675b8c9\">\n",
              "    <div class=\"colab-df-container\">\n",
              "      <div>\n",
              "<style scoped>\n",
              "    .dataframe tbody tr th:only-of-type {\n",
              "        vertical-align: middle;\n",
              "    }\n",
              "\n",
              "    .dataframe tbody tr th {\n",
              "        vertical-align: top;\n",
              "    }\n",
              "\n",
              "    .dataframe thead th {\n",
              "        text-align: right;\n",
              "    }\n",
              "</style>\n",
              "<table border=\"1\" class=\"dataframe\">\n",
              "  <thead>\n",
              "    <tr style=\"text-align: right;\">\n",
              "      <th></th>\n",
              "      <th>tournament_type</th>\n",
              "      <th>home_rank</th>\n",
              "      <th>away_rank</th>\n",
              "    </tr>\n",
              "  </thead>\n",
              "  <tbody>\n",
              "    <tr>\n",
              "      <th>0</th>\n",
              "      <td>FIFA World Cup</td>\n",
              "      <td>19</td>\n",
              "      <td>67</td>\n",
              "    </tr>\n",
              "    <tr>\n",
              "      <th>1</th>\n",
              "      <td>FIFA World Cup</td>\n",
              "      <td>19</td>\n",
              "      <td>67</td>\n",
              "    </tr>\n",
              "    <tr>\n",
              "      <th>2</th>\n",
              "      <td>FIFA World Cup</td>\n",
              "      <td>5</td>\n",
              "      <td>67</td>\n",
              "    </tr>\n",
              "    <tr>\n",
              "      <th>3</th>\n",
              "      <td>FIFA World Cup</td>\n",
              "      <td>5</td>\n",
              "      <td>67</td>\n",
              "    </tr>\n",
              "    <tr>\n",
              "      <th>4</th>\n",
              "      <td>FIFA World Cup</td>\n",
              "      <td>19</td>\n",
              "      <td>5</td>\n",
              "    </tr>\n",
              "  </tbody>\n",
              "</table>\n",
              "</div>\n",
              "      <button class=\"colab-df-convert\" onclick=\"convertToInteractive('df-46c5b32d-dcfe-400b-a8ae-5584d675b8c9')\"\n",
              "              title=\"Convert this dataframe to an interactive table.\"\n",
              "              style=\"display:none;\">\n",
              "        \n",
              "  <svg xmlns=\"http://www.w3.org/2000/svg\" height=\"24px\"viewBox=\"0 0 24 24\"\n",
              "       width=\"24px\">\n",
              "    <path d=\"M0 0h24v24H0V0z\" fill=\"none\"/>\n",
              "    <path d=\"M18.56 5.44l.94 2.06.94-2.06 2.06-.94-2.06-.94-.94-2.06-.94 2.06-2.06.94zm-11 1L8.5 8.5l.94-2.06 2.06-.94-2.06-.94L8.5 2.5l-.94 2.06-2.06.94zm10 10l.94 2.06.94-2.06 2.06-.94-2.06-.94-.94-2.06-.94 2.06-2.06.94z\"/><path d=\"M17.41 7.96l-1.37-1.37c-.4-.4-.92-.59-1.43-.59-.52 0-1.04.2-1.43.59L10.3 9.45l-7.72 7.72c-.78.78-.78 2.05 0 2.83L4 21.41c.39.39.9.59 1.41.59.51 0 1.02-.2 1.41-.59l7.78-7.78 2.81-2.81c.8-.78.8-2.07 0-2.86zM5.41 20L4 18.59l7.72-7.72 1.47 1.35L5.41 20z\"/>\n",
              "  </svg>\n",
              "      </button>\n",
              "      \n",
              "  <style>\n",
              "    .colab-df-container {\n",
              "      display:flex;\n",
              "      flex-wrap:wrap;\n",
              "      gap: 12px;\n",
              "    }\n",
              "\n",
              "    .colab-df-convert {\n",
              "      background-color: #E8F0FE;\n",
              "      border: none;\n",
              "      border-radius: 50%;\n",
              "      cursor: pointer;\n",
              "      display: none;\n",
              "      fill: #1967D2;\n",
              "      height: 32px;\n",
              "      padding: 0 0 0 0;\n",
              "      width: 32px;\n",
              "    }\n",
              "\n",
              "    .colab-df-convert:hover {\n",
              "      background-color: #E2EBFA;\n",
              "      box-shadow: 0px 1px 2px rgba(60, 64, 67, 0.3), 0px 1px 3px 1px rgba(60, 64, 67, 0.15);\n",
              "      fill: #174EA6;\n",
              "    }\n",
              "\n",
              "    [theme=dark] .colab-df-convert {\n",
              "      background-color: #3B4455;\n",
              "      fill: #D2E3FC;\n",
              "    }\n",
              "\n",
              "    [theme=dark] .colab-df-convert:hover {\n",
              "      background-color: #434B5C;\n",
              "      box-shadow: 0px 1px 3px 1px rgba(0, 0, 0, 0.15);\n",
              "      filter: drop-shadow(0px 1px 2px rgba(0, 0, 0, 0.3));\n",
              "      fill: #FFFFFF;\n",
              "    }\n",
              "  </style>\n",
              "\n",
              "      <script>\n",
              "        const buttonEl =\n",
              "          document.querySelector('#df-46c5b32d-dcfe-400b-a8ae-5584d675b8c9 button.colab-df-convert');\n",
              "        buttonEl.style.display =\n",
              "          google.colab.kernel.accessAllowed ? 'block' : 'none';\n",
              "\n",
              "        async function convertToInteractive(key) {\n",
              "          const element = document.querySelector('#df-46c5b32d-dcfe-400b-a8ae-5584d675b8c9');\n",
              "          const dataTable =\n",
              "            await google.colab.kernel.invokeFunction('convertToInteractive',\n",
              "                                                     [key], {});\n",
              "          if (!dataTable) return;\n",
              "\n",
              "          const docLinkHtml = 'Like what you see? Visit the ' +\n",
              "            '<a target=\"_blank\" href=https://colab.research.google.com/notebooks/data_table.ipynb>data table notebook</a>'\n",
              "            + ' to learn more about interactive tables.';\n",
              "          element.innerHTML = '';\n",
              "          dataTable['output_type'] = 'display_data';\n",
              "          await google.colab.output.renderOutput(dataTable, element);\n",
              "          const docLink = document.createElement('div');\n",
              "          docLink.innerHTML = docLinkHtml;\n",
              "          element.appendChild(docLink);\n",
              "        }\n",
              "      </script>\n",
              "    </div>\n",
              "  </div>\n",
              "  "
            ]
          },
          "metadata": {},
          "execution_count": 560
        }
      ]
    },
    {
      "cell_type": "code",
      "source": [
        "# Encoding the categorical variable using dictvectorizer\n",
        "# turn df into dict\n",
        "football_df_dict = predictor.to_dict(orient='records') # turn each row as key-value pairs\n",
        "\n",
        "\n",
        "# instantiate a Dictvectorizer object for X\n",
        "dv_football = DictVectorizer(sparse=False) \n",
        "# sparse = False makes the output is not a sparse matrix\n",
        "\n",
        "# apply dv_football on football_df_dict\n",
        "football_encoded = dv_football.fit_transform(football_df_dict)\n"
      ],
      "metadata": {
        "id": "14YdIv8rcNur"
      },
      "execution_count": 561,
      "outputs": []
    },
    {
      "cell_type": "code",
      "source": [
        "# convert the encoded array into a dataframe\n",
        "football_enc = pd.DataFrame(football_encoded)\n",
        "football_enc.head()"
      ],
      "metadata": {
        "id": "QMxwemoddVJk",
        "outputId": "46004c6d-8cf8-420b-e50b-e02b10cbb183",
        "colab": {
          "base_uri": "https://localhost:8080/",
          "height": 206
        }
      },
      "execution_count": 562,
      "outputs": [
        {
          "output_type": "execute_result",
          "data": {
            "text/plain": [
              "      0     1    2    3    4\n",
              "0  67.0  19.0  1.0  0.0  0.0\n",
              "1  67.0  19.0  1.0  0.0  0.0\n",
              "2  67.0   5.0  1.0  0.0  0.0\n",
              "3  67.0   5.0  1.0  0.0  0.0\n",
              "4   5.0  19.0  1.0  0.0  0.0"
            ],
            "text/html": [
              "\n",
              "  <div id=\"df-9ee8cabe-4517-43b3-8204-d0be331e16fa\">\n",
              "    <div class=\"colab-df-container\">\n",
              "      <div>\n",
              "<style scoped>\n",
              "    .dataframe tbody tr th:only-of-type {\n",
              "        vertical-align: middle;\n",
              "    }\n",
              "\n",
              "    .dataframe tbody tr th {\n",
              "        vertical-align: top;\n",
              "    }\n",
              "\n",
              "    .dataframe thead th {\n",
              "        text-align: right;\n",
              "    }\n",
              "</style>\n",
              "<table border=\"1\" class=\"dataframe\">\n",
              "  <thead>\n",
              "    <tr style=\"text-align: right;\">\n",
              "      <th></th>\n",
              "      <th>0</th>\n",
              "      <th>1</th>\n",
              "      <th>2</th>\n",
              "      <th>3</th>\n",
              "      <th>4</th>\n",
              "    </tr>\n",
              "  </thead>\n",
              "  <tbody>\n",
              "    <tr>\n",
              "      <th>0</th>\n",
              "      <td>67.0</td>\n",
              "      <td>19.0</td>\n",
              "      <td>1.0</td>\n",
              "      <td>0.0</td>\n",
              "      <td>0.0</td>\n",
              "    </tr>\n",
              "    <tr>\n",
              "      <th>1</th>\n",
              "      <td>67.0</td>\n",
              "      <td>19.0</td>\n",
              "      <td>1.0</td>\n",
              "      <td>0.0</td>\n",
              "      <td>0.0</td>\n",
              "    </tr>\n",
              "    <tr>\n",
              "      <th>2</th>\n",
              "      <td>67.0</td>\n",
              "      <td>5.0</td>\n",
              "      <td>1.0</td>\n",
              "      <td>0.0</td>\n",
              "      <td>0.0</td>\n",
              "    </tr>\n",
              "    <tr>\n",
              "      <th>3</th>\n",
              "      <td>67.0</td>\n",
              "      <td>5.0</td>\n",
              "      <td>1.0</td>\n",
              "      <td>0.0</td>\n",
              "      <td>0.0</td>\n",
              "    </tr>\n",
              "    <tr>\n",
              "      <th>4</th>\n",
              "      <td>5.0</td>\n",
              "      <td>19.0</td>\n",
              "      <td>1.0</td>\n",
              "      <td>0.0</td>\n",
              "      <td>0.0</td>\n",
              "    </tr>\n",
              "  </tbody>\n",
              "</table>\n",
              "</div>\n",
              "      <button class=\"colab-df-convert\" onclick=\"convertToInteractive('df-9ee8cabe-4517-43b3-8204-d0be331e16fa')\"\n",
              "              title=\"Convert this dataframe to an interactive table.\"\n",
              "              style=\"display:none;\">\n",
              "        \n",
              "  <svg xmlns=\"http://www.w3.org/2000/svg\" height=\"24px\"viewBox=\"0 0 24 24\"\n",
              "       width=\"24px\">\n",
              "    <path d=\"M0 0h24v24H0V0z\" fill=\"none\"/>\n",
              "    <path d=\"M18.56 5.44l.94 2.06.94-2.06 2.06-.94-2.06-.94-.94-2.06-.94 2.06-2.06.94zm-11 1L8.5 8.5l.94-2.06 2.06-.94-2.06-.94L8.5 2.5l-.94 2.06-2.06.94zm10 10l.94 2.06.94-2.06 2.06-.94-2.06-.94-.94-2.06-.94 2.06-2.06.94z\"/><path d=\"M17.41 7.96l-1.37-1.37c-.4-.4-.92-.59-1.43-.59-.52 0-1.04.2-1.43.59L10.3 9.45l-7.72 7.72c-.78.78-.78 2.05 0 2.83L4 21.41c.39.39.9.59 1.41.59.51 0 1.02-.2 1.41-.59l7.78-7.78 2.81-2.81c.8-.78.8-2.07 0-2.86zM5.41 20L4 18.59l7.72-7.72 1.47 1.35L5.41 20z\"/>\n",
              "  </svg>\n",
              "      </button>\n",
              "      \n",
              "  <style>\n",
              "    .colab-df-container {\n",
              "      display:flex;\n",
              "      flex-wrap:wrap;\n",
              "      gap: 12px;\n",
              "    }\n",
              "\n",
              "    .colab-df-convert {\n",
              "      background-color: #E8F0FE;\n",
              "      border: none;\n",
              "      border-radius: 50%;\n",
              "      cursor: pointer;\n",
              "      display: none;\n",
              "      fill: #1967D2;\n",
              "      height: 32px;\n",
              "      padding: 0 0 0 0;\n",
              "      width: 32px;\n",
              "    }\n",
              "\n",
              "    .colab-df-convert:hover {\n",
              "      background-color: #E2EBFA;\n",
              "      box-shadow: 0px 1px 2px rgba(60, 64, 67, 0.3), 0px 1px 3px 1px rgba(60, 64, 67, 0.15);\n",
              "      fill: #174EA6;\n",
              "    }\n",
              "\n",
              "    [theme=dark] .colab-df-convert {\n",
              "      background-color: #3B4455;\n",
              "      fill: #D2E3FC;\n",
              "    }\n",
              "\n",
              "    [theme=dark] .colab-df-convert:hover {\n",
              "      background-color: #434B5C;\n",
              "      box-shadow: 0px 1px 3px 1px rgba(0, 0, 0, 0.15);\n",
              "      filter: drop-shadow(0px 1px 2px rgba(0, 0, 0, 0.3));\n",
              "      fill: #FFFFFF;\n",
              "    }\n",
              "  </style>\n",
              "\n",
              "      <script>\n",
              "        const buttonEl =\n",
              "          document.querySelector('#df-9ee8cabe-4517-43b3-8204-d0be331e16fa button.colab-df-convert');\n",
              "        buttonEl.style.display =\n",
              "          google.colab.kernel.accessAllowed ? 'block' : 'none';\n",
              "\n",
              "        async function convertToInteractive(key) {\n",
              "          const element = document.querySelector('#df-9ee8cabe-4517-43b3-8204-d0be331e16fa');\n",
              "          const dataTable =\n",
              "            await google.colab.kernel.invokeFunction('convertToInteractive',\n",
              "                                                     [key], {});\n",
              "          if (!dataTable) return;\n",
              "\n",
              "          const docLinkHtml = 'Like what you see? Visit the ' +\n",
              "            '<a target=\"_blank\" href=https://colab.research.google.com/notebooks/data_table.ipynb>data table notebook</a>'\n",
              "            + ' to learn more about interactive tables.';\n",
              "          element.innerHTML = '';\n",
              "          dataTable['output_type'] = 'display_data';\n",
              "          await google.colab.output.renderOutput(dataTable, element);\n",
              "          const docLink = document.createElement('div');\n",
              "          docLink.innerHTML = docLinkHtml;\n",
              "          element.appendChild(docLink);\n",
              "        }\n",
              "      </script>\n",
              "    </div>\n",
              "  </div>\n",
              "  "
            ]
          },
          "metadata": {},
          "execution_count": 562
        }
      ]
    },
    {
      "cell_type": "code",
      "source": [
        "# vocabulary\n",
        "vocab = dv_football.vocabulary_\n",
        "vocab"
      ],
      "metadata": {
        "id": "mHGUP-1t7L5E",
        "outputId": "193cd68c-74f1-49be-d4d4-86a15508c288",
        "colab": {
          "base_uri": "https://localhost:8080/"
        }
      },
      "execution_count": 563,
      "outputs": [
        {
          "output_type": "execute_result",
          "data": {
            "text/plain": [
              "{'away_rank': 0,\n",
              " 'home_rank': 1,\n",
              " 'tournament_type=FIFA World Cup': 2,\n",
              " 'tournament_type=Friendly': 3,\n",
              " 'tournament_type=Other': 4}"
            ]
          },
          "metadata": {},
          "execution_count": 563
        }
      ]
    },
    {
      "cell_type": "code",
      "source": [
        "# Split the dataset into train and test sets\n",
        "X_train, X_test, Y_train, Y_test = train_test_split(football_enc, target, test_size = 0.2, random_state=12)"
      ],
      "metadata": {
        "id": "y0dnIG0bbItl"
      },
      "execution_count": 564,
      "outputs": []
    },
    {
      "cell_type": "markdown",
      "source": [
        "If you don't specify the random_state in your code, then every time you run(execute) your code a new random value is generated and the train and test datasets would have different values each time.\n",
        "\n",
        "However, if a fixed value is assigned like random_state = 12 then no matter how many times you execute your code the result would be the same .i.e, same values in train and test datasets."
      ],
      "metadata": {
        "id": "0GCB1o_zhLgE"
      }
    },
    {
      "cell_type": "code",
      "source": [
        "# standardising the x_train and x_test to the same scale\n",
        "sc = StandardScaler()\n",
        "X_train = sc.fit_transform(X_train)\n",
        "X_test = sc.transform(X_test)"
      ],
      "metadata": {
        "id": "rnkaVe_IgPgK"
      },
      "execution_count": 565,
      "outputs": []
    },
    {
      "cell_type": "code",
      "source": [
        "# Fit polynomial Regression to the dataset\n",
        "poly_features = PolynomialFeatures(degree = 10) \n",
        "X_train = poly_features.fit_transform(X_train)\n",
        "X_test = poly_features.fit_transform(X_test)\n"
      ],
      "metadata": {
        "id": "YqbuhPA2bNDa"
      },
      "execution_count": 566,
      "outputs": []
    },
    {
      "cell_type": "code",
      "source": [
        "# Training the model\n",
        "regressor = LinearRegression()\n",
        "regressor.fit(X_train, Y_train)"
      ],
      "metadata": {
        "id": "oVthN6MRjhPr",
        "outputId": "4808949e-0854-400c-d6d9-a3bee2ae18d6",
        "colab": {
          "base_uri": "https://localhost:8080/"
        }
      },
      "execution_count": 567,
      "outputs": [
        {
          "output_type": "execute_result",
          "data": {
            "text/plain": [
              "LinearRegression()"
            ]
          },
          "metadata": {},
          "execution_count": 567
        }
      ]
    },
    {
      "cell_type": "markdown",
      "source": [
        "making predictions"
      ],
      "metadata": {
        "id": "F9UHBiKve5IU"
      }
    },
    {
      "cell_type": "code",
      "source": [
        "# Predict using Polynomial Regression\n",
        "# We can also get the predictions as an array\n",
        "y_pred = regressor.predict(X_test)\n"
      ],
      "metadata": {
        "id": "2MlsP1pRb_KI"
      },
      "execution_count": 568,
      "outputs": []
    },
    {
      "cell_type": "code",
      "source": [
        "y_pred"
      ],
      "metadata": {
        "id": "BK1-svREfKsc",
        "outputId": "12809908-de57-4891-8e06-c05bb0ebb3a9",
        "colab": {
          "base_uri": "https://localhost:8080/"
        }
      },
      "execution_count": 569,
      "outputs": [
        {
          "output_type": "execute_result",
          "data": {
            "text/plain": [
              "array([[3.32242584],\n",
              "       [1.26889372],\n",
              "       [2.79908752],\n",
              "       ...,\n",
              "       [0.98566246],\n",
              "       [1.39756203],\n",
              "       [0.91651917]])"
            ]
          },
          "metadata": {},
          "execution_count": 569
        }
      ]
    },
    {
      "cell_type": "markdown",
      "source": [
        "## Evaluate the performance of model 1"
      ],
      "metadata": {
        "id": "ga9CWnn1j-2s"
      }
    },
    {
      "cell_type": "code",
      "source": [
        "# Measuring the accuracy of the model\n",
        "\n",
        "print(\"The RMSE score for the model % .3f: \"% np.sqrt(mean_squared_error(Y_test, y_pred)))"
      ],
      "metadata": {
        "id": "K68slx_2j2GW",
        "outputId": "3ec61d07-a18e-4216-f687-ecdfc53d1f8f",
        "colab": {
          "base_uri": "https://localhost:8080/"
        }
      },
      "execution_count": 570,
      "outputs": [
        {
          "output_type": "stream",
          "name": "stdout",
          "text": [
            "The RMSE score for the model  1.388: \n"
          ]
        }
      ]
    },
    {
      "cell_type": "markdown",
      "source": [
        "### Challenging the solution\n",
        "By increasing the degree of freedom, the value of RMSE was decreasing until the degree of 11 when the RMSE started increasing again. So the best degree of freeddom was at degree 10"
      ],
      "metadata": {
        "id": "_7wCBV4GCCDH"
      }
    },
    {
      "cell_type": "markdown",
      "source": [
        "### Residual Plots and Heteroscedasticity testing using Bartlett's test"
      ],
      "metadata": {
        "id": "AH3Br0F5c1pq"
      }
    },
    {
      "cell_type": "code",
      "source": [
        "# residuals\n",
        "residuals = np.subtract(y_pred, Y_test)\n",
        "\n",
        "# Let's describe our residual:\n",
        "print(pd.DataFrame(residuals).describe())\n",
        "\n",
        "print(residuals.mean())\n"
      ],
      "metadata": {
        "id": "eF_r2itFc08_",
        "outputId": "1bb7a441-857d-4ad8-8322-8cc08f9ca605",
        "colab": {
          "base_uri": "https://localhost:8080/"
        }
      },
      "execution_count": 571,
      "outputs": [
        {
          "output_type": "stream",
          "name": "stdout",
          "text": [
            "                 0\n",
            "count  5688.000000\n",
            "mean      0.065600\n",
            "std       1.386771\n",
            "min     -16.411642\n",
            "25%      -0.649190\n",
            "50%       0.274155\n",
            "75%       0.975707\n",
            "max       7.074686\n",
            "0.06560019945461204\n"
          ]
        }
      ]
    },
    {
      "cell_type": "code",
      "source": [
        "# Plotting the prediction errors\n",
        "plt.scatter(y_pred, residuals, color='black')\n",
        "plt.title('Residual Plot')\n",
        "plt.ylabel('residual')\n",
        "plt.xlabel('fitted values')\n",
        "plt.axhline(y= residuals.mean(), color='red')\n",
        "plt.show()"
      ],
      "metadata": {
        "id": "UtbRbmgld54l",
        "outputId": "1cac284b-c40d-44cf-e036-d39f0425c8d2",
        "colab": {
          "base_uri": "https://localhost:8080/",
          "height": 294
        }
      },
      "execution_count": 572,
      "outputs": [
        {
          "output_type": "display_data",
          "data": {
            "text/plain": [
              "<Figure size 432x288 with 1 Axes>"
            ],
            "image/png": "[encoded data removed]"
          },
          "metadata": {
            "needs_background": "light"
          }
        }
      ]
    },
    {
      "cell_type": "code",
      "source": [
        "# bartlett's test\n",
        "\n",
        "# first change the 2d array samples to 1d\n",
        "y_pred_flat = y_pred.ravel()\n",
        "residuals_flat = residuals.ravel()\n",
        "\n",
        "test_result, p_value = sp.stats.bartlett(y_pred_flat, residuals_flat)\n",
        "print('test_result=',test_result,\\\n",
        "      'p-value=',p_value)\n",
        "\n",
        "# To interpret the results we must also compute a critical value of the chi squared distribution\n",
        "degree_of_freedom = len(y_pred_flat)-1\n",
        "probability = 1 - p_value\n",
        "\n",
        "critical_value = sp.stats.chi2.ppf(probability, degree_of_freedom)\n",
        "print('critical_value',critical_value)\n",
        "\n",
        "# If the test_result is greater than the critical value, then we reject our null\n",
        "# hypothesis. This would mean that there are patterns to the variance of the data\n",
        "\n",
        "# Otherwise, we can identify no patterns, and we accept the null hypothesis that \n",
        "# the variance is homogeneous across our data\n",
        "\n",
        "if (test_result > critical_value):\n",
        "  print('the variances are unequal, and the model should be reassessed')\n",
        "else:\n",
        "  print('the variances are homogeneous!')\n"
      ],
      "metadata": {
        "id": "acDayMJweBTX",
        "outputId": "d569c1df-257e-4e0f-b2d4-68cbbdea3e68",
        "colab": {
          "base_uri": "https://localhost:8080/"
        }
      },
      "execution_count": 573,
      "outputs": [
        {
          "output_type": "stream",
          "name": "stdout",
          "text": [
            "test_result= 1269.2374271619533 p-value= 5.4754738281295145e-278\n",
            "critical_value inf\n",
            "the variances are homogeneous!\n"
          ]
        }
      ]
    },
    {
      "cell_type": "markdown",
      "source": [
        "### Model 2: Predicting away score using polynomial regression"
      ],
      "metadata": {
        "id": "uaIEqvzH5jja"
      }
    },
    {
      "cell_type": "code",
      "source": [
        "# separate the predictors from the target variable\n",
        "predictor = football_df[['tournament_type', 'home_rank', 'away_rank']]\n",
        "target = football_df['away_score'].values.reshape(-1,1)\n"
      ],
      "metadata": {
        "id": "IFtyZhyIfEUj"
      },
      "execution_count": 574,
      "outputs": []
    },
    {
      "cell_type": "code",
      "source": [
        "predictor.head()"
      ],
      "metadata": {
        "id": "JO72HMbs8YAb",
        "outputId": "e1575f3f-2c1b-4e18-ae9a-d4f5741a99f4",
        "colab": {
          "base_uri": "https://localhost:8080/",
          "height": 206
        }
      },
      "execution_count": 575,
      "outputs": [
        {
          "output_type": "execute_result",
          "data": {
            "text/plain": [
              "  tournament_type  home_rank  away_rank\n",
              "0  FIFA World Cup         19         67\n",
              "1  FIFA World Cup         19         67\n",
              "2  FIFA World Cup          5         67\n",
              "3  FIFA World Cup          5         67\n",
              "4  FIFA World Cup         19          5"
            ],
            "text/html": [
              "\n",
              "  <div id=\"df-4f5a58cd-fadf-4489-9d38-f302d25f3aba\">\n",
              "    <div class=\"colab-df-container\">\n",
              "      <div>\n",
              "<style scoped>\n",
              "    .dataframe tbody tr th:only-of-type {\n",
              "        vertical-align: middle;\n",
              "    }\n",
              "\n",
              "    .dataframe tbody tr th {\n",
              "        vertical-align: top;\n",
              "    }\n",
              "\n",
              "    .dataframe thead th {\n",
              "        text-align: right;\n",
              "    }\n",
              "</style>\n",
              "<table border=\"1\" class=\"dataframe\">\n",
              "  <thead>\n",
              "    <tr style=\"text-align: right;\">\n",
              "      <th></th>\n",
              "      <th>tournament_type</th>\n",
              "      <th>home_rank</th>\n",
              "      <th>away_rank</th>\n",
              "    </tr>\n",
              "  </thead>\n",
              "  <tbody>\n",
              "    <tr>\n",
              "      <th>0</th>\n",
              "      <td>FIFA World Cup</td>\n",
              "      <td>19</td>\n",
              "      <td>67</td>\n",
              "    </tr>\n",
              "    <tr>\n",
              "      <th>1</th>\n",
              "      <td>FIFA World Cup</td>\n",
              "      <td>19</td>\n",
              "      <td>67</td>\n",
              "    </tr>\n",
              "    <tr>\n",
              "      <th>2</th>\n",
              "      <td>FIFA World Cup</td>\n",
              "      <td>5</td>\n",
              "      <td>67</td>\n",
              "    </tr>\n",
              "    <tr>\n",
              "      <th>3</th>\n",
              "      <td>FIFA World Cup</td>\n",
              "      <td>5</td>\n",
              "      <td>67</td>\n",
              "    </tr>\n",
              "    <tr>\n",
              "      <th>4</th>\n",
              "      <td>FIFA World Cup</td>\n",
              "      <td>19</td>\n",
              "      <td>5</td>\n",
              "    </tr>\n",
              "  </tbody>\n",
              "</table>\n",
              "</div>\n",
              "      <button class=\"colab-df-convert\" onclick=\"convertToInteractive('df-4f5a58cd-fadf-4489-9d38-f302d25f3aba')\"\n",
              "              title=\"Convert this dataframe to an interactive table.\"\n",
              "              style=\"display:none;\">\n",
              "        \n",
              "  <svg xmlns=\"http://www.w3.org/2000/svg\" height=\"24px\"viewBox=\"0 0 24 24\"\n",
              "       width=\"24px\">\n",
              "    <path d=\"M0 0h24v24H0V0z\" fill=\"none\"/>\n",
              "    <path d=\"M18.56 5.44l.94 2.06.94-2.06 2.06-.94-2.06-.94-.94-2.06-.94 2.06-2.06.94zm-11 1L8.5 8.5l.94-2.06 2.06-.94-2.06-.94L8.5 2.5l-.94 2.06-2.06.94zm10 10l.94 2.06.94-2.06 2.06-.94-2.06-.94-.94-2.06-.94 2.06-2.06.94z\"/><path d=\"M17.41 7.96l-1.37-1.37c-.4-.4-.92-.59-1.43-.59-.52 0-1.04.2-1.43.59L10.3 9.45l-7.72 7.72c-.78.78-.78 2.05 0 2.83L4 21.41c.39.39.9.59 1.41.59.51 0 1.02-.2 1.41-.59l7.78-7.78 2.81-2.81c.8-.78.8-2.07 0-2.86zM5.41 20L4 18.59l7.72-7.72 1.47 1.35L5.41 20z\"/>\n",
              "  </svg>\n",
              "      </button>\n",
              "      \n",
              "  <style>\n",
              "    .colab-df-container {\n",
              "      display:flex;\n",
              "      flex-wrap:wrap;\n",
              "      gap: 12px;\n",
              "    }\n",
              "\n",
              "    .colab-df-convert {\n",
              "      background-color: #E8F0FE;\n",
              "      border: none;\n",
              "      border-radius: 50%;\n",
              "      cursor: pointer;\n",
              "      display: none;\n",
              "      fill: #1967D2;\n",
              "      height: 32px;\n",
              "      padding: 0 0 0 0;\n",
              "      width: 32px;\n",
              "    }\n",
              "\n",
              "    .colab-df-convert:hover {\n",
              "      background-color: #E2EBFA;\n",
              "      box-shadow: 0px 1px 2px rgba(60, 64, 67, 0.3), 0px 1px 3px 1px rgba(60, 64, 67, 0.15);\n",
              "      fill: #174EA6;\n",
              "    }\n",
              "\n",
              "    [theme=dark] .colab-df-convert {\n",
              "      background-color: #3B4455;\n",
              "      fill: #D2E3FC;\n",
              "    }\n",
              "\n",
              "    [theme=dark] .colab-df-convert:hover {\n",
              "      background-color: #434B5C;\n",
              "      box-shadow: 0px 1px 3px 1px rgba(0, 0, 0, 0.15);\n",
              "      filter: drop-shadow(0px 1px 2px rgba(0, 0, 0, 0.3));\n",
              "      fill: #FFFFFF;\n",
              "    }\n",
              "  </style>\n",
              "\n",
              "      <script>\n",
              "        const buttonEl =\n",
              "          document.querySelector('#df-4f5a58cd-fadf-4489-9d38-f302d25f3aba button.colab-df-convert');\n",
              "        buttonEl.style.display =\n",
              "          google.colab.kernel.accessAllowed ? 'block' : 'none';\n",
              "\n",
              "        async function convertToInteractive(key) {\n",
              "          const element = document.querySelector('#df-4f5a58cd-fadf-4489-9d38-f302d25f3aba');\n",
              "          const dataTable =\n",
              "            await google.colab.kernel.invokeFunction('convertToInteractive',\n",
              "                                                     [key], {});\n",
              "          if (!dataTable) return;\n",
              "\n",
              "          const docLinkHtml = 'Like what you see? Visit the ' +\n",
              "            '<a target=\"_blank\" href=https://colab.research.google.com/notebooks/data_table.ipynb>data table notebook</a>'\n",
              "            + ' to learn more about interactive tables.';\n",
              "          element.innerHTML = '';\n",
              "          dataTable['output_type'] = 'display_data';\n",
              "          await google.colab.output.renderOutput(dataTable, element);\n",
              "          const docLink = document.createElement('div');\n",
              "          docLink.innerHTML = docLinkHtml;\n",
              "          element.appendChild(docLink);\n",
              "        }\n",
              "      </script>\n",
              "    </div>\n",
              "  </div>\n",
              "  "
            ]
          },
          "metadata": {},
          "execution_count": 575
        }
      ]
    },
    {
      "cell_type": "markdown",
      "source": [
        "the predictor variables are similar to the one used above(for predicting home score)\n",
        "\n",
        "so we will use the same encoded variables used above, named football_enc"
      ],
      "metadata": {
        "id": "IwGtJDAU-Eo0"
      }
    },
    {
      "cell_type": "code",
      "source": [
        "# Split the dataset into train and test sets\n",
        "X_train, X_test, Y_train, Y_test = train_test_split(football_enc, target, test_size = 0.2, random_state=12)"
      ],
      "metadata": {
        "id": "GZ1TxUEx9W4S"
      },
      "execution_count": 576,
      "outputs": []
    },
    {
      "cell_type": "code",
      "source": [
        "# standardising the x_train and x_test to the same scale\n",
        "sc = StandardScaler()\n",
        "X_train = sc.fit_transform(X_train)\n",
        "X_test = sc.transform(X_test)"
      ],
      "metadata": {
        "id": "ur6YjPHM9eoO"
      },
      "execution_count": 577,
      "outputs": []
    },
    {
      "cell_type": "code",
      "source": [
        "# Fit polynomial Regression to the dataset\n",
        "poly_features = PolynomialFeatures(degree = 6) \n",
        "X_train = poly_features.fit_transform(X_train)\n",
        "X_test = poly_features.fit_transform(X_test)\n"
      ],
      "metadata": {
        "id": "VuFAIF9q9yLl"
      },
      "execution_count": 578,
      "outputs": []
    },
    {
      "cell_type": "code",
      "source": [
        "# Training the model\n",
        "regressor = LinearRegression()\n",
        "regressor.fit(X_train, Y_train)"
      ],
      "metadata": {
        "id": "Z75Nu-Wp90bx",
        "outputId": "007a2f8d-00bd-4141-b5e4-ba7e68b2e81e",
        "colab": {
          "base_uri": "https://localhost:8080/"
        }
      },
      "execution_count": 579,
      "outputs": [
        {
          "output_type": "execute_result",
          "data": {
            "text/plain": [
              "LinearRegression()"
            ]
          },
          "metadata": {},
          "execution_count": 579
        }
      ]
    },
    {
      "cell_type": "code",
      "source": [
        "# Predict using Polynomial Regression\n",
        "# We can also get the predictions as an array\n",
        "y_pred = regressor.predict(X_test)"
      ],
      "metadata": {
        "id": "snosYorq93aU"
      },
      "execution_count": 580,
      "outputs": []
    },
    {
      "cell_type": "code",
      "source": [
        "# Measuring the accuracy of the model\n",
        "\n",
        "print(\"The RMSE score for the model %.3f : \" % np.sqrt(mean_squared_error(Y_test, y_pred)))"
      ],
      "metadata": {
        "id": "etDN_ggE96CB",
        "outputId": "00736517-8911-4582-a327-a79bf06e1374",
        "colab": {
          "base_uri": "https://localhost:8080/"
        }
      },
      "execution_count": 581,
      "outputs": [
        {
          "output_type": "stream",
          "name": "stdout",
          "text": [
            "The RMSE score for the model 1.157 : \n"
          ]
        }
      ]
    },
    {
      "cell_type": "markdown",
      "source": [
        "### Challenging the solution\n",
        "By increasing the degree of freedom, the value of RMSE was decreasing until the degree of 7 when the RMSE started increasing again. So the best degree of freeddom was at degree 6\n",
        "\n",
        "However, the value of RMSE is too high and not the best to use"
      ],
      "metadata": {
        "id": "aKLiZwm4BTKA"
      }
    },
    {
      "cell_type": "markdown",
      "source": [
        "### Residual Plots and Heteroscedasticity testing using Bartlett's test"
      ],
      "metadata": {
        "id": "2pq_e6Z4hU1f"
      }
    },
    {
      "cell_type": "markdown",
      "source": [
        " Quiz: Figure out from the home team’s perspective if the game is a Win, Lose or Draw"
      ],
      "metadata": {
        "id": "GjjD5DSqHWVn"
      }
    },
    {
      "cell_type": "code",
      "source": [
        "# residuals\n",
        "residuals = np.subtract(y_pred, Y_test)\n",
        "\n",
        "# Let's describe our residual:\n",
        "print(pd.DataFrame(residuals).describe())\n",
        "\n",
        "print(residuals.mean())\n"
      ],
      "metadata": {
        "id": "x_6WP-jFG4co",
        "outputId": "7e20818e-f959-4104-a222-e32b1ad3358c",
        "colab": {
          "base_uri": "https://localhost:8080/"
        }
      },
      "execution_count": 582,
      "outputs": [
        {
          "output_type": "stream",
          "name": "stdout",
          "text": [
            "                 0\n",
            "count  5688.000000\n",
            "mean     -0.022330\n",
            "std       1.156969\n",
            "min      -9.348633\n",
            "25%      -0.539368\n",
            "50%       0.164490\n",
            "75%       0.783630\n",
            "max       3.849854\n",
            "-0.022330325699389066\n"
          ]
        }
      ]
    },
    {
      "cell_type": "code",
      "source": [
        "# Plotting the prediction errors\n",
        "plt.scatter(y_pred, residuals, color='black')\n",
        "plt.title('Residual Plot')\n",
        "plt.ylabel('residual')\n",
        "plt.xlabel('fitted values')\n",
        "plt.axhline(y= residuals.mean(), color='red')\n",
        "plt.show()"
      ],
      "metadata": {
        "id": "uSAQHwc3hefO",
        "outputId": "4a15f630-1fa3-4096-cbf1-8ac6894d87e4",
        "colab": {
          "base_uri": "https://localhost:8080/",
          "height": 294
        }
      },
      "execution_count": 583,
      "outputs": [
        {
          "output_type": "display_data",
          "data": {
            "text/plain": [
              "<Figure size 432x288 with 1 Axes>"
            ],
            "image/png": "[encoded data removed]"
          },
          "metadata": {
            "needs_background": "light"
          }
        }
      ]
    },
    {
      "cell_type": "code",
      "source": [
        "# bartlett's test\n",
        "\n",
        "# first change the 2d array samples to 1d\n",
        "y_pred_flat = y_pred.ravel()\n",
        "residuals_flat = residuals.ravel()\n",
        "\n",
        "test_result, p_value = sp.stats.bartlett(y_pred_flat, residuals_flat)\n",
        "print('test_result=',test_result,\\\n",
        "      'p-value=',p_value)\n",
        "\n",
        "# To interpret the results we must also compute a critical value of the chi squared distribution\n",
        "degree_of_freedom = len(y_pred_flat)-1\n",
        "probability = 1 - p_value\n",
        "\n",
        "critical_value = sp.stats.chi2.ppf(probability, degree_of_freedom)\n",
        "print('critical_value',critical_value)\n",
        "\n",
        "# If the test_result is greater than the critical value, then we reject our null\n",
        "# hypothesis. This would mean that there are patterns to the variance of the data\n",
        "\n",
        "# Otherwise, we can identify no patterns, and we accept the null hypothesis that \n",
        "# the variance is homogeneous across our data\n",
        "\n",
        "if (test_result > critical_value):\n",
        "  print('the variances are unequal, and the model should be reassessed')\n",
        "else:\n",
        "  print('the variances are homogeneous!')"
      ],
      "metadata": {
        "id": "FxHLrs5vhiyL",
        "outputId": "a58c6a22-52fd-4b70-f1ee-46eedc130952",
        "colab": {
          "base_uri": "https://localhost:8080/"
        }
      },
      "execution_count": 584,
      "outputs": [
        {
          "output_type": "stream",
          "name": "stdout",
          "text": [
            "test_result= 2994.3652695038536 p-value= 0.0\n",
            "critical_value inf\n",
            "the variances are homogeneous!\n"
          ]
        }
      ]
    },
    {
      "cell_type": "markdown",
      "source": [
        "### Approach 2: Using Logistic Regression"
      ],
      "metadata": {
        "id": "yh5sxq-tG0xn"
      }
    },
    {
      "cell_type": "code",
      "source": [
        "# preview the dataset\n",
        "football_df.head()"
      ],
      "metadata": {
        "id": "iCGyNE5gin0T",
        "outputId": "316575d4-68a2-4e6a-8286-aab694599f54",
        "colab": {
          "base_uri": "https://localhost:8080/",
          "height": 206
        }
      },
      "execution_count": 585,
      "outputs": [
        {
          "output_type": "execute_result",
          "data": {
            "text/plain": [
              "   home_team  away_team  home_score  away_score tournament_type  home_rank  \\\n",
              "0   Colombia   Paraguay           0           0  FIFA World Cup         19   \n",
              "1   Colombia   Paraguay           0           0  FIFA World Cup         19   \n",
              "2  Argentina   Paraguay           0           0  FIFA World Cup          5   \n",
              "3  Argentina   Paraguay           0           0  FIFA World Cup          5   \n",
              "4   Colombia  Argentina           2           1  FIFA World Cup         19   \n",
              "\n",
              "   away_rank match_outcome  \n",
              "0         67          Draw  \n",
              "1         67          Draw  \n",
              "2         67          Draw  \n",
              "3         67          Draw  \n",
              "4          5           Win  "
            ],
            "text/html": [
              "\n",
              "  <div id=\"df-10a33191-e7eb-4313-ab85-6090ee14ead2\">\n",
              "    <div class=\"colab-df-container\">\n",
              "      <div>\n",
              "<style scoped>\n",
              "    .dataframe tbody tr th:only-of-type {\n",
              "        vertical-align: middle;\n",
              "    }\n",
              "\n",
              "    .dataframe tbody tr th {\n",
              "        vertical-align: top;\n",
              "    }\n",
              "\n",
              "    .dataframe thead th {\n",
              "        text-align: right;\n",
              "    }\n",
              "</style>\n",
              "<table border=\"1\" class=\"dataframe\">\n",
              "  <thead>\n",
              "    <tr style=\"text-align: right;\">\n",
              "      <th></th>\n",
              "      <th>home_team</th>\n",
              "      <th>away_team</th>\n",
              "      <th>home_score</th>\n",
              "      <th>away_score</th>\n",
              "      <th>tournament_type</th>\n",
              "      <th>home_rank</th>\n",
              "      <th>away_rank</th>\n",
              "      <th>match_outcome</th>\n",
              "    </tr>\n",
              "  </thead>\n",
              "  <tbody>\n",
              "    <tr>\n",
              "      <th>0</th>\n",
              "      <td>Colombia</td>\n",
              "      <td>Paraguay</td>\n",
              "      <td>0</td>\n",
              "      <td>0</td>\n",
              "      <td>FIFA World Cup</td>\n",
              "      <td>19</td>\n",
              "      <td>67</td>\n",
              "      <td>Draw</td>\n",
              "    </tr>\n",
              "    <tr>\n",
              "      <th>1</th>\n",
              "      <td>Colombia</td>\n",
              "      <td>Paraguay</td>\n",
              "      <td>0</td>\n",
              "      <td>0</td>\n",
              "      <td>FIFA World Cup</td>\n",
              "      <td>19</td>\n",
              "      <td>67</td>\n",
              "      <td>Draw</td>\n",
              "    </tr>\n",
              "    <tr>\n",
              "      <th>2</th>\n",
              "      <td>Argentina</td>\n",
              "      <td>Paraguay</td>\n",
              "      <td>0</td>\n",
              "      <td>0</td>\n",
              "      <td>FIFA World Cup</td>\n",
              "      <td>5</td>\n",
              "      <td>67</td>\n",
              "      <td>Draw</td>\n",
              "    </tr>\n",
              "    <tr>\n",
              "      <th>3</th>\n",
              "      <td>Argentina</td>\n",
              "      <td>Paraguay</td>\n",
              "      <td>0</td>\n",
              "      <td>0</td>\n",
              "      <td>FIFA World Cup</td>\n",
              "      <td>5</td>\n",
              "      <td>67</td>\n",
              "      <td>Draw</td>\n",
              "    </tr>\n",
              "    <tr>\n",
              "      <th>4</th>\n",
              "      <td>Colombia</td>\n",
              "      <td>Argentina</td>\n",
              "      <td>2</td>\n",
              "      <td>1</td>\n",
              "      <td>FIFA World Cup</td>\n",
              "      <td>19</td>\n",
              "      <td>5</td>\n",
              "      <td>Win</td>\n",
              "    </tr>\n",
              "  </tbody>\n",
              "</table>\n",
              "</div>\n",
              "      <button class=\"colab-df-convert\" onclick=\"convertToInteractive('df-10a33191-e7eb-4313-ab85-6090ee14ead2')\"\n",
              "              title=\"Convert this dataframe to an interactive table.\"\n",
              "              style=\"display:none;\">\n",
              "        \n",
              "  <svg xmlns=\"http://www.w3.org/2000/svg\" height=\"24px\"viewBox=\"0 0 24 24\"\n",
              "       width=\"24px\">\n",
              "    <path d=\"M0 0h24v24H0V0z\" fill=\"none\"/>\n",
              "    <path d=\"M18.56 5.44l.94 2.06.94-2.06 2.06-.94-2.06-.94-.94-2.06-.94 2.06-2.06.94zm-11 1L8.5 8.5l.94-2.06 2.06-.94-2.06-.94L8.5 2.5l-.94 2.06-2.06.94zm10 10l.94 2.06.94-2.06 2.06-.94-2.06-.94-.94-2.06-.94 2.06-2.06.94z\"/><path d=\"M17.41 7.96l-1.37-1.37c-.4-.4-.92-.59-1.43-.59-.52 0-1.04.2-1.43.59L10.3 9.45l-7.72 7.72c-.78.78-.78 2.05 0 2.83L4 21.41c.39.39.9.59 1.41.59.51 0 1.02-.2 1.41-.59l7.78-7.78 2.81-2.81c.8-.78.8-2.07 0-2.86zM5.41 20L4 18.59l7.72-7.72 1.47 1.35L5.41 20z\"/>\n",
              "  </svg>\n",
              "      </button>\n",
              "      \n",
              "  <style>\n",
              "    .colab-df-container {\n",
              "      display:flex;\n",
              "      flex-wrap:wrap;\n",
              "      gap: 12px;\n",
              "    }\n",
              "\n",
              "    .colab-df-convert {\n",
              "      background-color: #E8F0FE;\n",
              "      border: none;\n",
              "      border-radius: 50%;\n",
              "      cursor: pointer;\n",
              "      display: none;\n",
              "      fill: #1967D2;\n",
              "      height: 32px;\n",
              "      padding: 0 0 0 0;\n",
              "      width: 32px;\n",
              "    }\n",
              "\n",
              "    .colab-df-convert:hover {\n",
              "      background-color: #E2EBFA;\n",
              "      box-shadow: 0px 1px 2px rgba(60, 64, 67, 0.3), 0px 1px 3px 1px rgba(60, 64, 67, 0.15);\n",
              "      fill: #174EA6;\n",
              "    }\n",
              "\n",
              "    [theme=dark] .colab-df-convert {\n",
              "      background-color: #3B4455;\n",
              "      fill: #D2E3FC;\n",
              "    }\n",
              "\n",
              "    [theme=dark] .colab-df-convert:hover {\n",
              "      background-color: #434B5C;\n",
              "      box-shadow: 0px 1px 3px 1px rgba(0, 0, 0, 0.15);\n",
              "      filter: drop-shadow(0px 1px 2px rgba(0, 0, 0, 0.3));\n",
              "      fill: #FFFFFF;\n",
              "    }\n",
              "  </style>\n",
              "\n",
              "      <script>\n",
              "        const buttonEl =\n",
              "          document.querySelector('#df-10a33191-e7eb-4313-ab85-6090ee14ead2 button.colab-df-convert');\n",
              "        buttonEl.style.display =\n",
              "          google.colab.kernel.accessAllowed ? 'block' : 'none';\n",
              "\n",
              "        async function convertToInteractive(key) {\n",
              "          const element = document.querySelector('#df-10a33191-e7eb-4313-ab85-6090ee14ead2');\n",
              "          const dataTable =\n",
              "            await google.colab.kernel.invokeFunction('convertToInteractive',\n",
              "                                                     [key], {});\n",
              "          if (!dataTable) return;\n",
              "\n",
              "          const docLinkHtml = 'Like what you see? Visit the ' +\n",
              "            '<a target=\"_blank\" href=https://colab.research.google.com/notebooks/data_table.ipynb>data table notebook</a>'\n",
              "            + ' to learn more about interactive tables.';\n",
              "          element.innerHTML = '';\n",
              "          dataTable['output_type'] = 'display_data';\n",
              "          await google.colab.output.renderOutput(dataTable, element);\n",
              "          const docLink = document.createElement('div');\n",
              "          docLink.innerHTML = docLinkHtml;\n",
              "          element.appendChild(docLink);\n",
              "        }\n",
              "      </script>\n",
              "    </div>\n",
              "  </div>\n",
              "  "
            ]
          },
          "metadata": {},
          "execution_count": 585
        }
      ]
    },
    {
      "cell_type": "code",
      "source": [
        "# Splitting our dataset\n",
        "X = football_df[['home_score', 'away_score', 'tournament_type', 'home_rank', 'away_rank']]\n",
        "y = football_df['match_outcome']\n"
      ],
      "metadata": {
        "id": "T5gD-3JYiAhM"
      },
      "execution_count": 586,
      "outputs": []
    },
    {
      "cell_type": "code",
      "source": [
        "# Checking our target variable\n",
        "sns.countplot(x='match_outcome',data=football_df, palette='hls')"
      ],
      "metadata": {
        "id": "b7XxdcUIuOUE",
        "outputId": "a16dd92a-e799-4976-93dc-6d44858ee711",
        "colab": {
          "base_uri": "https://localhost:8080/",
          "height": 300
        }
      },
      "execution_count": 587,
      "outputs": [
        {
          "output_type": "execute_result",
          "data": {
            "text/plain": [
              "<matplotlib.axes._subplots.AxesSubplot at 0x7fdf1fa6e850>"
            ]
          },
          "metadata": {},
          "execution_count": 587
        },
        {
          "output_type": "display_data",
          "data": {
            "text/plain": [
              "<Figure size 432x288 with 1 Axes>"
            ],
            "image/png": "[encoded data removed]"
          },
          "metadata": {
            "needs_background": "light"
          }
        }
      ]
    },
    {
      "cell_type": "markdown",
      "source": [
        "This is an ordinal Logistic Regression"
      ],
      "metadata": {
        "id": "cwe_p1HAwLcb"
      }
    },
    {
      "cell_type": "code",
      "source": [
        "# Encoding the categorical variable using dictvectorizer\n",
        "# turn df into dict\n",
        "X_dict = X.to_dict(orient='records') # turn each row as key-value pairs\n",
        "\n",
        "\n",
        "# instantiate a Dictvectorizer object for X\n",
        "dv_X = DictVectorizer(sparse=False) \n",
        "# sparse = False makes the output is not a sparse matrix\n",
        "\n",
        "# apply dv_football on football_df_dict\n",
        "X_encoded = dv_X.fit_transform(X_dict)\n"
      ],
      "metadata": {
        "id": "asWUu-BCxQO6"
      },
      "execution_count": 588,
      "outputs": []
    },
    {
      "cell_type": "code",
      "source": [
        "# convert the encoded array into a dataframe\n",
        "X = pd.DataFrame(X_encoded)\n",
        "X.head()"
      ],
      "metadata": {
        "id": "zEYqSbOqxmMk",
        "outputId": "b0975ef7-1e57-472f-d466-8664d1cd1402",
        "colab": {
          "base_uri": "https://localhost:8080/",
          "height": 206
        }
      },
      "execution_count": 589,
      "outputs": [
        {
          "output_type": "execute_result",
          "data": {
            "text/plain": [
              "      0    1     2    3    4    5    6\n",
              "0  67.0  0.0  19.0  0.0  1.0  0.0  0.0\n",
              "1  67.0  0.0  19.0  0.0  1.0  0.0  0.0\n",
              "2  67.0  0.0   5.0  0.0  1.0  0.0  0.0\n",
              "3  67.0  0.0   5.0  0.0  1.0  0.0  0.0\n",
              "4   5.0  1.0  19.0  2.0  1.0  0.0  0.0"
            ],
            "text/html": [
              "\n",
              "  <div id=\"df-3081dad1-54bc-456d-b586-498731104301\">\n",
              "    <div class=\"colab-df-container\">\n",
              "      <div>\n",
              "<style scoped>\n",
              "    .dataframe tbody tr th:only-of-type {\n",
              "        vertical-align: middle;\n",
              "    }\n",
              "\n",
              "    .dataframe tbody tr th {\n",
              "        vertical-align: top;\n",
              "    }\n",
              "\n",
              "    .dataframe thead th {\n",
              "        text-align: right;\n",
              "    }\n",
              "</style>\n",
              "<table border=\"1\" class=\"dataframe\">\n",
              "  <thead>\n",
              "    <tr style=\"text-align: right;\">\n",
              "      <th></th>\n",
              "      <th>0</th>\n",
              "      <th>1</th>\n",
              "      <th>2</th>\n",
              "      <th>3</th>\n",
              "      <th>4</th>\n",
              "      <th>5</th>\n",
              "      <th>6</th>\n",
              "    </tr>\n",
              "  </thead>\n",
              "  <tbody>\n",
              "    <tr>\n",
              "      <th>0</th>\n",
              "      <td>67.0</td>\n",
              "      <td>0.0</td>\n",
              "      <td>19.0</td>\n",
              "      <td>0.0</td>\n",
              "      <td>1.0</td>\n",
              "      <td>0.0</td>\n",
              "      <td>0.0</td>\n",
              "    </tr>\n",
              "    <tr>\n",
              "      <th>1</th>\n",
              "      <td>67.0</td>\n",
              "      <td>0.0</td>\n",
              "      <td>19.0</td>\n",
              "      <td>0.0</td>\n",
              "      <td>1.0</td>\n",
              "      <td>0.0</td>\n",
              "      <td>0.0</td>\n",
              "    </tr>\n",
              "    <tr>\n",
              "      <th>2</th>\n",
              "      <td>67.0</td>\n",
              "      <td>0.0</td>\n",
              "      <td>5.0</td>\n",
              "      <td>0.0</td>\n",
              "      <td>1.0</td>\n",
              "      <td>0.0</td>\n",
              "      <td>0.0</td>\n",
              "    </tr>\n",
              "    <tr>\n",
              "      <th>3</th>\n",
              "      <td>67.0</td>\n",
              "      <td>0.0</td>\n",
              "      <td>5.0</td>\n",
              "      <td>0.0</td>\n",
              "      <td>1.0</td>\n",
              "      <td>0.0</td>\n",
              "      <td>0.0</td>\n",
              "    </tr>\n",
              "    <tr>\n",
              "      <th>4</th>\n",
              "      <td>5.0</td>\n",
              "      <td>1.0</td>\n",
              "      <td>19.0</td>\n",
              "      <td>2.0</td>\n",
              "      <td>1.0</td>\n",
              "      <td>0.0</td>\n",
              "      <td>0.0</td>\n",
              "    </tr>\n",
              "  </tbody>\n",
              "</table>\n",
              "</div>\n",
              "      <button class=\"colab-df-convert\" onclick=\"convertToInteractive('df-3081dad1-54bc-456d-b586-498731104301')\"\n",
              "              title=\"Convert this dataframe to an interactive table.\"\n",
              "              style=\"display:none;\">\n",
              "        \n",
              "  <svg xmlns=\"http://www.w3.org/2000/svg\" height=\"24px\"viewBox=\"0 0 24 24\"\n",
              "       width=\"24px\">\n",
              "    <path d=\"M0 0h24v24H0V0z\" fill=\"none\"/>\n",
              "    <path d=\"M18.56 5.44l.94 2.06.94-2.06 2.06-.94-2.06-.94-.94-2.06-.94 2.06-2.06.94zm-11 1L8.5 8.5l.94-2.06 2.06-.94-2.06-.94L8.5 2.5l-.94 2.06-2.06.94zm10 10l.94 2.06.94-2.06 2.06-.94-2.06-.94-.94-2.06-.94 2.06-2.06.94z\"/><path d=\"M17.41 7.96l-1.37-1.37c-.4-.4-.92-.59-1.43-.59-.52 0-1.04.2-1.43.59L10.3 9.45l-7.72 7.72c-.78.78-.78 2.05 0 2.83L4 21.41c.39.39.9.59 1.41.59.51 0 1.02-.2 1.41-.59l7.78-7.78 2.81-2.81c.8-.78.8-2.07 0-2.86zM5.41 20L4 18.59l7.72-7.72 1.47 1.35L5.41 20z\"/>\n",
              "  </svg>\n",
              "      </button>\n",
              "      \n",
              "  <style>\n",
              "    .colab-df-container {\n",
              "      display:flex;\n",
              "      flex-wrap:wrap;\n",
              "      gap: 12px;\n",
              "    }\n",
              "\n",
              "    .colab-df-convert {\n",
              "      background-color: #E8F0FE;\n",
              "      border: none;\n",
              "      border-radius: 50%;\n",
              "      cursor: pointer;\n",
              "      display: none;\n",
              "      fill: #1967D2;\n",
              "      height: 32px;\n",
              "      padding: 0 0 0 0;\n",
              "      width: 32px;\n",
              "    }\n",
              "\n",
              "    .colab-df-convert:hover {\n",
              "      background-color: #E2EBFA;\n",
              "      box-shadow: 0px 1px 2px rgba(60, 64, 67, 0.3), 0px 1px 3px 1px rgba(60, 64, 67, 0.15);\n",
              "      fill: #174EA6;\n",
              "    }\n",
              "\n",
              "    [theme=dark] .colab-df-convert {\n",
              "      background-color: #3B4455;\n",
              "      fill: #D2E3FC;\n",
              "    }\n",
              "\n",
              "    [theme=dark] .colab-df-convert:hover {\n",
              "      background-color: #434B5C;\n",
              "      box-shadow: 0px 1px 3px 1px rgba(0, 0, 0, 0.15);\n",
              "      filter: drop-shadow(0px 1px 2px rgba(0, 0, 0, 0.3));\n",
              "      fill: #FFFFFF;\n",
              "    }\n",
              "  </style>\n",
              "\n",
              "      <script>\n",
              "        const buttonEl =\n",
              "          document.querySelector('#df-3081dad1-54bc-456d-b586-498731104301 button.colab-df-convert');\n",
              "        buttonEl.style.display =\n",
              "          google.colab.kernel.accessAllowed ? 'block' : 'none';\n",
              "\n",
              "        async function convertToInteractive(key) {\n",
              "          const element = document.querySelector('#df-3081dad1-54bc-456d-b586-498731104301');\n",
              "          const dataTable =\n",
              "            await google.colab.kernel.invokeFunction('convertToInteractive',\n",
              "                                                     [key], {});\n",
              "          if (!dataTable) return;\n",
              "\n",
              "          const docLinkHtml = 'Like what you see? Visit the ' +\n",
              "            '<a target=\"_blank\" href=https://colab.research.google.com/notebooks/data_table.ipynb>data table notebook</a>'\n",
              "            + ' to learn more about interactive tables.';\n",
              "          element.innerHTML = '';\n",
              "          dataTable['output_type'] = 'display_data';\n",
              "          await google.colab.output.renderOutput(dataTable, element);\n",
              "          const docLink = document.createElement('div');\n",
              "          docLink.innerHTML = docLinkHtml;\n",
              "          element.appendChild(docLink);\n",
              "        }\n",
              "      </script>\n",
              "    </div>\n",
              "  </div>\n",
              "  "
            ]
          },
          "metadata": {},
          "execution_count": 589
        }
      ]
    },
    {
      "cell_type": "code",
      "source": [
        "# vocabulary\n",
        "vocab = dv_X.vocabulary_\n",
        "vocab"
      ],
      "metadata": {
        "id": "0vhB0YRO7gew",
        "outputId": "a759acdc-c4d5-4afb-c845-b3256a80a570",
        "colab": {
          "base_uri": "https://localhost:8080/"
        }
      },
      "execution_count": 590,
      "outputs": [
        {
          "output_type": "execute_result",
          "data": {
            "text/plain": [
              "{'away_rank': 0,\n",
              " 'away_score': 1,\n",
              " 'home_rank': 2,\n",
              " 'home_score': 3,\n",
              " 'tournament_type=FIFA World Cup': 4,\n",
              " 'tournament_type=Friendly': 5,\n",
              " 'tournament_type=Other': 6}"
            ]
          },
          "metadata": {},
          "execution_count": 590
        }
      ]
    },
    {
      "cell_type": "code",
      "source": [
        "# plit to train and test\n",
        "X_train, X_test, y_train, y_test = train_test_split(X, y, test_size = .2, random_state=25)"
      ],
      "metadata": {
        "id": "zr-hm4lsuLEM"
      },
      "execution_count": 591,
      "outputs": []
    },
    {
      "cell_type": "code",
      "source": [
        " #Fitting our model\n",
        "# \n",
        "LogReg = LogisticRegression()\n",
        "LogReg.fit(X_train, y_train)"
      ],
      "metadata": {
        "id": "itEm-SiliAeF",
        "outputId": "a8866adf-5c28-487f-9358-5517e7caa155",
        "colab": {
          "base_uri": "https://localhost:8080/"
        }
      },
      "execution_count": 592,
      "outputs": [
        {
          "output_type": "stream",
          "name": "stderr",
          "text": [
            "/usr/local/lib/python3.7/dist-packages/sklearn/linear_model/_logistic.py:818: ConvergenceWarning: lbfgs failed to converge (status=1):\n",
            "STOP: TOTAL NO. of ITERATIONS REACHED LIMIT.\n",
            "\n",
            "Increase the number of iterations (max_iter) or scale the data as shown in:\n",
            "    https://scikit-learn.org/stable/modules/preprocessing.html\n",
            "Please also refer to the documentation for alternative solver options:\n",
            "    https://scikit-learn.org/stable/modules/linear_model.html#logistic-regression\n",
            "  extra_warning_msg=_LOGISTIC_SOLVER_CONVERGENCE_MSG,\n"
          ]
        },
        {
          "output_type": "execute_result",
          "data": {
            "text/plain": [
              "LogisticRegression()"
            ]
          },
          "metadata": {},
          "execution_count": 592
        }
      ]
    },
    {
      "cell_type": "code",
      "source": [
        "# Using our model to make a prediction\n",
        "#\n",
        "y_pred = LogReg.predict(X_test)"
      ],
      "metadata": {
        "id": "-mkZB22oiTyC"
      },
      "execution_count": 593,
      "outputs": []
    },
    {
      "cell_type": "code",
      "source": [
        "# Evaluating the model\n",
        "confusion_matrix = confusion_matrix(y_test, y_pred)\n",
        "print('The confusion matrix:')\n",
        "print(confusion_matrix)\n",
        "\n",
        "print(\"The accuracy of the model is:\", accuracy_score(y_test, y_pred))\n"
      ],
      "metadata": {
        "id": "bP5qaV7niTs4",
        "outputId": "d358d778-7769-4ea2-e7fd-42b768dea90f",
        "colab": {
          "base_uri": "https://localhost:8080/"
        }
      },
      "execution_count": 594,
      "outputs": [
        {
          "output_type": "stream",
          "name": "stdout",
          "text": [
            "The confusion matrix:\n",
            "[[1398    0    0]\n",
            " [   0 1555    0]\n",
            " [   0    0 2735]]\n",
            "The accuracy of the model is: 1.0\n"
          ]
        }
      ]
    },
    {
      "cell_type": "code",
      "source": [
        ""
      ],
      "metadata": {
        "id": "RyigSQBEiTnQ"
      },
      "execution_count": 594,
      "outputs": []
    },
    {
      "cell_type": "code",
      "source": [
        ""
      ],
      "metadata": {
        "id": "tONfRTlLiTkN"
      },
      "execution_count": 594,
      "outputs": []
    },
    {
      "cell_type": "code",
      "source": [
        ""
      ],
      "metadata": {
        "id": "OQYBCisqiTiQ"
      },
      "execution_count": 594,
      "outputs": []
    },
    {
      "cell_type": "code",
      "source": [
        ""
      ],
      "metadata": {
        "id": "v82_M4SojppT"
      },
      "execution_count": 594,
      "outputs": []
    },
    {
      "cell_type": "markdown",
      "source": [
        "10% of mean\n",
        "\n",
        "change value 14\n",
        "\n",
        "make comments of the output \n",
        "\n",
        "understanding the context"
      ],
      "metadata": {
        "id": "T9fR65BhjsoY"
      }
    },
    {
      "cell_type": "code",
      "source": [
        ""
      ],
      "metadata": {
        "id": "gt9Ox6W3jyr5"
      },
      "execution_count": 594,
      "outputs": []
    }
  ]
}